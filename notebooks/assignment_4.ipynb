{
 "cells": [
  {
   "cell_type": "markdown",
   "metadata": {
    "collapsed": true,
    "pycharm": {
     "name": "#%% md\n"
    }
   },
   "source": [
    "# Assignment 4"
   ]
  },
  {
   "cell_type": "markdown",
   "metadata": {},
   "source": [
    "## Convert Line shapes to EPSG:4326"
   ]
  },
  {
   "cell_type": "code",
   "execution_count": 1,
   "metadata": {
    "pycharm": {
     "name": "#%%\n"
    }
   },
   "outputs": [],
   "source": [
    "import json\n",
    "\n",
    "import shapefile\n",
    "from numpy import mean, median\n",
    "from pyproj import Proj, transform\n",
    "from tqdm.notebook import tqdm"
   ]
  },
  {
   "cell_type": "code",
   "execution_count": 2,
   "metadata": {
    "collapsed": true,
    "pycharm": {
     "name": "#%%\n"
    }
   },
   "outputs": [
    {
     "data": {
      "text/plain": "  0%|          | 0/174 [00:00<?, ?it/s]",
      "application/vnd.jupyter.widget-view+json": {
       "version_major": 2,
       "version_minor": 0,
       "model_id": "e9fc4f0163a94b86a33dec2b8335dce9"
      }
     },
     "metadata": {},
     "output_type": "display_data"
    },
    {
     "name": "stderr",
     "output_type": "stream",
     "text": [
      "/var/folders/wh/6llm7dq16rvbwjb_yc0kfvvr0000gn/T/ipykernel_25836/102539854.py:5: DeprecationWarning: This function is deprecated. See: https://pyproj4.github.io/pyproj/stable/gotchas.html#upgrading-to-pyproj-2-from-pyproj-1\n",
      "  shapes = {f'{line.record[\"LIGNE\"]}-{line.record[\"VARIANTE\"]}': [transform(lambert, latlong, x, y) for x, y in\n"
     ]
    }
   ],
   "source": [
    "# already run if you have shapes_lat_long.json\n",
    "lines = shapefile.Reader('../data/raw/shapefiles/ACTU_LINES')\n",
    "lambert = Proj('EPSG:31370')\n",
    "latlong = Proj('EPSG:4326')\n",
    "shapes = {f'{line.record[\"LIGNE\"]}-{line.record[\"VARIANTE\"]}': [transform(lambert, latlong, x, y) for x, y in\n",
    "                                                                line.shape.points] for line in\n",
    "          tqdm(lines.shapeRecords())}\n",
    "with open('../data/raw/shapes_lat_long.json', 'w', encoding='utf8') as json_file:\n",
    "    json.dump(shapes, json_file)"
   ]
  },
  {
   "cell_type": "markdown",
   "metadata": {},
   "source": [
    "## Create plots for each track and line"
   ]
  },
  {
   "cell_type": "code",
   "execution_count": 3,
   "metadata": {
    "pycharm": {
     "name": "#%%\n"
    }
   },
   "outputs": [],
   "source": [
    "import pandas as pd\n",
    "import matplotlib.pyplot as plt\n",
    "import json\n",
    "import os\n",
    "from tqdm.notebook import tqdm"
   ]
  },
  {
   "cell_type": "markdown",
   "metadata": {},
   "source": []
  },
  {
   "cell_type": "code",
   "execution_count": 6,
   "metadata": {
    "pycharm": {
     "name": "#%%\n"
    },
    "scrolled": false
   },
   "outputs": [
    {
     "data": {
      "text/plain": "  0%|          | 0/9 [00:00<?, ?it/s]",
      "application/vnd.jupyter.widget-view+json": {
       "version_major": 2,
       "version_minor": 0,
       "model_id": "6260f46308074d02b996b75332c07a05"
      }
     },
     "metadata": {},
     "output_type": "display_data"
    },
    {
     "data": {
      "text/plain": "0it [00:00, ?it/s]",
      "application/vnd.jupyter.widget-view+json": {
       "version_major": 2,
       "version_minor": 0,
       "model_id": "b9d677f2dfe64e798acb90d8f788948d"
      }
     },
     "metadata": {},
     "output_type": "display_data"
    },
    {
     "data": {
      "text/plain": "0it [00:00, ?it/s]",
      "application/vnd.jupyter.widget-view+json": {
       "version_major": 2,
       "version_minor": 0,
       "model_id": "677f2fde40694bdfadc16a51e6f582de"
      }
     },
     "metadata": {},
     "output_type": "display_data"
    },
    {
     "data": {
      "text/plain": "0it [00:00, ?it/s]",
      "application/vnd.jupyter.widget-view+json": {
       "version_major": 2,
       "version_minor": 0,
       "model_id": "d6df10cf6cde43debe7c1493cba576e6"
      }
     },
     "metadata": {},
     "output_type": "display_data"
    },
    {
     "data": {
      "text/plain": "0it [00:00, ?it/s]",
      "application/vnd.jupyter.widget-view+json": {
       "version_major": 2,
       "version_minor": 0,
       "model_id": "af08272ff8b24e0f950e11d37fc9f060"
      }
     },
     "metadata": {},
     "output_type": "display_data"
    },
    {
     "data": {
      "text/plain": "0it [00:00, ?it/s]",
      "application/vnd.jupyter.widget-view+json": {
       "version_major": 2,
       "version_minor": 0,
       "model_id": "c1baca5a1412480b9c18bddabdafb150"
      }
     },
     "metadata": {},
     "output_type": "display_data"
    },
    {
     "data": {
      "text/plain": "0it [00:00, ?it/s]",
      "application/vnd.jupyter.widget-view+json": {
       "version_major": 2,
       "version_minor": 0,
       "model_id": "d47f3ca9ea4547f6a5a7c3428aef2232"
      }
     },
     "metadata": {},
     "output_type": "display_data"
    },
    {
     "data": {
      "text/plain": "0it [00:00, ?it/s]",
      "application/vnd.jupyter.widget-view+json": {
       "version_major": 2,
       "version_minor": 0,
       "model_id": "6919344a01bc47018718234078d48862"
      }
     },
     "metadata": {},
     "output_type": "display_data"
    },
    {
     "data": {
      "text/plain": "0it [00:00, ?it/s]",
      "application/vnd.jupyter.widget-view+json": {
       "version_major": 2,
       "version_minor": 0,
       "model_id": "9f229b71f9774808bdf3fd044dda1279"
      }
     },
     "metadata": {},
     "output_type": "display_data"
    },
    {
     "data": {
      "text/plain": "0it [00:00, ?it/s]",
      "application/vnd.jupyter.widget-view+json": {
       "version_major": 2,
       "version_minor": 0,
       "model_id": "92856d3feee843d0a5c4161cb70763cb"
      }
     },
     "metadata": {},
     "output_type": "display_data"
    }
   ],
   "source": [
    "tracks = pd.read_csv('../data/raw/GPSTracksAssignment4/GPStracks.csv')\n",
    "with open('../data/raw/shapes_lat_long.json', 'r', encoding='utf8') as json_file:\n",
    "    shapes = json.load(json_file)\n",
    "for track_id in tqdm(tracks['TrackId'].unique()):\n",
    "    track = tracks[tracks['TrackId'] == track_id].sort_values(by='time')\n",
    "    if not os.path.exists(f'../data/line_plots/Track{track_id}'):\n",
    "        os.mkdir(f'../data/line_plots/Track{track_id}')\n",
    "    for index, (line_id, line) in tqdm(enumerate(shapes.items())):\n",
    "        plt.scatter(x=track['lon'], y=track['lat'], label=f'Track {track_id}')\n",
    "        plt.scatter(x=[lon for _, lon in line], y=[lat for lat, _ in line], label=line_id)\n",
    "        plt.title(line_id)\n",
    "        plt.savefig(f'../data/line_plots/Track{track_id}/{line_id}.png')\n",
    "        plt.close()"
   ]
  },
  {
   "cell_type": "markdown",
   "metadata": {},
   "source": [
    "### Track ⟶ Line:\n",
    "\n",
    " - Track 1: Other\n",
    " - Track 3: Bus 50 or Tram 82 or Bus 49\n",
    " - Track 4: Bus 50\n",
    " - Track 5: Tram 82 or Tram 97\n",
    " - Track 6: Tram 8\n",
    " - Track 7: Tram 7\n",
    " - Track 8: Other\n",
    " - Track 10: Tram 8 or Tram 93\n",
    " - Track 11: Tram 25"
   ]
  },
  {
   "cell_type": "markdown",
   "metadata": {},
   "source": [
    "## Create CSV of labeled points"
   ]
  },
  {
   "cell_type": "code",
   "execution_count": 7,
   "metadata": {
    "pycharm": {
     "name": "#%%\n"
    }
   },
   "outputs": [],
   "source": [
    "import json\n",
    "from scripts.helpers import write_csv"
   ]
  },
  {
   "cell_type": "code",
   "execution_count": 8,
   "metadata": {},
   "outputs": [],
   "source": [
    "# creating the dataset."
   ]
  },
  {
   "cell_type": "code",
   "execution_count": 10,
   "metadata": {
    "pycharm": {
     "name": "#%%\n"
    }
   },
   "outputs": [],
   "source": [
    "with open('../data/raw/shapes_lat_long.json', 'r', encoding='utf8') as json_file:\n",
    "    shapes = json.load(json_file)\n",
    "with write_csv('../data/processed/assignment4/labeled_line_points.csv') as csv_out:\n",
    "    csv_out.writerow(['Lat', 'Long', 'LineId'])\n",
    "    for line_id, points in shapes.items():\n",
    "        if line_id[:-2] in ['032t']:  # Remove lines that are not active anymore\n",
    "            continue\n",
    "        for lat, long in points:\n",
    "            csv_out.writerow([lat, long, line_id[:-2]])"
   ]
  },
  {
   "cell_type": "markdown",
   "metadata": {},
   "source": [
    "## Create Classification Model"
   ]
  },
  {
   "cell_type": "code",
   "execution_count": 12,
   "metadata": {
    "pycharm": {
     "name": "#%%\n"
    }
   },
   "outputs": [],
   "source": [
    "from sklearn.neighbors import KNeighborsClassifier\n",
    "from scripts.helpers import read_csv_list\n",
    "import pandas as pd\n",
    "from typing import Tuple, List"
   ]
  },
  {
   "cell_type": "code",
   "execution_count": 15,
   "metadata": {
    "pycharm": {
     "name": "#%%\n"
    }
   },
   "outputs": [],
   "source": [
    "def get_datasets() -> Tuple[List[List[float]], List[str], pd.DataFrame]:\n",
    "    csv_lines = read_csv_list('../data/processed/assignment4/labeled_line_points.csv')\n",
    "    data_set = [[float(point[0]), float(point[1])] for point in csv_lines[1:]]\n",
    "    data_labels = [point[-1] for point in csv_lines[1:]]\n",
    "    tracks = pd.read_csv('../data/raw/GPSTracksAssignment4/GPStracks.csv')\n",
    "    return data_set, data_labels, tracks"
   ]
  },
  {
   "cell_type": "markdown",
   "metadata": {},
   "source": [
    "### Create \"Ensemble\" with KNN using average probability"
   ]
  },
  {
   "cell_type": "code",
   "execution_count": 16,
   "metadata": {
    "pycharm": {
     "name": "#%%\n"
    },
    "scrolled": true
   },
   "outputs": [
    {
     "name": "stdout",
     "output_type": "stream",
     "text": [
      "Training model\n",
      "Model trained\n",
      "1 -> [(28.314606741573037, '046b'), (17.07865168539325, '218b'), (11.96629213483146, '051t'), (9.438202247191013, '088b')]\n",
      "3 -> [(33.304347826086946, '082t'), (23.826086956521745, '049b'), (23.043478260869566, '050b'), (10.782608695652176, '048b')]\n",
      "4 -> [(32.365145228215795, '050b'), (13.81742738589212, '074b'), (12.987551867219914, '212b'), (10.248962655601662, '097t')]\n",
      "5 -> [(33.669724770642205, '212b'), (24.67889908256885, '097t'), (24.12844036697251, '082t'), (11.559633027522937, '050b')]\n",
      "6 -> [(40.72202166064981, '008t'), (26.498194945848372, '093t'), (7.725631768953068, '007t'), (4.007220216606497, '209b')]\n",
      "7 -> [(41.487179487179475, '007t'), (38.56410256410256, '025t'), (12.256410256410266, '209b'), (4.153846153846154, '008t')]\n",
      "8 -> [(14.840764331210197, '007t'), (12.261146496815282, '008t'), (11.910828025477711, '038b'), (8.980891719745237, '004t')]\n",
      "10 -> [(42.258064516129025, '008t'), (42.258064516129025, '093t'), (4.838709677419354, '038b'), (4.354838709677419, '060b')]\n",
      "11 -> [(38.51674641148325, '025t'), (34.736842105263136, '007t'), (16.028708133971293, '209b'), (4.019138755980861, '071b')]\n"
     ]
    },
    {
     "name": "stderr",
     "output_type": "stream",
     "text": [
      "/Library/Frameworks/Python.framework/Versions/3.9/lib/python3.9/site-packages/sklearn/base.py:438: UserWarning: X has feature names, but KNeighborsClassifier was fitted without feature names\n",
      "  warnings.warn(\n",
      "/Library/Frameworks/Python.framework/Versions/3.9/lib/python3.9/site-packages/sklearn/base.py:438: UserWarning: X has feature names, but KNeighborsClassifier was fitted without feature names\n",
      "  warnings.warn(\n",
      "/Library/Frameworks/Python.framework/Versions/3.9/lib/python3.9/site-packages/sklearn/base.py:438: UserWarning: X has feature names, but KNeighborsClassifier was fitted without feature names\n",
      "  warnings.warn(\n",
      "/Library/Frameworks/Python.framework/Versions/3.9/lib/python3.9/site-packages/sklearn/base.py:438: UserWarning: X has feature names, but KNeighborsClassifier was fitted without feature names\n",
      "  warnings.warn(\n",
      "/Library/Frameworks/Python.framework/Versions/3.9/lib/python3.9/site-packages/sklearn/base.py:438: UserWarning: X has feature names, but KNeighborsClassifier was fitted without feature names\n",
      "  warnings.warn(\n",
      "/Library/Frameworks/Python.framework/Versions/3.9/lib/python3.9/site-packages/sklearn/base.py:438: UserWarning: X has feature names, but KNeighborsClassifier was fitted without feature names\n",
      "  warnings.warn(\n",
      "/Library/Frameworks/Python.framework/Versions/3.9/lib/python3.9/site-packages/sklearn/base.py:438: UserWarning: X has feature names, but KNeighborsClassifier was fitted without feature names\n",
      "  warnings.warn(\n",
      "/Library/Frameworks/Python.framework/Versions/3.9/lib/python3.9/site-packages/sklearn/base.py:438: UserWarning: X has feature names, but KNeighborsClassifier was fitted without feature names\n",
      "  warnings.warn(\n",
      "/Library/Frameworks/Python.framework/Versions/3.9/lib/python3.9/site-packages/sklearn/base.py:438: UserWarning: X has feature names, but KNeighborsClassifier was fitted without feature names\n",
      "  warnings.warn(\n"
     ]
    }
   ],
   "source": [
    "data_set, data_labels, tracks = get_datasets()\n",
    "print('Training model')\n",
    "model = KNeighborsClassifier(n_neighbors=10)\n",
    "model.fit(data_set, data_labels)\n",
    "print('Model trained')\n",
    "for track_id in tracks['TrackId'].unique():\n",
    "    track_points = tracks[tracks['TrackId'] == track_id][['lat', 'lon']]\n",
    "    predictions = model.predict_proba(track_points)\n",
    "    final_predictions = [(sum(predictions[i][x]\n",
    "                              for i in range(len(predictions))) * 100 / len(predictions), model.classes_[x])\n",
    "                         for x in range(len(predictions[0]))]\n",
    "    sorted_predictions = sorted(final_predictions, key=lambda x: x[0], reverse=True)\n",
    "\n",
    "    print(track_id, '->', sorted_predictions[:4])"
   ]
  },
  {
   "cell_type": "markdown",
   "metadata": {},
   "source": [
    "### Create \"Ensemble\" with KNN using \"presence\""
   ]
  },
  {
   "cell_type": "code",
   "execution_count": 17,
   "metadata": {
    "pycharm": {
     "name": "#%%\n"
    },
    "scrolled": true
   },
   "outputs": [
    {
     "name": "stdout",
     "output_type": "stream",
     "text": [
      "Training model\n",
      "Model trained\n",
      "1 -> []\n",
      "3 -> [(97.3913043478261, '049b'), (96.52173913043478, '050b'), (95.65217391304348, '082t')]\n",
      "4 -> [(100.0, '050b')]\n",
      "5 -> [(98.1651376146789, '097t'), (97.70642201834862, '082t'), (96.3302752293578, '212b')]\n",
      "6 -> [(96.75090252707581, '008t')]\n",
      "7 -> [(100.0, '007t')]\n",
      "8 -> []\n",
      "10 -> [(93.54838709677419, '008t'), (93.54838709677419, '093t')]\n",
      "11 -> [(98.08612440191388, '025t')]\n"
     ]
    },
    {
     "name": "stderr",
     "output_type": "stream",
     "text": [
      "/Library/Frameworks/Python.framework/Versions/3.9/lib/python3.9/site-packages/sklearn/base.py:438: UserWarning: X has feature names, but KNeighborsClassifier was fitted without feature names\n",
      "  warnings.warn(\n",
      "/Library/Frameworks/Python.framework/Versions/3.9/lib/python3.9/site-packages/sklearn/base.py:438: UserWarning: X has feature names, but KNeighborsClassifier was fitted without feature names\n",
      "  warnings.warn(\n",
      "/Library/Frameworks/Python.framework/Versions/3.9/lib/python3.9/site-packages/sklearn/base.py:438: UserWarning: X has feature names, but KNeighborsClassifier was fitted without feature names\n",
      "  warnings.warn(\n",
      "/Library/Frameworks/Python.framework/Versions/3.9/lib/python3.9/site-packages/sklearn/base.py:438: UserWarning: X has feature names, but KNeighborsClassifier was fitted without feature names\n",
      "  warnings.warn(\n",
      "/Library/Frameworks/Python.framework/Versions/3.9/lib/python3.9/site-packages/sklearn/base.py:438: UserWarning: X has feature names, but KNeighborsClassifier was fitted without feature names\n",
      "  warnings.warn(\n",
      "/Library/Frameworks/Python.framework/Versions/3.9/lib/python3.9/site-packages/sklearn/base.py:438: UserWarning: X has feature names, but KNeighborsClassifier was fitted without feature names\n",
      "  warnings.warn(\n",
      "/Library/Frameworks/Python.framework/Versions/3.9/lib/python3.9/site-packages/sklearn/base.py:438: UserWarning: X has feature names, but KNeighborsClassifier was fitted without feature names\n",
      "  warnings.warn(\n",
      "/Library/Frameworks/Python.framework/Versions/3.9/lib/python3.9/site-packages/sklearn/base.py:438: UserWarning: X has feature names, but KNeighborsClassifier was fitted without feature names\n",
      "  warnings.warn(\n",
      "/Library/Frameworks/Python.framework/Versions/3.9/lib/python3.9/site-packages/sklearn/base.py:438: UserWarning: X has feature names, but KNeighborsClassifier was fitted without feature names\n",
      "  warnings.warn(\n"
     ]
    }
   ],
   "source": [
    "data_set, data_labels, tracks = get_datasets()\n",
    "print('Training model')\n",
    "model = KNeighborsClassifier(n_neighbors=15)\n",
    "model.fit(data_set, data_labels)\n",
    "\n",
    "track_predictions = {}\n",
    "\n",
    "print('Model trained')\n",
    "for track_id in tracks['TrackId'].unique():\n",
    "    track_points = tracks[tracks['TrackId'] == track_id][['lat', 'lon']]\n",
    "    predictions = model.predict_proba(track_points)\n",
    "    converted_predictions = [\n",
    "        [1 if probability > 0 else 0 for probability in prediction]\n",
    "        for prediction in predictions\n",
    "    ]\n",
    "    final_predictions = [(sum(converted_predictions[i][x]\n",
    "                              for i in range(len(predictions))) * 100 / len(predictions), model.classes_[x])\n",
    "                         for x in range(len(predictions[0]))]\n",
    "    filtered_predictions = [\n",
    "        (percentage, line) for percentage, line in final_predictions if percentage > 75\n",
    "    ]\n",
    "\n",
    "    filtered_predictions = sorted(filtered_predictions, key=lambda x: x[0], reverse=True)\n",
    "\n",
    "    if len(filtered_predictions):\n",
    "        filtered_predictions = [\n",
    "            (prob, line) for prob, line in filtered_predictions if filtered_predictions[0][0] - prob < 5\n",
    "        ]\n",
    "    track_predictions[track_id] = filtered_predictions[:4]\n",
    "    print(track_id, '->', filtered_predictions[:4])\n"
   ]
  },
  {
   "cell_type": "code",
   "execution_count": 18,
   "metadata": {
    "pycharm": {
     "name": "#%%\n"
    }
   },
   "outputs": [],
   "source": [
    "import datetime\n",
    "from scripts.helpers import distance\n",
    "import pandas as pd\n",
    "from numpy import mean, median"
   ]
  },
  {
   "cell_type": "code",
   "execution_count": 19,
   "metadata": {
    "pycharm": {
     "name": "#%%\n"
    }
   },
   "outputs": [],
   "source": [
    "def calculate_average_speed_of_track(track: pd.DataFrame) -> float:\n",
    "    total_time = 0.0\n",
    "    total_distance = 0.0\n",
    "    previous_time = datetime.datetime.fromisoformat(track.iloc[0]['time'][:-1])\n",
    "    previous_position = (track.iloc[0]['lat'], track.iloc[0]['lon'])\n",
    "    for _, _, lat, long, time in track.sort_values(by='time').itertuples():\n",
    "        timestamp = datetime.datetime.fromisoformat(time[:-1])\n",
    "        seconds = (timestamp - previous_time).total_seconds()\n",
    "        if seconds > 0:\n",
    "            dist = abs(distance(*previous_position, lat, long)) * 1000\n",
    "            total_distance += dist\n",
    "            total_time += seconds\n",
    "        previous_time = timestamp\n",
    "        previous_position = (lat, long)\n",
    "    return total_distance / total_time"
   ]
  },
  {
   "cell_type": "code",
   "execution_count": 21,
   "metadata": {
    "pycharm": {
     "name": "#%%\n"
    }
   },
   "outputs": [
    {
     "name": "stdout",
     "output_type": "stream",
     "text": [
      "1 -> 7.116623587308064 km/h\n",
      "3 -> 23.126448391942652 km/h\n",
      "4 -> 13.695407924105305 km/h\n",
      "5 -> 14.871617291497595 km/h\n",
      "6 -> 14.471340208418587 km/h\n",
      "7 -> 16.346108370386162 km/h\n",
      "8 -> 22.46110292777329 km/h\n",
      "10 -> 51.63218769316401 km/h\n",
      "11 -> 25.019532962404657 km/h\n"
     ]
    }
   ],
   "source": [
    "tracks = pd.read_csv('../data/raw/GPSTracksAssignment4/GPStracks.csv')\n",
    "tracks_speed = {}\n",
    "for track_id in tracks['TrackId'].unique():\n",
    "    track = tracks[tracks['TrackId'] == track_id]\n",
    "    speed = calculate_average_speed_of_track(track)\n",
    "    tracks_speed[track_id] = speed * 3.6\n",
    "    print(track_id, '->', speed * 3.6, 'km/h')"
   ]
  },
  {
   "cell_type": "code",
   "execution_count": 22,
   "outputs": [],
   "source": [
    "stops = pd.read_csv('../data/processed/assignment1/line_stops.csv')\n",
    "\n",
    "\n",
    "def get_closest_stop_in_direction(position, line_direction_stops):\n",
    "    distances = line_direction_stops.apply(\n",
    "        lambda row: distance(row['stop_lat'], row['stop_lon'], position['lat'], position['lon']), axis=1)\n",
    "    min_distance = distances.min()\n",
    "    return line_direction_stops[distances == min_distance].iloc[0]\n",
    "\n",
    "\n",
    "def get_closest_stops_in_line(position, line_stops):\n",
    "    return (get_closest_stop_in_direction(position, line_stops[line_stops['direction'] == 1]),\n",
    "            get_closest_stop_in_direction(position, line_stops[line_stops['direction'] == 2]))\n"
   ],
   "metadata": {
    "collapsed": false,
    "pycharm": {
     "name": "#%%\n"
    }
   }
  },
  {
   "cell_type": "code",
   "execution_count": 23,
   "outputs": [],
   "source": [
    "def select_line_by_speed(track, track_speed, possible_lines, speeds):\n",
    "    selected_line = None\n",
    "    min_dif = 99999\n",
    "    for _, line_id in possible_lines:\n",
    "        first_stop, last_stop = get_first_and_last_stops(line_id, track)\n",
    "        median_speed = get_speed_of_line_between_stops(first_stop, last_stop, line_id, speeds)\n",
    "        if abs(median_speed - track_speed) < min_dif:\n",
    "            min_dif = abs(median_speed - track_speed)\n",
    "            selected_line = line_id\n",
    "    return selected_line\n",
    "\n",
    "\n",
    "def get_speed_of_line_between_stops(first_stop, last_stop, line_id, speeds):\n",
    "    line_speeds = speeds[speeds['LineId'] == int(line_id[:-1])]\n",
    "    total_speed = []\n",
    "    current_stop = int(first_stop['stop_id'].strip('qwertyuiopasdfghjklzxcvbnmQWERTYUIOPASDFGHJKLZXCVBNM'))\n",
    "    while current_stop != int(last_stop['stop_id'].strip('qwertyuiopasdfghjklzxcvbnmQWERTYUIOPASDFGHJKLZXCVBNM')):\n",
    "        row = line_speeds[line_speeds['FromStop'] == current_stop].iloc[0]\n",
    "        total_speed.append(row['speed9'])\n",
    "        current_stop = row['ToStop']\n",
    "    median_speed = median(total_speed)\n",
    "    return median_speed\n",
    "\n",
    "\n",
    "def get_first_and_last_stops(line_id, track):\n",
    "    line_stops = stops[stops['lineId'] == line_id]\n",
    "    first_stops = get_closest_stops_in_line(track.iloc[0], line_stops)\n",
    "    last_stops = get_closest_stops_in_line(track.iloc[-1], line_stops)\n",
    "    if first_stops[0]['order'] < last_stops[0]['order']:\n",
    "        first_stop = first_stops[0]\n",
    "        last_stop = last_stops[0]\n",
    "    else:\n",
    "        first_stop = first_stops[1]\n",
    "        last_stop = last_stops[1]\n",
    "    return first_stop, last_stop"
   ],
   "metadata": {
    "collapsed": false,
    "pycharm": {
     "name": "#%%\n"
    }
   }
  },
  {
   "cell_type": "code",
   "execution_count": 24,
   "outputs": [
    {
     "name": "stdout",
     "output_type": "stream",
     "text": [
      "1 ==> Other\n",
      "3 ==> Bus or Tram (049b || 050b || 082t) ==> Tram (082t)\n",
      "4 ==> Bus (050b)\n"
     ]
    },
    {
     "ename": "IndexError",
     "evalue": "single positional indexer is out-of-bounds",
     "output_type": "error",
     "traceback": [
      "\u001B[0;31m---------------------------------------------------------------------------\u001B[0m",
      "\u001B[0;31mIndexError\u001B[0m                                Traceback (most recent call last)",
      "\u001B[0;32m/var/folders/wh/6llm7dq16rvbwjb_yc0kfvvr0000gn/T/ipykernel_25836/3856909409.py\u001B[0m in \u001B[0;36m<module>\u001B[0;34m\u001B[0m\n\u001B[1;32m     18\u001B[0m     \u001B[0;32melse\u001B[0m\u001B[0;34m:\u001B[0m\u001B[0;34m\u001B[0m\u001B[0;34m\u001B[0m\u001B[0m\n\u001B[1;32m     19\u001B[0m         \u001B[0mpossible_types\u001B[0m \u001B[0;34m=\u001B[0m \u001B[0;34m{\u001B[0m\u001B[0mget_type_of_line\u001B[0m\u001B[0;34m(\u001B[0m\u001B[0ml\u001B[0m\u001B[0;34m[\u001B[0m\u001B[0;36m1\u001B[0m\u001B[0;34m]\u001B[0m\u001B[0;34m)\u001B[0m \u001B[0;32mfor\u001B[0m \u001B[0ml\u001B[0m \u001B[0;32min\u001B[0m \u001B[0mpossible_lines\u001B[0m\u001B[0;34m}\u001B[0m\u001B[0;34m\u001B[0m\u001B[0;34m\u001B[0m\u001B[0m\n\u001B[0;32m---> 20\u001B[0;31m         \u001B[0mselected_line\u001B[0m \u001B[0;34m=\u001B[0m \u001B[0mselect_line_by_speed\u001B[0m\u001B[0;34m(\u001B[0m\u001B[0mtrack\u001B[0m\u001B[0;34m,\u001B[0m \u001B[0mtracks_speed\u001B[0m\u001B[0;34m[\u001B[0m\u001B[0mtrack_id\u001B[0m\u001B[0;34m]\u001B[0m\u001B[0;34m,\u001B[0m \u001B[0mpossible_lines\u001B[0m\u001B[0;34m,\u001B[0m \u001B[0mspeeds\u001B[0m\u001B[0;34m)\u001B[0m\u001B[0;34m\u001B[0m\u001B[0;34m\u001B[0m\u001B[0m\n\u001B[0m\u001B[1;32m     21\u001B[0m         \u001B[0mprint\u001B[0m\u001B[0;34m(\u001B[0m\u001B[0;34mf'{track_id} ==> {\" or \".join(possible_types)} ({\" || \".join([l[1] for l in possible_lines])}) ==> {get_type_of_line(selected_line)} ({selected_line})'\u001B[0m\u001B[0;34m)\u001B[0m\u001B[0;34m\u001B[0m\u001B[0;34m\u001B[0m\u001B[0m\n",
      "\u001B[0;32m/var/folders/wh/6llm7dq16rvbwjb_yc0kfvvr0000gn/T/ipykernel_25836/493836176.py\u001B[0m in \u001B[0;36mselect_line_by_speed\u001B[0;34m(track, track_speed, possible_lines, speeds)\u001B[0m\n\u001B[1;32m      4\u001B[0m     \u001B[0;32mfor\u001B[0m \u001B[0m_\u001B[0m\u001B[0;34m,\u001B[0m \u001B[0mline_id\u001B[0m \u001B[0;32min\u001B[0m \u001B[0mpossible_lines\u001B[0m\u001B[0;34m:\u001B[0m\u001B[0;34m\u001B[0m\u001B[0;34m\u001B[0m\u001B[0m\n\u001B[1;32m      5\u001B[0m         \u001B[0mfirst_stop\u001B[0m\u001B[0;34m,\u001B[0m \u001B[0mlast_stop\u001B[0m \u001B[0;34m=\u001B[0m \u001B[0mget_first_and_last_stops\u001B[0m\u001B[0;34m(\u001B[0m\u001B[0mline_id\u001B[0m\u001B[0;34m,\u001B[0m \u001B[0mtrack\u001B[0m\u001B[0;34m)\u001B[0m\u001B[0;34m\u001B[0m\u001B[0;34m\u001B[0m\u001B[0m\n\u001B[0;32m----> 6\u001B[0;31m         \u001B[0mmedian_speed\u001B[0m \u001B[0;34m=\u001B[0m \u001B[0mget_speed_of_line_between_stops\u001B[0m\u001B[0;34m(\u001B[0m\u001B[0mfirst_stop\u001B[0m\u001B[0;34m,\u001B[0m \u001B[0mlast_stop\u001B[0m\u001B[0;34m,\u001B[0m \u001B[0mline_id\u001B[0m\u001B[0;34m,\u001B[0m \u001B[0mspeeds\u001B[0m\u001B[0;34m)\u001B[0m\u001B[0;34m\u001B[0m\u001B[0;34m\u001B[0m\u001B[0m\n\u001B[0m\u001B[1;32m      7\u001B[0m         \u001B[0;32mif\u001B[0m \u001B[0mabs\u001B[0m\u001B[0;34m(\u001B[0m\u001B[0mmedian_speed\u001B[0m \u001B[0;34m-\u001B[0m \u001B[0mtrack_speed\u001B[0m\u001B[0;34m)\u001B[0m \u001B[0;34m<\u001B[0m \u001B[0mmin_dif\u001B[0m\u001B[0;34m:\u001B[0m\u001B[0;34m\u001B[0m\u001B[0;34m\u001B[0m\u001B[0m\n\u001B[1;32m      8\u001B[0m             \u001B[0mmin_dif\u001B[0m \u001B[0;34m=\u001B[0m \u001B[0mabs\u001B[0m\u001B[0;34m(\u001B[0m\u001B[0mmedian_speed\u001B[0m \u001B[0;34m-\u001B[0m \u001B[0mtrack_speed\u001B[0m\u001B[0;34m)\u001B[0m\u001B[0;34m\u001B[0m\u001B[0;34m\u001B[0m\u001B[0m\n",
      "\u001B[0;32m/var/folders/wh/6llm7dq16rvbwjb_yc0kfvvr0000gn/T/ipykernel_25836/493836176.py\u001B[0m in \u001B[0;36mget_speed_of_line_between_stops\u001B[0;34m(first_stop, last_stop, line_id, speeds)\u001B[0m\n\u001B[1;32m     16\u001B[0m     \u001B[0mcurrent_stop\u001B[0m \u001B[0;34m=\u001B[0m \u001B[0mint\u001B[0m\u001B[0;34m(\u001B[0m\u001B[0mfirst_stop\u001B[0m\u001B[0;34m[\u001B[0m\u001B[0;34m'stop_id'\u001B[0m\u001B[0;34m]\u001B[0m\u001B[0;34m.\u001B[0m\u001B[0mstrip\u001B[0m\u001B[0;34m(\u001B[0m\u001B[0;34m'qwertyuiopasdfghjklzxcvbnmQWERTYUIOPASDFGHJKLZXCVBNM'\u001B[0m\u001B[0;34m)\u001B[0m\u001B[0;34m)\u001B[0m\u001B[0;34m\u001B[0m\u001B[0;34m\u001B[0m\u001B[0m\n\u001B[1;32m     17\u001B[0m     \u001B[0;32mwhile\u001B[0m \u001B[0mcurrent_stop\u001B[0m \u001B[0;34m!=\u001B[0m \u001B[0mint\u001B[0m\u001B[0;34m(\u001B[0m\u001B[0mlast_stop\u001B[0m\u001B[0;34m[\u001B[0m\u001B[0;34m'stop_id'\u001B[0m\u001B[0;34m]\u001B[0m\u001B[0;34m.\u001B[0m\u001B[0mstrip\u001B[0m\u001B[0;34m(\u001B[0m\u001B[0;34m'qwertyuiopasdfghjklzxcvbnmQWERTYUIOPASDFGHJKLZXCVBNM'\u001B[0m\u001B[0;34m)\u001B[0m\u001B[0;34m)\u001B[0m\u001B[0;34m:\u001B[0m\u001B[0;34m\u001B[0m\u001B[0;34m\u001B[0m\u001B[0m\n\u001B[0;32m---> 18\u001B[0;31m         \u001B[0mrow\u001B[0m \u001B[0;34m=\u001B[0m \u001B[0mline_speeds\u001B[0m\u001B[0;34m[\u001B[0m\u001B[0mline_speeds\u001B[0m\u001B[0;34m[\u001B[0m\u001B[0;34m'FromStop'\u001B[0m\u001B[0;34m]\u001B[0m \u001B[0;34m==\u001B[0m \u001B[0mcurrent_stop\u001B[0m\u001B[0;34m]\u001B[0m\u001B[0;34m.\u001B[0m\u001B[0miloc\u001B[0m\u001B[0;34m[\u001B[0m\u001B[0;36m0\u001B[0m\u001B[0;34m]\u001B[0m\u001B[0;34m\u001B[0m\u001B[0;34m\u001B[0m\u001B[0m\n\u001B[0m\u001B[1;32m     19\u001B[0m         \u001B[0mtotal_speed\u001B[0m\u001B[0;34m.\u001B[0m\u001B[0mappend\u001B[0m\u001B[0;34m(\u001B[0m\u001B[0mrow\u001B[0m\u001B[0;34m[\u001B[0m\u001B[0;34m'speed9'\u001B[0m\u001B[0;34m]\u001B[0m\u001B[0;34m)\u001B[0m\u001B[0;34m\u001B[0m\u001B[0;34m\u001B[0m\u001B[0m\n\u001B[1;32m     20\u001B[0m         \u001B[0mcurrent_stop\u001B[0m \u001B[0;34m=\u001B[0m \u001B[0mrow\u001B[0m\u001B[0;34m[\u001B[0m\u001B[0;34m'ToStop'\u001B[0m\u001B[0;34m]\u001B[0m\u001B[0;34m\u001B[0m\u001B[0;34m\u001B[0m\u001B[0m\n",
      "\u001B[0;32m/Library/Frameworks/Python.framework/Versions/3.9/lib/python3.9/site-packages/pandas/core/indexing.py\u001B[0m in \u001B[0;36m__getitem__\u001B[0;34m(self, key)\u001B[0m\n\u001B[1;32m    929\u001B[0m \u001B[0;34m\u001B[0m\u001B[0m\n\u001B[1;32m    930\u001B[0m             \u001B[0mmaybe_callable\u001B[0m \u001B[0;34m=\u001B[0m \u001B[0mcom\u001B[0m\u001B[0;34m.\u001B[0m\u001B[0mapply_if_callable\u001B[0m\u001B[0;34m(\u001B[0m\u001B[0mkey\u001B[0m\u001B[0;34m,\u001B[0m \u001B[0mself\u001B[0m\u001B[0;34m.\u001B[0m\u001B[0mobj\u001B[0m\u001B[0;34m)\u001B[0m\u001B[0;34m\u001B[0m\u001B[0;34m\u001B[0m\u001B[0m\n\u001B[0;32m--> 931\u001B[0;31m             \u001B[0;32mreturn\u001B[0m \u001B[0mself\u001B[0m\u001B[0;34m.\u001B[0m\u001B[0m_getitem_axis\u001B[0m\u001B[0;34m(\u001B[0m\u001B[0mmaybe_callable\u001B[0m\u001B[0;34m,\u001B[0m \u001B[0maxis\u001B[0m\u001B[0;34m=\u001B[0m\u001B[0maxis\u001B[0m\u001B[0;34m)\u001B[0m\u001B[0;34m\u001B[0m\u001B[0;34m\u001B[0m\u001B[0m\n\u001B[0m\u001B[1;32m    932\u001B[0m \u001B[0;34m\u001B[0m\u001B[0m\n\u001B[1;32m    933\u001B[0m     \u001B[0;32mdef\u001B[0m \u001B[0m_is_scalar_access\u001B[0m\u001B[0;34m(\u001B[0m\u001B[0mself\u001B[0m\u001B[0;34m,\u001B[0m \u001B[0mkey\u001B[0m\u001B[0;34m:\u001B[0m \u001B[0mtuple\u001B[0m\u001B[0;34m)\u001B[0m\u001B[0;34m:\u001B[0m\u001B[0;34m\u001B[0m\u001B[0;34m\u001B[0m\u001B[0m\n",
      "\u001B[0;32m/Library/Frameworks/Python.framework/Versions/3.9/lib/python3.9/site-packages/pandas/core/indexing.py\u001B[0m in \u001B[0;36m_getitem_axis\u001B[0;34m(self, key, axis)\u001B[0m\n\u001B[1;32m   1564\u001B[0m \u001B[0;34m\u001B[0m\u001B[0m\n\u001B[1;32m   1565\u001B[0m             \u001B[0;31m# validate the location\u001B[0m\u001B[0;34m\u001B[0m\u001B[0;34m\u001B[0m\u001B[0;34m\u001B[0m\u001B[0m\n\u001B[0;32m-> 1566\u001B[0;31m             \u001B[0mself\u001B[0m\u001B[0;34m.\u001B[0m\u001B[0m_validate_integer\u001B[0m\u001B[0;34m(\u001B[0m\u001B[0mkey\u001B[0m\u001B[0;34m,\u001B[0m \u001B[0maxis\u001B[0m\u001B[0;34m)\u001B[0m\u001B[0;34m\u001B[0m\u001B[0;34m\u001B[0m\u001B[0m\n\u001B[0m\u001B[1;32m   1567\u001B[0m \u001B[0;34m\u001B[0m\u001B[0m\n\u001B[1;32m   1568\u001B[0m             \u001B[0;32mreturn\u001B[0m \u001B[0mself\u001B[0m\u001B[0;34m.\u001B[0m\u001B[0mobj\u001B[0m\u001B[0;34m.\u001B[0m\u001B[0m_ixs\u001B[0m\u001B[0;34m(\u001B[0m\u001B[0mkey\u001B[0m\u001B[0;34m,\u001B[0m \u001B[0maxis\u001B[0m\u001B[0;34m=\u001B[0m\u001B[0maxis\u001B[0m\u001B[0;34m)\u001B[0m\u001B[0;34m\u001B[0m\u001B[0;34m\u001B[0m\u001B[0m\n",
      "\u001B[0;32m/Library/Frameworks/Python.framework/Versions/3.9/lib/python3.9/site-packages/pandas/core/indexing.py\u001B[0m in \u001B[0;36m_validate_integer\u001B[0;34m(self, key, axis)\u001B[0m\n\u001B[1;32m   1498\u001B[0m         \u001B[0mlen_axis\u001B[0m \u001B[0;34m=\u001B[0m \u001B[0mlen\u001B[0m\u001B[0;34m(\u001B[0m\u001B[0mself\u001B[0m\u001B[0;34m.\u001B[0m\u001B[0mobj\u001B[0m\u001B[0;34m.\u001B[0m\u001B[0m_get_axis\u001B[0m\u001B[0;34m(\u001B[0m\u001B[0maxis\u001B[0m\u001B[0;34m)\u001B[0m\u001B[0;34m)\u001B[0m\u001B[0;34m\u001B[0m\u001B[0;34m\u001B[0m\u001B[0m\n\u001B[1;32m   1499\u001B[0m         \u001B[0;32mif\u001B[0m \u001B[0mkey\u001B[0m \u001B[0;34m>=\u001B[0m \u001B[0mlen_axis\u001B[0m \u001B[0;32mor\u001B[0m \u001B[0mkey\u001B[0m \u001B[0;34m<\u001B[0m \u001B[0;34m-\u001B[0m\u001B[0mlen_axis\u001B[0m\u001B[0;34m:\u001B[0m\u001B[0;34m\u001B[0m\u001B[0;34m\u001B[0m\u001B[0m\n\u001B[0;32m-> 1500\u001B[0;31m             \u001B[0;32mraise\u001B[0m \u001B[0mIndexError\u001B[0m\u001B[0;34m(\u001B[0m\u001B[0;34m\"single positional indexer is out-of-bounds\"\u001B[0m\u001B[0;34m)\u001B[0m\u001B[0;34m\u001B[0m\u001B[0;34m\u001B[0m\u001B[0m\n\u001B[0m\u001B[1;32m   1501\u001B[0m \u001B[0;34m\u001B[0m\u001B[0m\n\u001B[1;32m   1502\u001B[0m     \u001B[0;31m# -------------------------------------------------------------------\u001B[0m\u001B[0;34m\u001B[0m\u001B[0;34m\u001B[0m\u001B[0;34m\u001B[0m\u001B[0m\n",
      "\u001B[0;31mIndexError\u001B[0m: single positional indexer is out-of-bounds"
     ]
    }
   ],
   "source": [
    "def get_type_of_line(line):\n",
    "    return {'m': 'Metro', 't': 'Tram', 'b': 'Bus'}[line[-1]]\n",
    "\n",
    "\n",
    "speeds = pd.read_csv('../data/processed/assignment1/vehicleSpeed.csv')\n",
    "\n",
    "for track_id in tracks['TrackId'].unique():\n",
    "    track = tracks[tracks['TrackId'] == track_id]\n",
    "    possible_lines = track_predictions[track_id]\n",
    "    if len(possible_lines) == 0:\n",
    "        print(f'{track_id} ==> Other')\n",
    "    elif len(possible_lines) == 1:\n",
    "        print(f'{track_id} ==> {get_type_of_line(possible_lines[0][1])} ({possible_lines[0][1]})')\n",
    "    elif len(possible_lines) > 1 and len({l[1][-1] for l in possible_lines}) == 1:\n",
    "        selected_line = select_line_by_speed(track, tracks_speed[track_id], possible_lines, speeds)\n",
    "        print(\n",
    "            f'{track_id} ==> {get_type_of_line(possible_lines[0][1])} ({\" || \".join([l[1] for l in possible_lines])}) [ ==> {get_type_of_line(selected_line)} ({selected_line})]')\n",
    "    else:\n",
    "        possible_types = {get_type_of_line(l[1]) for l in possible_lines}\n",
    "        selected_line = select_line_by_speed(track, tracks_speed[track_id], possible_lines, speeds)\n",
    "        print(f'{track_id} ==> {\" or \".join(possible_types)} ({\" || \".join([l[1] for l in possible_lines])}) ==> {get_type_of_line(selected_line)} ({selected_line})')"
   ],
   "metadata": {
    "collapsed": false,
    "pycharm": {
     "name": "#%%\n"
    }
   }
  },
  {
   "cell_type": "code",
   "execution_count": null,
   "outputs": [],
   "source": [],
   "metadata": {
    "collapsed": false,
    "pycharm": {
     "name": "#%%\n"
    }
   }
  }
 ],
 "metadata": {
  "kernelspec": {
   "display_name": "Python 3 (ipykernel)",
   "language": "python",
   "name": "python3"
  },
  "language_info": {
   "codemirror_mode": {
    "name": "ipython",
    "version": 3
   },
   "file_extension": ".py",
   "mimetype": "text/x-python",
   "name": "python",
   "nbconvert_exporter": "python",
   "pygments_lexer": "ipython3",
   "version": "3.8.10"
  }
 },
 "nbformat": 4,
 "nbformat_minor": 1
}