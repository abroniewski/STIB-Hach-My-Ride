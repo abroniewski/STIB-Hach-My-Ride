{
 "cells": [
  {
   "cell_type": "markdown",
   "metadata": {
    "collapsed": true,
    "pycharm": {
     "name": "#%% md\n"
    }
   },
   "source": [
    "# Assignment 4"
   ]
  },
  {
   "cell_type": "markdown",
   "metadata": {},
   "source": [
    "## Convert Line shapes to EPSG:4326"
   ]
  },
  {
   "cell_type": "code",
   "execution_count": 2,
   "metadata": {
    "pycharm": {
     "name": "#%%\n"
    }
   },
   "outputs": [],
   "source": [
    "import json\n",
    "\n",
    "import shapefile\n",
    "from pyproj import Proj, transform\n",
    "from tqdm.notebook import tqdm"
   ]
  },
  {
   "cell_type": "code",
   "execution_count": 3,
   "metadata": {
    "collapsed": true,
    "pycharm": {
     "is_executing": true,
     "name": "#%%\n"
    }
   },
   "outputs": [
    {
     "data": {
      "application/vnd.jupyter.widget-view+json": {
       "model_id": "a74ed3661b384dc69942287ebed5e0b7",
       "version_major": 2,
       "version_minor": 0
      },
      "text/plain": [
       "  0%|          | 0/174 [00:00<?, ?it/s]"
      ]
     },
     "metadata": {},
     "output_type": "display_data"
    },
    {
     "name": "stderr",
     "output_type": "stream",
     "text": [
      "/tmp/ipykernel_9052/3003335364.py:4: DeprecationWarning: This function is deprecated. See: https://pyproj4.github.io/pyproj/stable/gotchas.html#upgrading-to-pyproj-2-from-pyproj-1\n",
      "  shapes = {f'{line.record[\"LIGNE\"]}-{line.record[\"VARIANTE\"]}': [transform(lambert, latlong, x, y) for x, y in\n"
     ]
    },
    {
     "ename": "KeyboardInterrupt",
     "evalue": "",
     "output_type": "error",
     "traceback": [
      "\u001b[0;31m---------------------------------------------------------------------------\u001b[0m",
      "\u001b[0;31mKeyboardInterrupt\u001b[0m                         Traceback (most recent call last)",
      "\u001b[0;32m/tmp/ipykernel_9052/3003335364.py\u001b[0m in \u001b[0;36m<module>\u001b[0;34m\u001b[0m\n\u001b[1;32m      2\u001b[0m \u001b[0mlambert\u001b[0m \u001b[0;34m=\u001b[0m \u001b[0mProj\u001b[0m\u001b[0;34m(\u001b[0m\u001b[0;34m'EPSG:31370'\u001b[0m\u001b[0;34m)\u001b[0m\u001b[0;34m\u001b[0m\u001b[0;34m\u001b[0m\u001b[0m\n\u001b[1;32m      3\u001b[0m \u001b[0mlatlong\u001b[0m \u001b[0;34m=\u001b[0m \u001b[0mProj\u001b[0m\u001b[0;34m(\u001b[0m\u001b[0;34m'EPSG:4326'\u001b[0m\u001b[0;34m)\u001b[0m\u001b[0;34m\u001b[0m\u001b[0;34m\u001b[0m\u001b[0m\n\u001b[0;32m----> 4\u001b[0;31m shapes = {f'{line.record[\"LIGNE\"]}-{line.record[\"VARIANTE\"]}': [transform(lambert, latlong, x, y) for x, y in\n\u001b[0m\u001b[1;32m      5\u001b[0m                                                                 line.shape.points] for line in\n\u001b[1;32m      6\u001b[0m           tqdm(lines.shapeRecords())}\n",
      "\u001b[0;32m/tmp/ipykernel_9052/3003335364.py\u001b[0m in \u001b[0;36m<dictcomp>\u001b[0;34m(.0)\u001b[0m\n\u001b[1;32m      2\u001b[0m \u001b[0mlambert\u001b[0m \u001b[0;34m=\u001b[0m \u001b[0mProj\u001b[0m\u001b[0;34m(\u001b[0m\u001b[0;34m'EPSG:31370'\u001b[0m\u001b[0;34m)\u001b[0m\u001b[0;34m\u001b[0m\u001b[0;34m\u001b[0m\u001b[0m\n\u001b[1;32m      3\u001b[0m \u001b[0mlatlong\u001b[0m \u001b[0;34m=\u001b[0m \u001b[0mProj\u001b[0m\u001b[0;34m(\u001b[0m\u001b[0;34m'EPSG:4326'\u001b[0m\u001b[0;34m)\u001b[0m\u001b[0;34m\u001b[0m\u001b[0;34m\u001b[0m\u001b[0m\n\u001b[0;32m----> 4\u001b[0;31m shapes = {f'{line.record[\"LIGNE\"]}-{line.record[\"VARIANTE\"]}': [transform(lambert, latlong, x, y) for x, y in\n\u001b[0m\u001b[1;32m      5\u001b[0m                                                                 line.shape.points] for line in\n\u001b[1;32m      6\u001b[0m           tqdm(lines.shapeRecords())}\n",
      "\u001b[0;32m/tmp/ipykernel_9052/3003335364.py\u001b[0m in \u001b[0;36m<listcomp>\u001b[0;34m(.0)\u001b[0m\n\u001b[1;32m      2\u001b[0m \u001b[0mlambert\u001b[0m \u001b[0;34m=\u001b[0m \u001b[0mProj\u001b[0m\u001b[0;34m(\u001b[0m\u001b[0;34m'EPSG:31370'\u001b[0m\u001b[0;34m)\u001b[0m\u001b[0;34m\u001b[0m\u001b[0;34m\u001b[0m\u001b[0m\n\u001b[1;32m      3\u001b[0m \u001b[0mlatlong\u001b[0m \u001b[0;34m=\u001b[0m \u001b[0mProj\u001b[0m\u001b[0;34m(\u001b[0m\u001b[0;34m'EPSG:4326'\u001b[0m\u001b[0;34m)\u001b[0m\u001b[0;34m\u001b[0m\u001b[0;34m\u001b[0m\u001b[0m\n\u001b[0;32m----> 4\u001b[0;31m shapes = {f'{line.record[\"LIGNE\"]}-{line.record[\"VARIANTE\"]}': [transform(lambert, latlong, x, y) for x, y in\n\u001b[0m\u001b[1;32m      5\u001b[0m                                                                 line.shape.points] for line in\n\u001b[1;32m      6\u001b[0m           tqdm(lines.shapeRecords())}\n",
      "\u001b[0;32m~/jupyter/environment/lib/python3.8/site-packages/pyproj/transformer.py\u001b[0m in \u001b[0;36mtransform\u001b[0;34m(p1, p2, x, y, z, tt, radians, errcheck, skip_equivalent, always_xy)\u001b[0m\n\u001b[1;32m   1192\u001b[0m         \u001b[0mstacklevel\u001b[0m\u001b[0;34m=\u001b[0m\u001b[0;36m2\u001b[0m\u001b[0;34m,\u001b[0m\u001b[0;34m\u001b[0m\u001b[0;34m\u001b[0m\u001b[0m\n\u001b[1;32m   1193\u001b[0m     )\n\u001b[0;32m-> 1194\u001b[0;31m     return Transformer.from_proj(\n\u001b[0m\u001b[1;32m   1195\u001b[0m         \u001b[0mp1\u001b[0m\u001b[0;34m,\u001b[0m \u001b[0mp2\u001b[0m\u001b[0;34m,\u001b[0m \u001b[0mskip_equivalent\u001b[0m\u001b[0;34m=\u001b[0m\u001b[0mskip_equivalent\u001b[0m\u001b[0;34m,\u001b[0m \u001b[0malways_xy\u001b[0m\u001b[0;34m=\u001b[0m\u001b[0malways_xy\u001b[0m\u001b[0;34m\u001b[0m\u001b[0;34m\u001b[0m\u001b[0m\n\u001b[1;32m   1196\u001b[0m     ).transform(xx=x, yy=y, zz=z, tt=tt, radians=radians, errcheck=errcheck)\n",
      "\u001b[0;32m~/jupyter/environment/lib/python3.8/site-packages/pyproj/transformer.py\u001b[0m in \u001b[0;36mfrom_proj\u001b[0;34m(proj_from, proj_to, skip_equivalent, always_xy, area_of_interest)\u001b[0m\n\u001b[1;32m    493\u001b[0m             \u001b[0mproj_to\u001b[0m \u001b[0;34m=\u001b[0m \u001b[0mProj\u001b[0m\u001b[0;34m(\u001b[0m\u001b[0mproj_to\u001b[0m\u001b[0;34m)\u001b[0m\u001b[0;34m\u001b[0m\u001b[0;34m\u001b[0m\u001b[0m\n\u001b[1;32m    494\u001b[0m \u001b[0;34m\u001b[0m\u001b[0m\n\u001b[0;32m--> 495\u001b[0;31m         return Transformer.from_crs(\n\u001b[0m\u001b[1;32m    496\u001b[0m             \u001b[0mproj_from\u001b[0m\u001b[0;34m.\u001b[0m\u001b[0mcrs\u001b[0m\u001b[0;34m,\u001b[0m\u001b[0;34m\u001b[0m\u001b[0;34m\u001b[0m\u001b[0m\n\u001b[1;32m    497\u001b[0m             \u001b[0mproj_to\u001b[0m\u001b[0;34m.\u001b[0m\u001b[0mcrs\u001b[0m\u001b[0;34m,\u001b[0m\u001b[0;34m\u001b[0m\u001b[0;34m\u001b[0m\u001b[0m\n",
      "\u001b[0;32m~/jupyter/environment/lib/python3.8/site-packages/pyproj/transformer.py\u001b[0m in \u001b[0;36mfrom_crs\u001b[0;34m(crs_from, crs_to, skip_equivalent, always_xy, area_of_interest, authority, accuracy, allow_ballpark)\u001b[0m\n\u001b[1;32m    563\u001b[0m             )\n\u001b[1;32m    564\u001b[0m \u001b[0;34m\u001b[0m\u001b[0m\n\u001b[0;32m--> 565\u001b[0;31m         return Transformer(\n\u001b[0m\u001b[1;32m    566\u001b[0m             TransformerFromCRS(\n\u001b[1;32m    567\u001b[0m                 \u001b[0mcstrencode\u001b[0m\u001b[0;34m(\u001b[0m\u001b[0mCRS\u001b[0m\u001b[0;34m.\u001b[0m\u001b[0mfrom_user_input\u001b[0m\u001b[0;34m(\u001b[0m\u001b[0mcrs_from\u001b[0m\u001b[0;34m)\u001b[0m\u001b[0;34m.\u001b[0m\u001b[0msrs\u001b[0m\u001b[0;34m)\u001b[0m\u001b[0;34m,\u001b[0m\u001b[0;34m\u001b[0m\u001b[0;34m\u001b[0m\u001b[0m\n",
      "\u001b[0;32m~/jupyter/environment/lib/python3.8/site-packages/pyproj/transformer.py\u001b[0m in \u001b[0;36m__init__\u001b[0;34m(self, transformer_maker)\u001b[0m\n\u001b[1;32m    308\u001b[0m \u001b[0;34m\u001b[0m\u001b[0m\n\u001b[1;32m    309\u001b[0m         \u001b[0mself\u001b[0m\u001b[0;34m.\u001b[0m\u001b[0m_local\u001b[0m \u001b[0;34m=\u001b[0m \u001b[0mTransformerLocal\u001b[0m\u001b[0;34m(\u001b[0m\u001b[0;34m)\u001b[0m\u001b[0;34m\u001b[0m\u001b[0;34m\u001b[0m\u001b[0m\n\u001b[0;32m--> 310\u001b[0;31m         \u001b[0mself\u001b[0m\u001b[0;34m.\u001b[0m\u001b[0m_local\u001b[0m\u001b[0;34m.\u001b[0m\u001b[0mtransformer\u001b[0m \u001b[0;34m=\u001b[0m \u001b[0mtransformer_maker\u001b[0m\u001b[0;34m(\u001b[0m\u001b[0;34m)\u001b[0m\u001b[0;34m\u001b[0m\u001b[0;34m\u001b[0m\u001b[0m\n\u001b[0m\u001b[1;32m    311\u001b[0m         \u001b[0mself\u001b[0m\u001b[0;34m.\u001b[0m\u001b[0m_transformer_maker\u001b[0m \u001b[0;34m=\u001b[0m \u001b[0mtransformer_maker\u001b[0m\u001b[0;34m\u001b[0m\u001b[0;34m\u001b[0m\u001b[0m\n\u001b[1;32m    312\u001b[0m \u001b[0;34m\u001b[0m\u001b[0m\n",
      "\u001b[0;32m~/jupyter/environment/lib/python3.8/site-packages/pyproj/transformer.py\u001b[0m in \u001b[0;36m__call__\u001b[0;34m(self)\u001b[0m\n\u001b[1;32m     95\u001b[0m         \u001b[0m_Transformer\u001b[0m\u001b[0;34m\u001b[0m\u001b[0;34m\u001b[0m\u001b[0m\n\u001b[1;32m     96\u001b[0m         \"\"\"\n\u001b[0;32m---> 97\u001b[0;31m         return _Transformer.from_crs(\n\u001b[0m\u001b[1;32m     98\u001b[0m             \u001b[0mself\u001b[0m\u001b[0;34m.\u001b[0m\u001b[0mcrs_from\u001b[0m\u001b[0;34m,\u001b[0m\u001b[0;34m\u001b[0m\u001b[0;34m\u001b[0m\u001b[0m\n\u001b[1;32m     99\u001b[0m             \u001b[0mself\u001b[0m\u001b[0;34m.\u001b[0m\u001b[0mcrs_to\u001b[0m\u001b[0;34m,\u001b[0m\u001b[0;34m\u001b[0m\u001b[0;34m\u001b[0m\u001b[0m\n",
      "\u001b[0;32mpyproj/_transformer.pyx\u001b[0m in \u001b[0;36mpyproj._transformer._Transformer.from_crs\u001b[0;34m()\u001b[0m\n",
      "\u001b[0;32mpyproj/_transformer.pyx\u001b[0m in \u001b[0;36mpyproj._transformer._Transformer._init_from_crs\u001b[0;34m()\u001b[0m\n",
      "\u001b[0;32mpyproj/_transformer.pyx\u001b[0m in \u001b[0;36mpyproj._transformer._Transformer._initialize_from_projobj\u001b[0;34m()\u001b[0m\n",
      "\u001b[0;32m~/jupyter/environment/lib/python3.8/site-packages/pyproj/exceptions.py\u001b[0m in \u001b[0;36mclear\u001b[0;34m()\u001b[0m\n\u001b[1;32m     17\u001b[0m         \u001b[0msuper\u001b[0m\u001b[0;34m(\u001b[0m\u001b[0;34m)\u001b[0m\u001b[0;34m.\u001b[0m\u001b[0m__init__\u001b[0m\u001b[0;34m(\u001b[0m\u001b[0merror_message\u001b[0m\u001b[0;34m)\u001b[0m\u001b[0;34m\u001b[0m\u001b[0;34m\u001b[0m\u001b[0m\n\u001b[1;32m     18\u001b[0m \u001b[0;34m\u001b[0m\u001b[0m\n\u001b[0;32m---> 19\u001b[0;31m     \u001b[0;34m@\u001b[0m\u001b[0mstaticmethod\u001b[0m\u001b[0;34m\u001b[0m\u001b[0;34m\u001b[0m\u001b[0m\n\u001b[0m\u001b[1;32m     20\u001b[0m     \u001b[0;32mdef\u001b[0m \u001b[0mclear\u001b[0m\u001b[0;34m(\u001b[0m\u001b[0;34m)\u001b[0m \u001b[0;34m->\u001b[0m \u001b[0;32mNone\u001b[0m\u001b[0;34m:\u001b[0m\u001b[0;34m\u001b[0m\u001b[0;34m\u001b[0m\u001b[0m\n\u001b[1;32m     21\u001b[0m         \"\"\"\n",
      "\u001b[0;31mKeyboardInterrupt\u001b[0m: "
     ]
    }
   ],
   "source": [
    "# already run if you have shapes_lat_long.json\n",
    "lines = shapefile.Reader('../data/raw/shapefiles/ACTU_LINES')\n",
    "lambert = Proj('EPSG:31370')\n",
    "latlong = Proj('EPSG:4326')\n",
    "shapes = {f'{line.record[\"LIGNE\"]}-{line.record[\"VARIANTE\"]}': [transform(lambert, latlong, x, y) for x, y in\n",
    "                                                                line.shape.points] for line in\n",
    "          tqdm(lines.shapeRecords())}\n",
    "with open('../data/raw/shapes_lat_long.json', 'w', encoding='utf8') as json_file:\n",
    "    json.dump(shapes, json_file)"
   ]
  },
  {
   "cell_type": "code",
   "execution_count": null,
   "metadata": {},
   "outputs": [],
   "source": []
  },
  {
   "cell_type": "markdown",
   "metadata": {},
   "source": [
    "## Create plots for each track and line"
   ]
  },
  {
   "cell_type": "code",
   "execution_count": 4,
   "metadata": {
    "pycharm": {
     "name": "#%%\n"
    }
   },
   "outputs": [],
   "source": [
    "import pandas as pd\n",
    "import matplotlib.pyplot as plt\n",
    "import json\n",
    "import os\n",
    "from tqdm.notebook import tqdm"
   ]
  },
  {
   "cell_type": "markdown",
   "metadata": {},
   "source": []
  },
  {
   "cell_type": "code",
   "execution_count": 8,
   "metadata": {
    "pycharm": {
     "is_executing": true,
     "name": "#%%\n"
    },
    "scrolled": false
   },
   "outputs": [
    {
     "data": {
      "application/vnd.jupyter.widget-view+json": {
       "model_id": "04d5c72cd6514946918cbc323065c882",
       "version_major": 2,
       "version_minor": 0
      },
      "text/plain": [
       "  0%|          | 0/9 [00:00<?, ?it/s]"
      ]
     },
     "metadata": {},
     "output_type": "display_data"
    },
    {
     "data": {
      "application/vnd.jupyter.widget-view+json": {
       "model_id": "722593cede7a42cf9909d56747bd2299",
       "version_major": 2,
       "version_minor": 0
      },
      "text/plain": [
       "0it [00:00, ?it/s]"
      ]
     },
     "metadata": {},
     "output_type": "display_data"
    },
    {
     "data": {
      "application/vnd.jupyter.widget-view+json": {
       "model_id": "2449bf2c2a37461b8155089902af44e2",
       "version_major": 2,
       "version_minor": 0
      },
      "text/plain": [
       "0it [00:00, ?it/s]"
      ]
     },
     "metadata": {},
     "output_type": "display_data"
    },
    {
     "data": {
      "application/vnd.jupyter.widget-view+json": {
       "model_id": "c4b21d26317e4d788dc5bb69de2b67ff",
       "version_major": 2,
       "version_minor": 0
      },
      "text/plain": [
       "0it [00:00, ?it/s]"
      ]
     },
     "metadata": {},
     "output_type": "display_data"
    },
    {
     "data": {
      "application/vnd.jupyter.widget-view+json": {
       "model_id": "09748cb72bfa454eb16c5a5b1c10fe41",
       "version_major": 2,
       "version_minor": 0
      },
      "text/plain": [
       "0it [00:00, ?it/s]"
      ]
     },
     "metadata": {},
     "output_type": "display_data"
    },
    {
     "data": {
      "application/vnd.jupyter.widget-view+json": {
       "model_id": "4229add03c3b48edbbb5b3e80887cbe7",
       "version_major": 2,
       "version_minor": 0
      },
      "text/plain": [
       "0it [00:00, ?it/s]"
      ]
     },
     "metadata": {},
     "output_type": "display_data"
    },
    {
     "data": {
      "application/vnd.jupyter.widget-view+json": {
       "model_id": "288318bce72244f4bf02228952197870",
       "version_major": 2,
       "version_minor": 0
      },
      "text/plain": [
       "0it [00:00, ?it/s]"
      ]
     },
     "metadata": {},
     "output_type": "display_data"
    },
    {
     "data": {
      "application/vnd.jupyter.widget-view+json": {
       "model_id": "682fab3ab9c2474bbe9431e3aa25d948",
       "version_major": 2,
       "version_minor": 0
      },
      "text/plain": [
       "0it [00:00, ?it/s]"
      ]
     },
     "metadata": {},
     "output_type": "display_data"
    },
    {
     "data": {
      "application/vnd.jupyter.widget-view+json": {
       "model_id": "a127d84fc35d414dbb4b18faf7ae715e",
       "version_major": 2,
       "version_minor": 0
      },
      "text/plain": [
       "0it [00:00, ?it/s]"
      ]
     },
     "metadata": {},
     "output_type": "display_data"
    },
    {
     "data": {
      "application/vnd.jupyter.widget-view+json": {
       "model_id": "c77df301dde24e42a5516c0c51612ae7",
       "version_major": 2,
       "version_minor": 0
      },
      "text/plain": [
       "0it [00:00, ?it/s]"
      ]
     },
     "metadata": {},
     "output_type": "display_data"
    }
   ],
   "source": [
    "tracks = pd.read_csv('../data/raw/GPSTracksAssignment4/GPStracks.csv')\n",
    "with open('../data/raw/shapes_lat_long.json', 'r', encoding='utf8') as json_file:\n",
    "    shapes = json.load(json_file)\n",
    "for track_id in tqdm(tracks['TrackId'].unique()):\n",
    "    track = tracks[tracks['TrackId'] == track_id].sort_values(by='time')\n",
    "    if not os.path.exists(f'../data/line_plots/Track{track_id}'):\n",
    "        os.mkdir(f'../data/line_plots/Track{track_id}')\n",
    "    for index, (line_id, line) in tqdm(enumerate(shapes.items())):\n",
    "        plt.scatter(x=track['lon'], y=track['lat'], label=f'Track {track_id}')\n",
    "        plt.scatter(x=[lon for _, lon in line], y=[lat for lat, _ in line], label=line_id)\n",
    "        plt.title(line_id)\n",
    "        plt.savefig(f'../data/line_plots/Track{track_id}/{line_id}.png')\n",
    "        plt.close()"
   ]
  },
  {
   "cell_type": "markdown",
   "metadata": {},
   "source": [
    "### Track ⟶ Line:\n",
    "\n",
    " - Track 1: Other\n",
    " - Track 3: Bus 50 or Tram 82 or Bus 49\n",
    " - Track 4: Bus 50\n",
    " - Track 5: Tram 82 or Tram 97\n",
    " - Track 6: Tram 8\n",
    " - Track 7: Tram 7\n",
    " - Track 8: Other\n",
    " - Track 10: Tram 8 or Tram 93\n",
    " - Track 11: Tram 25"
   ]
  },
  {
   "cell_type": "markdown",
   "metadata": {},
   "source": [
    "## Create CSV of labeled points"
   ]
  },
  {
   "cell_type": "code",
   "execution_count": 9,
   "metadata": {
    "pycharm": {
     "name": "#%%\n"
    }
   },
   "outputs": [],
   "source": [
    "import json\n",
    "from scripts.helpers import write_csv"
   ]
  },
  {
   "cell_type": "code",
   "execution_count": null,
   "metadata": {},
   "outputs": [],
   "source": [
    "# creating the dataset."
   ]
  },
  {
   "cell_type": "code",
   "execution_count": 11,
   "metadata": {
    "pycharm": {
     "name": "#%%\n"
    }
   },
   "outputs": [],
   "source": [
    "with open('../data/raw/shapes_lat_long.json', 'r', encoding='utf8') as json_file:\n",
    "    shapes = json.load(json_file)\n",
    "with write_csv('../data/processed/assignment4/labeled_line_points.csv') as csv_out:\n",
    "    csv_out.writerow(['Lat', 'Long', 'LineId'])\n",
    "    for line_id, points in shapes.items():\n",
    "        if line_id[:-2] in ['032t']:  # Remove lines that are not active anymore\n",
    "            continue\n",
    "        for lat, long in points:\n",
    "            csv_out.writerow([lat, long, line_id[:-2]])"
   ]
  },
  {
   "cell_type": "markdown",
   "metadata": {},
   "source": [
    "## Create Classification Model"
   ]
  },
  {
   "cell_type": "code",
   "execution_count": 14,
   "metadata": {
    "pycharm": {
     "name": "#%%\n"
    }
   },
   "outputs": [],
   "source": [
    "from sklearn.neighbors import KNeighborsClassifier\n",
    "from scripts.helpers import read_csv_list\n",
    "import pandas as pd\n",
    "from typing import Tuple, List"
   ]
  },
  {
   "cell_type": "code",
   "execution_count": 15,
   "metadata": {
    "pycharm": {
     "name": "#%%\n"
    }
   },
   "outputs": [],
   "source": [
    "def get_datasets() -> Tuple[List[List[float]], List[str], pd.DataFrame]:\n",
    "    csv_lines = read_csv_list('../data/processed/assignment4/labeled_line_points.csv')\n",
    "    data_set = [[float(point[0]), float(point[1])] for point in csv_lines[1:]]\n",
    "    data_labels = [point[-1] for point in csv_lines[1:]]\n",
    "    tracks = pd.read_csv('../data/raw/GPSTracksAssignment4/GPStracks.csv')\n",
    "    return data_set, data_labels, tracks"
   ]
  },
  {
   "cell_type": "markdown",
   "metadata": {},
   "source": [
    "### Create \"Ensemble\" with KNN using average probability"
   ]
  },
  {
   "cell_type": "code",
   "execution_count": 18,
   "metadata": {
    "pycharm": {
     "name": "#%%\n"
    },
    "scrolled": true
   },
   "outputs": [
    {
     "name": "stdout",
     "output_type": "stream",
     "text": [
      "Training model\n",
      "Model trained\n",
      "1 -> [(30.337078651685392, '046b'), (14.044943820224718, '088b'), (12.359550561797754, '218b'), (11.797752808988765, '051t')]\n",
      "3 -> [(34.34782608695652, '082t'), (23.043478260869566, '049b'), (22.17391304347826, '050b'), (11.304347826086957, '048b')]\n",
      "4 -> [(33.81742738589212, '050b'), (13.278008298755188, '074b'), (13.278008298755188, '212b'), (9.95850622406639, '082t')]\n",
      "5 -> [(33.944954128440365, '212b'), (26.146788990825687, '082t'), (24.770642201834864, '097t'), (11.46788990825688, '050b')]\n",
      "6 -> [(41.15523465703971, '008t'), (28.15884476534296, '093t'), (8.12274368231047, '007t'), (3.7906137184115525, '071b')]\n",
      "7 -> [(42.30769230769231, '007t'), (41.282051282051285, '025t'), (10.256410256410257, '209b'), (3.8461538461538463, '008t')]\n",
      "8 -> [(12.738853503184714, '007t'), (12.420382165605096, '051t'), (12.261146496815286, '038b'), (12.101910828025478, '008t')]\n",
      "10 -> [(45.96774193548387, '008t'), (45.96774193548387, '093t'), (4.032258064516129, '060b'), (4.032258064516129, '210b')]\n",
      "11 -> [(40.90909090909091, '025t'), (33.73205741626794, '007t'), (15.789473684210526, '209b'), (4.30622009569378, '008t')]\n"
     ]
    },
    {
     "name": "stderr",
     "output_type": "stream",
     "text": [
      "/home/filip/jupyter/environment/lib/python3.8/site-packages/sklearn/base.py:438: UserWarning: X has feature names, but KNeighborsClassifier was fitted without feature names\n",
      "  warnings.warn(\n",
      "/home/filip/jupyter/environment/lib/python3.8/site-packages/sklearn/base.py:438: UserWarning: X has feature names, but KNeighborsClassifier was fitted without feature names\n",
      "  warnings.warn(\n",
      "/home/filip/jupyter/environment/lib/python3.8/site-packages/sklearn/base.py:438: UserWarning: X has feature names, but KNeighborsClassifier was fitted without feature names\n",
      "  warnings.warn(\n",
      "/home/filip/jupyter/environment/lib/python3.8/site-packages/sklearn/base.py:438: UserWarning: X has feature names, but KNeighborsClassifier was fitted without feature names\n",
      "  warnings.warn(\n",
      "/home/filip/jupyter/environment/lib/python3.8/site-packages/sklearn/base.py:438: UserWarning: X has feature names, but KNeighborsClassifier was fitted without feature names\n",
      "  warnings.warn(\n",
      "/home/filip/jupyter/environment/lib/python3.8/site-packages/sklearn/base.py:438: UserWarning: X has feature names, but KNeighborsClassifier was fitted without feature names\n",
      "  warnings.warn(\n",
      "/home/filip/jupyter/environment/lib/python3.8/site-packages/sklearn/base.py:438: UserWarning: X has feature names, but KNeighborsClassifier was fitted without feature names\n",
      "  warnings.warn(\n",
      "/home/filip/jupyter/environment/lib/python3.8/site-packages/sklearn/base.py:438: UserWarning: X has feature names, but KNeighborsClassifier was fitted without feature names\n",
      "  warnings.warn(\n",
      "/home/filip/jupyter/environment/lib/python3.8/site-packages/sklearn/base.py:438: UserWarning: X has feature names, but KNeighborsClassifier was fitted without feature names\n",
      "  warnings.warn(\n"
     ]
    }
   ],
   "source": [
    "data_set, data_labels, tracks = get_datasets()\n",
    "print('Training model')\n",
    "model = KNeighborsClassifier(n_neighbors=2)\n",
    "model.fit(data_set, data_labels)\n",
    "print('Model trained')\n",
    "for track_id in tracks['TrackId'].unique():\n",
    "    track_points = tracks[tracks['TrackId'] == track_id][['lat', 'lon']]\n",
    "    predictions = model.predict_proba(track_points)\n",
    "    final_predictions = [(sum(predictions[i][x]\n",
    "                              for i in range(len(predictions))) * 100 / len(predictions), model.classes_[x])\n",
    "                         for x in range(len(predictions[0]))]\n",
    "    sorted_predictions = sorted(final_predictions, key=lambda x: x[0], reverse=True)\n",
    "\n",
    "    print(track_id, '->', sorted_predictions[:4])"
   ]
  },
  {
   "cell_type": "markdown",
   "metadata": {},
   "source": [
    "### Create \"Ensemble\" with KNN using \"existence\""
   ]
  },
  {
   "cell_type": "code",
   "execution_count": 82,
   "metadata": {
    "pycharm": {
     "name": "#%%\n"
    },
    "scrolled": true
   },
   "outputs": [
    {
     "name": "stdout",
     "output_type": "stream",
     "text": [
      "Training model\n",
      "Model trained\n",
      "1 -> []\n",
      "3 -> [(100.0, '049b'), (100.0, '050b'), (99.1304347826087, '082t')]\n",
      "4 -> [(100.0, '050b')]\n",
      "5 -> [(100.0, '212b'), (98.62385321100918, '097t'), (98.1651376146789, '082t')]\n",
      "6 -> [(97.47292418772564, '008t')]\n",
      "7 -> [(100.0, '007t')]\n",
      "8 -> []\n",
      "10 -> [(93.54838709677419, '008t'), (93.54838709677419, '093t')]\n",
      "11 -> [(100.0, '025t')]\n"
     ]
    },
    {
     "name": "stderr",
     "output_type": "stream",
     "text": [
      "/home/filip/jupyter/environment/lib/python3.8/site-packages/sklearn/base.py:438: UserWarning: X has feature names, but KNeighborsClassifier was fitted without feature names\n",
      "  warnings.warn(\n",
      "/home/filip/jupyter/environment/lib/python3.8/site-packages/sklearn/base.py:438: UserWarning: X has feature names, but KNeighborsClassifier was fitted without feature names\n",
      "  warnings.warn(\n",
      "/home/filip/jupyter/environment/lib/python3.8/site-packages/sklearn/base.py:438: UserWarning: X has feature names, but KNeighborsClassifier was fitted without feature names\n",
      "  warnings.warn(\n",
      "/home/filip/jupyter/environment/lib/python3.8/site-packages/sklearn/base.py:438: UserWarning: X has feature names, but KNeighborsClassifier was fitted without feature names\n",
      "  warnings.warn(\n",
      "/home/filip/jupyter/environment/lib/python3.8/site-packages/sklearn/base.py:438: UserWarning: X has feature names, but KNeighborsClassifier was fitted without feature names\n",
      "  warnings.warn(\n",
      "/home/filip/jupyter/environment/lib/python3.8/site-packages/sklearn/base.py:438: UserWarning: X has feature names, but KNeighborsClassifier was fitted without feature names\n",
      "  warnings.warn(\n",
      "/home/filip/jupyter/environment/lib/python3.8/site-packages/sklearn/base.py:438: UserWarning: X has feature names, but KNeighborsClassifier was fitted without feature names\n",
      "  warnings.warn(\n",
      "/home/filip/jupyter/environment/lib/python3.8/site-packages/sklearn/base.py:438: UserWarning: X has feature names, but KNeighborsClassifier was fitted without feature names\n",
      "  warnings.warn(\n",
      "/home/filip/jupyter/environment/lib/python3.8/site-packages/sklearn/base.py:438: UserWarning: X has feature names, but KNeighborsClassifier was fitted without feature names\n",
      "  warnings.warn(\n"
     ]
    }
   ],
   "source": [
    "data_set, data_labels, tracks = get_datasets()\n",
    "print('Training model')\n",
    "model = KNeighborsClassifier(n_neighbors=25)\n",
    "model.fit(data_set, data_labels)\n",
    "\n",
    "track_predictions = {}\n",
    "\n",
    "print('Model trained')\n",
    "for track_id in tracks['TrackId'].unique():\n",
    "    track_points = tracks[tracks['TrackId'] == track_id][['lat', 'lon']]\n",
    "    predictions = model.predict_proba(track_points)\n",
    "    converted_predictions = [\n",
    "        [1 if probability > 0 else 0 for probability in prediction]\n",
    "        for prediction in predictions\n",
    "    ]\n",
    "    final_predictions = [(sum(converted_predictions[i][x]\n",
    "                              for i in range(len(predictions))) * 100 / len(predictions), model.classes_[x])\n",
    "                         for x in range(len(predictions[0]))]\n",
    "    filtered_predictions = [\n",
    "        (percentage, line) for percentage, line in final_predictions if percentage > 75\n",
    "    ]\n",
    "\n",
    "    filtered_predictions = sorted(filtered_predictions, key=lambda x: x[0], reverse=True)\n",
    "\n",
    "    if len(filtered_predictions):\n",
    "        filtered_predictions = [\n",
    "            (prob, line) for prob, line in filtered_predictions if filtered_predictions[0][0] - prob < 5\n",
    "        ]\n",
    "    track_predictions[track_id] = filtered_predictions[:4]\n",
    "    print(track_id, '->', filtered_predictions[:4])"
   ]
  },
  {
   "cell_type": "code",
   "execution_count": 72,
   "metadata": {
    "pycharm": {
     "name": "#%%\n"
    }
   },
   "outputs": [],
   "source": [
    "import datetime\n",
    "from scripts.helpers import distance\n",
    "import pandas as pd"
   ]
  },
  {
   "cell_type": "code",
   "execution_count": 73,
   "metadata": {
    "pycharm": {
     "name": "#%%\n"
    }
   },
   "outputs": [],
   "source": [
    "def calculate_average_speed_of_track(track: pd.DataFrame) -> float:\n",
    "    total_time = 0.0\n",
    "    total_speed = 0.0\n",
    "    previous_time = datetime.datetime.fromisoformat(track.iloc[0]['time'][:-1])\n",
    "    previous_position = (track.iloc[0]['lat'], track.iloc[0]['lon'])\n",
    "    for _, _, lat, long, time in track.sort_values(by='time').itertuples():\n",
    "        timestamp = datetime.datetime.fromisoformat(time[:-1])\n",
    "        seconds = (timestamp - previous_time).total_seconds()\n",
    "        if seconds > 0:\n",
    "            speed = abs(distance(*previous_position, lat, long)) * 1000 / seconds\n",
    "            total_speed += speed\n",
    "            total_time += seconds\n",
    "        previous_time = timestamp\n",
    "        previous_position = (lat, long)\n",
    "    return total_speed / total_time"
   ]
  },
  {
   "cell_type": "code",
   "execution_count": 86,
   "metadata": {
    "pycharm": {
     "name": "#%%\n"
    }
   },
   "outputs": [
    {
     "name": "stdout",
     "output_type": "stream",
     "text": [
      "1 -> 0.7291839252917509 m/s\n",
      "3 -> 3.633952140433144 m/s\n",
      "4 -> 1.732230824629012 m/s\n",
      "5 -> 2.06724017703918 m/s\n",
      "6 -> 1.9623354220439553 m/s\n",
      "7 -> 3.2759623317901125 m/s\n",
      "8 -> 3.694685611022721 m/s\n",
      "10 -> 10.221985679245405 m/s\n",
      "11 -> 4.6304892012317085 m/s\n"
     ]
    }
   ],
   "source": [
    "tracks = pd.read_csv('../data/raw/GPSTracksAssignment4/GPStracks.csv')\n",
    "tracks_speed = {}\n",
    "for track_id in tracks['TrackId'].unique():\n",
    "    track = tracks[tracks['TrackId'] == track_id]\n",
    "    speed = calculate_average_speed_of_track(track)\n",
    "    tracks_speed[track_id] = speed\n",
    "    print(track_id, '->', speed, 'm/s')"
   ]
  },
  {
   "cell_type": "markdown",
   "metadata": {},
   "source": [
    "# Find the right line"
   ]
  },
  {
   "cell_type": "code",
   "execution_count": 475,
   "metadata": {},
   "outputs": [],
   "source": [
    "import math\n",
    "import numpy as np"
   ]
  },
  {
   "cell_type": "code",
   "execution_count": 474,
   "metadata": {},
   "outputs": [
    {
     "data": {
      "text/plain": [
       "[3, 5, 10]"
      ]
     },
     "execution_count": 474,
     "metadata": {},
     "output_type": "execute_result"
    }
   ],
   "source": [
    "tracks_to_be_done = []\n",
    "\n",
    "for k, v in track_predictions.items():\n",
    "    if(len(v) != 0 and len(v) != 1):\n",
    "        tracks_to_be_done.append(k)\n",
    "        \n",
    "tracks_to_be_done"
   ]
  },
  {
   "cell_type": "code",
   "execution_count": 358,
   "metadata": {
    "scrolled": true
   },
   "outputs": [],
   "source": [
    "stop_speed = pd.read_csv('../data/processed/assignment1/average_time_between_stops_filtered.csv')\n",
    "line_stops = pd.read_csv('../data/processed/assignment1/line_stops.csv')\n",
    "line_stops = line_stops[['lineId', 'stop_id_int', 'lat', 'long', 'order']]\n",
    "\n",
    "tracks['hour'] = pd.to_datetime(tracks.time).dt.hour\n",
    "first_last_tracks = tracks[['TrackId','lat', 'lon', 'hour']].groupby(['TrackId']).nth([0,-1])\n",
    "first_last_tracks.reset_index(inplace=True)"
   ]
  },
  {
   "cell_type": "code",
   "execution_count": 488,
   "metadata": {},
   "outputs": [
    {
     "name": "stdout",
     "output_type": "stream",
     "text": [
      "[0.01644577 0.01660387 0.01875681 0.01907986 0.01907986 0.01928761\n",
      " 0.01952714 0.02230231 0.02280039 0.02311928 0.02370881 0.02548447\n",
      " 0.02569878 0.02576971 0.02745115 0.02980606 0.03010199 0.03090258\n",
      " 0.03113115 0.03242177 0.03355453 0.03437683 0.03489133 0.03638308\n",
      " 0.03669681 0.03686756 0.03696471 0.03736952 0.03752144 0.03823208\n",
      " 0.03944844 0.0400432  0.04022684 0.04024963 0.0403693  0.04089335\n",
      " 0.04196395 0.04297749 0.04308739 0.04334963 0.04398187 0.04431006\n",
      " 0.04462683 0.04487004 0.04549244 0.04589435 0.04621247 0.04637487\n",
      " 0.04697506 0.04721127 0.0472664  0.04732452 0.04755743 0.04806814\n",
      " 0.04886952 0.04942519 0.04950206 0.05013908]\n",
      "[0.01644577 0.01660387 0.01928761 0.01952714 0.02311928 0.02370881\n",
      " 0.02569878 0.02745115 0.02980606 0.03010199 0.03242177 0.03355453\n",
      " 0.03669681 0.03761395 0.04185757 0.04287635 0.04718849 0.04770469\n",
      " 0.04896809 0.0497319  0.05420348 0.05457491 0.05687314 0.05693524\n",
      " 0.05718735 0.05749793 0.061715   0.06202167 0.06485724 0.06530189\n",
      " 0.06836001 0.06840504 0.07613155 0.07712687 0.08059648 0.08128733\n",
      " 0.0848816  0.0855049  0.08951519 0.08965441 0.09276528 0.09304758\n",
      " 0.1001048  0.10023124 0.10373674 0.10459886 0.10968464 0.11137416\n",
      " 0.11137416]\n",
      "[0.00817901 0.00821829 0.00865098 0.00919937 0.01039205 0.01102998\n",
      " 0.01176261 0.01203524 0.01580226 0.01604662 0.01638215 0.01640833\n",
      " 0.01919835 0.01941579 0.01956436 0.01985447 0.02312685 0.02370743\n",
      " 0.0237306  0.0244662  0.02571022 0.0274341  0.02839209 0.02842716\n",
      " 0.02847257 0.02904554 0.02924772 0.02961155 0.02980783 0.0303058\n",
      " 0.03242997 0.03293501 0.03354321 0.0361407  0.03645978 0.03726467\n",
      " 0.03922616 0.03948374 0.039492   0.04212736 0.04236565 0.04276494\n",
      " 0.04434282 0.04439668 0.04500498 0.04712356 0.04714731 0.04768974\n",
      " 0.04896809 0.04974172 0.05001169 0.05036884 0.05312191 0.05420032\n",
      " 0.05421145 0.05457741 0.05653427 0.05686585 0.05696441 0.05720304\n",
      " 0.05751087 0.0575145  0.05814949 0.0584503  0.05912222 0.05945828\n",
      " 0.05953842 0.0599084  0.06282476 0.06310193 0.06625218 0.06687488\n",
      " 0.06923265 0.06956167 0.07077082 0.07097415]\n",
      "[0.01809232 0.01834243 0.02121475 0.02133007 0.02368687 0.02406064\n",
      " 0.02435342 0.02445494 0.02458574 0.0265834  0.02667663 0.02672184\n",
      " 0.02675235 0.02688294 0.02701039 0.02723787 0.02733935 0.02745077\n",
      " 0.02831446 0.02852892 0.03045814 0.03097916 0.03238675 0.03354321\n",
      " 0.0361407  0.03726467 0.03922616 0.03948374 0.04236565 0.04276494\n",
      " 0.04434282 0.04439668 0.04714731 0.04768974 0.04896809 0.04974172\n",
      " 0.04978648 0.05053133 0.05105511 0.05127058 0.05288984 0.05322877\n",
      " 0.05421145 0.05440538 0.05457741 0.05470014 0.05659412 0.05679222\n",
      " 0.05686585 0.05696441 0.05720304 0.05751087 0.05814949 0.0584503\n",
      " 0.05886065 0.05892286 0.05953842 0.0599084 ]\n",
      "[0.00817901 0.00821829 0.00865098 0.00919937 0.01039205 0.01102998\n",
      " 0.01176261 0.01203524 0.01580226 0.01604662 0.01638215 0.01640833\n",
      " 0.01919835 0.01941579 0.01956436 0.01985447 0.02312685 0.02370743\n",
      " 0.0237306  0.0244662  0.02571022 0.0274341  0.02839209 0.02842716\n",
      " 0.02847257 0.02904554 0.02924772 0.02961155 0.02980783 0.0303058\n",
      " 0.03242997 0.03293501 0.03354321 0.0361407  0.03645978 0.03726467\n",
      " 0.03922616 0.03948374 0.039492   0.04212736 0.04236565 0.04276494\n",
      " 0.04434282 0.04439668 0.04500498 0.04712356 0.04714731 0.04768974\n",
      " 0.04896809 0.04974172 0.05001169 0.05036884 0.05312191 0.05420032\n",
      " 0.05421145 0.05457741 0.05653427 0.05686585 0.05696441 0.05720304\n",
      " 0.05751087 0.0575145  0.05814949 0.0584503  0.05912222 0.05945828\n",
      " 0.05953842 0.0599084  0.06282476 0.06310193 0.06625218 0.06687488\n",
      " 0.06923265 0.06956167 0.07077082 0.07097415]\n",
      "[0.01809232 0.01834243 0.02178969 0.02200956 0.02711789 0.02820842\n",
      " 0.02964003 0.03069987 0.03465497 0.03618948 0.04018895 0.04104066\n",
      " 0.04374049 0.04408337 0.04657359 0.04727937 0.04739134 0.04884367\n",
      " 0.05228157 0.05367159 0.05410493 0.05715348 0.05739876 0.061431\n",
      " 0.06159728 0.06604943 0.0663497  0.06888505 0.06938388 0.07488346\n",
      " 0.075253   0.07741644 0.07863083 0.08313159 0.08371259 0.08747069\n",
      " 0.08791427 0.08793769 0.08805024 0.08923959 0.08926807 0.0896157\n",
      " 0.0897802  0.09016128 0.09037782 0.09041309 0.09053217 0.09071815\n",
      " 0.0908386  0.09107733 0.0912811  0.09128588 0.0913645  0.09164313\n",
      " 0.09197088 0.09200825 0.09219707 0.09237451 0.09238009 0.09316232\n",
      " 0.09329955 0.09333192 0.09352534]\n",
      "[0.01556868 0.01560659 0.0160356  0.01613546 0.01628576 0.01630838\n",
      " 0.01711534 0.01718554 0.01761288 0.01762035 0.01809232 0.01834243\n",
      " 0.01892532 0.01911468 0.02054951 0.02081801 0.02178969 0.02200956\n",
      " 0.02217097 0.02243683 0.02386217 0.0243017  0.02441637 0.02449237\n",
      " 0.0245232  0.0245343  0.02490125 0.02491109 0.02531376 0.02556639\n",
      " 0.02646828 0.02650823 0.02662683 0.02681121 0.02683293 0.02702957\n",
      " 0.02711789 0.02732429 0.02747818 0.02787872 0.02789888 0.02820842\n",
      " 0.02865012 0.0287996  0.02964003 0.02982068 0.03002394 0.03069987\n",
      " 0.03255075 0.03292469 0.03465497 0.03618948 0.03682668 0.03685891\n",
      " 0.03935648 0.03969089 0.04018895 0.04104066 0.04235065 0.04247274\n",
      " 0.04339442 0.04408337 0.04427326 0.04474081]\n"
     ]
    }
   ],
   "source": [
    "# def find_the_first_and_last_stop()\n",
    "\n",
    "closest_stops = {}\n",
    "\n",
    "# from tracks_to_be_done get the stops for which we should find the closest stop\n",
    "for TrackId, v in track_predictions.items():\n",
    "    if (TrackId in tracks_to_be_done): # use only trackids that need to be solved\n",
    "        \n",
    "        # get the first and last snapshot:\n",
    "        first_snapshot = first_last_tracks[first_last_tracks['TrackId'] == TrackId].iloc[0]\n",
    "        last_snapshot = first_last_tracks[first_last_tracks['TrackId'] == TrackId].iloc[1]\n",
    "    \n",
    "        \n",
    "        list_of_potential_lines = [element[-1] for element in v] # get the lines for that track\n",
    "        \n",
    "        line_dic = []\n",
    "        \n",
    "        for line in list_of_potential_lines: #line=='049b'\n",
    "            if(int(line[:-1]) <100): # if its not a night bus\n",
    "\n",
    "                # now find the stop with the smallest distance\n",
    "                current_line = line_stops[line_stops.lineId == line] # '049b'stop_id ...\n",
    "                x2 = current_line['lat']\n",
    "                y2 = current_line['long']\n",
    "                \n",
    "                x1 = first_last_tracks.iloc[0]['lat']\n",
    "                y1 = first_last_tracks.iloc[0]['lon']\n",
    "                first = np.sqrt(np.array(((x1 - x2) ** 2 + (y1-y2) ** 2)))\n",
    "                first_argmin = first.argmin()\n",
    "                \n",
    "#                 print(np.sort(first))\n",
    "                \n",
    "                x1 = first_last_tracks.iloc[1]['lat']\n",
    "                y1 = first_last_tracks.iloc[1]['lon']\n",
    "                second = np.sqrt(np.array(((x1 - x2) ** 2 + (y1-y2) ** 2)))\n",
    "                second_argmin = second.argmin()\n",
    "                \n",
    "                hour = first_last_tracks[first_last_tracks['TrackId'] == TrackId].hour\n",
    "                line_dic.append({'first': current_line.iloc[first_argmin,:].values.tolist(),\n",
    "                                  'second': current_line.iloc[second_argmin,:].values.tolist(),\n",
    "                                    'hour': hour.values.tolist()})\n",
    "\n",
    "        closest_stops[TrackId] = line_dic\n",
    "#         break\n",
    "#     break\n",
    "        \n",
    "    # for each stop get all the stops and find the distance to the closest stop\n",
    "        # then return those stops and calculate the average speed"
   ]
  },
  {
   "cell_type": "code",
   "execution_count": 481,
   "metadata": {},
   "outputs": [
    {
     "data": {
      "text/plain": [
       "{}"
      ]
     },
     "execution_count": 481,
     "metadata": {},
     "output_type": "execute_result"
    }
   ],
   "source": []
  },
  {
   "cell_type": "code",
   "execution_count": 472,
   "metadata": {},
   "outputs": [
    {
     "data": {
      "text/html": [
       "<div>\n",
       "<style scoped>\n",
       "    .dataframe tbody tr th:only-of-type {\n",
       "        vertical-align: middle;\n",
       "    }\n",
       "\n",
       "    .dataframe tbody tr th {\n",
       "        vertical-align: top;\n",
       "    }\n",
       "\n",
       "    .dataframe thead th {\n",
       "        text-align: right;\n",
       "    }\n",
       "</style>\n",
       "<table border=\"1\" class=\"dataframe\">\n",
       "  <thead>\n",
       "    <tr style=\"text-align: right;\">\n",
       "      <th></th>\n",
       "      <th>LineId</th>\n",
       "      <th>FromStop</th>\n",
       "      <th>ToStop</th>\n",
       "      <th>0</th>\n",
       "      <th>1</th>\n",
       "      <th>2</th>\n",
       "      <th>3</th>\n",
       "      <th>4</th>\n",
       "      <th>5</th>\n",
       "      <th>6</th>\n",
       "      <th>...</th>\n",
       "      <th>15</th>\n",
       "      <th>16</th>\n",
       "      <th>17</th>\n",
       "      <th>18</th>\n",
       "      <th>19</th>\n",
       "      <th>20</th>\n",
       "      <th>21</th>\n",
       "      <th>22</th>\n",
       "      <th>23</th>\n",
       "      <th>Day</th>\n",
       "    </tr>\n",
       "  </thead>\n",
       "  <tbody>\n",
       "    <tr>\n",
       "      <th>785</th>\n",
       "      <td>82</td>\n",
       "      <td>6608</td>\n",
       "      <td>3228</td>\n",
       "      <td>81.34</td>\n",
       "      <td>0.0</td>\n",
       "      <td>0.0</td>\n",
       "      <td>0.0</td>\n",
       "      <td>0.0</td>\n",
       "      <td>89.93</td>\n",
       "      <td>90.16</td>\n",
       "      <td>...</td>\n",
       "      <td>96.71</td>\n",
       "      <td>117.85</td>\n",
       "      <td>104.8</td>\n",
       "      <td>108.68</td>\n",
       "      <td>90.31</td>\n",
       "      <td>94.68</td>\n",
       "      <td>82.52</td>\n",
       "      <td>85.4</td>\n",
       "      <td>89.62</td>\n",
       "      <td>NaN</td>\n",
       "    </tr>\n",
       "  </tbody>\n",
       "</table>\n",
       "<p>1 rows × 28 columns</p>\n",
       "</div>"
      ],
      "text/plain": [
       "     LineId  FromStop  ToStop      0    1    2    3    4      5      6  ...  \\\n",
       "785      82      6608    3228  81.34  0.0  0.0  0.0  0.0  89.93  90.16  ...   \n",
       "\n",
       "        15      16     17      18     19     20     21    22     23  Day  \n",
       "785  96.71  117.85  104.8  108.68  90.31  94.68  82.52  85.4  89.62  NaN  \n",
       "\n",
       "[1 rows x 28 columns]"
      ]
     },
     "execution_count": 472,
     "metadata": {},
     "output_type": "execute_result"
    }
   ],
   "source": [
    "fourtynine = stop_speed[stop_speed['LineId'] == 82]\n",
    "fourtynine[fourtynine['FromStop']==6608]"
   ]
  },
  {
   "cell_type": "code",
   "execution_count": 465,
   "metadata": {},
   "outputs": [
    {
     "name": "stdout",
     "output_type": "stream",
     "text": [
      "49 2500 2531 29 1\n",
      "50 2500 2531 25 1\n",
      "82 6608 2401 24 23\n",
      "97 6361 6361 29 29\n",
      "82 6608 2401 24 23\n",
      "8 6361 6361 32 32\n",
      "93 6353 6311 9 23\n"
     ]
    }
   ],
   "source": [
    "# then return those stops and calculate the average speed\n",
    "for k,v in closest_stops.items():\n",
    "    for line in v:\n",
    "        int_line = int(line['first'][0][:-1])\n",
    "        first_stop = line['first'][1]\n",
    "        second_stop = line['second'][1]\n",
    "        first_order = line['first'][-1]\n",
    "        second_order = line['second'][-1]\n",
    "        first_hour = line['hour'][0]\n",
    "        second_hour = line['hour'][1]\n",
    "        \n",
    "        print(int_line,first_stop, second_stop, first_order, second_order)\n",
    "        \n",
    "#         get_sequence_between_stops\n",
    "#         break\n",
    "#     break"
   ]
  },
  {
   "cell_type": "code",
   "execution_count": 442,
   "metadata": {},
   "outputs": [
    {
     "data": {
      "text/html": [
       "<div>\n",
       "<style scoped>\n",
       "    .dataframe tbody tr th:only-of-type {\n",
       "        vertical-align: middle;\n",
       "    }\n",
       "\n",
       "    .dataframe tbody tr th {\n",
       "        vertical-align: top;\n",
       "    }\n",
       "\n",
       "    .dataframe thead th {\n",
       "        text-align: right;\n",
       "    }\n",
       "</style>\n",
       "<table border=\"1\" class=\"dataframe\">\n",
       "  <thead>\n",
       "    <tr style=\"text-align: right;\">\n",
       "      <th></th>\n",
       "      <th>lineId</th>\n",
       "      <th>stop_id_int</th>\n",
       "      <th>lat</th>\n",
       "      <th>long</th>\n",
       "      <th>order</th>\n",
       "    </tr>\n",
       "  </thead>\n",
       "  <tbody>\n",
       "    <tr>\n",
       "      <th>1599</th>\n",
       "      <td>049b</td>\n",
       "      <td>2531</td>\n",
       "      <td>50.836335</td>\n",
       "      <td>4.337833</td>\n",
       "      <td>1</td>\n",
       "    </tr>\n",
       "    <tr>\n",
       "      <th>1600</th>\n",
       "      <td>049b</td>\n",
       "      <td>2539</td>\n",
       "      <td>50.834096</td>\n",
       "      <td>4.335818</td>\n",
       "      <td>2</td>\n",
       "    </tr>\n",
       "    <tr>\n",
       "      <th>1601</th>\n",
       "      <td>049b</td>\n",
       "      <td>2544</td>\n",
       "      <td>50.831389</td>\n",
       "      <td>4.332229</td>\n",
       "      <td>3</td>\n",
       "    </tr>\n",
       "    <tr>\n",
       "      <th>1602</th>\n",
       "      <td>049b</td>\n",
       "      <td>2548</td>\n",
       "      <td>50.828952</td>\n",
       "      <td>4.329179</td>\n",
       "      <td>4</td>\n",
       "    </tr>\n",
       "    <tr>\n",
       "      <th>1603</th>\n",
       "      <td>049b</td>\n",
       "      <td>2553</td>\n",
       "      <td>50.827135</td>\n",
       "      <td>4.327179</td>\n",
       "      <td>5</td>\n",
       "    </tr>\n",
       "    <tr>\n",
       "      <th>1604</th>\n",
       "      <td>049b</td>\n",
       "      <td>2546</td>\n",
       "      <td>50.824159</td>\n",
       "      <td>4.325394</td>\n",
       "      <td>6</td>\n",
       "    </tr>\n",
       "    <tr>\n",
       "      <th>1605</th>\n",
       "      <td>049b</td>\n",
       "      <td>2551</td>\n",
       "      <td>50.822171</td>\n",
       "      <td>4.321734</td>\n",
       "      <td>7</td>\n",
       "    </tr>\n",
       "    <tr>\n",
       "      <th>1606</th>\n",
       "      <td>049b</td>\n",
       "      <td>2556</td>\n",
       "      <td>50.823497</td>\n",
       "      <td>4.316113</td>\n",
       "      <td>8</td>\n",
       "    </tr>\n",
       "    <tr>\n",
       "      <th>1607</th>\n",
       "      <td>049b</td>\n",
       "      <td>3681</td>\n",
       "      <td>50.823973</td>\n",
       "      <td>4.310747</td>\n",
       "      <td>9</td>\n",
       "    </tr>\n",
       "    <tr>\n",
       "      <th>1608</th>\n",
       "      <td>049b</td>\n",
       "      <td>2550</td>\n",
       "      <td>50.827044</td>\n",
       "      <td>4.305009</td>\n",
       "      <td>10</td>\n",
       "    </tr>\n",
       "    <tr>\n",
       "      <th>1609</th>\n",
       "      <td>049b</td>\n",
       "      <td>2252</td>\n",
       "      <td>50.828949</td>\n",
       "      <td>4.302693</td>\n",
       "      <td>11</td>\n",
       "    </tr>\n",
       "    <tr>\n",
       "      <th>1610</th>\n",
       "      <td>049b</td>\n",
       "      <td>6483</td>\n",
       "      <td>50.830337</td>\n",
       "      <td>4.301111</td>\n",
       "      <td>12</td>\n",
       "    </tr>\n",
       "    <tr>\n",
       "      <th>1611</th>\n",
       "      <td>049b</td>\n",
       "      <td>2254</td>\n",
       "      <td>50.832176</td>\n",
       "      <td>4.302036</td>\n",
       "      <td>13</td>\n",
       "    </tr>\n",
       "    <tr>\n",
       "      <th>1612</th>\n",
       "      <td>049b</td>\n",
       "      <td>2256</td>\n",
       "      <td>50.834812</td>\n",
       "      <td>4.306674</td>\n",
       "      <td>14</td>\n",
       "    </tr>\n",
       "    <tr>\n",
       "      <th>1613</th>\n",
       "      <td>049b</td>\n",
       "      <td>2562</td>\n",
       "      <td>50.837258</td>\n",
       "      <td>4.307423</td>\n",
       "      <td>15</td>\n",
       "    </tr>\n",
       "    <tr>\n",
       "      <th>1614</th>\n",
       "      <td>049b</td>\n",
       "      <td>2560</td>\n",
       "      <td>50.839235</td>\n",
       "      <td>4.306881</td>\n",
       "      <td>16</td>\n",
       "    </tr>\n",
       "    <tr>\n",
       "      <th>1615</th>\n",
       "      <td>049b</td>\n",
       "      <td>2561</td>\n",
       "      <td>50.841903</td>\n",
       "      <td>4.303243</td>\n",
       "      <td>17</td>\n",
       "    </tr>\n",
       "    <tr>\n",
       "      <th>1616</th>\n",
       "      <td>049b</td>\n",
       "      <td>1257</td>\n",
       "      <td>50.843753</td>\n",
       "      <td>4.300032</td>\n",
       "      <td>18</td>\n",
       "    </tr>\n",
       "    <tr>\n",
       "      <th>1617</th>\n",
       "      <td>049b</td>\n",
       "      <td>2579</td>\n",
       "      <td>50.844272</td>\n",
       "      <td>4.296382</td>\n",
       "      <td>19</td>\n",
       "    </tr>\n",
       "    <tr>\n",
       "      <th>1618</th>\n",
       "      <td>049b</td>\n",
       "      <td>2564</td>\n",
       "      <td>50.847402</td>\n",
       "      <td>4.299103</td>\n",
       "      <td>20</td>\n",
       "    </tr>\n",
       "    <tr>\n",
       "      <th>1619</th>\n",
       "      <td>049b</td>\n",
       "      <td>2565</td>\n",
       "      <td>50.851655</td>\n",
       "      <td>4.300702</td>\n",
       "      <td>21</td>\n",
       "    </tr>\n",
       "    <tr>\n",
       "      <th>1620</th>\n",
       "      <td>049b</td>\n",
       "      <td>2566</td>\n",
       "      <td>50.855561</td>\n",
       "      <td>4.307349</td>\n",
       "      <td>22</td>\n",
       "    </tr>\n",
       "    <tr>\n",
       "      <th>1621</th>\n",
       "      <td>049b</td>\n",
       "      <td>2567</td>\n",
       "      <td>50.856901</td>\n",
       "      <td>4.309400</td>\n",
       "      <td>23</td>\n",
       "    </tr>\n",
       "    <tr>\n",
       "      <th>1622</th>\n",
       "      <td>049b</td>\n",
       "      <td>2568</td>\n",
       "      <td>50.858682</td>\n",
       "      <td>4.311784</td>\n",
       "      <td>24</td>\n",
       "    </tr>\n",
       "    <tr>\n",
       "      <th>1623</th>\n",
       "      <td>049b</td>\n",
       "      <td>1097</td>\n",
       "      <td>50.861273</td>\n",
       "      <td>4.315886</td>\n",
       "      <td>25</td>\n",
       "    </tr>\n",
       "    <tr>\n",
       "      <th>1624</th>\n",
       "      <td>049b</td>\n",
       "      <td>1098</td>\n",
       "      <td>50.861842</td>\n",
       "      <td>4.322192</td>\n",
       "      <td>26</td>\n",
       "    </tr>\n",
       "    <tr>\n",
       "      <th>1625</th>\n",
       "      <td>049b</td>\n",
       "      <td>1172</td>\n",
       "      <td>50.862688</td>\n",
       "      <td>4.326239</td>\n",
       "      <td>27</td>\n",
       "    </tr>\n",
       "    <tr>\n",
       "      <th>1626</th>\n",
       "      <td>049b</td>\n",
       "      <td>1286</td>\n",
       "      <td>50.863005</td>\n",
       "      <td>4.330789</td>\n",
       "      <td>28</td>\n",
       "    </tr>\n",
       "    <tr>\n",
       "      <th>1627</th>\n",
       "      <td>049b</td>\n",
       "      <td>1288</td>\n",
       "      <td>50.863301</td>\n",
       "      <td>4.330614</td>\n",
       "      <td>29</td>\n",
       "    </tr>\n",
       "    <tr>\n",
       "      <th>1628</th>\n",
       "      <td>049b</td>\n",
       "      <td>1288</td>\n",
       "      <td>50.863301</td>\n",
       "      <td>4.330614</td>\n",
       "      <td>1</td>\n",
       "    </tr>\n",
       "    <tr>\n",
       "      <th>1629</th>\n",
       "      <td>049b</td>\n",
       "      <td>1184</td>\n",
       "      <td>50.862752</td>\n",
       "      <td>4.325697</td>\n",
       "      <td>2</td>\n",
       "    </tr>\n",
       "    <tr>\n",
       "      <th>1630</th>\n",
       "      <td>049b</td>\n",
       "      <td>1182</td>\n",
       "      <td>50.861968</td>\n",
       "      <td>4.321936</td>\n",
       "      <td>3</td>\n",
       "    </tr>\n",
       "    <tr>\n",
       "      <th>1631</th>\n",
       "      <td>049b</td>\n",
       "      <td>1197</td>\n",
       "      <td>50.861354</td>\n",
       "      <td>4.316156</td>\n",
       "      <td>4</td>\n",
       "    </tr>\n",
       "    <tr>\n",
       "      <th>1632</th>\n",
       "      <td>049b</td>\n",
       "      <td>2511</td>\n",
       "      <td>50.858628</td>\n",
       "      <td>4.311245</td>\n",
       "      <td>5</td>\n",
       "    </tr>\n",
       "    <tr>\n",
       "      <th>1633</th>\n",
       "      <td>049b</td>\n",
       "      <td>2512</td>\n",
       "      <td>50.856955</td>\n",
       "      <td>4.308918</td>\n",
       "      <td>6</td>\n",
       "    </tr>\n",
       "    <tr>\n",
       "      <th>1634</th>\n",
       "      <td>049b</td>\n",
       "      <td>2513</td>\n",
       "      <td>50.854993</td>\n",
       "      <td>4.306065</td>\n",
       "      <td>7</td>\n",
       "    </tr>\n",
       "    <tr>\n",
       "      <th>1635</th>\n",
       "      <td>049b</td>\n",
       "      <td>2514</td>\n",
       "      <td>50.851754</td>\n",
       "      <td>4.300460</td>\n",
       "      <td>8</td>\n",
       "    </tr>\n",
       "    <tr>\n",
       "      <th>1636</th>\n",
       "      <td>049b</td>\n",
       "      <td>2522</td>\n",
       "      <td>50.846278</td>\n",
       "      <td>4.298367</td>\n",
       "      <td>9</td>\n",
       "    </tr>\n",
       "    <tr>\n",
       "      <th>1637</th>\n",
       "      <td>049b</td>\n",
       "      <td>2536</td>\n",
       "      <td>50.843418</td>\n",
       "      <td>4.295787</td>\n",
       "      <td>10</td>\n",
       "    </tr>\n",
       "    <tr>\n",
       "      <th>1638</th>\n",
       "      <td>049b</td>\n",
       "      <td>1207</td>\n",
       "      <td>50.843475</td>\n",
       "      <td>4.300486</td>\n",
       "      <td>11</td>\n",
       "    </tr>\n",
       "    <tr>\n",
       "      <th>1639</th>\n",
       "      <td>049b</td>\n",
       "      <td>2532</td>\n",
       "      <td>50.841454</td>\n",
       "      <td>4.303457</td>\n",
       "      <td>12</td>\n",
       "    </tr>\n",
       "    <tr>\n",
       "      <th>1640</th>\n",
       "      <td>049b</td>\n",
       "      <td>2533</td>\n",
       "      <td>50.839594</td>\n",
       "      <td>4.306100</td>\n",
       "      <td>13</td>\n",
       "    </tr>\n",
       "    <tr>\n",
       "      <th>1641</th>\n",
       "      <td>049b</td>\n",
       "      <td>2534</td>\n",
       "      <td>50.838895</td>\n",
       "      <td>4.309863</td>\n",
       "      <td>14</td>\n",
       "    </tr>\n",
       "    <tr>\n",
       "      <th>1642</th>\n",
       "      <td>049b</td>\n",
       "      <td>3709</td>\n",
       "      <td>50.836280</td>\n",
       "      <td>4.311485</td>\n",
       "      <td>15</td>\n",
       "    </tr>\n",
       "    <tr>\n",
       "      <th>1643</th>\n",
       "      <td>049b</td>\n",
       "      <td>2535</td>\n",
       "      <td>50.834614</td>\n",
       "      <td>4.305255</td>\n",
       "      <td>16</td>\n",
       "    </tr>\n",
       "    <tr>\n",
       "      <th>1644</th>\n",
       "      <td>049b</td>\n",
       "      <td>2323</td>\n",
       "      <td>50.833030</td>\n",
       "      <td>4.302815</td>\n",
       "      <td>17</td>\n",
       "    </tr>\n",
       "    <tr>\n",
       "      <th>1645</th>\n",
       "      <td>049b</td>\n",
       "      <td>6484</td>\n",
       "      <td>50.829745</td>\n",
       "      <td>4.300692</td>\n",
       "      <td>18</td>\n",
       "    </tr>\n",
       "    <tr>\n",
       "      <th>1646</th>\n",
       "      <td>049b</td>\n",
       "      <td>2225</td>\n",
       "      <td>50.828805</td>\n",
       "      <td>4.303346</td>\n",
       "      <td>19</td>\n",
       "    </tr>\n",
       "    <tr>\n",
       "      <th>1647</th>\n",
       "      <td>049b</td>\n",
       "      <td>2226</td>\n",
       "      <td>50.826586</td>\n",
       "      <td>4.304877</td>\n",
       "      <td>20</td>\n",
       "    </tr>\n",
       "    <tr>\n",
       "      <th>1648</th>\n",
       "      <td>049b</td>\n",
       "      <td>3682</td>\n",
       "      <td>50.823802</td>\n",
       "      <td>4.310464</td>\n",
       "      <td>21</td>\n",
       "    </tr>\n",
       "    <tr>\n",
       "      <th>1649</th>\n",
       "      <td>049b</td>\n",
       "      <td>2523</td>\n",
       "      <td>50.823274</td>\n",
       "      <td>4.316581</td>\n",
       "      <td>22</td>\n",
       "    </tr>\n",
       "    <tr>\n",
       "      <th>1650</th>\n",
       "      <td>049b</td>\n",
       "      <td>2524</td>\n",
       "      <td>50.822306</td>\n",
       "      <td>4.322642</td>\n",
       "      <td>23</td>\n",
       "    </tr>\n",
       "    <tr>\n",
       "      <th>1651</th>\n",
       "      <td>049b</td>\n",
       "      <td>5159</td>\n",
       "      <td>50.824878</td>\n",
       "      <td>4.326330</td>\n",
       "      <td>24</td>\n",
       "    </tr>\n",
       "    <tr>\n",
       "      <th>1652</th>\n",
       "      <td>049b</td>\n",
       "      <td>5757</td>\n",
       "      <td>50.827270</td>\n",
       "      <td>4.327492</td>\n",
       "      <td>25</td>\n",
       "    </tr>\n",
       "    <tr>\n",
       "      <th>1653</th>\n",
       "      <td>049b</td>\n",
       "      <td>2672</td>\n",
       "      <td>50.830004</td>\n",
       "      <td>4.330725</td>\n",
       "      <td>26</td>\n",
       "    </tr>\n",
       "    <tr>\n",
       "      <th>1654</th>\n",
       "      <td>049b</td>\n",
       "      <td>2670</td>\n",
       "      <td>50.831686</td>\n",
       "      <td>4.332853</td>\n",
       "      <td>27</td>\n",
       "    </tr>\n",
       "    <tr>\n",
       "      <th>1655</th>\n",
       "      <td>049b</td>\n",
       "      <td>2671</td>\n",
       "      <td>50.834213</td>\n",
       "      <td>4.336102</td>\n",
       "      <td>28</td>\n",
       "    </tr>\n",
       "    <tr>\n",
       "      <th>1656</th>\n",
       "      <td>049b</td>\n",
       "      <td>2500</td>\n",
       "      <td>50.836874</td>\n",
       "      <td>4.337165</td>\n",
       "      <td>29</td>\n",
       "    </tr>\n",
       "  </tbody>\n",
       "</table>\n",
       "</div>"
      ],
      "text/plain": [
       "     lineId  stop_id_int        lat      long  order\n",
       "1599   049b         2531  50.836335  4.337833      1\n",
       "1600   049b         2539  50.834096  4.335818      2\n",
       "1601   049b         2544  50.831389  4.332229      3\n",
       "1602   049b         2548  50.828952  4.329179      4\n",
       "1603   049b         2553  50.827135  4.327179      5\n",
       "1604   049b         2546  50.824159  4.325394      6\n",
       "1605   049b         2551  50.822171  4.321734      7\n",
       "1606   049b         2556  50.823497  4.316113      8\n",
       "1607   049b         3681  50.823973  4.310747      9\n",
       "1608   049b         2550  50.827044  4.305009     10\n",
       "1609   049b         2252  50.828949  4.302693     11\n",
       "1610   049b         6483  50.830337  4.301111     12\n",
       "1611   049b         2254  50.832176  4.302036     13\n",
       "1612   049b         2256  50.834812  4.306674     14\n",
       "1613   049b         2562  50.837258  4.307423     15\n",
       "1614   049b         2560  50.839235  4.306881     16\n",
       "1615   049b         2561  50.841903  4.303243     17\n",
       "1616   049b         1257  50.843753  4.300032     18\n",
       "1617   049b         2579  50.844272  4.296382     19\n",
       "1618   049b         2564  50.847402  4.299103     20\n",
       "1619   049b         2565  50.851655  4.300702     21\n",
       "1620   049b         2566  50.855561  4.307349     22\n",
       "1621   049b         2567  50.856901  4.309400     23\n",
       "1622   049b         2568  50.858682  4.311784     24\n",
       "1623   049b         1097  50.861273  4.315886     25\n",
       "1624   049b         1098  50.861842  4.322192     26\n",
       "1625   049b         1172  50.862688  4.326239     27\n",
       "1626   049b         1286  50.863005  4.330789     28\n",
       "1627   049b         1288  50.863301  4.330614     29\n",
       "1628   049b         1288  50.863301  4.330614      1\n",
       "1629   049b         1184  50.862752  4.325697      2\n",
       "1630   049b         1182  50.861968  4.321936      3\n",
       "1631   049b         1197  50.861354  4.316156      4\n",
       "1632   049b         2511  50.858628  4.311245      5\n",
       "1633   049b         2512  50.856955  4.308918      6\n",
       "1634   049b         2513  50.854993  4.306065      7\n",
       "1635   049b         2514  50.851754  4.300460      8\n",
       "1636   049b         2522  50.846278  4.298367      9\n",
       "1637   049b         2536  50.843418  4.295787     10\n",
       "1638   049b         1207  50.843475  4.300486     11\n",
       "1639   049b         2532  50.841454  4.303457     12\n",
       "1640   049b         2533  50.839594  4.306100     13\n",
       "1641   049b         2534  50.838895  4.309863     14\n",
       "1642   049b         3709  50.836280  4.311485     15\n",
       "1643   049b         2535  50.834614  4.305255     16\n",
       "1644   049b         2323  50.833030  4.302815     17\n",
       "1645   049b         6484  50.829745  4.300692     18\n",
       "1646   049b         2225  50.828805  4.303346     19\n",
       "1647   049b         2226  50.826586  4.304877     20\n",
       "1648   049b         3682  50.823802  4.310464     21\n",
       "1649   049b         2523  50.823274  4.316581     22\n",
       "1650   049b         2524  50.822306  4.322642     23\n",
       "1651   049b         5159  50.824878  4.326330     24\n",
       "1652   049b         5757  50.827270  4.327492     25\n",
       "1653   049b         2672  50.830004  4.330725     26\n",
       "1654   049b         2670  50.831686  4.332853     27\n",
       "1655   049b         2671  50.834213  4.336102     28\n",
       "1656   049b         2500  50.836874  4.337165     29"
      ]
     },
     "execution_count": 442,
     "metadata": {},
     "output_type": "execute_result"
    }
   ],
   "source": [
    "line_stops[line_stops['lineId'] == '049b']"
   ]
  },
  {
   "cell_type": "code",
   "execution_count": null,
   "metadata": {},
   "outputs": [],
   "source": []
  }
 ],
 "metadata": {
  "kernelspec": {
   "display_name": "Python 3 (ipykernel)",
   "language": "python",
   "name": "python3"
  },
  "language_info": {
   "codemirror_mode": {
    "name": "ipython",
    "version": 3
   },
   "file_extension": ".py",
   "mimetype": "text/x-python",
   "name": "python",
   "nbconvert_exporter": "python",
   "pygments_lexer": "ipython3",
   "version": "3.8.10"
  }
 },
 "nbformat": 4,
 "nbformat_minor": 1
}
