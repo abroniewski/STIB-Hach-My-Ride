{
 "cells": [
  {
   "cell_type": "markdown",
   "source": [
    "# Visualizations\n",
    "## Preparing Data for Kepler.gl"
   ],
   "metadata": {
    "collapsed": false,
    "pycharm": {
     "name": "#%% md\n"
    }
   }
  },
  {
   "cell_type": "markdown",
   "source": [
    "# What are we looking to accomplish?\n",
    "\n",
    "Here we will transform our speed and delays data into a format that can be consumed by the **kepler.gl** tool. Data that is deemed important to include for visualization or filtering is all included and merged."
   ],
   "metadata": {
    "collapsed": false
   }
  },
  {
   "cell_type": "code",
   "execution_count": 1,
   "outputs": [],
   "source": [
    "import pandas as pd\n",
    "import re\n",
    "import numpy as np\n",
    "from keplergl import KeplerGl"
   ],
   "metadata": {
    "collapsed": false,
    "pycharm": {
     "name": "#%%\n"
    }
   }
  },
  {
   "cell_type": "code",
   "execution_count": 2,
   "id": "c7d7f346",
   "metadata": {
    "scrolled": false
   },
   "outputs": [
    {
     "data": {
      "text/plain": [
       "2842"
      ]
     },
     "execution_count": 2,
     "metadata": {},
     "output_type": "execute_result"
    }
   ],
   "source": [
    "# Cleaning the stops from letters and zeros\n",
    "stops = pd.read_csv('../data/raw/gtfs/stops.txt')\n",
    "stops = stops.drop(columns=['stop_code', 'stop_desc','zone_id','stop_url', 'location_type', 'parent_station'])\n",
    "stops = stops # remove the .copy() if you want the change to be made in stops, or do it directly there\n",
    "stops['stop_id'] = stops['stop_id'].map(lambda x: int(re.sub('[^0-9]', '', x))) # clean the letters and zeros\n",
    "stops = stops.drop_duplicates(subset=['stop_id'], keep='first') # remove the duplicates\n",
    "len(stops)"
   ]
  },
  {
   "cell_type": "code",
   "execution_count": 3,
   "id": "f80ea66e",
   "metadata": {
    "scrolled": false
   },
   "outputs": [
    {
     "data": {
      "text/plain": [
       "3596"
      ]
     },
     "execution_count": 3,
     "metadata": {},
     "output_type": "execute_result"
    }
   ],
   "source": [
    "line_stops = pd.read_csv('../data/processed/assignment1/line_stops.csv')\n",
    "# Extracting the information we need from line_stops\n",
    "line_stops = line_stops[['lineId','direction', 'name_ascii', 'stop_id_int','order', 'lat', 'long']]\n",
    "line_stops['type'] = line_stops['lineId'].apply(lambda x: str(x[-1])) # getting the type m/b/t \n",
    "line_stops['lineId'] = line_stops['lineId'].apply(lambda x: int(x[:-1])) # lineId number\n",
    "line_stops = line_stops.drop(line_stops[line_stops.lineId >= 100].index) # dropping the night buses\n",
    "line_stops = line_stops.drop_duplicates(subset=['lineId', 'direction', 'stop_id_int','order'])\n",
    "len(line_stops)"
   ]
  },
  {
   "cell_type": "markdown",
   "id": "78b9edcd",
   "metadata": {},
   "source": [
    "# Speed - Assignment 1\n"
   ]
  },
  {
   "cell_type": "code",
   "execution_count": 24,
   "id": "456b5261",
   "metadata": {},
   "outputs": [
    {
     "data": {
      "text/html": [
       "<div>\n",
       "<style scoped>\n",
       "    .dataframe tbody tr th:only-of-type {\n",
       "        vertical-align: middle;\n",
       "    }\n",
       "\n",
       "    .dataframe tbody tr th {\n",
       "        vertical-align: top;\n",
       "    }\n",
       "\n",
       "    .dataframe thead th {\n",
       "        text-align: right;\n",
       "    }\n",
       "</style>\n",
       "<table border=\"1\" class=\"dataframe\">\n",
       "  <thead>\n",
       "    <tr style=\"text-align: right;\">\n",
       "      <th></th>\n",
       "      <th>LineId</th>\n",
       "      <th>FromStop</th>\n",
       "      <th>ToStop</th>\n",
       "      <th>Day</th>\n",
       "      <th>LineIdFormatted</th>\n",
       "      <th>LineId_GeoMerge</th>\n",
       "      <th>Type</th>\n",
       "      <th>Direction</th>\n",
       "      <th>fromIndex</th>\n",
       "      <th>toIndex</th>\n",
       "      <th>FromStop_lat</th>\n",
       "      <th>FromStop_lon</th>\n",
       "      <th>ToStop_lat</th>\n",
       "      <th>ToStop_lon</th>\n",
       "      <th>geojson</th>\n",
       "      <th>hour</th>\n",
       "      <th>speed</th>\n",
       "    </tr>\n",
       "  </thead>\n",
       "  <tbody>\n",
       "    <tr>\n",
       "      <th>0</th>\n",
       "      <td>37</td>\n",
       "      <td>2957</td>\n",
       "      <td>5810</td>\n",
       "      <td>NaN</td>\n",
       "      <td>line37</td>\n",
       "      <td>037b-1</td>\n",
       "      <td>b</td>\n",
       "      <td>1.0</td>\n",
       "      <td>49.0</td>\n",
       "      <td>57.0</td>\n",
       "      <td>50.821413</td>\n",
       "      <td>4.341859</td>\n",
       "      <td>50.818572</td>\n",
       "      <td>4.340952</td>\n",
       "      <td>{'type': 'FeatureCollection', 'features': [{'t...</td>\n",
       "      <td>00:00</td>\n",
       "      <td>14.936818</td>\n",
       "    </tr>\n",
       "  </tbody>\n",
       "</table>\n",
       "</div>"
      ],
      "text/plain": [
       "   LineId  FromStop  ToStop  Day LineIdFormatted LineId_GeoMerge Type  \\\n",
       "0      37      2957    5810  NaN          line37          037b-1    b   \n",
       "\n",
       "   Direction  fromIndex  toIndex  FromStop_lat  FromStop_lon  ToStop_lat  \\\n",
       "0        1.0       49.0     57.0     50.821413      4.341859   50.818572   \n",
       "\n",
       "   ToStop_lon                                            geojson   hour  \\\n",
       "0    4.340952  {'type': 'FeatureCollection', 'features': [{'t...  00:00   \n",
       "\n",
       "       speed  \n",
       "0  14.936818  "
      ]
     },
     "execution_count": 24,
     "metadata": {},
     "output_type": "execute_result"
    }
   ],
   "source": [
    "vehicle_speed_path = '../data/processed/assignment1/vehicleSpeedReformatted.csv'\n",
    "vehicle_speed = pd.read_csv(vehicle_speed_path)\n",
    "vehicle_speed.head(1)"
   ]
  },
  {
   "cell_type": "code",
   "execution_count": 25,
   "id": "6822515b",
   "metadata": {
    "scrolled": false
   },
   "outputs": [
    {
     "data": {
      "text/html": [
       "<div>\n",
       "<style scoped>\n",
       "    .dataframe tbody tr th:only-of-type {\n",
       "        vertical-align: middle;\n",
       "    }\n",
       "\n",
       "    .dataframe tbody tr th {\n",
       "        vertical-align: top;\n",
       "    }\n",
       "\n",
       "    .dataframe thead th {\n",
       "        text-align: right;\n",
       "    }\n",
       "</style>\n",
       "<table border=\"1\" class=\"dataframe\">\n",
       "  <thead>\n",
       "    <tr style=\"text-align: right;\">\n",
       "      <th></th>\n",
       "      <th>LineId</th>\n",
       "      <th>FromStop</th>\n",
       "      <th>ToStop</th>\n",
       "      <th>Direction</th>\n",
       "      <th>hour</th>\n",
       "      <th>speed</th>\n",
       "      <th>geojson</th>\n",
       "      <th>FromStop_lat</th>\n",
       "      <th>FromStop_lon</th>\n",
       "      <th>ToStop_lat</th>\n",
       "      <th>ToStop_lon</th>\n",
       "    </tr>\n",
       "  </thead>\n",
       "  <tbody>\n",
       "    <tr>\n",
       "      <th>0</th>\n",
       "      <td>37</td>\n",
       "      <td>2957</td>\n",
       "      <td>5810</td>\n",
       "      <td>1</td>\n",
       "      <td>00:00</td>\n",
       "      <td>14.936818</td>\n",
       "      <td>{'type': 'FeatureCollection', 'features': [{'t...</td>\n",
       "      <td>50.821413</td>\n",
       "      <td>4.341859</td>\n",
       "      <td>50.818572</td>\n",
       "      <td>4.340952</td>\n",
       "    </tr>\n",
       "    <tr>\n",
       "      <th>5</th>\n",
       "      <td>37</td>\n",
       "      <td>2957</td>\n",
       "      <td>5810</td>\n",
       "      <td>1</td>\n",
       "      <td>05:00</td>\n",
       "      <td>2.299439</td>\n",
       "      <td>{'type': 'FeatureCollection', 'features': [{'t...</td>\n",
       "      <td>50.821413</td>\n",
       "      <td>4.341859</td>\n",
       "      <td>50.818572</td>\n",
       "      <td>4.340952</td>\n",
       "    </tr>\n",
       "  </tbody>\n",
       "</table>\n",
       "</div>"
      ],
      "text/plain": [
       "   LineId  FromStop  ToStop  Direction   hour      speed  \\\n",
       "0      37      2957    5810          1  00:00  14.936818   \n",
       "5      37      2957    5810          1  05:00   2.299439   \n",
       "\n",
       "                                             geojson  FromStop_lat  \\\n",
       "0  {'type': 'FeatureCollection', 'features': [{'t...     50.821413   \n",
       "5  {'type': 'FeatureCollection', 'features': [{'t...     50.821413   \n",
       "\n",
       "   FromStop_lon  ToStop_lat  ToStop_lon  \n",
       "0      4.341859   50.818572    4.340952  \n",
       "5      4.341859   50.818572    4.340952  "
      ]
     },
     "execution_count": 25,
     "metadata": {},
     "output_type": "execute_result"
    }
   ],
   "source": [
    "# vehicle_speed = vehicle_speed[['LineId', 'Type', 'FromStop', 'ToStop', 'Direction', 'hour', 'speed', 'geojson']]\n",
    "vehicle_speed = vehicle_speed[['LineId', 'FromStop', 'ToStop', 'Direction', 'hour', 'speed', 'geojson','FromStop_lat','FromStop_lon','ToStop_lat','ToStop_lon']]\n",
    "\n",
    "# Remove the inf values - we drop like 20k values\n",
    "vehicle_speed = vehicle_speed.replace([np.inf], np.nan)\n",
    "vehicle_speed = vehicle_speed.dropna() \n",
    "\n",
    "vehicle_speed = vehicle_speed.astype({'Direction': int})\n",
    "vehicle_speed.head(2)"
   ]
  },
  {
   "cell_type": "markdown",
   "id": "20976934",
   "metadata": {},
   "source": [
    "# Delays - Assignment 2"
   ]
  },
  {
   "cell_type": "code",
   "execution_count": 27,
   "id": "17f8011f",
   "metadata": {},
   "outputs": [
    {
     "data": {
      "text/html": [
       "<div>\n",
       "<style scoped>\n",
       "    .dataframe tbody tr th:only-of-type {\n",
       "        vertical-align: middle;\n",
       "    }\n",
       "\n",
       "    .dataframe tbody tr th {\n",
       "        vertical-align: top;\n",
       "    }\n",
       "\n",
       "    .dataframe thead th {\n",
       "        text-align: right;\n",
       "    }\n",
       "</style>\n",
       "<table border=\"1\" class=\"dataframe\">\n",
       "  <thead>\n",
       "    <tr style=\"text-align: right;\">\n",
       "      <th></th>\n",
       "      <th>Timestamp</th>\n",
       "      <th>LineId</th>\n",
       "      <th>TerminusStop</th>\n",
       "      <th>CurrentStop</th>\n",
       "      <th>Date</th>\n",
       "      <th>Hour</th>\n",
       "      <th>Day</th>\n",
       "      <th>Delay</th>\n",
       "      <th>ExpectedArrivalTime</th>\n",
       "      <th>Time</th>\n",
       "    </tr>\n",
       "  </thead>\n",
       "  <tbody>\n",
       "    <tr>\n",
       "      <th>0</th>\n",
       "      <td>1630915041551</td>\n",
       "      <td>2</td>\n",
       "      <td>8472</td>\n",
       "      <td>8382</td>\n",
       "      <td>20210906</td>\n",
       "      <td>07:57:21</td>\n",
       "      <td>0</td>\n",
       "      <td>129</td>\n",
       "      <td>07:55:12</td>\n",
       "      <td>07:00</td>\n",
       "    </tr>\n",
       "    <tr>\n",
       "      <th>1</th>\n",
       "      <td>1630915074628</td>\n",
       "      <td>2</td>\n",
       "      <td>8472</td>\n",
       "      <td>8763</td>\n",
       "      <td>20210906</td>\n",
       "      <td>07:57:54</td>\n",
       "      <td>0</td>\n",
       "      <td>49</td>\n",
       "      <td>07:57:05</td>\n",
       "      <td>07:00</td>\n",
       "    </tr>\n",
       "    <tr>\n",
       "      <th>2</th>\n",
       "      <td>1630915106373</td>\n",
       "      <td>2</td>\n",
       "      <td>8472</td>\n",
       "      <td>8372</td>\n",
       "      <td>20210906</td>\n",
       "      <td>07:58:26</td>\n",
       "      <td>0</td>\n",
       "      <td>114</td>\n",
       "      <td>07:56:32</td>\n",
       "      <td>07:00</td>\n",
       "    </tr>\n",
       "  </tbody>\n",
       "</table>\n",
       "</div>"
      ],
      "text/plain": [
       "       Timestamp  LineId  TerminusStop  CurrentStop      Date      Hour  Day  \\\n",
       "0  1630915041551       2          8472         8382  20210906  07:57:21    0   \n",
       "1  1630915074628       2          8472         8763  20210906  07:57:54    0   \n",
       "2  1630915106373       2          8472         8372  20210906  07:58:26    0   \n",
       "\n",
       "   Delay ExpectedArrivalTime   Time  \n",
       "0    129            07:55:12  07:00  \n",
       "1     49            07:57:05  07:00  \n",
       "2    114            07:56:32  07:00  "
      ]
     },
     "execution_count": 27,
     "metadata": {},
     "output_type": "execute_result"
    }
   ],
   "source": [
    "# Using the delays and creating the Time coulmn from the Hour column: 7 -> '07:00:00'\n",
    "delays_path = '../data/processed/assignment2/final_filtered_delays.csv'\n",
    "\n",
    "vehicle_delays = pd.read_csv(delays_path)\n",
    "vehicle_delays['Time'] = vehicle_delays['Hour'].apply(lambda x: str(x.split(':')[0]+':00'))\n",
    "\n",
    "# vehicle_delays = vehicle_delays[['LineId', 'CurrentStop', 'Date', 'Time', 'Delay', 'Day', 'Hour']]\n",
    "vehicle_delays.head(3)"
   ]
  },
  {
   "cell_type": "code",
   "execution_count": 28,
   "id": "c3500b35",
   "metadata": {},
   "outputs": [],
   "source": [
    "# joining on lineId and stopid because we can have one station on different lines \n",
    "vehicle_delays = vehicle_delays.merge(line_stops, how='inner', left_on=['LineId','CurrentStop'], right_on=['lineId','stop_id_int'] )"
   ]
  },
  {
   "cell_type": "code",
   "execution_count": 29,
   "id": "604e2061",
   "metadata": {},
   "outputs": [],
   "source": [
    "vehicle_delays = vehicle_delays[['LineId', 'CurrentStop', 'Date','Hour', 'Time', 'Delay','direction', 'Day', 'type', 'name_ascii']]"
   ]
  },
  {
   "cell_type": "code",
   "execution_count": 30,
   "id": "9b0a4780",
   "metadata": {},
   "outputs": [],
   "source": [
    "# cleaninug up the visual_data\n",
    "vehicle_delays = vehicle_delays.drop_duplicates(subset=['LineId', 'CurrentStop', 'direction', 'Time','Day', 'type'])\n",
    "# visual_data.rename(columns={'direction': 'Direction', 'order': 'Order', 'type': 'Type'}, inplace=True)\n",
    "# visual_data = visual_data.astype({'LineId': str, 'Delay': 'int', 'Direction': int, 'Order': int})"
   ]
  },
  {
   "cell_type": "code",
   "execution_count": 31,
   "id": "2e6f05c1",
   "metadata": {},
   "outputs": [
    {
     "data": {
      "text/html": [
       "<div>\n",
       "<style scoped>\n",
       "    .dataframe tbody tr th:only-of-type {\n",
       "        vertical-align: middle;\n",
       "    }\n",
       "\n",
       "    .dataframe tbody tr th {\n",
       "        vertical-align: top;\n",
       "    }\n",
       "\n",
       "    .dataframe thead th {\n",
       "        text-align: right;\n",
       "    }\n",
       "</style>\n",
       "<table border=\"1\" class=\"dataframe\">\n",
       "  <thead>\n",
       "    <tr style=\"text-align: right;\">\n",
       "      <th></th>\n",
       "      <th>LineId</th>\n",
       "      <th>type</th>\n",
       "      <th>CurrentStop</th>\n",
       "      <th>direction</th>\n",
       "      <th>Day</th>\n",
       "      <th>Time</th>\n",
       "      <th>Delay</th>\n",
       "    </tr>\n",
       "  </thead>\n",
       "  <tbody>\n",
       "    <tr>\n",
       "      <th>0</th>\n",
       "      <td>2</td>\n",
       "      <td>m</td>\n",
       "      <td>8301</td>\n",
       "      <td>2</td>\n",
       "      <td>0</td>\n",
       "      <td>05:00</td>\n",
       "      <td>145.0</td>\n",
       "    </tr>\n",
       "    <tr>\n",
       "      <th>1</th>\n",
       "      <td>2</td>\n",
       "      <td>m</td>\n",
       "      <td>8301</td>\n",
       "      <td>2</td>\n",
       "      <td>0</td>\n",
       "      <td>06:00</td>\n",
       "      <td>113.0</td>\n",
       "    </tr>\n",
       "    <tr>\n",
       "      <th>2</th>\n",
       "      <td>2</td>\n",
       "      <td>m</td>\n",
       "      <td>8301</td>\n",
       "      <td>2</td>\n",
       "      <td>0</td>\n",
       "      <td>07:00</td>\n",
       "      <td>47.0</td>\n",
       "    </tr>\n",
       "    <tr>\n",
       "      <th>3</th>\n",
       "      <td>2</td>\n",
       "      <td>m</td>\n",
       "      <td>8301</td>\n",
       "      <td>2</td>\n",
       "      <td>0</td>\n",
       "      <td>08:00</td>\n",
       "      <td>19.0</td>\n",
       "    </tr>\n",
       "    <tr>\n",
       "      <th>4</th>\n",
       "      <td>2</td>\n",
       "      <td>m</td>\n",
       "      <td>8301</td>\n",
       "      <td>2</td>\n",
       "      <td>0</td>\n",
       "      <td>09:00</td>\n",
       "      <td>80.0</td>\n",
       "    </tr>\n",
       "  </tbody>\n",
       "</table>\n",
       "</div>"
      ],
      "text/plain": [
       "   LineId type  CurrentStop  direction  Day   Time  Delay\n",
       "0       2    m         8301          2    0  05:00  145.0\n",
       "1       2    m         8301          2    0  06:00  113.0\n",
       "2       2    m         8301          2    0  07:00   47.0\n",
       "3       2    m         8301          2    0  08:00   19.0\n",
       "4       2    m         8301          2    0  09:00   80.0"
      ]
     },
     "execution_count": 31,
     "metadata": {},
     "output_type": "execute_result"
    }
   ],
   "source": [
    "#TODO Should we add order column?\n",
    "#grouping by to get the result\n",
    "grouped_delays = vehicle_delays.groupby(['LineId', 'type', 'CurrentStop', 'direction',  'Day', 'Time'], as_index=False)['Delay'].mean()\n",
    "grouped_delays.head()"
   ]
  },
  {
   "cell_type": "markdown",
   "id": "a68a3fdb",
   "metadata": {},
   "source": [
    "# The merge\n",
    "\n",
    "Once we transformed the data for the delays and vehicle speed we can merge them in one file having LineId', 'CurrentStop', 'direction', 'Time' as mutual columns on which we will join"
   ]
  },
  {
   "cell_type": "code",
   "execution_count": 34,
   "id": "df07c009",
   "metadata": {},
   "outputs": [],
   "source": [
    "# Merging on FromStop"
   ]
  },
  {
   "cell_type": "code",
   "execution_count": 16,
   "id": "86e373c0",
   "metadata": {},
   "outputs": [],
   "source": [
    "visualization_data = grouped_delays.merge(vehicle_speed, how='inner', left_on=['LineId', 'CurrentStop', 'direction', 'Time'], right_on=['LineId','FromStop','Direction','hour'])\n",
    "visualization_data = visualization_data.drop(columns=['direction'])"
   ]
  },
  {
   "cell_type": "code",
   "execution_count": 17,
   "id": "62c15e13",
   "metadata": {},
   "outputs": [
    {
     "data": {
      "text/html": [
       "<div>\n",
       "<style scoped>\n",
       "    .dataframe tbody tr th:only-of-type {\n",
       "        vertical-align: middle;\n",
       "    }\n",
       "\n",
       "    .dataframe tbody tr th {\n",
       "        vertical-align: top;\n",
       "    }\n",
       "\n",
       "    .dataframe thead th {\n",
       "        text-align: right;\n",
       "    }\n",
       "</style>\n",
       "<table border=\"1\" class=\"dataframe\">\n",
       "  <thead>\n",
       "    <tr style=\"text-align: right;\">\n",
       "      <th></th>\n",
       "      <th>LineId</th>\n",
       "      <th>type</th>\n",
       "      <th>CurrentStop</th>\n",
       "      <th>Day</th>\n",
       "      <th>Time</th>\n",
       "      <th>Delay</th>\n",
       "      <th>FromStop</th>\n",
       "      <th>ToStop</th>\n",
       "      <th>Direction</th>\n",
       "      <th>hour</th>\n",
       "      <th>speed</th>\n",
       "      <th>geojson</th>\n",
       "      <th>FromStop_lat</th>\n",
       "      <th>FromStop_lon</th>\n",
       "      <th>ToStop_lat</th>\n",
       "      <th>ToStop_lon</th>\n",
       "    </tr>\n",
       "  </thead>\n",
       "  <tbody>\n",
       "    <tr>\n",
       "      <th>0</th>\n",
       "      <td>1</td>\n",
       "      <td>m</td>\n",
       "      <td>8011</td>\n",
       "      <td>0</td>\n",
       "      <td>05:00</td>\n",
       "      <td>58.0</td>\n",
       "      <td>8011</td>\n",
       "      <td>8271</td>\n",
       "      <td>2</td>\n",
       "      <td>05:00</td>\n",
       "      <td>11.219475</td>\n",
       "      <td>{'type': 'FeatureCollection', 'features': [{'t...</td>\n",
       "      <td>50.850095</td>\n",
       "      <td>4.352165</td>\n",
       "      <td>50.852347</td>\n",
       "      <td>4.347749</td>\n",
       "    </tr>\n",
       "  </tbody>\n",
       "</table>\n",
       "</div>"
      ],
      "text/plain": [
       "   LineId type  CurrentStop  Day   Time  Delay  FromStop  ToStop  Direction  \\\n",
       "0       1    m         8011    0  05:00   58.0      8011    8271          2   \n",
       "\n",
       "    hour      speed                                            geojson  \\\n",
       "0  05:00  11.219475  {'type': 'FeatureCollection', 'features': [{'t...   \n",
       "\n",
       "   FromStop_lat  FromStop_lon  ToStop_lat  ToStop_lon  \n",
       "0     50.850095      4.352165   50.852347    4.347749  "
      ]
     },
     "execution_count": 17,
     "metadata": {},
     "output_type": "execute_result"
    }
   ],
   "source": [
    "visualization_data.head(1)"
   ]
  },
  {
   "cell_type": "code",
   "execution_count": 18,
   "id": "189e68bc",
   "metadata": {},
   "outputs": [],
   "source": [
    "# adding the 'line'+id to the LineId column so that we use it as string in the visualization\n",
    "visualization_data['LineId'] = visualization_data['LineId'].apply(lambda x: 'line'+str(x)) "
   ]
  },
  {
   "cell_type": "code",
   "execution_count": 19,
   "id": "6c739b6e",
   "metadata": {},
   "outputs": [],
   "source": [
    "visualization_data_stops = visualization_data.merge(line_stops[['name_ascii','stop_id_int']], how='inner', left_on='CurrentStop', right_on='stop_id_int').drop(columns=['stop_id_int'])"
   ]
  },
  {
   "cell_type": "code",
   "execution_count": 20,
   "id": "16496158",
   "metadata": {},
   "outputs": [],
   "source": [
    "visualization_data = visualization_data_stops.drop_duplicates()"
   ]
  },
  {
   "cell_type": "markdown",
   "id": "fe65c472",
   "metadata": {},
   "source": [
    "We can drop the geojson column or we can use it in our data. Note that with the geojson we will generate a table of 2.5GB which kepler has difficulties runing. "
   ]
  },
  {
   "cell_type": "code",
   "execution_count": 21,
   "id": "658cecf5",
   "metadata": {},
   "outputs": [],
   "source": [
    "visualization_data_no_geojson = visualization_data.drop(columns=['geojson'])"
   ]
  },
  {
   "cell_type": "code",
   "execution_count": 22,
   "id": "18e4f89c",
   "metadata": {},
   "outputs": [],
   "source": [
    "visualization_data_no_geojson.to_csv('../data/processed/Visualization/visualization_data.csv')"
   ]
  },
  {
   "cell_type": "code",
   "execution_count": 23,
   "id": "aab133ba",
   "metadata": {},
   "outputs": [
    {
     "data": {
      "text/html": [
       "<div>\n",
       "<style scoped>\n",
       "    .dataframe tbody tr th:only-of-type {\n",
       "        vertical-align: middle;\n",
       "    }\n",
       "\n",
       "    .dataframe tbody tr th {\n",
       "        vertical-align: top;\n",
       "    }\n",
       "\n",
       "    .dataframe thead th {\n",
       "        text-align: right;\n",
       "    }\n",
       "</style>\n",
       "<table border=\"1\" class=\"dataframe\">\n",
       "  <thead>\n",
       "    <tr style=\"text-align: right;\">\n",
       "      <th></th>\n",
       "      <th>LineId</th>\n",
       "      <th>type</th>\n",
       "      <th>CurrentStop</th>\n",
       "      <th>Day</th>\n",
       "      <th>Time</th>\n",
       "      <th>Delay</th>\n",
       "      <th>FromStop</th>\n",
       "      <th>ToStop</th>\n",
       "      <th>Direction</th>\n",
       "      <th>hour</th>\n",
       "      <th>speed</th>\n",
       "      <th>FromStop_lat</th>\n",
       "      <th>FromStop_lon</th>\n",
       "      <th>ToStop_lat</th>\n",
       "      <th>ToStop_lon</th>\n",
       "      <th>name_ascii</th>\n",
       "    </tr>\n",
       "  </thead>\n",
       "  <tbody>\n",
       "    <tr>\n",
       "      <th>0</th>\n",
       "      <td>line1</td>\n",
       "      <td>m</td>\n",
       "      <td>8011</td>\n",
       "      <td>0</td>\n",
       "      <td>05:00</td>\n",
       "      <td>58.0</td>\n",
       "      <td>8011</td>\n",
       "      <td>8271</td>\n",
       "      <td>2</td>\n",
       "      <td>05:00</td>\n",
       "      <td>11.219475</td>\n",
       "      <td>50.850095</td>\n",
       "      <td>4.352165</td>\n",
       "      <td>50.852347</td>\n",
       "      <td>4.347749</td>\n",
       "      <td>DE BROUCKERE</td>\n",
       "    </tr>\n",
       "    <tr>\n",
       "      <th>2</th>\n",
       "      <td>line1</td>\n",
       "      <td>m</td>\n",
       "      <td>8011</td>\n",
       "      <td>1</td>\n",
       "      <td>05:00</td>\n",
       "      <td>-198.0</td>\n",
       "      <td>8011</td>\n",
       "      <td>8271</td>\n",
       "      <td>2</td>\n",
       "      <td>05:00</td>\n",
       "      <td>11.219475</td>\n",
       "      <td>50.850095</td>\n",
       "      <td>4.352165</td>\n",
       "      <td>50.852347</td>\n",
       "      <td>4.347749</td>\n",
       "      <td>DE BROUCKERE</td>\n",
       "    </tr>\n",
       "    <tr>\n",
       "      <th>4</th>\n",
       "      <td>line1</td>\n",
       "      <td>m</td>\n",
       "      <td>8011</td>\n",
       "      <td>0</td>\n",
       "      <td>06:00</td>\n",
       "      <td>66.0</td>\n",
       "      <td>8011</td>\n",
       "      <td>8271</td>\n",
       "      <td>2</td>\n",
       "      <td>06:00</td>\n",
       "      <td>11.554020</td>\n",
       "      <td>50.850095</td>\n",
       "      <td>4.352165</td>\n",
       "      <td>50.852347</td>\n",
       "      <td>4.347749</td>\n",
       "      <td>DE BROUCKERE</td>\n",
       "    </tr>\n",
       "    <tr>\n",
       "      <th>6</th>\n",
       "      <td>line1</td>\n",
       "      <td>m</td>\n",
       "      <td>8011</td>\n",
       "      <td>1</td>\n",
       "      <td>06:00</td>\n",
       "      <td>71.0</td>\n",
       "      <td>8011</td>\n",
       "      <td>8271</td>\n",
       "      <td>2</td>\n",
       "      <td>06:00</td>\n",
       "      <td>11.554020</td>\n",
       "      <td>50.850095</td>\n",
       "      <td>4.352165</td>\n",
       "      <td>50.852347</td>\n",
       "      <td>4.347749</td>\n",
       "      <td>DE BROUCKERE</td>\n",
       "    </tr>\n",
       "    <tr>\n",
       "      <th>8</th>\n",
       "      <td>line1</td>\n",
       "      <td>m</td>\n",
       "      <td>8011</td>\n",
       "      <td>0</td>\n",
       "      <td>07:00</td>\n",
       "      <td>-47.0</td>\n",
       "      <td>8011</td>\n",
       "      <td>8271</td>\n",
       "      <td>2</td>\n",
       "      <td>07:00</td>\n",
       "      <td>10.736122</td>\n",
       "      <td>50.850095</td>\n",
       "      <td>4.352165</td>\n",
       "      <td>50.852347</td>\n",
       "      <td>4.347749</td>\n",
       "      <td>DE BROUCKERE</td>\n",
       "    </tr>\n",
       "    <tr>\n",
       "      <th>...</th>\n",
       "      <td>...</td>\n",
       "      <td>...</td>\n",
       "      <td>...</td>\n",
       "      <td>...</td>\n",
       "      <td>...</td>\n",
       "      <td>...</td>\n",
       "      <td>...</td>\n",
       "      <td>...</td>\n",
       "      <td>...</td>\n",
       "      <td>...</td>\n",
       "      <td>...</td>\n",
       "      <td>...</td>\n",
       "      <td>...</td>\n",
       "      <td>...</td>\n",
       "      <td>...</td>\n",
       "      <td>...</td>\n",
       "    </tr>\n",
       "    <tr>\n",
       "      <th>224958</th>\n",
       "      <td>line98</td>\n",
       "      <td>b</td>\n",
       "      <td>9686</td>\n",
       "      <td>0</td>\n",
       "      <td>17:00</td>\n",
       "      <td>-55.0</td>\n",
       "      <td>9686</td>\n",
       "      <td>5964</td>\n",
       "      <td>2</td>\n",
       "      <td>17:00</td>\n",
       "      <td>30.144700</td>\n",
       "      <td>50.794407</td>\n",
       "      <td>4.302507</td>\n",
       "      <td>50.803967</td>\n",
       "      <td>4.302302</td>\n",
       "      <td>DORENT</td>\n",
       "    </tr>\n",
       "    <tr>\n",
       "      <th>224959</th>\n",
       "      <td>line98</td>\n",
       "      <td>b</td>\n",
       "      <td>9686</td>\n",
       "      <td>1</td>\n",
       "      <td>17:00</td>\n",
       "      <td>110.0</td>\n",
       "      <td>9686</td>\n",
       "      <td>5964</td>\n",
       "      <td>2</td>\n",
       "      <td>17:00</td>\n",
       "      <td>30.144700</td>\n",
       "      <td>50.794407</td>\n",
       "      <td>4.302507</td>\n",
       "      <td>50.803967</td>\n",
       "      <td>4.302302</td>\n",
       "      <td>DORENT</td>\n",
       "    </tr>\n",
       "    <tr>\n",
       "      <th>224960</th>\n",
       "      <td>line98</td>\n",
       "      <td>b</td>\n",
       "      <td>9686</td>\n",
       "      <td>0</td>\n",
       "      <td>18:00</td>\n",
       "      <td>109.0</td>\n",
       "      <td>9686</td>\n",
       "      <td>5964</td>\n",
       "      <td>2</td>\n",
       "      <td>18:00</td>\n",
       "      <td>30.133882</td>\n",
       "      <td>50.794407</td>\n",
       "      <td>4.302507</td>\n",
       "      <td>50.803967</td>\n",
       "      <td>4.302302</td>\n",
       "      <td>DORENT</td>\n",
       "    </tr>\n",
       "    <tr>\n",
       "      <th>224961</th>\n",
       "      <td>line98</td>\n",
       "      <td>b</td>\n",
       "      <td>9686</td>\n",
       "      <td>1</td>\n",
       "      <td>18:00</td>\n",
       "      <td>314.0</td>\n",
       "      <td>9686</td>\n",
       "      <td>5964</td>\n",
       "      <td>2</td>\n",
       "      <td>18:00</td>\n",
       "      <td>30.133882</td>\n",
       "      <td>50.794407</td>\n",
       "      <td>4.302507</td>\n",
       "      <td>50.803967</td>\n",
       "      <td>4.302302</td>\n",
       "      <td>DORENT</td>\n",
       "    </tr>\n",
       "    <tr>\n",
       "      <th>224962</th>\n",
       "      <td>line98</td>\n",
       "      <td>b</td>\n",
       "      <td>9686</td>\n",
       "      <td>0</td>\n",
       "      <td>19:00</td>\n",
       "      <td>-92.0</td>\n",
       "      <td>9686</td>\n",
       "      <td>5964</td>\n",
       "      <td>2</td>\n",
       "      <td>19:00</td>\n",
       "      <td>33.475951</td>\n",
       "      <td>50.794407</td>\n",
       "      <td>4.302507</td>\n",
       "      <td>50.803967</td>\n",
       "      <td>4.302302</td>\n",
       "      <td>DORENT</td>\n",
       "    </tr>\n",
       "  </tbody>\n",
       "</table>\n",
       "<p>112772 rows × 16 columns</p>\n",
       "</div>"
      ],
      "text/plain": [
       "        LineId type  CurrentStop  Day   Time  Delay  FromStop  ToStop  \\\n",
       "0        line1    m         8011    0  05:00   58.0      8011    8271   \n",
       "2        line1    m         8011    1  05:00 -198.0      8011    8271   \n",
       "4        line1    m         8011    0  06:00   66.0      8011    8271   \n",
       "6        line1    m         8011    1  06:00   71.0      8011    8271   \n",
       "8        line1    m         8011    0  07:00  -47.0      8011    8271   \n",
       "...        ...  ...          ...  ...    ...    ...       ...     ...   \n",
       "224958  line98    b         9686    0  17:00  -55.0      9686    5964   \n",
       "224959  line98    b         9686    1  17:00  110.0      9686    5964   \n",
       "224960  line98    b         9686    0  18:00  109.0      9686    5964   \n",
       "224961  line98    b         9686    1  18:00  314.0      9686    5964   \n",
       "224962  line98    b         9686    0  19:00  -92.0      9686    5964   \n",
       "\n",
       "        Direction   hour      speed  FromStop_lat  FromStop_lon  ToStop_lat  \\\n",
       "0               2  05:00  11.219475     50.850095      4.352165   50.852347   \n",
       "2               2  05:00  11.219475     50.850095      4.352165   50.852347   \n",
       "4               2  06:00  11.554020     50.850095      4.352165   50.852347   \n",
       "6               2  06:00  11.554020     50.850095      4.352165   50.852347   \n",
       "8               2  07:00  10.736122     50.850095      4.352165   50.852347   \n",
       "...           ...    ...        ...           ...           ...         ...   \n",
       "224958          2  17:00  30.144700     50.794407      4.302507   50.803967   \n",
       "224959          2  17:00  30.144700     50.794407      4.302507   50.803967   \n",
       "224960          2  18:00  30.133882     50.794407      4.302507   50.803967   \n",
       "224961          2  18:00  30.133882     50.794407      4.302507   50.803967   \n",
       "224962          2  19:00  33.475951     50.794407      4.302507   50.803967   \n",
       "\n",
       "        ToStop_lon    name_ascii  \n",
       "0         4.347749  DE BROUCKERE  \n",
       "2         4.347749  DE BROUCKERE  \n",
       "4         4.347749  DE BROUCKERE  \n",
       "6         4.347749  DE BROUCKERE  \n",
       "8         4.347749  DE BROUCKERE  \n",
       "...            ...           ...  \n",
       "224958    4.302302        DORENT  \n",
       "224959    4.302302        DORENT  \n",
       "224960    4.302302        DORENT  \n",
       "224961    4.302302        DORENT  \n",
       "224962    4.302302        DORENT  \n",
       "\n",
       "[112772 rows x 16 columns]"
      ]
     },
     "execution_count": 23,
     "metadata": {},
     "output_type": "execute_result"
    }
   ],
   "source": [
    "visualization_data_no_geojson"
   ]
  },
  {
   "cell_type": "markdown",
   "id": "d379b89c",
   "metadata": {},
   "source": [
    "# Visuals"
   ]
  },
  {
   "cell_type": "code",
   "execution_count": 43,
   "id": "1cba614d",
   "metadata": {},
   "outputs": [],
   "source": [
    "visualization_data_no_geojson = pd.read_csv('../data/processed/Visualization/visualization_data.csv')\n"
   ]
  },
  {
   "cell_type": "code",
   "execution_count": 38,
   "id": "8365a012",
   "metadata": {
    "scrolled": true
   },
   "outputs": [
    {
     "name": "stdout",
     "output_type": "stream",
     "text": [
      "User Guide: https://docs.kepler.gl/docs/keplergl-jupyter\n"
     ]
    }
   ],
   "source": [
    "map_1 = KeplerGl(height=600, data={\"data\": visualization_data_no_geojson, \"config\": config})"
   ]
  },
  {
   "cell_type": "code",
   "execution_count": 39,
   "id": "f980b5dc",
   "metadata": {},
   "outputs": [
    {
     "data": {
      "application/vnd.jupyter.widget-view+json": {
       "model_id": "bc4b649c003e42e7aca9794d8e36d3ae",
       "version_major": 2,
       "version_minor": 0
      },
      "text/plain": [
       "KeplerGl(data={'data':         LineId type  CurrentStop  Day   Time  Delay  FromStop  ToStop  \\\n",
       "0        line1…"
      ]
     },
     "metadata": {},
     "output_type": "display_data"
    }
   ],
   "source": [
    "map_1"
   ]
  }
 ],
 "metadata": {
  "kernelspec": {
   "display_name": "Python 3 (ipykernel)",
   "language": "python",
   "name": "python3"
  },
  "language_info": {
   "codemirror_mode": {
    "name": "ipython",
    "version": 3
   },
   "file_extension": ".py",
   "mimetype": "text/x-python",
   "name": "python",
   "nbconvert_exporter": "python",
   "pygments_lexer": "ipython3",
   "version": "3.8.10"
  }
 },
 "nbformat": 4,
 "nbformat_minor": 5
}