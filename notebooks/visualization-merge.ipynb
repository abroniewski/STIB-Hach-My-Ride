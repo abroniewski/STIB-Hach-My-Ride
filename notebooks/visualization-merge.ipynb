{
 "cells": [
  {
   "cell_type": "code",
   "execution_count": 4,
   "outputs": [],
   "source": [
    "import pandas as pd"
   ],
   "metadata": {
    "collapsed": false,
    "pycharm": {
     "name": "#%%\n"
    }
   }
  },
  {
   "cell_type": "code",
   "execution_count": 21,
   "outputs": [
    {
     "data": {
      "text/plain": "Index(['LineId', 'FromStop', 'ToStop', 'Day', 'LineIdFormatted',\n       'LineId_GeoMerge', 'Type', 'Direction', 'fromIndex', 'toIndex',\n       'FromStop_lat', 'FromStop_lon', 'ToStop_lat', 'ToStop_lon', 'geojson',\n       'hour', 'speed'],\n      dtype='object')"
     },
     "execution_count": 21,
     "metadata": {},
     "output_type": "execute_result"
    }
   ],
   "source": [
    "vehicle_speed_path = '../data/processed/assignment1/vehicleSpeedReformatted.csv'\n",
    "stop_delays_path = '../data/processed/assignment2/grouped_visual_data_ass2.csv'\n",
    "\n",
    "df_vehicle_speed = pd.read_csv(vehicle_speed_path)\n",
    "df_stop_delays = pd.read_csv(stop_delays_path)"
   ],
   "metadata": {
    "collapsed": false,
    "pycharm": {
     "name": "#%%\n"
    }
   }
  },
  {
   "cell_type": "code",
   "execution_count": 33,
   "outputs": [
    {
     "name": "stdout",
     "output_type": "stream",
     "text": [
      "Unnamed: 0       int64\n",
      "LineId          object\n",
      "Type            object\n",
      "CurrentStop      int64\n",
      "Direction        int64\n",
      "Time            object\n",
      "Day              int64\n",
      "Delay            int64\n",
      "stop_name       object\n",
      "stop_lat       float64\n",
      "stop_lon       float64\n",
      "dtype: object\n",
      "LineId               int64\n",
      "FromStop             int64\n",
      "ToStop               int64\n",
      "Day                float64\n",
      "LineIdFormatted     object\n",
      "LineId_GeoMerge     object\n",
      "Type                object\n",
      "Direction          float64\n",
      "fromIndex          float64\n",
      "toIndex            float64\n",
      "FromStop_lat       float64\n",
      "FromStop_lon       float64\n",
      "ToStop_lat         float64\n",
      "ToStop_lon         float64\n",
      "geojson             object\n",
      "hour                object\n",
      "speed              float64\n",
      "dtype: object\n",
      "Unnamed: 0     0\n",
      "LineId         0\n",
      "Type           0\n",
      "CurrentStop    0\n",
      "Direction      0\n",
      "Time           0\n",
      "Day            0\n",
      "Delay          0\n",
      "stop_name      0\n",
      "stop_lat       0\n",
      "stop_lon       0\n",
      "dtype: int64\n",
      "LineId                 0\n",
      "FromStop               0\n",
      "ToStop                 0\n",
      "Day                79944\n",
      "LineIdFormatted     6048\n",
      "LineId_GeoMerge     6048\n",
      "Type                6048\n",
      "Direction           6048\n",
      "fromIndex           6048\n",
      "toIndex             6048\n",
      "FromStop_lat        6072\n",
      "FromStop_lon        6072\n",
      "ToStop_lat          6072\n",
      "ToStop_lon          6072\n",
      "geojson             6048\n",
      "hour                   0\n",
      "speed               6074\n",
      "dtype: int64\n"
     ]
    }
   ],
   "source": [
    "print(df_stop_delays.dtypes)\n",
    "print(df_vehicle_speed.dtypes)\n",
    "print(df_stop_delays.isna().sum())\n",
    "print(df_vehicle_speed.isna().sum())\n",
    "\n",
    "# df_stop_delays['LineId'].astype(str)\n",
    "# df_vehicle_speed['LineIdFormatted'].astype(str)\n",
    "# df_vehicle_speed['Direction'].astype(int)\n",
    "\n",
    "#TODO: Resolve the NA values in df_vehicle_speed\n",
    "#TODO: change to similar object type\n",
    "#TODO: merge"
   ],
   "metadata": {
    "collapsed": false,
    "pycharm": {
     "name": "#%%\n"
    }
   }
  },
  {
   "cell_type": "code",
   "execution_count": 34,
   "outputs": [
    {
     "name": "stdout",
     "output_type": "stream",
     "text": [
      "Unnamed: 0     133839\n",
      "LineId         133839\n",
      "Type           133839\n",
      "CurrentStop    133839\n",
      "Direction      133839\n",
      "Time           133839\n",
      "Day            133839\n",
      "Delay          133839\n",
      "stop_name      133839\n",
      "stop_lat       133839\n",
      "stop_lon       133839\n",
      "dtype: int64\n",
      "LineId             79944\n",
      "FromStop           79944\n",
      "ToStop             79944\n",
      "Day                    0\n",
      "LineIdFormatted    73896\n",
      "LineId_GeoMerge    73896\n",
      "Type               73896\n",
      "Direction          73896\n",
      "fromIndex          73896\n",
      "toIndex            73896\n",
      "FromStop_lat       73872\n",
      "FromStop_lon       73872\n",
      "ToStop_lat         73872\n",
      "ToStop_lon         73872\n",
      "geojson            73896\n",
      "hour               79944\n",
      "speed              73870\n",
      "dtype: int64\n"
     ]
    }
   ],
   "source": [
    "print(df_stop_delays.count())\n",
    "print(df_vehicle_speed.count())"
   ],
   "metadata": {
    "collapsed": false,
    "pycharm": {
     "name": "#%%\n"
    }
   }
  },
  {
   "cell_type": "code",
   "execution_count": 24,
   "outputs": [
    {
     "ename": "ValueError",
     "evalue": "You are trying to merge on object and int64 columns. If you wish to proceed you should use pd.concat",
     "output_type": "error",
     "traceback": [
      "\u001B[0;31m---------------------------------------------------------------------------\u001B[0m",
      "\u001B[0;31mValueError\u001B[0m                                Traceback (most recent call last)",
      "\u001B[0;32m/var/folders/wh/6llm7dq16rvbwjb_yc0kfvvr0000gn/T/ipykernel_17387/1602556096.py\u001B[0m in \u001B[0;36m<module>\u001B[0;34m\u001B[0m\n\u001B[1;32m      1\u001B[0m \u001B[0;31m#TODO: add in \"merge on\" for currentstop = fromstop and time=hour: direction, current stop, time, day, lineid\u001B[0m\u001B[0;34m\u001B[0m\u001B[0;34m\u001B[0m\u001B[0;34m\u001B[0m\u001B[0m\n\u001B[0;32m----> 2\u001B[0;31m \u001B[0mdf_merged_time_speed_delays\u001B[0m \u001B[0;34m=\u001B[0m \u001B[0mdf_stop_delays\u001B[0m\u001B[0;34m.\u001B[0m\u001B[0mmerge\u001B[0m\u001B[0;34m(\u001B[0m\u001B[0mdf_vehicle_speed\u001B[0m\u001B[0;34m,\u001B[0m \u001B[0mhow\u001B[0m\u001B[0;34m=\u001B[0m\u001B[0;34m'outer'\u001B[0m\u001B[0;34m,\u001B[0m \u001B[0mleft_on\u001B[0m\u001B[0;34m=\u001B[0m\u001B[0;34m[\u001B[0m\u001B[0;34m'LineId'\u001B[0m\u001B[0;34m,\u001B[0m \u001B[0;34m'CurrentStop'\u001B[0m\u001B[0;34m,\u001B[0m \u001B[0;34m'Direction'\u001B[0m\u001B[0;34m,\u001B[0m \u001B[0;34m'Time'\u001B[0m\u001B[0;34m]\u001B[0m\u001B[0;34m,\u001B[0m \u001B[0mright_on\u001B[0m\u001B[0;34m=\u001B[0m\u001B[0;34m[\u001B[0m\u001B[0;34m'LineId'\u001B[0m\u001B[0;34m,\u001B[0m\u001B[0;34m'FromStop'\u001B[0m\u001B[0;34m,\u001B[0m\u001B[0;34m'Direction'\u001B[0m\u001B[0;34m,\u001B[0m\u001B[0;34m'hour'\u001B[0m\u001B[0;34m]\u001B[0m\u001B[0;34m)\u001B[0m\u001B[0;34m\u001B[0m\u001B[0;34m\u001B[0m\u001B[0m\n\u001B[0m",
      "\u001B[0;32m/Library/Frameworks/Python.framework/Versions/3.9/lib/python3.9/site-packages/pandas/core/frame.py\u001B[0m in \u001B[0;36mmerge\u001B[0;34m(self, right, how, on, left_on, right_on, left_index, right_index, sort, suffixes, copy, indicator, validate)\u001B[0m\n\u001B[1;32m   9188\u001B[0m         \u001B[0;32mfrom\u001B[0m \u001B[0mpandas\u001B[0m\u001B[0;34m.\u001B[0m\u001B[0mcore\u001B[0m\u001B[0;34m.\u001B[0m\u001B[0mreshape\u001B[0m\u001B[0;34m.\u001B[0m\u001B[0mmerge\u001B[0m \u001B[0;32mimport\u001B[0m \u001B[0mmerge\u001B[0m\u001B[0;34m\u001B[0m\u001B[0;34m\u001B[0m\u001B[0m\n\u001B[1;32m   9189\u001B[0m \u001B[0;34m\u001B[0m\u001B[0m\n\u001B[0;32m-> 9190\u001B[0;31m         return merge(\n\u001B[0m\u001B[1;32m   9191\u001B[0m             \u001B[0mself\u001B[0m\u001B[0;34m,\u001B[0m\u001B[0;34m\u001B[0m\u001B[0;34m\u001B[0m\u001B[0m\n\u001B[1;32m   9192\u001B[0m             \u001B[0mright\u001B[0m\u001B[0;34m,\u001B[0m\u001B[0;34m\u001B[0m\u001B[0;34m\u001B[0m\u001B[0m\n",
      "\u001B[0;32m/Library/Frameworks/Python.framework/Versions/3.9/lib/python3.9/site-packages/pandas/core/reshape/merge.py\u001B[0m in \u001B[0;36mmerge\u001B[0;34m(left, right, how, on, left_on, right_on, left_index, right_index, sort, suffixes, copy, indicator, validate)\u001B[0m\n\u001B[1;32m    104\u001B[0m     \u001B[0mvalidate\u001B[0m\u001B[0;34m:\u001B[0m \u001B[0mstr\u001B[0m \u001B[0;34m|\u001B[0m \u001B[0;32mNone\u001B[0m \u001B[0;34m=\u001B[0m \u001B[0;32mNone\u001B[0m\u001B[0;34m,\u001B[0m\u001B[0;34m\u001B[0m\u001B[0;34m\u001B[0m\u001B[0m\n\u001B[1;32m    105\u001B[0m ) -> DataFrame:\n\u001B[0;32m--> 106\u001B[0;31m     op = _MergeOperation(\n\u001B[0m\u001B[1;32m    107\u001B[0m         \u001B[0mleft\u001B[0m\u001B[0;34m,\u001B[0m\u001B[0;34m\u001B[0m\u001B[0;34m\u001B[0m\u001B[0m\n\u001B[1;32m    108\u001B[0m         \u001B[0mright\u001B[0m\u001B[0;34m,\u001B[0m\u001B[0;34m\u001B[0m\u001B[0;34m\u001B[0m\u001B[0m\n",
      "\u001B[0;32m/Library/Frameworks/Python.framework/Versions/3.9/lib/python3.9/site-packages/pandas/core/reshape/merge.py\u001B[0m in \u001B[0;36m__init__\u001B[0;34m(self, left, right, how, on, left_on, right_on, axis, left_index, right_index, sort, suffixes, copy, indicator, validate)\u001B[0m\n\u001B[1;32m    701\u001B[0m         \u001B[0;31m# validate the merge keys dtypes. We may need to coerce\u001B[0m\u001B[0;34m\u001B[0m\u001B[0;34m\u001B[0m\u001B[0;34m\u001B[0m\u001B[0m\n\u001B[1;32m    702\u001B[0m         \u001B[0;31m# to avoid incompatible dtypes\u001B[0m\u001B[0;34m\u001B[0m\u001B[0;34m\u001B[0m\u001B[0;34m\u001B[0m\u001B[0m\n\u001B[0;32m--> 703\u001B[0;31m         \u001B[0mself\u001B[0m\u001B[0;34m.\u001B[0m\u001B[0m_maybe_coerce_merge_keys\u001B[0m\u001B[0;34m(\u001B[0m\u001B[0;34m)\u001B[0m\u001B[0;34m\u001B[0m\u001B[0;34m\u001B[0m\u001B[0m\n\u001B[0m\u001B[1;32m    704\u001B[0m \u001B[0;34m\u001B[0m\u001B[0m\n\u001B[1;32m    705\u001B[0m         \u001B[0;31m# If argument passed to validate,\u001B[0m\u001B[0;34m\u001B[0m\u001B[0;34m\u001B[0m\u001B[0;34m\u001B[0m\u001B[0m\n",
      "\u001B[0;32m/Library/Frameworks/Python.framework/Versions/3.9/lib/python3.9/site-packages/pandas/core/reshape/merge.py\u001B[0m in \u001B[0;36m_maybe_coerce_merge_keys\u001B[0;34m(self)\u001B[0m\n\u001B[1;32m   1254\u001B[0m                     \u001B[0minferred_right\u001B[0m \u001B[0;32min\u001B[0m \u001B[0mstring_types\u001B[0m \u001B[0;32mand\u001B[0m \u001B[0minferred_left\u001B[0m \u001B[0;32mnot\u001B[0m \u001B[0;32min\u001B[0m \u001B[0mstring_types\u001B[0m\u001B[0;34m\u001B[0m\u001B[0;34m\u001B[0m\u001B[0m\n\u001B[1;32m   1255\u001B[0m                 ):\n\u001B[0;32m-> 1256\u001B[0;31m                     \u001B[0;32mraise\u001B[0m \u001B[0mValueError\u001B[0m\u001B[0;34m(\u001B[0m\u001B[0mmsg\u001B[0m\u001B[0;34m)\u001B[0m\u001B[0;34m\u001B[0m\u001B[0;34m\u001B[0m\u001B[0m\n\u001B[0m\u001B[1;32m   1257\u001B[0m \u001B[0;34m\u001B[0m\u001B[0m\n\u001B[1;32m   1258\u001B[0m             \u001B[0;31m# datetimelikes must match exactly\u001B[0m\u001B[0;34m\u001B[0m\u001B[0;34m\u001B[0m\u001B[0;34m\u001B[0m\u001B[0m\n",
      "\u001B[0;31mValueError\u001B[0m: You are trying to merge on object and int64 columns. If you wish to proceed you should use pd.concat"
     ]
    }
   ],
   "source": [
    "\n",
    "df_merged_time_speed_delays = df_stop_delays.merge(df_vehicle_speed, how='outer', left_on=['LineId', 'CurrentStop', 'Direction', 'Time'], right_on=['LineIdFormatted','FromStop','Direction','hour'])"
   ],
   "metadata": {
    "collapsed": false,
    "pycharm": {
     "name": "#%%\n"
    }
   }
  },
  {
   "cell_type": "code",
   "execution_count": 18,
   "outputs": [
    {
     "name": "stdout",
     "output_type": "stream",
     "text": [
      "/Users/adambroniewski/Library/CloudStorage/OneDrive-UniversitéLibredeBruxelles/423-DataMining Hach My Ride Project/STIB Hach My Ride Project/notebooks\n"
     ]
    }
   ],
   "source": [],
   "metadata": {
    "collapsed": false,
    "pycharm": {
     "name": "#%%\n"
    }
   }
  }
 ],
 "metadata": {
  "kernelspec": {
   "display_name": "Python 3",
   "language": "python",
   "name": "python3"
  },
  "language_info": {
   "codemirror_mode": {
    "name": "ipython",
    "version": 2
   },
   "file_extension": ".py",
   "mimetype": "text/x-python",
   "name": "python",
   "nbconvert_exporter": "python",
   "pygments_lexer": "ipython2",
   "version": "2.7.6"
  }
 },
 "nbformat": 4,
 "nbformat_minor": 0
}