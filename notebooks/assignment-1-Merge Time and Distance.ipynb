{
 "cells": [
  {
   "cell_type": "markdown",
   "source": [
    "Calculate Speed"
   ],
   "metadata": {
    "collapsed": false
   }
  },
  {
   "cell_type": "code",
   "execution_count": 43,
   "outputs": [],
   "source": [
    "import pandas as pd\n",
    "\n",
    "stop_distance_path = '../Resources/DataConversions/stop_distance.csv'\n",
    "stop_time_path = '../Resources/DataConversions/assignment1/average_time_between_stops_filtered.csv'\n",
    "\n",
    "# initialize a dictionary that will be used to make a dataframe and csv file with the following format:\n",
    "# |  LineID      | FromStop      |   ToStop   |   0    |   1   | ... |  23   |\n",
    "stop_time = pd.read_csv(stop_time_path)\n",
    "\n",
    "# |    LineID    |   FromStop    |   ToStop   |   distance    |    fromIndex   |    toIndex   |\n",
    "stop_distance = pd.read_csv(stop_distance_path)\n",
    "stop_distance['FromStop'].astype('float_', copy=True, errors='raise')\n",
    "stop_distance['ToStop'].astype('float_', copy=True, errors='raise')\n",
    "\n",
    "def calculate_speed(time: DataFrame, distance: DataFrame) -> DataFrame:\n",
    "    merged_time_distance = time.merge(distance, how='left', on=['LineId', 'FromStop', 'ToStop'])\n",
    "    for hour in range(0,24):\n",
    "        merged_time_distance[f\"speed{hour}\"] = merged_time_distance['distance']/merged_time_distance[f\"{hour}\"]\n",
    "    merged_time_distance.drop(columns=['distance', 'fromIndex', 'toIndex',*[f'{i}' for i in range(24)]], inplace=True)\n",
    "    return merged_time_distance\n",
    "\n",
    "\n",
    "df_speed = calculate_speed(stop_time, stop_distance)\n",
    "\n",
    "df_speed.to_csv (r'../Resources/DataConversions/vehicleSpeed.csv', index = False, header=True)"
   ],
   "metadata": {
    "collapsed": false,
    "pycharm": {
     "name": "#%%\n"
    }
   }
  },
  {
   "cell_type": "markdown",
   "source": [],
   "metadata": {
    "collapsed": false,
    "pycharm": {
     "name": "#%% md\n"
    }
   }
  }
 ],
 "metadata": {
  "kernelspec": {
   "display_name": "Python 3",
   "language": "python",
   "name": "python3"
  },
  "language_info": {
   "codemirror_mode": {
    "name": "ipython",
    "version": 2
   },
   "file_extension": ".py",
   "mimetype": "text/x-python",
   "name": "python",
   "nbconvert_exporter": "python",
   "pygments_lexer": "ipython2",
   "version": "2.7.6"
  }
 },
 "nbformat": 4,
 "nbformat_minor": 0
}