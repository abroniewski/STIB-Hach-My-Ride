{
  "nbformat": 4,
  "nbformat_minor": 5,
  "metadata": {
    "kernelspec": {
      "display_name": "Python 3 (ipykernel)",
      "language": "python",
      "name": "python3"
    },
    "language_info": {
      "codemirror_mode": {
        "name": "ipython",
        "version": 3
      },
      "file_extension": ".py",
      "mimetype": "text/x-python",
      "name": "python",
      "nbconvert_exporter": "python",
      "pygments_lexer": "ipython3",
      "version": "3.8.10"
    },
    "colab": {
      "name": "Copy of assignment-2.ipynb",
      "provenance": [],
      "collapsed_sections": [
        "a2950aea",
        "4ac5a932",
        "_rXuL_CaNASL",
        "NDJh9i_rNB5i",
        "af1f7092"
      ]
    }
  },
  "cells": [
    {
      "cell_type": "code",
      "metadata": {
        "id": "4fbf3ceb"
      },
      "source": [
        "import pandas as pd\n",
        "import numpy as np\n",
        "import matplotlib.pyplot as plt\n",
        "%matplotlib inline\n",
        "from datetime import datetime\n",
        "import re\n",
        "import time"
      ],
      "id": "4fbf3ceb",
      "execution_count": 2,
      "outputs": []
    },
    {
      "cell_type": "markdown",
      "metadata": {
        "id": "a2950aea"
      },
      "source": [
        "# Data input"
      ],
      "id": "a2950aea"
    },
    {
      "cell_type": "code",
      "metadata": {
        "colab": {
          "base_uri": "https://localhost:8080/"
        },
        "id": "QsVehXjKciJB",
        "outputId": "99744b6d-182e-4e0c-9762-0d727e105f04"
      },
      "source": [
        "from google.colab import drive\n",
        "drive.mount('/content/drive')"
      ],
      "id": "QsVehXjKciJB",
      "execution_count": 2,
      "outputs": [
        {
          "output_type": "stream",
          "name": "stdout",
          "text": [
            "Mounted at /content/drive\n"
          ]
        }
      ]
    },
    {
      "cell_type": "code",
      "metadata": {
        "id": "f3fa2c0a"
      },
      "source": [
        "calendar_dates = pd.read_csv('/content/drive/MyDrive/hach-my-ride/gtfs3Sept/calendar.txt')\n",
        "routes = pd.read_csv('/content/drive/MyDrive/hach-my-ride/gtfs3Sept/routes.txt')\n",
        "stops = pd.read_csv('/content/drive/MyDrive/hach-my-ride/gtfs3Sept/stops.txt')\n",
        "stop_times = pd.read_csv('/content/drive/MyDrive/hach-my-ride/gtfs3Sept/stop_times.txt')\n",
        "trips = pd.read_csv('/content/drive/MyDrive/hach-my-ride/gtfs3Sept/trips.txt')"
      ],
      "id": "f3fa2c0a",
      "execution_count": null,
      "outputs": []
    },
    {
      "cell_type": "code",
      "metadata": {
        "id": "76dcebdb"
      },
      "source": [
        "vehicle_positions = pd.read_csv('/content/drive/MyDrive/hach-my-ride/vehiclePositionsTime.csv')"
      ],
      "id": "76dcebdb",
      "execution_count": null,
      "outputs": []
    },
    {
      "cell_type": "code",
      "metadata": {
        "id": "25de3fe0"
      },
      "source": [
        "# # timestamp -> date, hour, day\n",
        "# # USE ONLY ONCE IF YOU NEED TO GENERATE THE COLUMNS FROM THE BASE FILE VEHICLEPOSITOISN\n",
        "\n",
        "# weekdays = ['Monday','Tuesday','Wednesday', 'Thursday','Friday']\n",
        "\n",
        "# vehicle_positions['date'] = pd.to_datetime(vehicle_positions['Timestamp'], unit='ms')#.dt.strftime(\"%Y%m%d\").astype(int)\n",
        "# vehicle_positions['hour'] = pd.to_datetime(vehicle_positions['Timestamp'], unit='ms')#.dt.strftime(\"%H:%M:%S\")\n",
        "# vehicle_positions['day'] = pd.to_datetime(vehicle_positions['Timestamp'], unit='ms')#.dt.strftime(\"%A\") \\\n",
        "#                     # .apply(lambda x: 0 if x in weekdays else 1 if x=='Saturday' else 2 if x=='Sunday' else 3)\n",
        "# vehicle_positions['date'] = vehicle_positions['date'].dt.strftime(\"%Y%m%d\").astype(int)\n",
        "# vehicle_positions['hour'] = vehicle_positions['hour'].dt.strftime(\"%H:%M:%S\")\n",
        "# vehicle_positions['day'] = vehicle_positions['day'].dt.strftime(\"%A\") \\\n",
        "#                     .apply(lambda x: 0 if x in weekdays else 1 if x=='Saturday' else 2 if x=='Sunday' else 3)\n",
        "\n",
        "# vehicle_positions.to_csv('./vehiclePositionsTime.csv',mode='w', index=False)\n"
      ],
      "id": "25de3fe0",
      "execution_count": null,
      "outputs": []
    },
    {
      "cell_type": "markdown",
      "metadata": {
        "id": "4ac5a932"
      },
      "source": [
        "# Utility Functions"
      ],
      "id": "4ac5a932"
    },
    {
      "cell_type": "code",
      "metadata": {
        "id": "33902eb9"
      },
      "source": [
        "# some functions we use\n",
        "def get_sec(time_str):\n",
        "    \"\"\"Get Seconds from time.\"\"\"\n",
        "    h, m, s = time_str.split(':')\n",
        "    return int(h) * 3600 + int(m) * 60 + int(s)"
      ],
      "id": "33902eb9",
      "execution_count": 3,
      "outputs": []
    },
    {
      "cell_type": "code",
      "metadata": {
        "id": "Sp805Ns3VK-W"
      },
      "source": [
        "def get_hhmmss(seconds: int):\n",
        "  return time.strftime('%H:%M:%S', time.gmtime(seconds))\n"
      ],
      "id": "Sp805Ns3VK-W",
      "execution_count": 4,
      "outputs": []
    },
    {
      "cell_type": "markdown",
      "metadata": {
        "id": "1cac14ab"
      },
      "source": [
        "# Data Prep"
      ],
      "id": "1cac14ab"
    },
    {
      "cell_type": "markdown",
      "metadata": {
        "id": "e75fd37c"
      },
      "source": [
        "**Possible problems:**\n",
        "- Some lanes have different route_short_name. I think there is a line 1 and a M1, but they are the same line. Also, there are tram lines that have T## and others that don't have the T, like 93, 92\n",
        "- Departure and arrival times are the same. We can ommit one column\n",
        "    stop_times['arrival_time'].equals(stop_times['departure_time'])\n",
        "- The timestamp format is including miliseconds which give error (54061 year). we can remove the last 3 digitis which are the miliseconds"
      ],
      "id": "e75fd37c"
    },
    {
      "cell_type": "markdown",
      "metadata": {
        "id": "7fec285f"
      },
      "source": [
        "## Cleaning the stops from letters and padding the zeros. \n",
        "DOES NOT AFFECT THE STOPS, JUST MAKES THEM INTEGERS\n",
        "\n",
        "You can use .copy() in order to create a new variable, this way we only reference them."
      ],
      "id": "7fec285f"
    },
    {
      "cell_type": "code",
      "metadata": {
        "id": "a1deb36a",
        "colab": {
          "base_uri": "https://localhost:8080/",
          "height": 444
        },
        "outputId": "af32cb97-0f4e-476d-a9b9-09fbb2a43714"
      },
      "source": [
        "stops_cleaned = stops # remove the .copy() if you want the change to be made in stops, or do it directly there\n",
        "stops_cleaned['stop_id'] = stops_cleaned['stop_id'].map(lambda x: int(re.sub('[^0-9]', '', x))) # clean the letters and zeros\n",
        "stops_cleaned.drop_duplicates(subset=['stop_id'], keep='first') # remove the duplicates\n",
        "# stops_cleaned.to_csv('/content/drive/MyDrive/hach-my-ride/gtfs3Sept/stops_cleaned.csv') "
      ],
      "id": "a1deb36a",
      "execution_count": null,
      "outputs": [
        {
          "output_type": "execute_result",
          "data": {
            "text/html": [
              "<div>\n",
              "<style scoped>\n",
              "    .dataframe tbody tr th:only-of-type {\n",
              "        vertical-align: middle;\n",
              "    }\n",
              "\n",
              "    .dataframe tbody tr th {\n",
              "        vertical-align: top;\n",
              "    }\n",
              "\n",
              "    .dataframe thead th {\n",
              "        text-align: right;\n",
              "    }\n",
              "</style>\n",
              "<table border=\"1\" class=\"dataframe\">\n",
              "  <thead>\n",
              "    <tr style=\"text-align: right;\">\n",
              "      <th></th>\n",
              "      <th>stop_id</th>\n",
              "      <th>stop_code</th>\n",
              "      <th>stop_name</th>\n",
              "      <th>stop_desc</th>\n",
              "      <th>stop_lat</th>\n",
              "      <th>stop_lon</th>\n",
              "      <th>zone_id</th>\n",
              "      <th>stop_url</th>\n",
              "      <th>location_type</th>\n",
              "      <th>parent_station</th>\n",
              "    </tr>\n",
              "  </thead>\n",
              "  <tbody>\n",
              "    <tr>\n",
              "      <th>0</th>\n",
              "      <td>89</td>\n",
              "      <td>NaN</td>\n",
              "      <td>MONTGOMERY</td>\n",
              "      <td>NaN</td>\n",
              "      <td>50.838006</td>\n",
              "      <td>4.408970</td>\n",
              "      <td>NaN</td>\n",
              "      <td>NaN</td>\n",
              "      <td>0</td>\n",
              "      <td>37.0</td>\n",
              "    </tr>\n",
              "    <tr>\n",
              "      <th>1</th>\n",
              "      <td>470</td>\n",
              "      <td>NaN</td>\n",
              "      <td>SIMONIS</td>\n",
              "      <td>NaN</td>\n",
              "      <td>50.863666</td>\n",
              "      <td>4.329612</td>\n",
              "      <td>NaN</td>\n",
              "      <td>NaN</td>\n",
              "      <td>0</td>\n",
              "      <td>NaN</td>\n",
              "    </tr>\n",
              "    <tr>\n",
              "      <th>2</th>\n",
              "      <td>471</td>\n",
              "      <td>NaN</td>\n",
              "      <td>SIMONIS</td>\n",
              "      <td>NaN</td>\n",
              "      <td>50.863732</td>\n",
              "      <td>4.329236</td>\n",
              "      <td>NaN</td>\n",
              "      <td>NaN</td>\n",
              "      <td>0</td>\n",
              "      <td>53.0</td>\n",
              "    </tr>\n",
              "    <tr>\n",
              "      <th>3</th>\n",
              "      <td>472</td>\n",
              "      <td>NaN</td>\n",
              "      <td>SIMONIS</td>\n",
              "      <td>NaN</td>\n",
              "      <td>50.863543</td>\n",
              "      <td>4.329023</td>\n",
              "      <td>NaN</td>\n",
              "      <td>NaN</td>\n",
              "      <td>0</td>\n",
              "      <td>53.0</td>\n",
              "    </tr>\n",
              "    <tr>\n",
              "      <th>4</th>\n",
              "      <td>473</td>\n",
              "      <td>NaN</td>\n",
              "      <td>SIMONIS</td>\n",
              "      <td>NaN</td>\n",
              "      <td>50.863418</td>\n",
              "      <td>4.330031</td>\n",
              "      <td>NaN</td>\n",
              "      <td>NaN</td>\n",
              "      <td>0</td>\n",
              "      <td>NaN</td>\n",
              "    </tr>\n",
              "    <tr>\n",
              "      <th>...</th>\n",
              "      <td>...</td>\n",
              "      <td>...</td>\n",
              "      <td>...</td>\n",
              "      <td>...</td>\n",
              "      <td>...</td>\n",
              "      <td>...</td>\n",
              "      <td>...</td>\n",
              "      <td>...</td>\n",
              "      <td>...</td>\n",
              "      <td>...</td>\n",
              "    </tr>\n",
              "    <tr>\n",
              "      <th>2993</th>\n",
              "      <td>34</td>\n",
              "      <td>NaN</td>\n",
              "      <td>TOMBERG</td>\n",
              "      <td>NaN</td>\n",
              "      <td>50.844316</td>\n",
              "      <td>4.425819</td>\n",
              "      <td>NaN</td>\n",
              "      <td>NaN</td>\n",
              "      <td>1</td>\n",
              "      <td>NaN</td>\n",
              "    </tr>\n",
              "    <tr>\n",
              "      <th>2994</th>\n",
              "      <td>44</td>\n",
              "      <td>NaN</td>\n",
              "      <td>TRONE</td>\n",
              "      <td>NaN</td>\n",
              "      <td>50.840813</td>\n",
              "      <td>4.366354</td>\n",
              "      <td>NaN</td>\n",
              "      <td>NaN</td>\n",
              "      <td>1</td>\n",
              "      <td>NaN</td>\n",
              "    </tr>\n",
              "    <tr>\n",
              "      <th>2995</th>\n",
              "      <td>32</td>\n",
              "      <td>NaN</td>\n",
              "      <td>VANDERVELDE</td>\n",
              "      <td>NaN</td>\n",
              "      <td>50.847387</td>\n",
              "      <td>4.446705</td>\n",
              "      <td>NaN</td>\n",
              "      <td>NaN</td>\n",
              "      <td>1</td>\n",
              "      <td>NaN</td>\n",
              "    </tr>\n",
              "    <tr>\n",
              "      <th>2996</th>\n",
              "      <td>6</td>\n",
              "      <td>NaN</td>\n",
              "      <td>VEEWEYDE</td>\n",
              "      <td>NaN</td>\n",
              "      <td>50.829391</td>\n",
              "      <td>4.300578</td>\n",
              "      <td>NaN</td>\n",
              "      <td>NaN</td>\n",
              "      <td>1</td>\n",
              "      <td>NaN</td>\n",
              "    </tr>\n",
              "    <tr>\n",
              "      <th>2997</th>\n",
              "      <td>40</td>\n",
              "      <td>NaN</td>\n",
              "      <td>YSER</td>\n",
              "      <td>NaN</td>\n",
              "      <td>50.857225</td>\n",
              "      <td>4.351502</td>\n",
              "      <td>NaN</td>\n",
              "      <td>NaN</td>\n",
              "      <td>1</td>\n",
              "      <td>NaN</td>\n",
              "    </tr>\n",
              "  </tbody>\n",
              "</table>\n",
              "<p>2842 rows × 10 columns</p>\n",
              "</div>"
            ],
            "text/plain": [
              "      stop_id  stop_code    stop_name  ...  stop_url  location_type  parent_station\n",
              "0          89        NaN   MONTGOMERY  ...       NaN              0            37.0\n",
              "1         470        NaN      SIMONIS  ...       NaN              0             NaN\n",
              "2         471        NaN      SIMONIS  ...       NaN              0            53.0\n",
              "3         472        NaN      SIMONIS  ...       NaN              0            53.0\n",
              "4         473        NaN      SIMONIS  ...       NaN              0             NaN\n",
              "...       ...        ...          ...  ...       ...            ...             ...\n",
              "2993       34        NaN      TOMBERG  ...       NaN              1             NaN\n",
              "2994       44        NaN        TRONE  ...       NaN              1             NaN\n",
              "2995       32        NaN  VANDERVELDE  ...       NaN              1             NaN\n",
              "2996        6        NaN     VEEWEYDE  ...       NaN              1             NaN\n",
              "2997       40        NaN         YSER  ...       NaN              1             NaN\n",
              "\n",
              "[2842 rows x 10 columns]"
            ]
          },
          "metadata": {},
          "execution_count": 8
        }
      ]
    },
    {
      "cell_type": "code",
      "metadata": {
        "id": "f6041e39",
        "colab": {
          "base_uri": "https://localhost:8080/",
          "height": 424
        },
        "outputId": "51c8cd7d-515a-4fb7-dccb-8a0a90440825"
      },
      "source": [
        "stop_times_cleaned = stop_times # remove the .copy() if you want the change to be made in stops, or do it directly in the stops var\n",
        "stop_times_cleaned['stop_id'] = stop_times_cleaned['stop_id'].map(lambda x: int(re.sub('[^0-9]', '', str(x)))) # clean the letters and zeros\n",
        "stop_times_cleaned.drop_duplicates(subset=['stop_id'], keep='first') # remove the duplicates\n",
        "# stop_times_cleaned.to_csv('/content/drive/MyDrive/hach-my-ride/gtfs3Sept/stop_times_cleaned.csv') \n"
      ],
      "id": "f6041e39",
      "execution_count": null,
      "outputs": [
        {
          "output_type": "execute_result",
          "data": {
            "text/html": [
              "<div>\n",
              "<style scoped>\n",
              "    .dataframe tbody tr th:only-of-type {\n",
              "        vertical-align: middle;\n",
              "    }\n",
              "\n",
              "    .dataframe tbody tr th {\n",
              "        vertical-align: top;\n",
              "    }\n",
              "\n",
              "    .dataframe thead th {\n",
              "        text-align: right;\n",
              "    }\n",
              "</style>\n",
              "<table border=\"1\" class=\"dataframe\">\n",
              "  <thead>\n",
              "    <tr style=\"text-align: right;\">\n",
              "      <th></th>\n",
              "      <th>trip_id</th>\n",
              "      <th>arrival_time</th>\n",
              "      <th>departure_time</th>\n",
              "      <th>stop_id</th>\n",
              "      <th>stop_sequence</th>\n",
              "      <th>pickup_type</th>\n",
              "      <th>drop_off_type</th>\n",
              "    </tr>\n",
              "  </thead>\n",
              "  <tbody>\n",
              "    <tr>\n",
              "      <th>0</th>\n",
              "      <td>112387248235954071</td>\n",
              "      <td>21:07:00</td>\n",
              "      <td>21:07:00</td>\n",
              "      <td>4014</td>\n",
              "      <td>1</td>\n",
              "      <td>0</td>\n",
              "      <td>0</td>\n",
              "    </tr>\n",
              "    <tr>\n",
              "      <th>1</th>\n",
              "      <td>112387248235954071</td>\n",
              "      <td>21:09:00</td>\n",
              "      <td>21:09:00</td>\n",
              "      <td>3231</td>\n",
              "      <td>2</td>\n",
              "      <td>0</td>\n",
              "      <td>0</td>\n",
              "    </tr>\n",
              "    <tr>\n",
              "      <th>2</th>\n",
              "      <td>112387248235954071</td>\n",
              "      <td>21:10:08</td>\n",
              "      <td>21:10:08</td>\n",
              "      <td>3232</td>\n",
              "      <td>3</td>\n",
              "      <td>0</td>\n",
              "      <td>0</td>\n",
              "    </tr>\n",
              "    <tr>\n",
              "      <th>3</th>\n",
              "      <td>112387248235954071</td>\n",
              "      <td>21:11:00</td>\n",
              "      <td>21:11:00</td>\n",
              "      <td>3233</td>\n",
              "      <td>4</td>\n",
              "      <td>0</td>\n",
              "      <td>0</td>\n",
              "    </tr>\n",
              "    <tr>\n",
              "      <th>4</th>\n",
              "      <td>112387248235954071</td>\n",
              "      <td>21:11:43</td>\n",
              "      <td>21:11:43</td>\n",
              "      <td>3239</td>\n",
              "      <td>5</td>\n",
              "      <td>0</td>\n",
              "      <td>0</td>\n",
              "    </tr>\n",
              "    <tr>\n",
              "      <th>...</th>\n",
              "      <td>...</td>\n",
              "      <td>...</td>\n",
              "      <td>...</td>\n",
              "      <td>...</td>\n",
              "      <td>...</td>\n",
              "      <td>...</td>\n",
              "      <td>...</td>\n",
              "    </tr>\n",
              "    <tr>\n",
              "      <th>2738300</th>\n",
              "      <td>113320223237474503</td>\n",
              "      <td>24:42:42</td>\n",
              "      <td>24:42:42</td>\n",
              "      <td>5063</td>\n",
              "      <td>15</td>\n",
              "      <td>0</td>\n",
              "      <td>0</td>\n",
              "    </tr>\n",
              "    <tr>\n",
              "      <th>2739146</th>\n",
              "      <td>113320253237474503</td>\n",
              "      <td>06:03:46</td>\n",
              "      <td>06:03:46</td>\n",
              "      <td>5021</td>\n",
              "      <td>22</td>\n",
              "      <td>0</td>\n",
              "      <td>0</td>\n",
              "    </tr>\n",
              "    <tr>\n",
              "      <th>2739147</th>\n",
              "      <td>113320253237474503</td>\n",
              "      <td>06:04:48</td>\n",
              "      <td>06:04:48</td>\n",
              "      <td>5022</td>\n",
              "      <td>23</td>\n",
              "      <td>0</td>\n",
              "      <td>0</td>\n",
              "    </tr>\n",
              "    <tr>\n",
              "      <th>2760589</th>\n",
              "      <td>113141678236809000</td>\n",
              "      <td>06:01:00</td>\n",
              "      <td>06:01:00</td>\n",
              "      <td>2878</td>\n",
              "      <td>12</td>\n",
              "      <td>0</td>\n",
              "      <td>0</td>\n",
              "    </tr>\n",
              "    <tr>\n",
              "      <th>2760645</th>\n",
              "      <td>113141694236809000</td>\n",
              "      <td>24:31:00</td>\n",
              "      <td>24:31:00</td>\n",
              "      <td>2879</td>\n",
              "      <td>21</td>\n",
              "      <td>0</td>\n",
              "      <td>0</td>\n",
              "    </tr>\n",
              "  </tbody>\n",
              "</table>\n",
              "<p>2526 rows × 7 columns</p>\n",
              "</div>"
            ],
            "text/plain": [
              "                    trip_id arrival_time  ... pickup_type  drop_off_type\n",
              "0        112387248235954071     21:07:00  ...           0              0\n",
              "1        112387248235954071     21:09:00  ...           0              0\n",
              "2        112387248235954071     21:10:08  ...           0              0\n",
              "3        112387248235954071     21:11:00  ...           0              0\n",
              "4        112387248235954071     21:11:43  ...           0              0\n",
              "...                     ...          ...  ...         ...            ...\n",
              "2738300  113320223237474503     24:42:42  ...           0              0\n",
              "2739146  113320253237474503     06:03:46  ...           0              0\n",
              "2739147  113320253237474503     06:04:48  ...           0              0\n",
              "2760589  113141678236809000     06:01:00  ...           0              0\n",
              "2760645  113141694236809000     24:31:00  ...           0              0\n",
              "\n",
              "[2526 rows x 7 columns]"
            ]
          },
          "metadata": {},
          "execution_count": 9
        }
      ]
    },
    {
      "cell_type": "markdown",
      "metadata": {
        "id": "28854350"
      },
      "source": [
        "## Transforming the static data into one variable -> trips_merged"
      ],
      "id": "28854350"
    },
    {
      "cell_type": "code",
      "metadata": {
        "id": "fd358f3b"
      },
      "source": [
        "# transform calendar_dates\n",
        "# this way we only store one value because the calendar dates repeat\n",
        "# it is also done in the rest of the project\n",
        "# 0 - weekday, 1, saturday, 2 sunday, 3 else/\n",
        "calendar = pd.read_csv('/content/drive/MyDrive/hach-my-ride/gtfs3Sept/calendar.txt')\n",
        "calendar['day'] = calendar.apply(lambda x: 0 if x.monday==1 else 1 if x.saturday==1 else 2 if x.sunday==1 else 3 , axis=1)\n",
        "calendar.drop(['monday','tuesday','wednesday','thursday','friday','saturday','sunday'], axis=1, inplace=True)\n",
        "# calendar\n"
      ],
      "id": "fd358f3b",
      "execution_count": null,
      "outputs": []
    },
    {
      "cell_type": "code",
      "metadata": {
        "id": "e61ecf32"
      },
      "source": [
        "# make the big join, we have all the needed information\n",
        "# del trips_merged\n",
        "routes = routes[['route_id','route_short_name']]\n",
        "stops = stops[['stop_id','stop_name']]\n",
        "trips = trips[['route_id','service_id','trip_id','trip_headsign','direction_id']]\n",
        "stop_times = stop_times[['trip_id','arrival_time','stop_id','stop_sequence']]\n",
        "trips_merged = trips.merge(stop_times, on='trip_id', how='inner')\\\n",
        "                    .merge(calendar, on='service_id', how='inner')\\\n",
        "                    .merge(stops, on='stop_id', how='inner')\\\n",
        "                    .merge(routes, on='route_id', how='inner')\n"
      ],
      "id": "e61ecf32",
      "execution_count": null,
      "outputs": []
    },
    {
      "cell_type": "markdown",
      "metadata": {
        "id": "685346fd"
      },
      "source": [
        "## Generate data (lineXX, vehicleXX) for a certain line number"
      ],
      "id": "685346fd"
    },
    {
      "cell_type": "code",
      "metadata": {
        "id": "81619f92"
      },
      "source": [
        "def getLineAndVehicle(line_number: int):\n",
        "    line = trips_merged[trips_merged['route_short_name'] == str(line_number)]\n",
        "    vehicle = vehicle_positions[vehicle_positions['LineId'] == line_number]\n",
        "    return line, vehicle"
      ],
      "id": "81619f92",
      "execution_count": null,
      "outputs": []
    },
    {
      "cell_type": "code",
      "metadata": {
        "id": "4dac0e1c"
      },
      "source": [
        "def getStopName(stop_number: str):\n",
        "    for k,v in stops_dictionary.items():\n",
        "        if(stop_number in v):\n",
        "            return k"
      ],
      "id": "4dac0e1c",
      "execution_count": null,
      "outputs": []
    },
    {
      "cell_type": "code",
      "metadata": {
        "id": "2cd73e66"
      },
      "source": [
        "def matchTimeWithStops(line, vehicle_timestamp):\n",
        "    return line.loc[(line['stop_id'].values == vehicle_timestamp.PointId) & \\\n",
        "                (line['start_date'].values <= vehicle_timestamp.date) & \\\n",
        "                (line['end_date'].values >= vehicle_timestamp.date) & \\\n",
        "                (line['day'].values == vehicle_timestamp.day)]\n"
      ],
      "id": "2cd73e66",
      "execution_count": null,
      "outputs": []
    },
    {
      "cell_type": "code",
      "metadata": {
        "id": "eff7b261"
      },
      "source": [
        "def calculateTheDelay(delays, vehicle_row):\n",
        "    def f(x, vehicle_row):\n",
        "      return get_sec(vehicle_row) - get_sec(x)\n",
        "\n",
        "    fvec = np.vectorize(f)  # or use a different name if you want to keep the original f\n",
        "\n",
        "    result_array = fvec(delays.arrival_time, vehicle_row.hour)  # if A is your Numpy array\n",
        "    argmin = np.abs(result_array).argmin()\n",
        "    return result_array[argmin]"
      ],
      "id": "eff7b261",
      "execution_count": null,
      "outputs": []
    },
    {
      "cell_type": "code",
      "metadata": {
        "id": "vbu836_JFkJg"
      },
      "source": [
        "def filterVehicles(vehicles):\n",
        "  first_vehicle = line.arrival_time.min()\n",
        "  last_vehicle = line.arrival_time.max() # could be > '24:00:00'\n",
        "\n",
        "  # dropping by earliest vehicles (also removes the after midnight busses)\n",
        "  # we give a window of 1 minute if it leaves earlier \n",
        "  vehicles.drop(vehicles.loc[(vehicles['hour'].values <= get_hhmmss(get_sec(first_vehicle) - 60))].index, inplace=True)\n",
        "\n",
        "  # dropping busses after the last vehicle\n",
        "  # It is optional because if it's past midnight it is dropped by the previous drop\n",
        "  if(last_vehicle < '24:00:00'):\n",
        "    vehicles.drop(vehicles.loc[(vehicles['hour'].values >= last_vehicle)].index, inplace=True)\n",
        "  \n",
        "  vehicles.drop(vehicles.loc[(vehicles['DistanceFromPoint'].values != 0)].index, inplace=True)"
      ],
      "id": "vbu836_JFkJg",
      "execution_count": null,
      "outputs": []
    },
    {
      "cell_type": "code",
      "metadata": {
        "id": "83e4fb67"
      },
      "source": [
        "# If delays is empty (ex with bus 95) we get: ValueError: Columns must be same length as key\n",
        "# Da vidam kako ke rabotam so tie sto ne mi davaat vrednost\n",
        "# Da smislam kako ke gi zacuvam delovite. dali ke gi stavam kako kolona\n",
        "\n",
        "line_numbers = vehicle_positions.LineId.unique()\n",
        "\n",
        "for number in line_numbers[25:]:\n",
        "    line, vehicles = getLineAndVehicle(number)\n",
        "    filterVehicles(vehicles)\n",
        "    print(f\"LINE{number}\")\n",
        "    total_delays = []\n",
        "    total_arrival_time = []\n",
        "    \n",
        "    for index, vehicle_row in vehicles.iterrows(): # go through each bus that is on the stop\n",
        "        delays = matchTimeWithStops(line, vehicle_row) # get the delays from the matched possible stoptimes for that vehicle in that line\n",
        "\n",
        "        if delays.empty != True: # avoid when it doesn't find anything\n",
        "            # print(f\"line{number} {index} size: {line.size}, possible matches: {delays.size}\")\n",
        "            final_delay = calculateTheDelay(delays, vehicle_row)\n",
        "            # print(f\"for timestamp: {final_delay}\")\n",
        "            total_delays.append(final_delay)\n",
        "        else:\n",
        "            total_delays.append(None)\n",
        "        \n",
        "    vehicles['delay'] = total_delays\n",
        "    vehicles.to_csv(f'/content/drive/MyDrive/hach-my-ride/delays2/vehicleDelaysLine{number}.csv',mode='w', index=False)\n",
        "    # break"
      ],
      "id": "83e4fb67",
      "execution_count": null,
      "outputs": []
    },
    {
      "cell_type": "markdown",
      "metadata": {
        "id": "jX2LkAXBILKL"
      },
      "source": [
        "# Cleaning the delays\n"
      ],
      "id": "jX2LkAXBILKL"
    },
    {
      "cell_type": "code",
      "metadata": {
        "id": "l9EhFQc0ISoB"
      },
      "source": [
        "# d1 = pd.read_csv('/content/drive/MyDrive/hach-my-ride/delays/vehicleDelays.csv')\n",
        "delays_uncleaned = pd.read_csv('/content/drive/MyDrive/hach-my-ride/delays2/vehicleDelays.csv')\n",
        "delays = delays_uncleaned.dropna(subset=['delay'])"
      ],
      "id": "l9EhFQc0ISoB",
      "execution_count": 6,
      "outputs": []
    },
    {
      "cell_type": "code",
      "metadata": {
        "colab": {
          "base_uri": "https://localhost:8080/"
        },
        "id": "IimJ55SFIcoh",
        "outputId": "7c39e3d1-ea64-47e4-e302-e6abe38f0355"
      },
      "source": [
        "# How many vp did we lost in total?\n",
        "delay_nulls = delays_uncleaned.delay.isnull().sum(axis = 0)\n",
        "delay_size = delays_uncleaned.delay.size\n",
        "\n",
        "# TODO: check if this is okay stats\n",
        "print(f\"The number of null values:\\t{delay_nulls}\")\n",
        "print(f\"The number of total values:\\t{delay_size}\")\n",
        "print(f\"Percentage of null values:\\t{delay_nulls / delay_size * 100}\")"
      ],
      "id": "IimJ55SFIcoh",
      "execution_count": null,
      "outputs": [
        {
          "output_type": "stream",
          "name": "stdout",
          "text": [
            "The number of null values:\t1216547\n",
            "The number of total values:\t6416423\n",
            "Percentage of null values:\t18.959894009481605\n"
          ]
        }
      ]
    },
    {
      "cell_type": "code",
      "metadata": {
        "id": "ee-5F221Yh63",
        "colab": {
          "base_uri": "https://localhost:8080/",
          "height": 631
        },
        "outputId": "2fb86a63-34d1-46ae-b2dc-c69e1fd80c17"
      },
      "source": [
        "# How many vp did we last for every line in total\n",
        "dropped_rows_by_line = delays_uncleaned.groupby(['LineId'])['delay'].agg(lambda x: x.isnull().sum() / x.count() *100)\n",
        "dropped_rows_by_line.plot(kind='bar', figsize=(15,5))\n",
        "dropped_rows_by_line = dropped_rows_by_line.sort_values()\n",
        "\n",
        "print(\"Lines with the smallest number of dropped rows\")\n",
        "print(dropped_rows_by_line.head())\n",
        "\n",
        "print(\"Lines with the highest number of dropped rows\")\n",
        "print(dropped_rows_by_line.tail())\n",
        "\n",
        "print(f\"Average number of rows dropped by ever line {dropped_rows_by_line.mean()} %\")"
      ],
      "id": "ee-5F221Yh63",
      "execution_count": null,
      "outputs": [
        {
          "output_type": "stream",
          "name": "stdout",
          "text": [
            "Lines with the smallest number of dropped rows\n",
            "LineId\n",
            "92    16.075647\n",
            "28    16.851053\n",
            "56    17.273302\n",
            "33    17.309073\n",
            "46    17.384483\n",
            "Name: delay, dtype: float64\n",
            "Lines with the highest number of dropped rows\n",
            "LineId\n",
            "59     31.110529\n",
            "48     36.063127\n",
            "95     74.109571\n",
            "70     85.121092\n",
            "37    127.620014\n",
            "Name: delay, dtype: float64\n",
            "Average number of rows dropped by ever line 24.2899758249539 %\n"
          ]
        },
        {
          "output_type": "display_data",
          "data": {
            "image/png": "[encoded data removed]",
            "text/plain": [
              "<Figure size 1080x360 with 1 Axes>"
            ]
          },
          "metadata": {
            "needs_background": "light"
          }
        }
      ]
    },
    {
      "cell_type": "code",
      "metadata": {
        "colab": {
          "base_uri": "https://localhost:8080/",
          "height": 353
        },
        "id": "jau575sxhwMA",
        "outputId": "02abb5f1-7a0d-481a-945d-2f7ef3bc6977"
      },
      "source": [
        "# CHECK THE OUTLIERS\n",
        "\n",
        "# remove the medians 69, 77\n",
        "# work on 42\n",
        "#\n",
        "delays.groupby('LineId')['delay'].median().plot(kind='bar', figsize=(15,5))\n",
        "# from the median table we can drop line 69 and 77"
      ],
      "id": "jau575sxhwMA",
      "execution_count": 57,
      "outputs": [
        {
          "output_type": "execute_result",
          "data": {
            "text/plain": [
              "<matplotlib.axes._subplots.AxesSubplot at 0x7f4979462cd0>"
            ]
          },
          "metadata": {},
          "execution_count": 57
        },
        {
          "output_type": "display_data",
          "data": {
            "image/png": "[encoded data removed]",
            "text/plain": [
              "<Figure size 1080x360 with 1 Axes>"
            ]
          },
          "metadata": {
            "needs_background": "light"
          }
        }
      ]
    },
    {
      "cell_type": "code",
      "metadata": {
        "colab": {
          "base_uri": "https://localhost:8080/"
        },
        "id": "IVg3MtsP-vXv",
        "outputId": "c3f0b822-1b77-4dae-ca82-ddf0e9ba91f5"
      },
      "source": [
        "delays.drop(delays.loc[delays['LineId'] == 69].index, inplace=True)\n",
        "delays.drop(delays.loc[delays['LineId'] == 77].index, inplace=True)"
      ],
      "id": "IVg3MtsP-vXv",
      "execution_count": 7,
      "outputs": [
        {
          "output_type": "stream",
          "name": "stderr",
          "text": [
            "/usr/local/lib/python3.7/dist-packages/pandas/core/frame.py:4174: SettingWithCopyWarning: \n",
            "A value is trying to be set on a copy of a slice from a DataFrame\n",
            "\n",
            "See the caveats in the documentation: https://pandas.pydata.org/pandas-docs/stable/user_guide/indexing.html#returning-a-view-versus-a-copy\n",
            "  errors=errors,\n",
            "/usr/local/lib/python3.7/dist-packages/pandas/core/frame.py:4174: SettingWithCopyWarning: \n",
            "A value is trying to be set on a copy of a slice from a DataFrame\n",
            "\n",
            "See the caveats in the documentation: https://pandas.pydata.org/pandas-docs/stable/user_guide/indexing.html#returning-a-view-versus-a-copy\n",
            "  errors=errors,\n"
          ]
        }
      ]
    },
    {
      "cell_type": "code",
      "metadata": {
        "colab": {
          "base_uri": "https://localhost:8080/",
          "height": 353
        },
        "id": "ob4bWFYG-wEj",
        "outputId": "4950cbf9-a7fd-4bc7-def1-47f7b2bd40bb"
      },
      "source": [
        "delays.groupby('LineId')['delay'].mean().plot(kind='bar', figsize=(15,5))"
      ],
      "id": "ob4bWFYG-wEj",
      "execution_count": null,
      "outputs": [
        {
          "output_type": "execute_result",
          "data": {
            "text/plain": [
              "<matplotlib.axes._subplots.AxesSubplot at 0x7f3b0ddcb890>"
            ]
          },
          "metadata": {},
          "execution_count": 108
        },
        {
          "output_type": "display_data",
          "data": {
            "image/png": "[encoded data removed]",
            "text/plain": [
              "<Figure size 1080x360 with 1 Axes>"
            ]
          },
          "metadata": {
            "needs_background": "light"
          }
        }
      ]
    },
    {
      "cell_type": "code",
      "metadata": {
        "id": "Lv9yhFt-ibEO"
      },
      "source": [
        "def filterByIntervalDelay(delays, mindelay: int, maxdelay: int):\n",
        "  delays.drop(delays.loc[(delays['delay'].values > maxdelay)].index, inplace=True)\n",
        "  delays.drop(delays.loc[(delays['delay'].values < mindelay)].index, inplace=True)"
      ],
      "id": "Lv9yhFt-ibEO",
      "execution_count": 8,
      "outputs": []
    },
    {
      "cell_type": "code",
      "metadata": {
        "colab": {
          "base_uri": "https://localhost:8080/",
          "height": 356
        },
        "id": "eTdePKS0ndx0",
        "outputId": "964d612f-8a57-4a86-d902-9072ba048b99"
      },
      "source": [
        "delays.groupby('LineId')['delay'].mean().plot(kind='bar', figsize=(15,5))"
      ],
      "id": "eTdePKS0ndx0",
      "execution_count": null,
      "outputs": [
        {
          "output_type": "execute_result",
          "data": {
            "text/plain": [
              "<matplotlib.axes._subplots.AxesSubplot at 0x7f3b0e06c410>"
            ]
          },
          "metadata": {},
          "execution_count": 113
        },
        {
          "output_type": "display_data",
          "data": {
            "image/png": "[encoded data removed]",
            "text/plain": [
              "<Figure size 1080x360 with 1 Axes>"
            ]
          },
          "metadata": {
            "needs_background": "light"
          }
        }
      ]
    },
    {
      "cell_type": "code",
      "metadata": {
        "id": "Gl2Mm1nVNS21",
        "colab": {
          "base_uri": "https://localhost:8080/"
        },
        "outputId": "fe99e826-00a6-4bde-ca4b-0b2df00c133d"
      },
      "source": [
        "filterByIntervalDelay(delays, -300, 720)"
      ],
      "id": "Gl2Mm1nVNS21",
      "execution_count": 9,
      "outputs": [
        {
          "output_type": "stream",
          "name": "stderr",
          "text": [
            "/usr/local/lib/python3.7/dist-packages/pandas/core/frame.py:4174: SettingWithCopyWarning: \n",
            "A value is trying to be set on a copy of a slice from a DataFrame\n",
            "\n",
            "See the caveats in the documentation: https://pandas.pydata.org/pandas-docs/stable/user_guide/indexing.html#returning-a-view-versus-a-copy\n",
            "  errors=errors,\n"
          ]
        }
      ]
    },
    {
      "cell_type": "markdown",
      "metadata": {
        "id": "_rXuL_CaNASL"
      },
      "source": [
        "# Delays by stop"
      ],
      "id": "_rXuL_CaNASL"
    },
    {
      "cell_type": "code",
      "metadata": {
        "colab": {
          "base_uri": "https://localhost:8080/"
        },
        "id": "b8_hnPhvN9EN",
        "outputId": "7ff16178-c515-462b-dfd5-28349b7cc955"
      },
      "source": [
        "# stops that have the biggest delay\n",
        "delay_by_stop = delays.groupby('PointId')['delay'].mean()\n",
        "delay_by_stop = delay_by_stop.sort_values()\n",
        "delay_by_stop.tail()"
      ],
      "id": "b8_hnPhvN9EN",
      "execution_count": null,
      "outputs": [
        {
          "output_type": "execute_result",
          "data": {
            "text/plain": [
              "PointId\n",
              "2582     7244.000000\n",
              "5458    12216.000000\n",
              "5480    12759.553846\n",
              "1531    27858.054674\n",
              "2904    31561.200000\n",
              "Name: delay, dtype: float64"
            ]
          },
          "metadata": {},
          "execution_count": 16
        }
      ]
    },
    {
      "cell_type": "code",
      "metadata": {
        "id": "Qh6Cdx9pioeA",
        "colab": {
          "base_uri": "https://localhost:8080/"
        },
        "outputId": "d01dfb79-6773-4785-b89b-30a4995f9aed"
      },
      "source": [
        "# stop that are very early\n",
        "delay_by_stop.head()"
      ],
      "id": "Qh6Cdx9pioeA",
      "execution_count": null,
      "outputs": [
        {
          "output_type": "execute_result",
          "data": {
            "text/plain": [
              "PointId\n",
              "8732   -392.662787\n",
              "1958   -345.000000\n",
              "1008   -223.000000\n",
              "2478   -218.800000\n",
              "3529   -149.181818\n",
              "Name: delay, dtype: float64"
            ]
          },
          "metadata": {},
          "execution_count": 17
        }
      ]
    },
    {
      "cell_type": "code",
      "metadata": {
        "id": "P7Rldpocir2l",
        "colab": {
          "base_uri": "https://localhost:8080/"
        },
        "outputId": "193e2253-de9a-49d0-da62-65773df96334"
      },
      "source": [
        "# stops that are the closest to be on time\n",
        "delay_by_stop[delay_by_stop.abs().sort_values().head(10).index]"
      ],
      "id": "P7Rldpocir2l",
      "execution_count": null,
      "outputs": [
        {
          "output_type": "execute_result",
          "data": {
            "text/plain": [
              "PointId\n",
              "5062     1.000000\n",
              "8081     1.628109\n",
              "2892     4.344828\n",
              "8132    -5.202256\n",
              "8142     7.223628\n",
              "4299    -7.295302\n",
              "9635    10.000000\n",
              "4455    10.056338\n",
              "6368    13.828767\n",
              "8102    17.073200\n",
              "Name: delay, dtype: float64"
            ]
          },
          "metadata": {},
          "execution_count": 18
        }
      ]
    },
    {
      "cell_type": "code",
      "metadata": {
        "colab": {
          "base_uri": "https://localhost:8080/"
        },
        "id": "DlMyftYyf_4_",
        "outputId": "4d2b31c5-cbde-4d30-f057-4c560cb71c48"
      },
      "source": [
        "# line that has the biggest delay\n",
        "delay_by_line = delays.groupby('LineId')['delay'].mean()\n",
        "delay_by_line = delay_by_line.sort_values()\n",
        "delay_by_line.tail()"
      ],
      "id": "DlMyftYyf_4_",
      "execution_count": null,
      "outputs": [
        {
          "output_type": "execute_result",
          "data": {
            "text/plain": [
              "LineId\n",
              "61    1256.180177\n",
              "80    1314.079215\n",
              "77    2864.170427\n",
              "69    2986.620938\n",
              "42    6115.813631\n",
              "Name: delay, dtype: float64"
            ]
          },
          "metadata": {},
          "execution_count": 19
        }
      ]
    },
    {
      "cell_type": "code",
      "metadata": {
        "id": "Ticm8Qzhf7Jg",
        "colab": {
          "base_uri": "https://localhost:8080/"
        },
        "outputId": "fec9c6d8-e18b-4e20-b5e3-bd54416672d1"
      },
      "source": [
        "# line that is early\n",
        "delay_by_line.head()"
      ],
      "id": "Ticm8Qzhf7Jg",
      "execution_count": null,
      "outputs": [
        {
          "output_type": "execute_result",
          "data": {
            "text/plain": [
              "LineId\n",
              "1      -5.119148\n",
              "66    143.585800\n",
              "63    157.287312\n",
              "83    162.936478\n",
              "71    168.820725\n",
              "Name: delay, dtype: float64"
            ]
          },
          "metadata": {},
          "execution_count": 20
        }
      ]
    },
    {
      "cell_type": "code",
      "metadata": {
        "id": "F8g9SEUhgCVb",
        "colab": {
          "base_uri": "https://localhost:8080/"
        },
        "outputId": "a0f1b631-8ce3-4fbb-e2a5-1f2b2965ac4a"
      },
      "source": [
        "# line that is most on time\n",
        "delay_by_line[delay_by_line.abs().sort_values().head(5).index]"
      ],
      "id": "F8g9SEUhgCVb",
      "execution_count": null,
      "outputs": [
        {
          "output_type": "execute_result",
          "data": {
            "text/plain": [
              "LineId\n",
              "1      -5.119148\n",
              "66    143.585800\n",
              "63    157.287312\n",
              "83    162.936478\n",
              "71    168.820725\n",
              "Name: delay, dtype: float64"
            ]
          },
          "metadata": {},
          "execution_count": 21
        }
      ]
    },
    {
      "cell_type": "code",
      "metadata": {
        "colab": {
          "base_uri": "https://localhost:8080/"
        },
        "id": "wG4grxK9gCPc",
        "outputId": "a08b4b23-0979-47b1-fbc0-de11c25a240b"
      },
      "source": [
        "# for each line get distribution how late they are. see if they are more on the left right\n",
        "# get which ones are me late/less late\n",
        "\n",
        "\n",
        "# stops[stops.stop_id.isin(delays_stops.get(1))]\n",
        "\n",
        "# delays.groupby(['LineId', 'PointId'])['delay'].mean()\n",
        "# stops\n",
        "delays_with_stop_names = delays.merge(stops, how='inner', left_on='PointId', right_on='stop_id')\n",
        "delays_with_stop_names.groupby(['LineId', 'stop_name'], sort=False)['delay'].mean().get(1)\n",
        "# df.iloc[df.prod(1).argsort()]\n",
        "# delays.iloc[\n",
        "# delays_stops.\n",
        "# df.loc[df['column_name'].isin(some_values)]\n",
        "# delays_stops.get(1)\n",
        "# delays_with_stop_names\n",
        "\n",
        "delays_stops = delays.groupby('LineId')['PointId'].unique()\n",
        "# delays_stops.get(1)\n",
        "delays_stops"
      ],
      "id": "wG4grxK9gCPc",
      "execution_count": null,
      "outputs": [
        {
          "output_type": "execute_result",
          "data": {
            "text/plain": [
              "LineId\n",
              "1     [8142, 8282, 8111, 8281, 8162, 8151, 8733, 874...\n",
              "2     [8401, 8441, 8743, 8754, 8302, 8472, 8322, 835...\n",
              "3     [6253, 5701, 6179, 2338, 506, 606, 2537, 5704,...\n",
              "4     [1985, 4501, 6423, 526, 5920, 705, 5024, 5025,...\n",
              "5     [8211, 8011, 8262, 8671, 8641, 8261, 8711, 827...\n",
              "                            ...                        \n",
              "92    [5315, 6437, 5064, 6413, 6461, 6430, 5029, 693...\n",
              "93    [5400, 2537, 2543, 6314, 2878, 5405, 5471, 540...\n",
              "95    [4306, 4351, 3514, 1983, 3558, 2268, 6432, 434...\n",
              "97    [5120, 5721, 5722, 2336, 2708, 6428, 5723, 575...\n",
              "98    [5952, 1951, 2384, 2382, 5058, 5922, 9686, 385...\n",
              "Name: PointId, Length: 74, dtype: object"
            ]
          },
          "metadata": {},
          "execution_count": 19
        }
      ]
    },
    {
      "cell_type": "code",
      "metadata": {
        "colab": {
          "base_uri": "https://localhost:8080/"
        },
        "id": "7hB53bluEVAQ",
        "outputId": "100ef4b6-5146-4366-a91f-845ac779a032"
      },
      "source": [
        "# for each line get distribution how late they are. see if they are more on the left right\n",
        "# get which ones are me late/less late\n",
        "\n",
        "\n",
        "# stops[stops.stop_id.isin(delays_stops.get(1))]\n",
        "\n",
        "# delays.groupby(['LineId', 'PointId'])['delay'].mean()\n",
        "# stops\n",
        "delays_with_stop_names = delays.merge(stops, how='inner', left_on='PointId', right_on='stop_id')\n",
        "delays_with_stop_names.groupby(['LineId', 'stop_name'], sort=False)['delay'].mean().get(1)\n",
        "# df.iloc[df.prod(1).argsort()]\n",
        "# delays.iloc[\n",
        "# delays_stops.\n",
        "# df.loc[df['column_name'].isin(some_values)]\n",
        "# delays_stops.get(1)\n",
        "# delays_with_stop_names\n",
        "\n",
        "delays_stops = delays.groupby('LineId')['PointId'].unique()\n",
        "# delays_stops.get(1)\n",
        "delays_stops"
      ],
      "id": "7hB53bluEVAQ",
      "execution_count": null,
      "outputs": [
        {
          "output_type": "execute_result",
          "data": {
            "text/plain": [
              "LineId\n",
              "1     [8142, 8282, 8111, 8281, 8162, 8151, 8733, 874...\n",
              "2     [8401, 8441, 8743, 8754, 8302, 8472, 8322, 835...\n",
              "3     [6253, 5701, 6179, 2338, 506, 606, 2537, 5704,...\n",
              "4     [1985, 4501, 6423, 526, 5920, 705, 5024, 5025,...\n",
              "5     [8211, 8011, 8262, 8671, 8641, 8261, 8711, 827...\n",
              "                            ...                        \n",
              "92    [5315, 6437, 5064, 6413, 6461, 6430, 5029, 693...\n",
              "93    [5400, 2537, 2543, 6314, 2878, 5405, 5471, 540...\n",
              "95    [4306, 4351, 3514, 1983, 3558, 2268, 6432, 434...\n",
              "97    [5120, 5721, 5722, 2336, 2708, 6428, 5723, 575...\n",
              "98    [5952, 1951, 2384, 2382, 5058, 5922, 9686, 385...\n",
              "Name: PointId, Length: 74, dtype: object"
            ]
          },
          "metadata": {},
          "execution_count": 24
        }
      ]
    },
    {
      "cell_type": "code",
      "metadata": {
        "id": "94qlTzteEV-i",
        "colab": {
          "base_uri": "https://localhost:8080/",
          "height": 297
        },
        "outputId": "145a4b83-6da4-4483-bff0-02f0396c8422"
      },
      "source": [
        "# for each line get distribution how late they are. see if they are more on the left right\n",
        "# get which ones are me late/less late\n",
        "\n",
        "# TODO: find a way to get all the lines from beginning to terminus and sort the data like that.\n",
        "# This way we will have a representation how the delay can grow/decrease after each station\n",
        "# Or maybe there is no need for that because every time we have a different direction\n",
        "\n",
        "delays_with_stop_names = delays.merge(stops, how='inner', left_on='PointId', right_on='stop_id')\n",
        "l1 = delays_with_stop_names.groupby(['LineId','stop_name'], sort=False)['delay'].mean().get(42)\n",
        "\n",
        "l1.plot()"
      ],
      "id": "94qlTzteEV-i",
      "execution_count": null,
      "outputs": [
        {
          "output_type": "execute_result",
          "data": {
            "text/plain": [
              "<matplotlib.axes._subplots.AxesSubplot at 0x7f6e99cdfd10>"
            ]
          },
          "metadata": {},
          "execution_count": 30
        },
        {
          "output_type": "display_data",
          "data": {
            "image/png": "[encoded data removed]",
            "text/plain": [
              "<Figure size 432x288 with 1 Axes>"
            ]
          },
          "metadata": {
            "needs_background": "light"
          }
        }
      ]
    },
    {
      "cell_type": "markdown",
      "metadata": {
        "id": "NDJh9i_rNB5i"
      },
      "source": [
        "# Delays through time"
      ],
      "id": "NDJh9i_rNB5i"
    },
    {
      "cell_type": "code",
      "metadata": {
        "id": "wDa8O1f_CZLo"
      },
      "source": [
        "def get_hour(hour_str: str):\n",
        "  return int(hour_str.split(':')[0])"
      ],
      "id": "wDa8O1f_CZLo",
      "execution_count": null,
      "outputs": []
    },
    {
      "cell_type": "code",
      "metadata": {
        "id": "lTT4g379DcHT"
      },
      "source": [
        "# creating the hour_interval column to know in which hour is the delay\n",
        "delays['hour_interval'] = delays['hour'].apply(lambda x: get_hour(x))"
      ],
      "id": "lTT4g379DcHT",
      "execution_count": null,
      "outputs": []
    },
    {
      "cell_type": "code",
      "metadata": {
        "id": "G2S-TqDvEWC_"
      },
      "source": [
        "delays.hour_interval.values"
      ],
      "id": "G2S-TqDvEWC_",
      "execution_count": null,
      "outputs": []
    },
    {
      "cell_type": "code",
      "metadata": {
        "colab": {
          "base_uri": "https://localhost:8080/"
        },
        "id": "2l83pNpmVKAP",
        "outputId": "bd561f26-10d8-48db-8e1b-5828321e7033"
      },
      "source": [
        "delays_with_stop_names.interval.value_counts()"
      ],
      "id": "2l83pNpmVKAP",
      "execution_count": null,
      "outputs": [
        {
          "output_type": "execute_result",
          "data": {
            "text/plain": [
              "3    1713995\n",
              "4    1124644\n",
              "2     980313\n",
              "5     715243\n",
              "1     668605\n",
              "0     350798\n",
              "6     303017\n",
              "Name: interval, dtype: int64"
            ]
          },
          "metadata": {},
          "execution_count": 36
        }
      ]
    },
    {
      "cell_type": "code",
      "metadata": {
        "colab": {
          "base_uri": "https://localhost:8080/"
        },
        "id": "bSJcRfrIgiIZ",
        "outputId": "6d982879-951b-47c9-84fe-14d54433d5da"
      },
      "source": [
        "# What point of the day do we have the biggest delays\n",
        "\n",
        "# XXX: here we notice that in the morning they are super super slow\n",
        "# ISSUE: We get None for the night (if we use 1AM)\n",
        "\n",
        "delays_with_stop_names.groupby('interval')['delay'].mean()"
      ],
      "id": "bSJcRfrIgiIZ",
      "execution_count": null,
      "outputs": [
        {
          "output_type": "execute_result",
          "data": {
            "text/plain": [
              "interval\n",
              "0    5919.427172\n",
              "1     507.623769\n",
              "2      88.618672\n",
              "3      60.165338\n",
              "4      32.115012\n",
              "5      22.934435\n",
              "6      14.131514\n",
              "Name: delay, dtype: float64"
            ]
          },
          "metadata": {},
          "execution_count": 37
        }
      ]
    },
    {
      "cell_type": "code",
      "metadata": {
        "colab": {
          "base_uri": "https://localhost:8080/"
        },
        "id": "pZG30d1IgjYa",
        "outputId": "c800aebf-82a3-42f2-f903-5735a9402bc0"
      },
      "source": [
        "# Get which line is slow at what point of the day\n",
        "delays_with_stop_names.groupby(['LineId', 'interval'])['delay'].median()"
      ],
      "id": "pZG30d1IgjYa",
      "execution_count": null,
      "outputs": [
        {
          "output_type": "execute_result",
          "data": {
            "text/plain": [
              "LineId  interval\n",
              "1       0            -34.0\n",
              "        1            -30.0\n",
              "        2            -32.0\n",
              "        3            -33.0\n",
              "        4            -32.0\n",
              "                     ...  \n",
              "98      2             -8.5\n",
              "        3             -9.0\n",
              "        4              3.0\n",
              "        5             63.0\n",
              "        6          -1214.5\n",
              "Name: delay, Length: 507, dtype: float64"
            ]
          },
          "metadata": {},
          "execution_count": 42
        }
      ]
    },
    {
      "cell_type": "code",
      "metadata": {
        "colab": {
          "base_uri": "https://localhost:8080/"
        },
        "id": "mZdsbu2tgrgY",
        "outputId": "52727a52-649b-49b5-ceae-8816e4a9d7e5"
      },
      "source": [
        "# Get the delays for each stop at different point of day\n",
        "delays_with_stop_names.groupby(['stop_name', 'interval'])['delay'].mean()"
      ],
      "id": "mZdsbu2tgrgY",
      "execution_count": null,
      "outputs": [
        {
          "output_type": "execute_result",
          "data": {
            "text/plain": [
              "stop_name  interval\n",
              "ABBAYE     0           4901.848837\n",
              "           1            356.206897\n",
              "           2             -8.754762\n",
              "           3             -4.750000\n",
              "           4             -0.694497\n",
              "                          ...     \n",
              "ZEPHYR     2            -22.641791\n",
              "           3            -51.625000\n",
              "           4            -35.806452\n",
              "           5            -12.090909\n",
              "           6            191.142857\n",
              "Name: delay, Length: 6030, dtype: float64"
            ]
          },
          "metadata": {},
          "execution_count": 41
        }
      ]
    },
    {
      "cell_type": "code",
      "metadata": {
        "id": "GJSIBlpxX7ci"
      },
      "source": [
        "# Get the delays for each stop for a single line at different point of day"
      ],
      "id": "GJSIBlpxX7ci",
      "execution_count": null,
      "outputs": []
    },
    {
      "cell_type": "code",
      "metadata": {
        "colab": {
          "base_uri": "https://localhost:8080/"
        },
        "id": "7D-zPy7SX7VW",
        "outputId": "12f50f7b-9bd7-4d67-8fad-78fe2367b337"
      },
      "source": [
        "# Foreach interval get the stop that is the busiest\n",
        "delays_with_stop_names.groupby(['interval','stop_name'])['delay'].mean()"
      ],
      "id": "7D-zPy7SX7VW",
      "execution_count": null,
      "outputs": [
        {
          "output_type": "execute_result",
          "data": {
            "text/plain": [
              "interval  stop_name        \n",
              "0         ABBAYE               4901.848837\n",
              "          ACACIAS              2671.000000\n",
              "          AERODROME            3639.608696\n",
              "          ALBERT               9767.059359\n",
              "          ALBERT I             3934.085774\n",
              "                                  ...     \n",
              "6         YSER                 -851.256949\n",
              "          ZAMAN-FOREST NAT.     -42.568000\n",
              "          ZAVELPUT               28.512195\n",
              "          ZEECRABBE             -57.333333\n",
              "          ZEPHYR                191.142857\n",
              "Name: delay, Length: 6030, dtype: float64"
            ]
          },
          "metadata": {},
          "execution_count": 116
        }
      ]
    },
    {
      "cell_type": "code",
      "metadata": {
        "id": "Dl5BMFlWYLnT"
      },
      "source": [
        "delays_with_stop_names.groupby(['stop_name', 'interval'])['delay'].mean()"
      ],
      "id": "Dl5BMFlWYLnT",
      "execution_count": null,
      "outputs": []
    },
    {
      "cell_type": "code",
      "metadata": {
        "id": "eAGPJeD2gw7Z"
      },
      "source": [
        "# Map how it gradually goes up and down for each hour"
      ],
      "id": "eAGPJeD2gw7Z",
      "execution_count": null,
      "outputs": []
    },
    {
      "cell_type": "code",
      "metadata": {
        "id": "4qe4FB8wg2cb"
      },
      "source": [
        "delays"
      ],
      "id": "4qe4FB8wg2cb",
      "execution_count": null,
      "outputs": []
    },
    {
      "cell_type": "code",
      "metadata": {
        "id": "n9Mf2lj8AsDa"
      },
      "source": [
        "delays_with_stop_names['delay'] = delays_with_stop_names['delay'].astype(int)"
      ],
      "id": "n9Mf2lj8AsDa",
      "execution_count": null,
      "outputs": []
    },
    {
      "cell_type": "code",
      "metadata": {
        "id": "DPK1rxrs_To-"
      },
      "source": [
        "dd = delays_with_stop_names[(delays_with_stop_names['delay'] <= 900) & (delays_with_stop_names['delay'] > -900)]"
      ],
      "id": "DPK1rxrs_To-",
      "execution_count": null,
      "outputs": []
    },
    {
      "cell_type": "code",
      "metadata": {
        "id": "n-SkPNpLA45J"
      },
      "source": [
        "a = dd.groupby(['interval','LineId'])['delay'].mean()"
      ],
      "id": "n-SkPNpLA45J",
      "execution_count": null,
      "outputs": []
    },
    {
      "cell_type": "markdown",
      "metadata": {
        "id": "LgN7IdNaEjzV"
      },
      "source": [
        "# Export data"
      ],
      "id": "LgN7IdNaEjzV"
    },
    {
      "cell_type": "code",
      "metadata": {
        "id": "CSiGR46zJ8bX"
      },
      "source": [
        "delays.drop(columns=['DistanceFromPoint'], axis=1, inplace=True)\n",
        "delays.columns = ['Timestamp', 'LineId', 'TerminusStop', 'CurrentStop', 'Date','Hour','Day','Delay']\n",
        "delays['Delay'] = delays['Delay'].astype(int)\n",
        "delays['ExpectedArrivalTime'] = [ get_hhmmss(get_sec(x) + y) for x, y in zip(delays['Hour'], delays['Delay'])]\n",
        "delays['Delay'] = delays['Delay'] * -1\n"
      ],
      "id": "CSiGR46zJ8bX",
      "execution_count": null,
      "outputs": []
    },
    {
      "cell_type": "code",
      "metadata": {
        "colab": {
          "base_uri": "https://localhost:8080/"
        },
        "id": "EAyiPvFx3bBn",
        "outputId": "3cc49aca-34c9-42ac-a788-2a03b9b00af8"
      },
      "source": [
        ""
      ],
      "id": "EAyiPvFx3bBn",
      "execution_count": 12,
      "outputs": [
        {
          "output_type": "execute_result",
          "data": {
            "text/plain": [
              "38686256"
            ]
          },
          "metadata": {},
          "execution_count": 12
        }
      ]
    },
    {
      "cell_type": "code",
      "metadata": {
        "id": "OXa2-kslFFz-"
      },
      "source": [
        ""
      ],
      "id": "OXa2-kslFFz-",
      "execution_count": null,
      "outputs": []
    },
    {
      "cell_type": "code",
      "metadata": {
        "id": "t4KvdKrHNXDV"
      },
      "source": [
        "delays.to_csv('/content/drive/MyDrive/hach-my-ride/delaysNoDuplicates.csv', index=False)"
      ],
      "id": "t4KvdKrHNXDV",
      "execution_count": 18,
      "outputs": []
    },
    {
      "cell_type": "code",
      "metadata": {
        "colab": {
          "base_uri": "https://localhost:8080/",
          "height": 143
        },
        "id": "t3WO0Dcu9m92",
        "outputId": "a30dc19d-dc2e-49cd-db3f-df3547c8f8c9"
      },
      "source": [
        "pd.set_option(\"display.max_rows\", None)\n",
        "delays.head(3)"
      ],
      "id": "t3WO0Dcu9m92",
      "execution_count": 113,
      "outputs": [
        {
          "output_type": "execute_result",
          "data": {
            "text/html": [
              "<div>\n",
              "<style scoped>\n",
              "    .dataframe tbody tr th:only-of-type {\n",
              "        vertical-align: middle;\n",
              "    }\n",
              "\n",
              "    .dataframe tbody tr th {\n",
              "        vertical-align: top;\n",
              "    }\n",
              "\n",
              "    .dataframe thead th {\n",
              "        text-align: right;\n",
              "    }\n",
              "</style>\n",
              "<table border=\"1\" class=\"dataframe\">\n",
              "  <thead>\n",
              "    <tr style=\"text-align: right;\">\n",
              "      <th></th>\n",
              "      <th>Timestamp</th>\n",
              "      <th>LineId</th>\n",
              "      <th>TerminusStop</th>\n",
              "      <th>CurrentStop</th>\n",
              "      <th>Date</th>\n",
              "      <th>Hour</th>\n",
              "      <th>Day</th>\n",
              "      <th>Delay</th>\n",
              "      <th>ExpectedArrivalTime</th>\n",
              "    </tr>\n",
              "  </thead>\n",
              "  <tbody>\n",
              "    <tr>\n",
              "      <th>0</th>\n",
              "      <td>1630914886924</td>\n",
              "      <td>12</td>\n",
              "      <td>9600</td>\n",
              "      <td>9600</td>\n",
              "      <td>20210906</td>\n",
              "      <td>07:54:46</td>\n",
              "      <td>0</td>\n",
              "      <td>286</td>\n",
              "      <td>07:50:00</td>\n",
              "    </tr>\n",
              "    <tr>\n",
              "      <th>1</th>\n",
              "      <td>1630914886924</td>\n",
              "      <td>12</td>\n",
              "      <td>1780</td>\n",
              "      <td>9600</td>\n",
              "      <td>20210906</td>\n",
              "      <td>07:54:46</td>\n",
              "      <td>0</td>\n",
              "      <td>286</td>\n",
              "      <td>07:50:00</td>\n",
              "    </tr>\n",
              "    <tr>\n",
              "      <th>2</th>\n",
              "      <td>1630914886924</td>\n",
              "      <td>12</td>\n",
              "      <td>9600</td>\n",
              "      <td>1780</td>\n",
              "      <td>20210906</td>\n",
              "      <td>07:54:46</td>\n",
              "      <td>0</td>\n",
              "      <td>-14</td>\n",
              "      <td>07:55:00</td>\n",
              "    </tr>\n",
              "  </tbody>\n",
              "</table>\n",
              "</div>"
            ],
            "text/plain": [
              "       Timestamp  LineId  TerminusStop  ...  Day  Delay ExpectedArrivalTime\n",
              "0  1630914886924      12          9600  ...    0    286            07:50:00\n",
              "1  1630914886924      12          1780  ...    0    286            07:50:00\n",
              "2  1630914886924      12          9600  ...    0    -14            07:55:00\n",
              "\n",
              "[3 rows x 9 columns]"
            ]
          },
          "metadata": {},
          "execution_count": 113
        }
      ]
    },
    {
      "cell_type": "code",
      "metadata": {
        "colab": {
          "base_uri": "https://localhost:8080/"
        },
        "id": "E1pXhFN9QiuT",
        "outputId": "8c15db4d-1aa7-4625-aff9-b784cee0c627"
      },
      "source": [
        "delays.drop_duplicates(keep='first', inplace=True)"
      ],
      "id": "E1pXhFN9QiuT",
      "execution_count": 16,
      "outputs": [
        {
          "output_type": "stream",
          "name": "stderr",
          "text": [
            "/usr/local/lib/python3.7/dist-packages/ipykernel_launcher.py:1: SettingWithCopyWarning: \n",
            "A value is trying to be set on a copy of a slice from a DataFrame\n",
            "\n",
            "See the caveats in the documentation: https://pandas.pydata.org/pandas-docs/stable/user_guide/indexing.html#returning-a-view-versus-a-copy\n",
            "  \"\"\"Entry point for launching an IPython kernel.\n"
          ]
        }
      ]
    },
    {
      "cell_type": "code",
      "metadata": {
        "id": "TZjnFzhBSL-5"
      },
      "source": [
        "d1 = delays.copy()\n",
        "d2 = delays.copy()"
      ],
      "id": "TZjnFzhBSL-5",
      "execution_count": 20,
      "outputs": []
    },
    {
      "cell_type": "code",
      "metadata": {
        "id": "80RuA_jBRz3T"
      },
      "source": [
        "# delays_first = d1.drop_duplicates(subset=['LineId','Date','Day','TerminusStop','CurrentStop','ExpectedArrivalTime'], keep='first')\n",
        "final_filtered_delays[final_filtered_delays['LineId'] == 17].groupby(['LineId','Date','Day','TerminusStop','CurrentStop','ExpectedArrivalTime'])['Delay'].agg(list)\n",
        "# delays_first.to_csv('/content/drive/MyDrive/hach-my-ride/delays_first.csv', index=False)"
      ],
      "id": "80RuA_jBRz3T",
      "execution_count": null,
      "outputs": []
    },
    {
      "cell_type": "code",
      "metadata": {
        "id": "eU3FXpreVuDS"
      },
      "source": [
        "line_numbers = delays.LineId.unique()\n",
        "drop_condition = ['LineId','Date','Day','TerminusStop','CurrentStop','ExpectedArrivalTime']\n",
        "\n",
        "all_delays = []\n",
        "\n",
        "for line in line_numbers:\n",
        "  # print(delays_first[delays_first['LineId'] == line].Delay.shape)\n",
        "  start_stops = np.unique(delays[delays['LineId'] == line]['TerminusStop'].values)\n",
        "\n",
        "  start_delays = delays.loc[(delays[\"LineId\"] == line) & \\\n",
        "                            (delays['TerminusStop'] != delays['CurrentStop']) & \\\n",
        "                            (delays['CurrentStop'].isin(start_stops))]\n",
        "  start_delays = start_delays.drop_duplicates(subset=drop_condition, keep='last')\n",
        "  # print(start_delays.Delay.size)\n",
        "\n",
        "  regular_delays = delays.loc[(delays['LineId'] == line) & \\\n",
        "                              ~(delays['CurrentStop'].isin(start_stops))]\n",
        "\n",
        "  regular_delays = regular_delays.drop_duplicates(subset=drop_condition, keep='first')\n",
        "\n",
        "  # print(regular_delays.Delay.size)\n",
        "  terminus_delays = delays.loc[(delays['LineId'] == line) & \\\n",
        "                               (delays['TerminusStop'] == delays['CurrentStop'])]\n",
        "\n",
        "  terminus_delays = terminus_delays.drop_duplicates(subset=drop_condition, keep='first')\n",
        "\n",
        "  # print(terminus_delays.Delay.size)\n",
        "\n",
        "  df_concat = pd.concat([start_delays.reset_index(drop=True),\\\n",
        "                         regular_delays.reset_index(drop=True),\\\n",
        "                         terminus_delays.reset_index(drop=True)])\n",
        "  \n",
        "  all_delays.append(df_concat.reset_index(drop=True))\n",
        "\n",
        "\n",
        "final_filtered_delays = pd.concat(all_delays)"
      ],
      "id": "eU3FXpreVuDS",
      "execution_count": 110,
      "outputs": []
    },
    {
      "cell_type": "code",
      "metadata": {
        "id": "ImLbNkaXkooB"
      },
      "source": [
        "final_filtered_delays.to_csv('/content/drive/MyDrive/hach-my-ride/final_filtered_delays.csv', index=False)"
      ],
      "id": "ImLbNkaXkooB",
      "execution_count": 115,
      "outputs": []
    },
    {
      "cell_type": "code",
      "metadata": {
        "colab": {
          "base_uri": "https://localhost:8080/",
          "height": 444
        },
        "id": "CUcGp3xPYyly",
        "outputId": "6c1ef535-5c73-409d-b2cf-4e2dd9faa573"
      },
      "source": [
        "# pd.reset_option('^display.', silent=True)\n",
        "st = np.unique(final_filtered_delays[final_filtered_delays['LineId'] == 17]['TerminusStop'].values)\n",
        "k = final_filtered_delays.loc[(final_filtered_delays['LineId'] == 17) & ~(final_filtered_delays['CurrentStop'].isin(st))]\n",
        "k.loc[k['TerminusStop'] != k['CurrentStop']]"
      ],
      "id": "CUcGp3xPYyly",
      "execution_count": 72,
      "outputs": [
        {
          "output_type": "execute_result",
          "data": {
            "text/html": [
              "<div>\n",
              "<style scoped>\n",
              "    .dataframe tbody tr th:only-of-type {\n",
              "        vertical-align: middle;\n",
              "    }\n",
              "\n",
              "    .dataframe tbody tr th {\n",
              "        vertical-align: top;\n",
              "    }\n",
              "\n",
              "    .dataframe thead th {\n",
              "        text-align: right;\n",
              "    }\n",
              "</style>\n",
              "<table border=\"1\" class=\"dataframe\">\n",
              "  <thead>\n",
              "    <tr style=\"text-align: right;\">\n",
              "      <th></th>\n",
              "      <th>Timestamp</th>\n",
              "      <th>LineId</th>\n",
              "      <th>TerminusStop</th>\n",
              "      <th>CurrentStop</th>\n",
              "      <th>Date</th>\n",
              "      <th>Hour</th>\n",
              "      <th>Day</th>\n",
              "      <th>Delay</th>\n",
              "      <th>ExpectedArrivalTime</th>\n",
              "    </tr>\n",
              "  </thead>\n",
              "  <tbody>\n",
              "    <tr>\n",
              "      <th>147385</th>\n",
              "      <td>1630914978881</td>\n",
              "      <td>17</td>\n",
              "      <td>9059</td>\n",
              "      <td>4342</td>\n",
              "      <td>20210906</td>\n",
              "      <td>07:56:18</td>\n",
              "      <td>0</td>\n",
              "      <td>202</td>\n",
              "      <td>07:52:56</td>\n",
              "    </tr>\n",
              "    <tr>\n",
              "      <th>147393</th>\n",
              "      <td>1630915234479</td>\n",
              "      <td>17</td>\n",
              "      <td>9059</td>\n",
              "      <td>1472</td>\n",
              "      <td>20210906</td>\n",
              "      <td>08:00:34</td>\n",
              "      <td>0</td>\n",
              "      <td>137</td>\n",
              "      <td>07:58:17</td>\n",
              "    </tr>\n",
              "    <tr>\n",
              "      <th>147394</th>\n",
              "      <td>1630915268784</td>\n",
              "      <td>17</td>\n",
              "      <td>9059</td>\n",
              "      <td>1472</td>\n",
              "      <td>20210906</td>\n",
              "      <td>08:01:08</td>\n",
              "      <td>0</td>\n",
              "      <td>171</td>\n",
              "      <td>07:58:17</td>\n",
              "    </tr>\n",
              "    <tr>\n",
              "      <th>147395</th>\n",
              "      <td>1630915300426</td>\n",
              "      <td>17</td>\n",
              "      <td>9059</td>\n",
              "      <td>1472</td>\n",
              "      <td>20210906</td>\n",
              "      <td>08:01:40</td>\n",
              "      <td>0</td>\n",
              "      <td>203</td>\n",
              "      <td>07:58:17</td>\n",
              "    </tr>\n",
              "    <tr>\n",
              "      <th>147396</th>\n",
              "      <td>1630915334425</td>\n",
              "      <td>17</td>\n",
              "      <td>9059</td>\n",
              "      <td>1472</td>\n",
              "      <td>20210906</td>\n",
              "      <td>08:02:14</td>\n",
              "      <td>0</td>\n",
              "      <td>237</td>\n",
              "      <td>07:58:17</td>\n",
              "    </tr>\n",
              "    <tr>\n",
              "      <th>...</th>\n",
              "      <td>...</td>\n",
              "      <td>...</td>\n",
              "      <td>...</td>\n",
              "      <td>...</td>\n",
              "      <td>...</td>\n",
              "      <td>...</td>\n",
              "      <td>...</td>\n",
              "      <td>...</td>\n",
              "      <td>...</td>\n",
              "    </tr>\n",
              "    <tr>\n",
              "      <th>172280</th>\n",
              "      <td>1632002133581</td>\n",
              "      <td>17</td>\n",
              "      <td>4297</td>\n",
              "      <td>4351</td>\n",
              "      <td>20210918</td>\n",
              "      <td>21:55:33</td>\n",
              "      <td>1</td>\n",
              "      <td>273</td>\n",
              "      <td>21:51:00</td>\n",
              "    </tr>\n",
              "    <tr>\n",
              "      <th>172281</th>\n",
              "      <td>1632002228201</td>\n",
              "      <td>17</td>\n",
              "      <td>4297</td>\n",
              "      <td>4348</td>\n",
              "      <td>20210918</td>\n",
              "      <td>21:57:08</td>\n",
              "      <td>1</td>\n",
              "      <td>273</td>\n",
              "      <td>21:52:35</td>\n",
              "    </tr>\n",
              "    <tr>\n",
              "      <th>172311</th>\n",
              "      <td>1632003812193</td>\n",
              "      <td>17</td>\n",
              "      <td>9059</td>\n",
              "      <td>1453</td>\n",
              "      <td>20210918</td>\n",
              "      <td>22:23:32</td>\n",
              "      <td>1</td>\n",
              "      <td>-536</td>\n",
              "      <td>22:32:28</td>\n",
              "    </tr>\n",
              "    <tr>\n",
              "      <th>172317</th>\n",
              "      <td>1632004628534</td>\n",
              "      <td>17</td>\n",
              "      <td>9059</td>\n",
              "      <td>4289</td>\n",
              "      <td>20210918</td>\n",
              "      <td>22:37:08</td>\n",
              "      <td>1</td>\n",
              "      <td>47</td>\n",
              "      <td>22:36:21</td>\n",
              "    </tr>\n",
              "    <tr>\n",
              "      <th>172333</th>\n",
              "      <td>1632005630957</td>\n",
              "      <td>17</td>\n",
              "      <td>4297</td>\n",
              "      <td>4357</td>\n",
              "      <td>20210918</td>\n",
              "      <td>22:53:50</td>\n",
              "      <td>1</td>\n",
              "      <td>-102</td>\n",
              "      <td>22:55:32</td>\n",
              "    </tr>\n",
              "  </tbody>\n",
              "</table>\n",
              "<p>5325 rows × 9 columns</p>\n",
              "</div>"
            ],
            "text/plain": [
              "            Timestamp  LineId  TerminusStop  ...  Day  Delay ExpectedArrivalTime\n",
              "147385  1630914978881      17          9059  ...    0    202            07:52:56\n",
              "147393  1630915234479      17          9059  ...    0    137            07:58:17\n",
              "147394  1630915268784      17          9059  ...    0    171            07:58:17\n",
              "147395  1630915300426      17          9059  ...    0    203            07:58:17\n",
              "147396  1630915334425      17          9059  ...    0    237            07:58:17\n",
              "...               ...     ...           ...  ...  ...    ...                 ...\n",
              "172280  1632002133581      17          4297  ...    1    273            21:51:00\n",
              "172281  1632002228201      17          4297  ...    1    273            21:52:35\n",
              "172311  1632003812193      17          9059  ...    1   -536            22:32:28\n",
              "172317  1632004628534      17          9059  ...    1     47            22:36:21\n",
              "172333  1632005630957      17          4297  ...    1   -102            22:55:32\n",
              "\n",
              "[5325 rows x 9 columns]"
            ]
          },
          "metadata": {},
          "execution_count": 72
        }
      ]
    },
    {
      "cell_type": "code",
      "metadata": {
        "colab": {
          "base_uri": "https://localhost:8080/",
          "height": 101
        },
        "id": "ND0TymSg3nRH",
        "outputId": "2a7a6df8-acec-4f75-b2ff-57301ee30c10"
      },
      "source": [
        "d17 = delays[delays['LineId'] == 17]#.sort_values(by=['Date', 'CurrentStop', 'ExpectedArrivalTime'])\n",
        "d17.head(1)"
      ],
      "id": "ND0TymSg3nRH",
      "execution_count": 109,
      "outputs": [
        {
          "output_type": "execute_result",
          "data": {
            "text/html": [
              "<div>\n",
              "<style scoped>\n",
              "    .dataframe tbody tr th:only-of-type {\n",
              "        vertical-align: middle;\n",
              "    }\n",
              "\n",
              "    .dataframe tbody tr th {\n",
              "        vertical-align: top;\n",
              "    }\n",
              "\n",
              "    .dataframe thead th {\n",
              "        text-align: right;\n",
              "    }\n",
              "</style>\n",
              "<table border=\"1\" class=\"dataframe\">\n",
              "  <thead>\n",
              "    <tr style=\"text-align: right;\">\n",
              "      <th></th>\n",
              "      <th>Timestamp</th>\n",
              "      <th>LineId</th>\n",
              "      <th>TerminusStop</th>\n",
              "      <th>CurrentStop</th>\n",
              "      <th>Date</th>\n",
              "      <th>Hour</th>\n",
              "      <th>Day</th>\n",
              "      <th>Delay</th>\n",
              "      <th>ExpectedArrivalTime</th>\n",
              "    </tr>\n",
              "  </thead>\n",
              "  <tbody>\n",
              "    <tr>\n",
              "      <th>245977</th>\n",
              "      <td>1630914886924</td>\n",
              "      <td>17</td>\n",
              "      <td>9059</td>\n",
              "      <td>4297</td>\n",
              "      <td>20210906</td>\n",
              "      <td>07:54:46</td>\n",
              "      <td>0</td>\n",
              "      <td>-46.0</td>\n",
              "      <td>07:55:32</td>\n",
              "    </tr>\n",
              "  </tbody>\n",
              "</table>\n",
              "</div>"
            ],
            "text/plain": [
              "            Timestamp  LineId  TerminusStop  ...  Day  Delay ExpectedArrivalTime\n",
              "245977  1630914886924      17          9059  ...    0  -46.0            07:55:32\n",
              "\n",
              "[1 rows x 9 columns]"
            ]
          },
          "metadata": {},
          "execution_count": 109
        }
      ]
    },
    {
      "cell_type": "code",
      "metadata": {
        "id": "JrV3r8S5-Mpa"
      },
      "source": [
        "d17.groupby(['Date','Day','TerminusStop','CurrentStop','ExpectedArrivalTime'])['Delay'].apply(list)"
      ],
      "id": "JrV3r8S5-Mpa",
      "execution_count": null,
      "outputs": []
    },
    {
      "cell_type": "markdown",
      "metadata": {
        "id": "af1f7092"
      },
      "source": [
        "# Interesting things"
      ],
      "id": "af1f7092"
    },
    {
      "cell_type": "code",
      "metadata": {
        "id": "e75472dc",
        "outputId": "d9193ec5-e6be-4a41-f38d-b0e8256dbf40"
      },
      "source": [
        "# if we inner join the stations we will loose like 213049 timestamps because 7104 is missing\n",
        "# TODO: check how right join will work, or maybe get terminus and add the stops\n",
        "vehicle['DirectionId'].value_counts()"
      ],
      "id": "e75472dc",
      "execution_count": null,
      "outputs": [
        {
          "data": {
            "text/plain": [
              "3522    28601\n",
              "5407    13075\n",
              "3520      311\n",
              "6468      260\n",
              "Name: DirectionId, dtype: int64"
            ]
          },
          "execution_count": 143,
          "metadata": {},
          "output_type": "execute_result"
        }
      ]
    },
    {
      "cell_type": "code",
      "metadata": {
        "id": "3dd9955b",
        "outputId": "646ad62f-a55d-4e20-be32-4b4a7b90870c"
      },
      "source": [
        "# the progression of busses being close to a station \n",
        "[len(vehicle[vehicle['DistanceFromPoint'].apply(lambda x: x<=i)]) for i in range(20)]\n",
        "\n"
      ],
      "id": "3dd9955b",
      "execution_count": null,
      "outputs": [
        {
          "data": {
            "text/plain": [
              "[10426,\n",
              " 10506,\n",
              " 10581,\n",
              " 10629,\n",
              " 10685,\n",
              " 10736,\n",
              " 10777,\n",
              " 10815,\n",
              " 10853,\n",
              " 10886,\n",
              " 10904,\n",
              " 10943,\n",
              " 10971,\n",
              " 10998,\n",
              " 11016,\n",
              " 11034,\n",
              " 11046,\n",
              " 11075,\n",
              " 11093,\n",
              " 11111]"
            ]
          },
          "execution_count": 142,
          "metadata": {},
          "output_type": "execute_result"
        }
      ]
    },
    {
      "cell_type": "code",
      "metadata": {
        "id": "31cc5501"
      },
      "source": [
        ""
      ],
      "id": "31cc5501",
      "execution_count": null,
      "outputs": []
    },
    {
      "cell_type": "code",
      "metadata": {
        "id": "BrKi8GiVyOZ6"
      },
      "source": [
        "d = pd.from_csv('/content/drive/MyDrive/hach-my-ride/delays.csv')"
      ],
      "id": "BrKi8GiVyOZ6",
      "execution_count": null,
      "outputs": []
    }
  ]
}