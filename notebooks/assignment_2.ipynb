{
 "cells": [
  {
   "cell_type": "code",
   "execution_count": 2,
   "id": "4fbf3ceb",
   "metadata": {
    "id": "4fbf3ceb"
   },
   "outputs": [],
   "source": [
    "import pandas as pd\n",
    "import numpy as np\n",
    "import matplotlib.pyplot as plt\n",
    "%matplotlib inline\n",
    "from datetime import datetime\n",
    "import re\n",
    "import time"
   ]
  },
  {
   "cell_type": "markdown",
   "id": "BBGgAsV2j5zj",
   "metadata": {
    "id": "BBGgAsV2j5zj"
   },
   "source": [
    "# Assignment 2\n",
    "\n",
    "## Calculating and Analyzing Stop Delays"
   ]
  },
  {
   "cell_type": "markdown",
   "id": "g2dLyQf_wwqt",
   "metadata": {
    "id": "g2dLyQf_wwqt"
   },
   "source": [
    "## What are we looking to accomplish?\n",
    "\n",
    "Here we will again be loading in files available from STIB API as well as some files that were processed earlier during speed analysis.\n",
    "\n",
    " > #### The most significant challenge to calculate delays is determining whether a bus arriving at a stop is late or early.\n",
    "\n",
    "Assumptions needed to be made to create a manageable data set for further predictions. An early approach was to match a buses actual arrival time at a stop to the nearest scheduled time, however this resulted in very symmetric delay data — a bus was considered early or late an equal number of times. New limits were put in place that reflect client expectations. A STIB client does not care WHICH bus they are getting on.\n",
    "\n",
    "For example, if a bus is meant to arrive at 12:10, 12:20 and 12:30, it doesn't matter that a bus that was supposed to arrive at 12:20 actually arrives at 12:30. To manage these scenarios, there is a lower bound in place for how early a bus is allowed to be (current it is set to `200 secounds`). An upper bound is set at `1400 secounds` based on a visual heatmap analysis of the delay times to see choose a reasonable time outside of outliers.\n",
    "\n",
    "To begin, we will import required libraries and define some helper functions before doing some additional transformation of the data to suit our needs."
   ]
  },
  {
   "cell_type": "markdown",
   "id": "4ac5a932",
   "metadata": {
    "id": "4ac5a932"
   },
   "source": [
    "## Utility Functions\n",
    "\n",
    "Functions that we use all around our assignment. \n"
   ]
  },
  {
   "cell_type": "code",
   "execution_count": 3,
   "id": "33902eb9",
   "metadata": {
    "id": "33902eb9"
   },
   "outputs": [],
   "source": [
    "# get seconds from hh:mm:ss format\n",
    "def get_sec(time_str):\n",
    "    \"\"\"Get Seconds from time.\"\"\"\n",
    "    h, m, s = time_str.split(':')\n",
    "    return int(h) * 3600 + int(m) * 60 + int(s)"
   ]
  },
  {
   "cell_type": "code",
   "execution_count": 4,
   "id": "Sp805Ns3VK-W",
   "metadata": {
    "id": "Sp805Ns3VK-W"
   },
   "outputs": [],
   "source": [
    "# get hh:mm:ss format from seconds\n",
    "def get_hhmmss(seconds: int):\n",
    "  return time.strftime('%H:%M:%S', time.gmtime(seconds))\n"
   ]
  },
  {
   "cell_type": "code",
   "execution_count": 5,
   "id": "nXyt74-ak9mK",
   "metadata": {
    "id": "nXyt74-ak9mK"
   },
   "outputs": [],
   "source": [
    "# get hour from hh:mm:ss\n",
    "def get_hour(hour_str: str):\n",
    "  return int(hour_str.split(':')[0])"
   ]
  },
  {
   "cell_type": "markdown",
   "id": "a2950aea",
   "metadata": {
    "id": "a2950aea"
   },
   "source": [
    "# Data input and processing\n",
    "\n",
    "\n"
   ]
  },
  {
   "cell_type": "markdown",
   "id": "rpVKyA52KcN1",
   "metadata": {
    "id": "rpVKyA52KcN1"
   },
   "source": [
    "In this part of the assignment we are loading the static data and the vehicle snapshots to our notebook because we will need to calculate the delays for the vehicles that or on a stop.\n",
    "We need to see the structure of the data, analyze it and decide how we are going to manipulate it in order to use it for our assignment.\n",
    "\n",
    "We are using the gtfs files from September 3rd which we will reffere to as **static** files and the vehicle positions as **vehicle positoins or dynamic data**."
   ]
  },
  {
   "cell_type": "markdown",
   "id": "bKEHYOCRyvIj",
   "metadata": {
    "id": "bKEHYOCRyvIj"
   },
   "source": [
    "## Static GTFS Data\n"
   ]
  },
  {
   "cell_type": "markdown",
   "id": "bd0zhU3PvCH0",
   "metadata": {
    "id": "bd0zhU3PvCH0"
   },
   "source": [
    "Loading the static data:"
   ]
  },
  {
   "cell_type": "code",
   "execution_count": 38,
   "id": "f3fa2c0a",
   "metadata": {
    "id": "f3fa2c0a"
   },
   "outputs": [],
   "source": [
    "calendar = pd.read_csv('../data/raw/gtfs/calendar.txt')\n",
    "calendar_dates = pd.read_csv('../data/raw/gtfs/calendar_dates.txt')\n",
    "routes = pd.read_csv('../data/raw/gtfs/routes.txt')\n",
    "stops = pd.read_csv('../data/raw/gtfs/stops.txt')\n",
    "stop_times = pd.read_csv('../data/raw/gtfs/stop_times.txt')\n",
    "trips = pd.read_csv('../data/raw/gtfs/trips.txt')"
   ]
  },
  {
   "cell_type": "markdown",
   "id": "Up7zQROzy9K3",
   "metadata": {
    "id": "Up7zQROzy9K3"
   },
   "source": [
    "### Stops\n",
    "\n",
    "We noticed that the stop_id's from stops.csv are not clean. Most of the stops were duplciated or had different records. Most of them were in a format with zeros up front and some letters at the end while still referencing to the same longtitude and latitude for that stop.\n",
    "\n",
    "This is the part where we clean the stops and later use them as cleaned in the rest of the notebook."
   ]
  },
  {
   "cell_type": "code",
   "execution_count": 39,
   "id": "ROSOfMppzw_x",
   "metadata": {
    "colab": {
     "base_uri": "https://localhost:8080/",
     "height": 145
    },
    "id": "ROSOfMppzw_x",
    "outputId": "acbcffad-57ef-472f-ecdd-8b34cca8ad98"
   },
   "outputs": [
    {
     "data": {
      "text/html": [
       "\n",
       "  <div id=\"df-23500615-da5f-4615-9a24-ca900a66e05c\">\n",
       "    <div class=\"colab-df-container\">\n",
       "      <div>\n",
       "<style scoped>\n",
       "    .dataframe tbody tr th:only-of-type {\n",
       "        vertical-align: middle;\n",
       "    }\n",
       "\n",
       "    .dataframe tbody tr th {\n",
       "        vertical-align: top;\n",
       "    }\n",
       "\n",
       "    .dataframe thead th {\n",
       "        text-align: right;\n",
       "    }\n",
       "</style>\n",
       "<table border=\"1\" class=\"dataframe\">\n",
       "  <thead>\n",
       "    <tr style=\"text-align: right;\">\n",
       "      <th></th>\n",
       "      <th>stop_id</th>\n",
       "      <th>stop_code</th>\n",
       "      <th>stop_name</th>\n",
       "      <th>stop_desc</th>\n",
       "      <th>stop_lat</th>\n",
       "      <th>stop_lon</th>\n",
       "      <th>zone_id</th>\n",
       "      <th>stop_url</th>\n",
       "      <th>location_type</th>\n",
       "      <th>parent_station</th>\n",
       "    </tr>\n",
       "  </thead>\n",
       "  <tbody>\n",
       "    <tr>\n",
       "      <th>0</th>\n",
       "      <td>0089</td>\n",
       "      <td>NaN</td>\n",
       "      <td>MONTGOMERY</td>\n",
       "      <td>NaN</td>\n",
       "      <td>50.838006</td>\n",
       "      <td>4.40897</td>\n",
       "      <td>NaN</td>\n",
       "      <td>NaN</td>\n",
       "      <td>0</td>\n",
       "      <td>37.0</td>\n",
       "    </tr>\n",
       "  </tbody>\n",
       "</table>\n",
       "</div>\n",
       "      <button class=\"colab-df-convert\" onclick=\"convertToInteractive('df-23500615-da5f-4615-9a24-ca900a66e05c')\"\n",
       "              title=\"Convert this dataframe to an interactive table.\"\n",
       "              style=\"display:none;\">\n",
       "        \n",
       "  <svg xmlns=\"http://www.w3.org/2000/svg\" height=\"24px\"viewBox=\"0 0 24 24\"\n",
       "       width=\"24px\">\n",
       "    <path d=\"M0 0h24v24H0V0z\" fill=\"none\"/>\n",
       "    <path d=\"M18.56 5.44l.94 2.06.94-2.06 2.06-.94-2.06-.94-.94-2.06-.94 2.06-2.06.94zm-11 1L8.5 8.5l.94-2.06 2.06-.94-2.06-.94L8.5 2.5l-.94 2.06-2.06.94zm10 10l.94 2.06.94-2.06 2.06-.94-2.06-.94-.94-2.06-.94 2.06-2.06.94z\"/><path d=\"M17.41 7.96l-1.37-1.37c-.4-.4-.92-.59-1.43-.59-.52 0-1.04.2-1.43.59L10.3 9.45l-7.72 7.72c-.78.78-.78 2.05 0 2.83L4 21.41c.39.39.9.59 1.41.59.51 0 1.02-.2 1.41-.59l7.78-7.78 2.81-2.81c.8-.78.8-2.07 0-2.86zM5.41 20L4 18.59l7.72-7.72 1.47 1.35L5.41 20z\"/>\n",
       "  </svg>\n",
       "      </button>\n",
       "      \n",
       "  <style>\n",
       "    .colab-df-container {\n",
       "      display:flex;\n",
       "      flex-wrap:wrap;\n",
       "      gap: 12px;\n",
       "    }\n",
       "\n",
       "    .colab-df-convert {\n",
       "      background-color: #E8F0FE;\n",
       "      border: none;\n",
       "      border-radius: 50%;\n",
       "      cursor: pointer;\n",
       "      display: none;\n",
       "      fill: #1967D2;\n",
       "      height: 32px;\n",
       "      padding: 0 0 0 0;\n",
       "      width: 32px;\n",
       "    }\n",
       "\n",
       "    .colab-df-convert:hover {\n",
       "      background-color: #E2EBFA;\n",
       "      box-shadow: 0px 1px 2px rgba(60, 64, 67, 0.3), 0px 1px 3px 1px rgba(60, 64, 67, 0.15);\n",
       "      fill: #174EA6;\n",
       "    }\n",
       "\n",
       "    [theme=dark] .colab-df-convert {\n",
       "      background-color: #3B4455;\n",
       "      fill: #D2E3FC;\n",
       "    }\n",
       "\n",
       "    [theme=dark] .colab-df-convert:hover {\n",
       "      background-color: #434B5C;\n",
       "      box-shadow: 0px 1px 3px 1px rgba(0, 0, 0, 0.15);\n",
       "      filter: drop-shadow(0px 1px 2px rgba(0, 0, 0, 0.3));\n",
       "      fill: #FFFFFF;\n",
       "    }\n",
       "  </style>\n",
       "\n",
       "      <script>\n",
       "        const buttonEl =\n",
       "          document.querySelector('#df-23500615-da5f-4615-9a24-ca900a66e05c button.colab-df-convert');\n",
       "        buttonEl.style.display =\n",
       "          google.colab.kernel.accessAllowed ? 'block' : 'none';\n",
       "\n",
       "        async function convertToInteractive(key) {\n",
       "          const element = document.querySelector('#df-23500615-da5f-4615-9a24-ca900a66e05c');\n",
       "          const dataTable =\n",
       "            await google.colab.kernel.invokeFunction('convertToInteractive',\n",
       "                                                     [key], {});\n",
       "          if (!dataTable) return;\n",
       "\n",
       "          const docLinkHtml = 'Like what you see? Visit the ' +\n",
       "            '<a target=\"_blank\" href=https://colab.research.google.com/notebooks/data_table.ipynb>data table notebook</a>'\n",
       "            + ' to learn more about interactive tables.';\n",
       "          element.innerHTML = '';\n",
       "          dataTable['output_type'] = 'display_data';\n",
       "          await google.colab.output.renderOutput(dataTable, element);\n",
       "          const docLink = document.createElement('div');\n",
       "          docLink.innerHTML = docLinkHtml;\n",
       "          element.appendChild(docLink);\n",
       "        }\n",
       "      </script>\n",
       "    </div>\n",
       "  </div>\n",
       "  "
      ],
      "text/plain": [
       "  stop_id  stop_code   stop_name  ...  stop_url  location_type  parent_station\n",
       "0    0089        NaN  MONTGOMERY  ...       NaN              0            37.0\n",
       "\n",
       "[1 rows x 10 columns]"
      ]
     },
     "execution_count": 39,
     "metadata": {},
     "output_type": "execute_result"
    }
   ],
   "source": [
    "stops.head(1)"
   ]
  },
  {
   "cell_type": "code",
   "execution_count": 40,
   "id": "a1deb36a",
   "metadata": {
    "id": "a1deb36a"
   },
   "outputs": [],
   "source": [
    "stops['stop_id'] = stops['stop_id'].map(lambda x: int(re.sub('[^0-9]', '', x))) # clean the letters and zeros\n",
    "stops = stops.drop_duplicates() # remove the duplicates['stop_id'] = stops['stop_id'].map(lambda x: int(re.sub('[^0-9]', '', x))) # clean the letters and zeros"
   ]
  },
  {
   "cell_type": "code",
   "execution_count": 41,
   "id": "46zqaubt0J-Q",
   "metadata": {
    "colab": {
     "base_uri": "https://localhost:8080/",
     "height": 145
    },
    "id": "46zqaubt0J-Q",
    "outputId": "51329969-152c-4420-9fff-1f07aeaaf2c1"
   },
   "outputs": [
    {
     "data": {
      "text/html": [
       "\n",
       "  <div id=\"df-7edcf29f-3df0-4511-b4f4-bb0b59203518\">\n",
       "    <div class=\"colab-df-container\">\n",
       "      <div>\n",
       "<style scoped>\n",
       "    .dataframe tbody tr th:only-of-type {\n",
       "        vertical-align: middle;\n",
       "    }\n",
       "\n",
       "    .dataframe tbody tr th {\n",
       "        vertical-align: top;\n",
       "    }\n",
       "\n",
       "    .dataframe thead th {\n",
       "        text-align: right;\n",
       "    }\n",
       "</style>\n",
       "<table border=\"1\" class=\"dataframe\">\n",
       "  <thead>\n",
       "    <tr style=\"text-align: right;\">\n",
       "      <th></th>\n",
       "      <th>stop_id</th>\n",
       "      <th>stop_code</th>\n",
       "      <th>stop_name</th>\n",
       "      <th>stop_desc</th>\n",
       "      <th>stop_lat</th>\n",
       "      <th>stop_lon</th>\n",
       "      <th>zone_id</th>\n",
       "      <th>stop_url</th>\n",
       "      <th>location_type</th>\n",
       "      <th>parent_station</th>\n",
       "    </tr>\n",
       "  </thead>\n",
       "  <tbody>\n",
       "    <tr>\n",
       "      <th>0</th>\n",
       "      <td>89</td>\n",
       "      <td>NaN</td>\n",
       "      <td>MONTGOMERY</td>\n",
       "      <td>NaN</td>\n",
       "      <td>50.838006</td>\n",
       "      <td>4.40897</td>\n",
       "      <td>NaN</td>\n",
       "      <td>NaN</td>\n",
       "      <td>0</td>\n",
       "      <td>37.0</td>\n",
       "    </tr>\n",
       "  </tbody>\n",
       "</table>\n",
       "</div>\n",
       "      <button class=\"colab-df-convert\" onclick=\"convertToInteractive('df-7edcf29f-3df0-4511-b4f4-bb0b59203518')\"\n",
       "              title=\"Convert this dataframe to an interactive table.\"\n",
       "              style=\"display:none;\">\n",
       "        \n",
       "  <svg xmlns=\"http://www.w3.org/2000/svg\" height=\"24px\"viewBox=\"0 0 24 24\"\n",
       "       width=\"24px\">\n",
       "    <path d=\"M0 0h24v24H0V0z\" fill=\"none\"/>\n",
       "    <path d=\"M18.56 5.44l.94 2.06.94-2.06 2.06-.94-2.06-.94-.94-2.06-.94 2.06-2.06.94zm-11 1L8.5 8.5l.94-2.06 2.06-.94-2.06-.94L8.5 2.5l-.94 2.06-2.06.94zm10 10l.94 2.06.94-2.06 2.06-.94-2.06-.94-.94-2.06-.94 2.06-2.06.94z\"/><path d=\"M17.41 7.96l-1.37-1.37c-.4-.4-.92-.59-1.43-.59-.52 0-1.04.2-1.43.59L10.3 9.45l-7.72 7.72c-.78.78-.78 2.05 0 2.83L4 21.41c.39.39.9.59 1.41.59.51 0 1.02-.2 1.41-.59l7.78-7.78 2.81-2.81c.8-.78.8-2.07 0-2.86zM5.41 20L4 18.59l7.72-7.72 1.47 1.35L5.41 20z\"/>\n",
       "  </svg>\n",
       "      </button>\n",
       "      \n",
       "  <style>\n",
       "    .colab-df-container {\n",
       "      display:flex;\n",
       "      flex-wrap:wrap;\n",
       "      gap: 12px;\n",
       "    }\n",
       "\n",
       "    .colab-df-convert {\n",
       "      background-color: #E8F0FE;\n",
       "      border: none;\n",
       "      border-radius: 50%;\n",
       "      cursor: pointer;\n",
       "      display: none;\n",
       "      fill: #1967D2;\n",
       "      height: 32px;\n",
       "      padding: 0 0 0 0;\n",
       "      width: 32px;\n",
       "    }\n",
       "\n",
       "    .colab-df-convert:hover {\n",
       "      background-color: #E2EBFA;\n",
       "      box-shadow: 0px 1px 2px rgba(60, 64, 67, 0.3), 0px 1px 3px 1px rgba(60, 64, 67, 0.15);\n",
       "      fill: #174EA6;\n",
       "    }\n",
       "\n",
       "    [theme=dark] .colab-df-convert {\n",
       "      background-color: #3B4455;\n",
       "      fill: #D2E3FC;\n",
       "    }\n",
       "\n",
       "    [theme=dark] .colab-df-convert:hover {\n",
       "      background-color: #434B5C;\n",
       "      box-shadow: 0px 1px 3px 1px rgba(0, 0, 0, 0.15);\n",
       "      filter: drop-shadow(0px 1px 2px rgba(0, 0, 0, 0.3));\n",
       "      fill: #FFFFFF;\n",
       "    }\n",
       "  </style>\n",
       "\n",
       "      <script>\n",
       "        const buttonEl =\n",
       "          document.querySelector('#df-7edcf29f-3df0-4511-b4f4-bb0b59203518 button.colab-df-convert');\n",
       "        buttonEl.style.display =\n",
       "          google.colab.kernel.accessAllowed ? 'block' : 'none';\n",
       "\n",
       "        async function convertToInteractive(key) {\n",
       "          const element = document.querySelector('#df-7edcf29f-3df0-4511-b4f4-bb0b59203518');\n",
       "          const dataTable =\n",
       "            await google.colab.kernel.invokeFunction('convertToInteractive',\n",
       "                                                     [key], {});\n",
       "          if (!dataTable) return;\n",
       "\n",
       "          const docLinkHtml = 'Like what you see? Visit the ' +\n",
       "            '<a target=\"_blank\" href=https://colab.research.google.com/notebooks/data_table.ipynb>data table notebook</a>'\n",
       "            + ' to learn more about interactive tables.';\n",
       "          element.innerHTML = '';\n",
       "          dataTable['output_type'] = 'display_data';\n",
       "          await google.colab.output.renderOutput(dataTable, element);\n",
       "          const docLink = document.createElement('div');\n",
       "          docLink.innerHTML = docLinkHtml;\n",
       "          element.appendChild(docLink);\n",
       "        }\n",
       "      </script>\n",
       "    </div>\n",
       "  </div>\n",
       "  "
      ],
      "text/plain": [
       "   stop_id  stop_code   stop_name  ...  stop_url  location_type  parent_station\n",
       "0       89        NaN  MONTGOMERY  ...       NaN              0            37.0\n",
       "\n",
       "[1 rows x 10 columns]"
      ]
     },
     "execution_count": 41,
     "metadata": {},
     "output_type": "execute_result"
    }
   ],
   "source": [
    "stops.head(1)"
   ]
  },
  {
   "cell_type": "markdown",
   "id": "9KKFhtFW0OMQ",
   "metadata": {
    "id": "9KKFhtFW0OMQ"
   },
   "source": [
    "We are doing the same thing for stop_times as we also use a stops column."
   ]
  },
  {
   "cell_type": "code",
   "execution_count": 42,
   "id": "f6041e39",
   "metadata": {
    "id": "f6041e39"
   },
   "outputs": [],
   "source": [
    "stop_times['stop_id'] = stop_times['stop_id'].map(lambda x: int(re.sub('[^0-9]', '', str(x)))) # clean the letters and zeros\n",
    "stop_times = stop_times.drop_duplicates() # remove the duplicates\n"
   ]
  },
  {
   "cell_type": "markdown",
   "id": "Oh6351A51otK",
   "metadata": {
    "id": "Oh6351A51otK"
   },
   "source": [
    "### Calendar\n"
   ]
  },
  {
   "cell_type": "markdown",
   "id": "VBJqbcLC4xxs",
   "metadata": {
    "id": "VBJqbcLC4xxs"
   },
   "source": [
    "\n",
    "We can reduce the day columns and create one column holding this information. \n",
    "\n",
    "We also noticed that we only have the following type of patterns in the calendar.csv file:\n",
    "\n",
    "- 1111100\n",
    "- 0000010\n",
    "- 0000001\n",
    "\n",
    "Therefore we can conclude that we can use the following notation:\n",
    "\n",
    "We use the following values:\n",
    "0 - weekday, 1, saturday, 2 sunday, 3 else"
   ]
  },
  {
   "cell_type": "code",
   "execution_count": 43,
   "id": "VsnYe9MZ12Eg",
   "metadata": {
    "colab": {
     "base_uri": "https://localhost:8080/",
     "height": 145
    },
    "id": "VsnYe9MZ12Eg",
    "outputId": "67730653-7735-4a75-d50a-d397387e6df3"
   },
   "outputs": [
    {
     "data": {
      "text/html": [
       "\n",
       "  <div id=\"df-e2a45f0f-dd63-46e6-8b5a-8298e22c76c3\">\n",
       "    <div class=\"colab-df-container\">\n",
       "      <div>\n",
       "<style scoped>\n",
       "    .dataframe tbody tr th:only-of-type {\n",
       "        vertical-align: middle;\n",
       "    }\n",
       "\n",
       "    .dataframe tbody tr th {\n",
       "        vertical-align: top;\n",
       "    }\n",
       "\n",
       "    .dataframe thead th {\n",
       "        text-align: right;\n",
       "    }\n",
       "</style>\n",
       "<table border=\"1\" class=\"dataframe\">\n",
       "  <thead>\n",
       "    <tr style=\"text-align: right;\">\n",
       "      <th></th>\n",
       "      <th>service_id</th>\n",
       "      <th>monday</th>\n",
       "      <th>tuesday</th>\n",
       "      <th>wednesday</th>\n",
       "      <th>thursday</th>\n",
       "      <th>friday</th>\n",
       "      <th>saturday</th>\n",
       "      <th>sunday</th>\n",
       "      <th>start_date</th>\n",
       "      <th>end_date</th>\n",
       "    </tr>\n",
       "  </thead>\n",
       "  <tbody>\n",
       "    <tr>\n",
       "      <th>0</th>\n",
       "      <td>234578052</td>\n",
       "      <td>1</td>\n",
       "      <td>1</td>\n",
       "      <td>1</td>\n",
       "      <td>1</td>\n",
       "      <td>1</td>\n",
       "      <td>0</td>\n",
       "      <td>0</td>\n",
       "      <td>20210823</td>\n",
       "      <td>20210831</td>\n",
       "    </tr>\n",
       "  </tbody>\n",
       "</table>\n",
       "</div>\n",
       "      <button class=\"colab-df-convert\" onclick=\"convertToInteractive('df-e2a45f0f-dd63-46e6-8b5a-8298e22c76c3')\"\n",
       "              title=\"Convert this dataframe to an interactive table.\"\n",
       "              style=\"display:none;\">\n",
       "        \n",
       "  <svg xmlns=\"http://www.w3.org/2000/svg\" height=\"24px\"viewBox=\"0 0 24 24\"\n",
       "       width=\"24px\">\n",
       "    <path d=\"M0 0h24v24H0V0z\" fill=\"none\"/>\n",
       "    <path d=\"M18.56 5.44l.94 2.06.94-2.06 2.06-.94-2.06-.94-.94-2.06-.94 2.06-2.06.94zm-11 1L8.5 8.5l.94-2.06 2.06-.94-2.06-.94L8.5 2.5l-.94 2.06-2.06.94zm10 10l.94 2.06.94-2.06 2.06-.94-2.06-.94-.94-2.06-.94 2.06-2.06.94z\"/><path d=\"M17.41 7.96l-1.37-1.37c-.4-.4-.92-.59-1.43-.59-.52 0-1.04.2-1.43.59L10.3 9.45l-7.72 7.72c-.78.78-.78 2.05 0 2.83L4 21.41c.39.39.9.59 1.41.59.51 0 1.02-.2 1.41-.59l7.78-7.78 2.81-2.81c.8-.78.8-2.07 0-2.86zM5.41 20L4 18.59l7.72-7.72 1.47 1.35L5.41 20z\"/>\n",
       "  </svg>\n",
       "      </button>\n",
       "      \n",
       "  <style>\n",
       "    .colab-df-container {\n",
       "      display:flex;\n",
       "      flex-wrap:wrap;\n",
       "      gap: 12px;\n",
       "    }\n",
       "\n",
       "    .colab-df-convert {\n",
       "      background-color: #E8F0FE;\n",
       "      border: none;\n",
       "      border-radius: 50%;\n",
       "      cursor: pointer;\n",
       "      display: none;\n",
       "      fill: #1967D2;\n",
       "      height: 32px;\n",
       "      padding: 0 0 0 0;\n",
       "      width: 32px;\n",
       "    }\n",
       "\n",
       "    .colab-df-convert:hover {\n",
       "      background-color: #E2EBFA;\n",
       "      box-shadow: 0px 1px 2px rgba(60, 64, 67, 0.3), 0px 1px 3px 1px rgba(60, 64, 67, 0.15);\n",
       "      fill: #174EA6;\n",
       "    }\n",
       "\n",
       "    [theme=dark] .colab-df-convert {\n",
       "      background-color: #3B4455;\n",
       "      fill: #D2E3FC;\n",
       "    }\n",
       "\n",
       "    [theme=dark] .colab-df-convert:hover {\n",
       "      background-color: #434B5C;\n",
       "      box-shadow: 0px 1px 3px 1px rgba(0, 0, 0, 0.15);\n",
       "      filter: drop-shadow(0px 1px 2px rgba(0, 0, 0, 0.3));\n",
       "      fill: #FFFFFF;\n",
       "    }\n",
       "  </style>\n",
       "\n",
       "      <script>\n",
       "        const buttonEl =\n",
       "          document.querySelector('#df-e2a45f0f-dd63-46e6-8b5a-8298e22c76c3 button.colab-df-convert');\n",
       "        buttonEl.style.display =\n",
       "          google.colab.kernel.accessAllowed ? 'block' : 'none';\n",
       "\n",
       "        async function convertToInteractive(key) {\n",
       "          const element = document.querySelector('#df-e2a45f0f-dd63-46e6-8b5a-8298e22c76c3');\n",
       "          const dataTable =\n",
       "            await google.colab.kernel.invokeFunction('convertToInteractive',\n",
       "                                                     [key], {});\n",
       "          if (!dataTable) return;\n",
       "\n",
       "          const docLinkHtml = 'Like what you see? Visit the ' +\n",
       "            '<a target=\"_blank\" href=https://colab.research.google.com/notebooks/data_table.ipynb>data table notebook</a>'\n",
       "            + ' to learn more about interactive tables.';\n",
       "          element.innerHTML = '';\n",
       "          dataTable['output_type'] = 'display_data';\n",
       "          await google.colab.output.renderOutput(dataTable, element);\n",
       "          const docLink = document.createElement('div');\n",
       "          docLink.innerHTML = docLinkHtml;\n",
       "          element.appendChild(docLink);\n",
       "        }\n",
       "      </script>\n",
       "    </div>\n",
       "  </div>\n",
       "  "
      ],
      "text/plain": [
       "   service_id  monday  tuesday  ...  sunday  start_date  end_date\n",
       "0   234578052       1        1  ...       0    20210823  20210831\n",
       "\n",
       "[1 rows x 10 columns]"
      ]
     },
     "execution_count": 43,
     "metadata": {},
     "output_type": "execute_result"
    }
   ],
   "source": [
    "calendar.head(1)"
   ]
  },
  {
   "cell_type": "code",
   "execution_count": 44,
   "id": "fd358f3b",
   "metadata": {
    "id": "fd358f3b"
   },
   "outputs": [],
   "source": [
    "# transform calendar_dates\n",
    "calendar['day'] = calendar.apply(lambda x: 0 if x.monday==1 else 1 if x.saturday==1 else 2 if x.sunday==1 else 3 , axis=1)\n",
    "calendar.drop(['monday','tuesday','wednesday','thursday','friday','saturday','sunday'], axis=1, inplace=True)\n",
    "\n"
   ]
  },
  {
   "cell_type": "code",
   "execution_count": 45,
   "id": "k6-YTBI_2aoZ",
   "metadata": {
    "colab": {
     "base_uri": "https://localhost:8080/",
     "height": 145
    },
    "id": "k6-YTBI_2aoZ",
    "outputId": "979330cb-3676-4142-ae89-77c080f43404"
   },
   "outputs": [
    {
     "data": {
      "text/html": [
       "\n",
       "  <div id=\"df-89ff7b01-e0c0-4dce-8b19-fda66943350f\">\n",
       "    <div class=\"colab-df-container\">\n",
       "      <div>\n",
       "<style scoped>\n",
       "    .dataframe tbody tr th:only-of-type {\n",
       "        vertical-align: middle;\n",
       "    }\n",
       "\n",
       "    .dataframe tbody tr th {\n",
       "        vertical-align: top;\n",
       "    }\n",
       "\n",
       "    .dataframe thead th {\n",
       "        text-align: right;\n",
       "    }\n",
       "</style>\n",
       "<table border=\"1\" class=\"dataframe\">\n",
       "  <thead>\n",
       "    <tr style=\"text-align: right;\">\n",
       "      <th></th>\n",
       "      <th>service_id</th>\n",
       "      <th>start_date</th>\n",
       "      <th>end_date</th>\n",
       "      <th>day</th>\n",
       "    </tr>\n",
       "  </thead>\n",
       "  <tbody>\n",
       "    <tr>\n",
       "      <th>0</th>\n",
       "      <td>234578052</td>\n",
       "      <td>20210823</td>\n",
       "      <td>20210831</td>\n",
       "      <td>0</td>\n",
       "    </tr>\n",
       "  </tbody>\n",
       "</table>\n",
       "</div>\n",
       "      <button class=\"colab-df-convert\" onclick=\"convertToInteractive('df-89ff7b01-e0c0-4dce-8b19-fda66943350f')\"\n",
       "              title=\"Convert this dataframe to an interactive table.\"\n",
       "              style=\"display:none;\">\n",
       "        \n",
       "  <svg xmlns=\"http://www.w3.org/2000/svg\" height=\"24px\"viewBox=\"0 0 24 24\"\n",
       "       width=\"24px\">\n",
       "    <path d=\"M0 0h24v24H0V0z\" fill=\"none\"/>\n",
       "    <path d=\"M18.56 5.44l.94 2.06.94-2.06 2.06-.94-2.06-.94-.94-2.06-.94 2.06-2.06.94zm-11 1L8.5 8.5l.94-2.06 2.06-.94-2.06-.94L8.5 2.5l-.94 2.06-2.06.94zm10 10l.94 2.06.94-2.06 2.06-.94-2.06-.94-.94-2.06-.94 2.06-2.06.94z\"/><path d=\"M17.41 7.96l-1.37-1.37c-.4-.4-.92-.59-1.43-.59-.52 0-1.04.2-1.43.59L10.3 9.45l-7.72 7.72c-.78.78-.78 2.05 0 2.83L4 21.41c.39.39.9.59 1.41.59.51 0 1.02-.2 1.41-.59l7.78-7.78 2.81-2.81c.8-.78.8-2.07 0-2.86zM5.41 20L4 18.59l7.72-7.72 1.47 1.35L5.41 20z\"/>\n",
       "  </svg>\n",
       "      </button>\n",
       "      \n",
       "  <style>\n",
       "    .colab-df-container {\n",
       "      display:flex;\n",
       "      flex-wrap:wrap;\n",
       "      gap: 12px;\n",
       "    }\n",
       "\n",
       "    .colab-df-convert {\n",
       "      background-color: #E8F0FE;\n",
       "      border: none;\n",
       "      border-radius: 50%;\n",
       "      cursor: pointer;\n",
       "      display: none;\n",
       "      fill: #1967D2;\n",
       "      height: 32px;\n",
       "      padding: 0 0 0 0;\n",
       "      width: 32px;\n",
       "    }\n",
       "\n",
       "    .colab-df-convert:hover {\n",
       "      background-color: #E2EBFA;\n",
       "      box-shadow: 0px 1px 2px rgba(60, 64, 67, 0.3), 0px 1px 3px 1px rgba(60, 64, 67, 0.15);\n",
       "      fill: #174EA6;\n",
       "    }\n",
       "\n",
       "    [theme=dark] .colab-df-convert {\n",
       "      background-color: #3B4455;\n",
       "      fill: #D2E3FC;\n",
       "    }\n",
       "\n",
       "    [theme=dark] .colab-df-convert:hover {\n",
       "      background-color: #434B5C;\n",
       "      box-shadow: 0px 1px 3px 1px rgba(0, 0, 0, 0.15);\n",
       "      filter: drop-shadow(0px 1px 2px rgba(0, 0, 0, 0.3));\n",
       "      fill: #FFFFFF;\n",
       "    }\n",
       "  </style>\n",
       "\n",
       "      <script>\n",
       "        const buttonEl =\n",
       "          document.querySelector('#df-89ff7b01-e0c0-4dce-8b19-fda66943350f button.colab-df-convert');\n",
       "        buttonEl.style.display =\n",
       "          google.colab.kernel.accessAllowed ? 'block' : 'none';\n",
       "\n",
       "        async function convertToInteractive(key) {\n",
       "          const element = document.querySelector('#df-89ff7b01-e0c0-4dce-8b19-fda66943350f');\n",
       "          const dataTable =\n",
       "            await google.colab.kernel.invokeFunction('convertToInteractive',\n",
       "                                                     [key], {});\n",
       "          if (!dataTable) return;\n",
       "\n",
       "          const docLinkHtml = 'Like what you see? Visit the ' +\n",
       "            '<a target=\"_blank\" href=https://colab.research.google.com/notebooks/data_table.ipynb>data table notebook</a>'\n",
       "            + ' to learn more about interactive tables.';\n",
       "          element.innerHTML = '';\n",
       "          dataTable['output_type'] = 'display_data';\n",
       "          await google.colab.output.renderOutput(dataTable, element);\n",
       "          const docLink = document.createElement('div');\n",
       "          docLink.innerHTML = docLinkHtml;\n",
       "          element.appendChild(docLink);\n",
       "        }\n",
       "      </script>\n",
       "    </div>\n",
       "  </div>\n",
       "  "
      ],
      "text/plain": [
       "   service_id  start_date  end_date  day\n",
       "0   234578052    20210823  20210831    0"
      ]
     },
     "execution_count": 45,
     "metadata": {},
     "output_type": "execute_result"
    }
   ],
   "source": [
    "calendar.head(1)"
   ]
  },
  {
   "cell_type": "markdown",
   "id": "eBbATBFe3bGQ",
   "metadata": {
    "id": "eBbATBFe3bGQ"
   },
   "source": [
    "## Join the static files"
   ]
  },
  {
   "cell_type": "markdown",
   "id": "J-IM_OWc3h1z",
   "metadata": {
    "id": "J-IM_OWc3h1z"
   },
   "source": [
    "In order to ease our life we decided to deal with one big table where we store all the needed data from the static gtfs files.\n",
    "\n",
    "We called this table trips_merged as we have information for every single STIB's trip from the gtfs data. From this part on we may refere to this table as **trips**.\n",
    "\n",
    "We can see from which date is this trip running, which calendar does it follow, at what time is it supposed to stop, what is the name of the stop, the line and other usefull information which we can be used to find the delay."
   ]
  },
  {
   "cell_type": "code",
   "execution_count": null,
   "id": "e61ecf32",
   "metadata": {
    "id": "e61ecf32"
   },
   "outputs": [],
   "source": [
    "# make the big join, we have all the needed information\n",
    "# del trips_merged\n",
    "routes = routes[['route_id','route_short_name']]\n",
    "stops = stops[['stop_id','stop_name']]\n",
    "trips = trips[['route_id','service_id','trip_id','trip_headsign','direction_id']]\n",
    "stop_times = stop_times[['trip_id','arrival_time','stop_id','stop_sequence']]\n",
    "trips_merged = trips.merge(stop_times, on='trip_id', how='inner')\\\n",
    "                    .merge(calendar, on='service_id', how='inner')\\\n",
    "                    .merge(stops, on='stop_id', how='inner')\\\n",
    "                    .merge(routes, on='route_id', how='inner')\n"
   ]
  },
  {
   "cell_type": "code",
   "execution_count": null,
   "id": "nXYBPZhh4ToU",
   "metadata": {
    "colab": {
     "base_uri": "https://localhost:8080/",
     "height": 101
    },
    "id": "nXYBPZhh4ToU",
    "outputId": "163486a4-201e-4408-bb9e-2b683eaa1559"
   },
   "outputs": [
    {
     "data": {
      "text/html": [
       "<div>\n",
       "<style scoped>\n",
       "    .dataframe tbody tr th:only-of-type {\n",
       "        vertical-align: middle;\n",
       "    }\n",
       "\n",
       "    .dataframe tbody tr th {\n",
       "        vertical-align: top;\n",
       "    }\n",
       "\n",
       "    .dataframe thead th {\n",
       "        text-align: right;\n",
       "    }\n",
       "</style>\n",
       "<table border=\"1\" class=\"dataframe\">\n",
       "  <thead>\n",
       "    <tr style=\"text-align: right;\">\n",
       "      <th></th>\n",
       "      <th>route_id</th>\n",
       "      <th>service_id</th>\n",
       "      <th>trip_id</th>\n",
       "      <th>trip_headsign</th>\n",
       "      <th>direction_id</th>\n",
       "      <th>arrival_time</th>\n",
       "      <th>stop_id</th>\n",
       "      <th>stop_sequence</th>\n",
       "      <th>start_date</th>\n",
       "      <th>end_date</th>\n",
       "      <th>day</th>\n",
       "      <th>stop_name</th>\n",
       "      <th>route_short_name</th>\n",
       "    </tr>\n",
       "  </thead>\n",
       "  <tbody>\n",
       "    <tr>\n",
       "      <th>0</th>\n",
       "      <td>24</td>\n",
       "      <td>235954071</td>\n",
       "      <td>112387248235954071</td>\n",
       "      <td>SIMONIS</td>\n",
       "      <td>1</td>\n",
       "      <td>21:07:00</td>\n",
       "      <td>4014</td>\n",
       "      <td>1</td>\n",
       "      <td>20210823</td>\n",
       "      <td>20210831</td>\n",
       "      <td>0</td>\n",
       "      <td>BEEKKANT</td>\n",
       "      <td>87</td>\n",
       "    </tr>\n",
       "  </tbody>\n",
       "</table>\n",
       "</div>"
      ],
      "text/plain": [
       "   route_id  service_id             trip_id  ... day  stop_name route_short_name\n",
       "0        24   235954071  112387248235954071  ...   0   BEEKKANT               87\n",
       "\n",
       "[1 rows x 13 columns]"
      ]
     },
     "execution_count": 15,
     "metadata": {},
     "output_type": "execute_result"
    }
   ],
   "source": [
    "trips_merged.head(1)"
   ]
  },
  {
   "cell_type": "markdown",
   "id": "sJ1dgn-wy3Dn",
   "metadata": {
    "id": "sJ1dgn-wy3Dn"
   },
   "source": [
    "## Vehicle Positions"
   ]
  },
  {
   "cell_type": "markdown",
   "id": "5tdHHKFPv0So",
   "metadata": {
    "id": "5tdHHKFPv0So"
   },
   "source": [
    "Loading the vehicle postions:\n",
    "\n",
    "Notice: We have previosly merged all .json vehicle files into a .csv one called .vehiclePositions.csv"
   ]
  },
  {
   "cell_type": "code",
   "execution_count": null,
   "id": "76dcebdb",
   "metadata": {
    "id": "76dcebdb"
   },
   "outputs": [],
   "source": [
    "vehicle_positions = pd.read_csv('../data/processed/assignment2/vehiclePositions.csv')"
   ]
  },
  {
   "cell_type": "code",
   "execution_count": null,
   "id": "Nuw7N30YwWUJ",
   "metadata": {
    "colab": {
     "base_uri": "https://localhost:8080/",
     "height": 81
    },
    "id": "Nuw7N30YwWUJ",
    "outputId": "9b3bf1c1-8683-4880-b2bb-003f9283b0e2"
   },
   "outputs": [
    {
     "data": {
      "text/html": [
       "<div>\n",
       "<style scoped>\n",
       "    .dataframe tbody tr th:only-of-type {\n",
       "        vertical-align: middle;\n",
       "    }\n",
       "\n",
       "    .dataframe tbody tr th {\n",
       "        vertical-align: top;\n",
       "    }\n",
       "\n",
       "    .dataframe thead th {\n",
       "        text-align: right;\n",
       "    }\n",
       "</style>\n",
       "<table border=\"1\" class=\"dataframe\">\n",
       "  <thead>\n",
       "    <tr style=\"text-align: right;\">\n",
       "      <th></th>\n",
       "      <th>Timestamp</th>\n",
       "      <th>LineId</th>\n",
       "      <th>DirectionId</th>\n",
       "      <th>DistanceFromPoint</th>\n",
       "      <th>PointId</th>\n",
       "    </tr>\n",
       "  </thead>\n",
       "  <tbody>\n",
       "    <tr>\n",
       "      <th>0</th>\n",
       "      <td>1630914886924</td>\n",
       "      <td>1</td>\n",
       "      <td>8161</td>\n",
       "      <td>1</td>\n",
       "      <td>8012</td>\n",
       "    </tr>\n",
       "  </tbody>\n",
       "</table>\n",
       "</div>"
      ],
      "text/plain": [
       "       Timestamp  LineId  DirectionId  DistanceFromPoint  PointId\n",
       "0  1630914886924       1         8161                  1     8012"
      ]
     },
     "execution_count": 33,
     "metadata": {},
     "output_type": "execute_result"
    }
   ],
   "source": [
    "vehicle_positions.head(1)"
   ]
  },
  {
   "cell_type": "markdown",
   "id": "35EVy1HJv_eM",
   "metadata": {
    "id": "35EVy1HJv_eM"
   },
   "source": [
    "Because our vehicle_positions have a timestamp, we have to get usefull information from that value. Therefore we are adding 3 new columns from the timestamp column.\n",
    "\n",
    "timestamp -> date, hour, day\n",
    "\n",
    "- The date is in YYYYMMDD format. \n",
    "- The hour is extracted in HH:MM:SS.\n",
    "- The day is either 0 if it is woorking day, 1 if Saturday, 2 if Sunday. We are deriving these categories from the Timestamp \n",
    "\n",
    "It is important to notice that we are savinga new file called *vehiclePositionsTime.csv* which we can use later in our notebook. "
   ]
  },
  {
   "cell_type": "code",
   "execution_count": null,
   "id": "25de3fe0",
   "metadata": {
    "id": "25de3fe0"
   },
   "outputs": [],
   "source": [
    "# timestamp -> date, hour, day\n",
    "# USE ONLY ONCE IF YOU NEED TO GENERATE THE COLUMNS FROM THE BASE FILE VEHICLEPOSITOISN\n",
    "\n",
    "weekdays = ['Monday','Tuesday','Wednesday', 'Thursday','Friday']\n",
    "\n",
    "vehicle_positions['date'] = pd.to_datetime(vehicle_positions['Timestamp'], unit='ms')\n",
    "vehicle_positions['hour'] = pd.to_datetime(vehicle_positions['Timestamp'], unit='ms')\n",
    "vehicle_positions['day'] = pd.to_datetime(vehicle_positions['Timestamp'], unit='ms')\n",
    "\n",
    "vehicle_positions['date'] = vehicle_positions['date'].dt.strftime(\"%Y%m%d\").astype(int)\n",
    "vehicle_positions['hour'] = vehicle_positions['hour'].dt.strftime(\"%H:%M:%S\")\n",
    "vehicle_positions['day'] = vehicle_positions['day'].dt.strftime(\"%A\") \\\n",
    "                    .apply(lambda x: 0 if x in weekdays else 1 if x=='Saturday' else 2 if x=='Sunday' else 3)"
   ]
  },
  {
   "cell_type": "markdown",
   "id": "QVvEnK_u6BzX",
   "metadata": {
    "id": "QVvEnK_u6BzX"
   },
   "source": [
    "Because this operation is costly, we can't always run this code. Therefore once we run it we save it and we can use the vehiclePositionsTime.csv file."
   ]
  },
  {
   "cell_type": "code",
   "execution_count": null,
   "id": "qtK_V7c-lGHP",
   "metadata": {
    "id": "qtK_V7c-lGHP"
   },
   "outputs": [],
   "source": [
    "vp = vehicle_positions.copy()"
   ]
  },
  {
   "cell_type": "code",
   "execution_count": null,
   "id": "qb4NTbGr6BAq",
   "metadata": {
    "id": "qb4NTbGr6BAq"
   },
   "outputs": [],
   "source": [
    "vehicle_positions.to_csv('../data/processed/assignment2/vehiclePositionsTime.csv',mode='w', index=False)"
   ]
  },
  {
   "cell_type": "code",
   "execution_count": null,
   "id": "7SlIrIOy46IO",
   "metadata": {
    "colab": {
     "base_uri": "https://localhost:8080/",
     "height": 101
    },
    "id": "7SlIrIOy46IO",
    "outputId": "e96724bb-b53a-4ac4-cd02-86cc0f650f7a"
   },
   "outputs": [
    {
     "data": {
      "text/html": [
       "<div>\n",
       "<style scoped>\n",
       "    .dataframe tbody tr th:only-of-type {\n",
       "        vertical-align: middle;\n",
       "    }\n",
       "\n",
       "    .dataframe tbody tr th {\n",
       "        vertical-align: top;\n",
       "    }\n",
       "\n",
       "    .dataframe thead th {\n",
       "        text-align: right;\n",
       "    }\n",
       "</style>\n",
       "<table border=\"1\" class=\"dataframe\">\n",
       "  <thead>\n",
       "    <tr style=\"text-align: right;\">\n",
       "      <th></th>\n",
       "      <th>Timestamp</th>\n",
       "      <th>LineId</th>\n",
       "      <th>DirectionId</th>\n",
       "      <th>DistanceFromPoint</th>\n",
       "      <th>PointId</th>\n",
       "      <th>date</th>\n",
       "      <th>hour</th>\n",
       "      <th>day</th>\n",
       "    </tr>\n",
       "  </thead>\n",
       "  <tbody>\n",
       "    <tr>\n",
       "      <th>0</th>\n",
       "      <td>1630914886924</td>\n",
       "      <td>1</td>\n",
       "      <td>8161</td>\n",
       "      <td>1</td>\n",
       "      <td>8012</td>\n",
       "      <td>20210906</td>\n",
       "      <td>07:54:46</td>\n",
       "      <td>0</td>\n",
       "    </tr>\n",
       "  </tbody>\n",
       "</table>\n",
       "</div>"
      ],
      "text/plain": [
       "       Timestamp  LineId  DirectionId  ...      date      hour  day\n",
       "0  1630914886924       1         8161  ...  20210906  07:54:46    0\n",
       "\n",
       "[1 rows x 8 columns]"
      ]
     },
     "execution_count": 45,
     "metadata": {},
     "output_type": "execute_result"
    }
   ],
   "source": [
    "vehicle_positions.head(1)"
   ]
  },
  {
   "cell_type": "markdown",
   "id": "685346fd",
   "metadata": {
    "id": "685346fd"
   },
   "source": [
    "# Caluclating the delays"
   ]
  },
  {
   "cell_type": "code",
   "execution_count": null,
   "id": "Fq8Jo0b0lvgH",
   "metadata": {
    "id": "Fq8Jo0b0lvgH"
   },
   "outputs": [],
   "source": [
    "vehicle_positions = pd.read_csv('../data/processed/assignment2/vehiclePositionsTime.csv')"
   ]
  },
  {
   "cell_type": "markdown",
   "id": "EeevArbC6v4H",
   "metadata": {
    "id": "EeevArbC6v4H"
   },
   "source": [
    "Our goal now is to caluclate the delays for the vehicles from the vehicle positions file that are on a certain stop.\n",
    "\n",
    "The way we will do this is that we will pick the vehicles that are on the stop. As we don't have the vehicle ID in the static files we will have to make an **assumption** which tripid matches the vehicle the most. "
   ]
  },
  {
   "cell_type": "code",
   "execution_count": null,
   "id": "81619f92",
   "metadata": {
    "id": "81619f92"
   },
   "outputs": [],
   "source": [
    "# for a chosen line number get the coresponding subtable from the trips and vehicle positions\n",
    "def getLineAndVehicle(line_number: int):\n",
    "    line = trips_merged[trips_merged['route_short_name'] == str(line_number)]\n",
    "    vehicle = vehicle_positions[vehicle_positions['LineId'] == line_number]\n",
    "    return line, vehicle"
   ]
  },
  {
   "cell_type": "code",
   "execution_count": null,
   "id": "4dac0e1c",
   "metadata": {
    "id": "4dac0e1c"
   },
   "outputs": [],
   "source": [
    "# get the stop name from a given stop number\n",
    "def getStopName(stop_number: str):\n",
    "    for k,v in stops_dictionary.items():\n",
    "        if(stop_number in v):\n",
    "            return k"
   ]
  },
  {
   "cell_type": "markdown",
   "id": "rIsKbclD-Rof",
   "metadata": {
    "id": "rIsKbclD-Rof"
   },
   "source": [
    "Using this function we are removing the vehicle positions that are between the first arrival time in the trips and last expected time or midnight for that exact vehicle. \n",
    "\n",
    "We are doing this because there are a lot of vehicles who are running outside of their schedule. Meaning that we have timestamps which are at 2 AM, but there are no scheduled busses between 11PM and 5AM.\n",
    "\n",
    "We are also avoiding all the busses after midnight because they are represented as 00:00:00 in the vehicle positions file, while in the static files 1AM is represented as 25:00:00. We are not able to compare them as when we conver them to seconds, 01:00:00 AM will give much smaller value than 25:00:00 and will match with the earliest scheduled stop, therefore the delay will be huge and without meaning. We are also not converting the hours after 24:00:00 to 00:00:00 because...? i forgot why"
   ]
  },
  {
   "cell_type": "code",
   "execution_count": null,
   "id": "vbu836_JFkJg",
   "metadata": {
    "id": "vbu836_JFkJg"
   },
   "outputs": [],
   "source": [
    "def filterVehicles(line,vehicles):\n",
    "  first_vehicle = line.arrival_time.min()\n",
    "  last_vehicle = line.arrival_time.max() # could be > '24:00:00'\n",
    "\n",
    "  # dropping by earliest vehicles (also removes the after midnight busses)\n",
    "  # we give a window of 1 minute if it leaves earlier \n",
    "  vehicles.drop(vehicles.loc[(vehicles['hour'].values <= get_hhmmss(get_sec(first_vehicle) - 60))].index, inplace=True)\n",
    "\n",
    "  # dropping busses after the last vehicle\n",
    "  # It is optional because if it's past midnight it is dropped by the previous drop\n",
    "  if(last_vehicle < '24:00:00'):\n",
    "    vehicles.drop(vehicles.loc[(vehicles['hour'].values >= last_vehicle)].index, inplace=True)\n",
    "  \n",
    "  # drop the rows that are not on the bus stop\n",
    "  vehicles.drop(vehicles.loc[(vehicles['DistanceFromPoint'].values != 0)].index, inplace=True)"
   ]
  },
  {
   "cell_type": "markdown",
   "id": "6AxRbN3FM9Ib",
   "metadata": {
    "id": "6AxRbN3FM9Ib"
   },
   "source": [
    "Here we get the line corresponding to the vehicle and we filter all the possible trips that might be on that stop, between the dates in which our bus is riding and the date as well. \n",
    "\n",
    "This function will return the list of the possible trips to match "
   ]
  },
  {
   "cell_type": "code",
   "execution_count": null,
   "id": "2cd73e66",
   "metadata": {
    "id": "2cd73e66"
   },
   "outputs": [],
   "source": [
    "# get the possible trips that match our vehicle snapshot\n",
    "def matchTimeWithStops(line, vehicle_timestamp):\n",
    "    return line.loc[(line['stop_id'].values == vehicle_timestamp.PointId) & \\\n",
    "                (line['start_date'].values <= vehicle_timestamp.date) & \\\n",
    "                (line['end_date'].values >= vehicle_timestamp.date) & \\\n",
    "                (line['day'].values == vehicle_timestamp.day)]\n"
   ]
  },
  {
   "cell_type": "markdown",
   "id": "OR9kUtuJNxi9",
   "metadata": {
    "id": "OR9kUtuJNxi9"
   },
   "source": [
    "Once we get the possible trips from `matchTimeWithStops`, we are trying to find the one that is closest to our vehicle's snapshot."
   ]
  },
  {
   "cell_type": "markdown",
   "id": "9e1f242c",
   "metadata": {},
   "source": [
    "The method is very naive as we are finding the closest delay to zero. We are first getting the difference between the vehicle snapshot and the delays and then we are finding the argmin in the array of delays.\n",
    "Once we have the two closest values to zero we first check if inside the [min_bound, 0] interval. If it is, then we prioritize the negative delays, when the vehicles are early. Otherwise we prioritize when they are late [0, max_bound]\n",
    "This logic is being done in the ```getBestDelay``` function"
   ]
  },
  {
   "cell_type": "code",
   "execution_count": null,
   "id": "9bhp8g7U_YNB",
   "metadata": {
    "id": "9bhp8g7U_YNB"
   },
   "outputs": [],
   "source": [
    "def getBestDelay(val1, val2, min_bound, max_bound):\n",
    "    # [min_bound,0] priority, then [0, max_bound]\n",
    "    # check if it is between min and 0\n",
    "    if(min_bound <= val1 <= 0):\n",
    "        if(min_bound <= val2 <= 0):\n",
    "            return max(val1,val2)\n",
    "        else:\n",
    "            return val1\n",
    "    elif(min_bound <= val2 <=0):\n",
    "        return val2\n",
    "\n",
    "    # check if it is between 0 and min\n",
    "    if(0 <= val1 <= max_bound):\n",
    "        if(0 <= val2 <= max_bound):\n",
    "            return min(val1,val2)\n",
    "        else:\n",
    "            return val1\n",
    "    elif(0 <= val2 <= max_bound):\n",
    "        return val2\n",
    "\n",
    "    return None"
   ]
  },
  {
   "cell_type": "markdown",
   "id": "2fd9784d",
   "metadata": {},
   "source": [
    "We are also using numpy vectorization as it is the fastest way to itterate through dataframes."
   ]
  },
  {
   "cell_type": "code",
   "execution_count": null,
   "id": "eff7b261",
   "metadata": {
    "id": "eff7b261"
   },
   "outputs": [],
   "source": [
    "def calculateTheDelay(delays, vehicle_row, interval):\n",
    "    def f(x, vehicle_row):\n",
    "      return get_sec(vehicle_row) - get_sec(x)\n",
    "      \n",
    "    fvec = np.vectorize(f) \n",
    "    result_array = fvec(delays.arrival_time, vehicle_row.hour)\n",
    "    result_array_abs = np.abs(result_array)\n",
    "    argsort = np.argsort(result_array_abs)\n",
    "\n",
    "    # there are cases when we only have < 2 values which are very rare. \n",
    "    try:\n",
    "        arg1, arg2 = np.argsort(result_array_abs)[:2]\n",
    "    except ValueError:\n",
    "        return None\n",
    "\n",
    "    min_bound = interval[0]\n",
    "    max_bound = interval[1]\n",
    "\n",
    "    val1 = result_array[arg1]\n",
    "    val2 = result_array[arg2]\n",
    "    best_delay = getBestDelay(val1, val2, min_bound, max_bound)\n",
    "\n",
    "\n",
    "    # print(f\"{np.unique(delays.stop_id)} - {np.unique(delays.stop_name)} - {val1},{val2} -> {best_delay}\")\n",
    "    return best_delay"
   ]
  },
  {
   "cell_type": "markdown",
   "id": "K8IShRPjOzGq",
   "metadata": {
    "id": "K8IShRPjOzGq"
   },
   "source": [
    "In the following function we are iterating through every line and vechicle snapshots and we calculate the delay for the vehicles that are on the stop. We are using the three key functions that we mentioned before this one which are the essential logic when we are searching for the delay.\n",
    "\n",
    "At the end we are creating a new column called 'Delay' in the vehicle position subtable for that line where we add the delay that we have counted. For the snapshots that are not on the stop we give them Null value. \n",
    "\n",
    "We are also specifying the ```INTERVAL``` which is the tolerance treshold for a vehicle being early or late"
   ]
  },
  {
   "cell_type": "code",
   "execution_count": null,
   "id": "83e4fb67",
   "metadata": {
    "id": "83e4fb67"
   },
   "outputs": [],
   "source": [
    "line_numbers = vehicle_positions.LineId.unique() # get all the lines that are on the network\n",
    "INTERVAL = [-200, 1400]\n",
    "\n",
    "for number in line_numbers:\n",
    "    line, vehicles = getLineAndVehicle(number) # ex for line 1, we get the static files of line 1 and vp of line 1\n",
    "    filterVehicles(line,vehicles)\n",
    "    print(f\"LINE{number}\")\n",
    "    total_delays = []\n",
    "    \n",
    "    for index, vehicle_row in vehicles.iterrows(): # go through each bus that is on the stop TBD: iterrows is slow\n",
    "        delays = matchTimeWithStops(line, vehicle_row) # get the delays from the matched possible stoptimes for that vehicle in that line\n",
    "\n",
    "        if delays.empty != True: # avoid when it doesn't find anything\n",
    "            final_delay = calculateTheDelay(delays, vehicle_row, INTERVAL)\n",
    "            total_delays.append(final_delay)\n",
    "        else:\n",
    "            total_delays.append(None) # it is possible that we don't find anything from calculateTheDelay (ex. missing stops)\n",
    "\n",
    "    vehicles['delay'] = total_delays\n",
    "    vehicles.to_csv(f'../data/processed/assignment2/vehicleDelaysLine{number}.csv',mode='w', index=False)\n"
   ]
  },
  {
   "cell_type": "code",
   "execution_count": null,
   "id": "4gEtTcKxM_E-",
   "metadata": {
    "id": "4gEtTcKxM_E-"
   },
   "outputs": [],
   "source": []
  },
  {
   "cell_type": "markdown",
   "id": "89d3df8c",
   "metadata": {
    "id": "nMpeVqm6acDG"
   },
   "source": [
    "Because we are setting the interval manually, we would like to see the average difference between every bus that comes to the stop for every line.\n",
    "\n",
    "This is something that we might work in the future as we would like to have th"
   ]
  },
  {
   "cell_type": "code",
   "execution_count": null,
   "id": "qr_c9IuTR_7E",
   "metadata": {
    "id": "qr_c9IuTR_7E"
   },
   "outputs": [],
   "source": [
    "line, _ = getLineAndVehicle(71)\n",
    "\n",
    "ld = line[line['direction_id'] == 0]\n",
    "\n",
    "avg_diff1 = {}\n",
    "\n",
    "for number in vehicle_positions.LineId.unique():\n",
    "\n",
    "    line, _ = getLineAndVehicle(number)\n",
    "    rush_hour = line[(line['arrival_time'] > '15:00:00') & (line['arrival_time'] < '16:00:00')]\n",
    "    service_id = rush_hour.iloc[-1,1]\n",
    "    stop_id = rush_hour.iloc[-1,6]\n",
    "\n",
    "    line.arrival_time = line.arrival_time.apply(lambda x: get_sec(x))\n",
    "\n",
    "    avg_diff1[number] = np.mean(np.diff(np.unique(line[(line['stop_id'] == stop_id) & (line['service_id'] == service_id)].arrival_time)))\n",
    "\n",
    "\n"
   ]
  },
  {
   "cell_type": "code",
   "execution_count": null,
   "id": "es24b1IAaobg",
   "metadata": {
    "id": "es24b1IAaobg"
   },
   "outputs": [],
   "source": [
    "avg_diff1"
   ]
  },
  {
   "cell_type": "code",
   "execution_count": null,
   "id": "g7AmIgiXc2kA",
   "metadata": {
    "colab": {
     "base_uri": "https://localhost:8080/"
    },
    "id": "g7AmIgiXc2kA",
    "outputId": "3211701f-d3ae-4475-b3ab-46d1d9d528e0"
   },
   "outputs": [
    {
     "data": {
      "text/plain": [
       "{1: 424.6125,\n",
       " 2: 458.40277777777777,\n",
       " 3: 484.61538461538464,\n",
       " 4: 481.2676056338028,\n",
       " 5: 412.5297619047619,\n",
       " 6: 439.9415584415584,\n",
       " 7: 590.4201680672269,\n",
       " 8: 605.1282051282051,\n",
       " 9: 640.3636363636364,\n",
       " 12: 439.6363636363636,\n",
       " 13: 886.578947368421,\n",
       " 14: 779.3406593406594,\n",
       " 17: 894.6153846153846,\n",
       " 19: 549.4488188976378,\n",
       " 20: 719.3548387096774,\n",
       " 21: 860.0,\n",
       " 25: 603.5897435897435,\n",
       " 27: 1464.878048780488,\n",
       " 28: 447.4172185430464,\n",
       " 29: 888.0,\n",
       " 33: 1202.5,\n",
       " 34: 1568.5714285714287,\n",
       " 36: 435.97402597402595,\n",
       " 37: 1070.0,\n",
       " 38: 676.5833333333334,\n",
       " 39: 697.7319587628866,\n",
       " 41: 905.5211267605633,\n",
       " 42: 888.3333333333334,\n",
       " 43: 1064.27868852459,\n",
       " 44: 718.125,\n",
       " 45: 740.4545454545455,\n",
       " 46: 1444.0,\n",
       " 47: 286.80497925311204,\n",
       " 48: 468.6510067114094,\n",
       " 49: 8115.0,\n",
       " 50: 1310.9433962264152,\n",
       " 51: 592.1311475409836,\n",
       " 53: 739.7802197802198,\n",
       " 54: 789.3975903614457,\n",
       " 55: 966.6666666666666,\n",
       " 56: 880.0,\n",
       " 57: 917.8947368421053,\n",
       " 58: 2585.4545454545455,\n",
       " 59: 748.6666666666666,\n",
       " 60: 850.9090909090909,\n",
       " 61: 862.1917808219179,\n",
       " 62: 13960.0,\n",
       " 63: 678.6,\n",
       " 64: 719.3478260869565,\n",
       " 65: 677.4,\n",
       " 66: 694.639175257732,\n",
       " 69: 1023.0769230769231,\n",
       " 70: 1219.4117647058824,\n",
       " 71: 484.6478873239437,\n",
       " 72: 3135.0,\n",
       " 74: 954.0,\n",
       " 75: 964.6875,\n",
       " 76: 500.74766355140184,\n",
       " 77: 1016.9230769230769,\n",
       " 78: 1000.3636363636364,\n",
       " 79: 803.855421686747,\n",
       " 80: 3469.4117647058824,\n",
       " 81: 603.0508474576271,\n",
       " 82: 540.4545454545455,\n",
       " 83: 892.8,\n",
       " 86: 787.7386363636364,\n",
       " 87: 579.1525423728814,\n",
       " 88: 912.6760563380282,\n",
       " 89: 385.17241379310343,\n",
       " 92: 583.3613445378152,\n",
       " 93: 624.0,\n",
       " 95: 1076.0,\n",
       " 97: 593.2758620689655,\n",
       " 98: 1329.7674418604652}"
      ]
     },
     "execution_count": 379,
     "metadata": {},
     "output_type": "execute_result"
    }
   ],
   "source": [
    "avg_diff"
   ]
  },
  {
   "cell_type": "markdown",
   "id": "PN76txOjPzI1",
   "metadata": {
    "id": "PN76txOjPzI1"
   },
   "source": [
    "**All the subtables are saved as a new file vehicleDelaysLine{number}.csv, these files are then merged in vehicleDelays.csv**"
   ]
  },
  {
   "cell_type": "markdown",
   "id": "jX2LkAXBILKL",
   "metadata": {
    "id": "jX2LkAXBILKL"
   },
   "source": [
    "# Cleaning the delays\n"
   ]
  },
  {
   "cell_type": "markdown",
   "id": "2SH19JQLhgxP",
   "metadata": {
    "id": "2SH19JQLhgxP"
   },
   "source": [
    "In this section we will use the calculated delays and remove the null values and do some data exploration with our delays"
   ]
  },
  {
   "cell_type": "markdown",
   "id": "Yw0Y1vkpma-S",
   "metadata": {
    "id": "Yw0Y1vkpma-S"
   },
   "source": [
    "vehicleDelays.csv is generated by a shell comand from the vehcileDelaysLine{number}.csv files\n",
    "\n",
    "\n",
    "\n",
    "```\n",
    "head -1 vehicleDelaysLine1.csv > vehicleDelays.csv   \n",
    "tail -n -q +2  vehicleDelaysLine* >> vehicleDelays.csv\n",
    "```\n",
    "\n"
   ]
  },
  {
   "cell_type": "code",
   "execution_count": 22,
   "id": "l9EhFQc0ISoB",
   "metadata": {
    "id": "l9EhFQc0ISoB"
   },
   "outputs": [],
   "source": [
    "# We are loading the vehicle delays here from a new file or we can use the same\n",
    "delays_uncleaned = pd.read_csv('../data/processed/assignment2/vehicleDelays.csv')\n",
    "# removing the None values from delay.\n",
    "delays = delays_uncleaned.dropna(subset=['delay'])"
   ]
  },
  {
   "cell_type": "code",
   "execution_count": 23,
   "id": "7k0d-RfB0j4A",
   "metadata": {
    "id": "7k0d-RfB0j4A"
   },
   "outputs": [],
   "source": [
    "delays = delays.drop_duplicates() # we could have multiple snapshots at the same time for the same vehicle"
   ]
  },
  {
   "cell_type": "markdown",
   "id": "9bWLQ95OytT4",
   "metadata": {
    "id": "9bWLQ95OytT4"
   },
   "source": [
    "As there have been null values when calculating the delays in vehicle positions, mostly due to not having the static gtfs timetables for some dates, we are dropping almost 25% of the data."
   ]
  },
  {
   "cell_type": "code",
   "execution_count": 24,
   "id": "IimJ55SFIcoh",
   "metadata": {
    "colab": {
     "base_uri": "https://localhost:8080/"
    },
    "id": "IimJ55SFIcoh",
    "outputId": "8479fb7b-f365-4115-a6d4-d647d3f1a06f"
   },
   "outputs": [
    {
     "name": "stdout",
     "output_type": "stream",
     "text": [
      "Delays before cleaning:\t6416423\n",
      "Delays after dropping the null values:\t4274610\n",
      "Percentage of null values dropped:\t33.38017147560252\n"
     ]
    }
   ],
   "source": [
    "print(f\"Delays before cleaning:\\t{len(delays_uncleaned.index) }\")\n",
    "print(f\"Delays after dropping the null values:\\t{len(delays.index)}\")\n",
    "print(f\"Percentage of null values dropped:\\t{(1 - (len(delays.index) / len(delays_uncleaned.index))) * 100 }\")"
   ]
  },
  {
   "cell_type": "markdown",
   "id": "V6k_3Er4zdjR",
   "metadata": {
    "id": "V6k_3Er4zdjR"
   },
   "source": [
    "We also see that by line we get peaks of dropped data for lines like 37, 69, 70, 95. One of the reasons is because some stops in the vehicle position files do not exist in the gtfs file. An example for that would be the terminus Grand-Place which ID is not in the gtfs files."
   ]
  },
  {
   "cell_type": "code",
   "execution_count": 25,
   "id": "ee-5F221Yh63",
   "metadata": {
    "colab": {
     "base_uri": "https://localhost:8080/",
     "height": 369
    },
    "id": "ee-5F221Yh63",
    "outputId": "cb0813b2-9357-4d94-f594-6a447fe6dc80"
   },
   "outputs": [
    {
     "data": {
      "text/plain": [
       "<matplotlib.axes._subplots.AxesSubplot at 0x7fed75cea3d0>"
      ]
     },
     "execution_count": 25,
     "metadata": {},
     "output_type": "execute_result"
    },
    {
     "data": {
      "image/png": "[encoded data removed]",
      "text/plain": [
       "<Figure size 1080x360 with 1 Axes>"
      ]
     },
     "metadata": {
      "needs_background": "light"
     },
     "output_type": "display_data"
    }
   ],
   "source": [
    "\n",
    "dropped_rows_by_line = delays_uncleaned.groupby(['LineId'])['delay'].agg(lambda x: x.isnull().sum() / len(x) *100)\n",
    "\n",
    "dropped_rows_by_line.plot(kind='bar', figsize=(15,5), title=\"Percentaged of dropped rows for every line\")"
   ]
  },
  {
   "cell_type": "markdown",
   "id": "sQRde_6NjDPZ",
   "metadata": {
    "id": "sQRde_6NjDPZ"
   },
   "source": [
    "We should now check the outliers and see how our data is being distributed\n"
   ]
  },
  {
   "cell_type": "code",
   "execution_count": 26,
   "id": "jau575sxhwMA",
   "metadata": {
    "colab": {
     "base_uri": "https://localhost:8080/",
     "height": 353
    },
    "id": "jau575sxhwMA",
    "outputId": "4762837c-1f06-4311-fde4-031f4b1a89ca"
   },
   "outputs": [
    {
     "data": {
      "text/plain": [
       "<matplotlib.axes._subplots.AxesSubplot at 0x7fed75520550>"
      ]
     },
     "execution_count": 26,
     "metadata": {},
     "output_type": "execute_result"
    },
    {
     "data": {
      "image/png": "[encoded data removed]",
      "text/plain": [
       "<Figure size 1080x360 with 1 Axes>"
      ]
     },
     "metadata": {
      "needs_background": "light"
     },
     "output_type": "display_data"
    }
   ],
   "source": [
    "delays.groupby('LineId')['delay'].median().plot(kind='bar', figsize=(15,5))"
   ]
  },
  {
   "cell_type": "markdown",
   "id": "HuZz-tZNjOA2",
   "metadata": {
    "id": "HuZz-tZNjOA2"
   },
   "source": [
    "We see that the median values are mostly positive, which means that the for each line we have more delays. "
   ]
  },
  {
   "cell_type": "markdown",
   "id": "8SRwP9P8jfGS",
   "metadata": {
    "id": "8SRwP9P8jfGS"
   },
   "source": [
    "Now let's see the mean for our lines"
   ]
  },
  {
   "cell_type": "code",
   "execution_count": 27,
   "id": "ob4bWFYG-wEj",
   "metadata": {
    "colab": {
     "base_uri": "https://localhost:8080/",
     "height": 353
    },
    "id": "ob4bWFYG-wEj",
    "outputId": "47072f7b-9a48-4764-c006-8331e15fe9fa"
   },
   "outputs": [
    {
     "data": {
      "text/plain": [
       "<matplotlib.axes._subplots.AxesSubplot at 0x7fed770be250>"
      ]
     },
     "execution_count": 27,
     "metadata": {},
     "output_type": "execute_result"
    },
    {
     "data": {
      "image/png": "[encoded data removed]",
      "text/plain": [
       "<Figure size 1080x360 with 1 Axes>"
      ]
     },
     "metadata": {
      "needs_background": "light"
     },
     "output_type": "display_data"
    }
   ],
   "source": [
    "delays.groupby('LineId')['delay'].mean().plot(kind='bar', figsize=(15,5))"
   ]
  },
  {
   "cell_type": "markdown",
   "id": "K0khxM8UjjSm",
   "metadata": {
    "id": "K0khxM8UjjSm"
   },
   "source": [
    "From both mean and median we see that the line number 69 has negative values which means that it is early.\n",
    "\n",
    "We can also notice how metros and trams are having delays at around 50 seconds because they are going either underground where there is no other trafic or they have their own signalization when they are on the ground."
   ]
  },
  {
   "cell_type": "code",
   "execution_count": 28,
   "id": "2pjT6at5oVt2",
   "metadata": {
    "id": "2pjT6at5oVt2"
   },
   "outputs": [],
   "source": [
    "delays.to_csv('../data/processed/assignment2/delaysCleaned.csv', index=False)"
   ]
  },
  {
   "cell_type": "markdown",
   "id": "LgN7IdNaEjzV",
   "metadata": {
    "id": "LgN7IdNaEjzV"
   },
   "source": [
    "# Export data"
   ]
  },
  {
   "cell_type": "markdown",
   "id": "TKofbr-6leVO",
   "metadata": {
    "id": "TKofbr-6leVO"
   },
   "source": [
    "We are preparing the data for the visualization part"
   ]
  },
  {
   "cell_type": "code",
   "execution_count": 29,
   "id": "1-8YjITToq8N",
   "metadata": {
    "id": "1-8YjITToq8N"
   },
   "outputs": [],
   "source": [
    "delays = pd.read_csv('../data/processed/assignment2/delaysCleaned.csv')\n",
    "delays = delays.dropna()"
   ]
  },
  {
   "cell_type": "code",
   "execution_count": 30,
   "id": "CSiGR46zJ8bX",
   "metadata": {
    "id": "CSiGR46zJ8bX"
   },
   "outputs": [],
   "source": [
    "delays = delays.drop(columns=['DistanceFromPoint'], axis=1)\n",
    "delays.columns = ['Timestamp', 'LineId', 'TerminusStop', 'CurrentStop', 'Date','Hour','Day','Delay']\n",
    "delays['Delay'] = delays['Delay'].astype(int)\n",
    "delays['ExpectedArrivalTime'] = [ get_hhmmss(get_sec(x) - y) for x, y in zip(delays['Hour'], delays['Delay'])]\n",
    "delays = delays.drop_duplicates()\n"
   ]
  },
  {
   "cell_type": "code",
   "execution_count": 31,
   "id": "gEBM7BfbwrS3",
   "metadata": {
    "colab": {
     "base_uri": "https://localhost:8080/",
     "height": 206
    },
    "id": "gEBM7BfbwrS3",
    "outputId": "3977f05d-a599-4bbf-e5dd-d0863cffc86c"
   },
   "outputs": [
    {
     "data": {
      "text/html": [
       "\n",
       "  <div id=\"df-062ac888-37fd-4364-a42d-51351f827a03\">\n",
       "    <div class=\"colab-df-container\">\n",
       "      <div>\n",
       "<style scoped>\n",
       "    .dataframe tbody tr th:only-of-type {\n",
       "        vertical-align: middle;\n",
       "    }\n",
       "\n",
       "    .dataframe tbody tr th {\n",
       "        vertical-align: top;\n",
       "    }\n",
       "\n",
       "    .dataframe thead th {\n",
       "        text-align: right;\n",
       "    }\n",
       "</style>\n",
       "<table border=\"1\" class=\"dataframe\">\n",
       "  <thead>\n",
       "    <tr style=\"text-align: right;\">\n",
       "      <th></th>\n",
       "      <th>Timestamp</th>\n",
       "      <th>LineId</th>\n",
       "      <th>TerminusStop</th>\n",
       "      <th>CurrentStop</th>\n",
       "      <th>Date</th>\n",
       "      <th>Hour</th>\n",
       "      <th>Day</th>\n",
       "      <th>Delay</th>\n",
       "      <th>ExpectedArrivalTime</th>\n",
       "    </tr>\n",
       "  </thead>\n",
       "  <tbody>\n",
       "    <tr>\n",
       "      <th>0</th>\n",
       "      <td>1630914886924</td>\n",
       "      <td>12</td>\n",
       "      <td>9600</td>\n",
       "      <td>9600</td>\n",
       "      <td>20210906</td>\n",
       "      <td>07:54:46</td>\n",
       "      <td>0</td>\n",
       "      <td>286</td>\n",
       "      <td>07:50:00</td>\n",
       "    </tr>\n",
       "    <tr>\n",
       "      <th>1</th>\n",
       "      <td>1630914886924</td>\n",
       "      <td>12</td>\n",
       "      <td>1780</td>\n",
       "      <td>9600</td>\n",
       "      <td>20210906</td>\n",
       "      <td>07:54:46</td>\n",
       "      <td>0</td>\n",
       "      <td>286</td>\n",
       "      <td>07:50:00</td>\n",
       "    </tr>\n",
       "    <tr>\n",
       "      <th>2</th>\n",
       "      <td>1630914886924</td>\n",
       "      <td>12</td>\n",
       "      <td>9600</td>\n",
       "      <td>1780</td>\n",
       "      <td>20210906</td>\n",
       "      <td>07:54:46</td>\n",
       "      <td>0</td>\n",
       "      <td>-14</td>\n",
       "      <td>07:55:00</td>\n",
       "    </tr>\n",
       "    <tr>\n",
       "      <th>3</th>\n",
       "      <td>1630914886924</td>\n",
       "      <td>12</td>\n",
       "      <td>1780</td>\n",
       "      <td>2250</td>\n",
       "      <td>20210906</td>\n",
       "      <td>07:54:46</td>\n",
       "      <td>0</td>\n",
       "      <td>-74</td>\n",
       "      <td>07:56:00</td>\n",
       "    </tr>\n",
       "    <tr>\n",
       "      <th>4</th>\n",
       "      <td>1630914917746</td>\n",
       "      <td>12</td>\n",
       "      <td>9600</td>\n",
       "      <td>9600</td>\n",
       "      <td>20210906</td>\n",
       "      <td>07:55:17</td>\n",
       "      <td>0</td>\n",
       "      <td>317</td>\n",
       "      <td>07:50:00</td>\n",
       "    </tr>\n",
       "  </tbody>\n",
       "</table>\n",
       "</div>\n",
       "      <button class=\"colab-df-convert\" onclick=\"convertToInteractive('df-062ac888-37fd-4364-a42d-51351f827a03')\"\n",
       "              title=\"Convert this dataframe to an interactive table.\"\n",
       "              style=\"display:none;\">\n",
       "        \n",
       "  <svg xmlns=\"http://www.w3.org/2000/svg\" height=\"24px\"viewBox=\"0 0 24 24\"\n",
       "       width=\"24px\">\n",
       "    <path d=\"M0 0h24v24H0V0z\" fill=\"none\"/>\n",
       "    <path d=\"M18.56 5.44l.94 2.06.94-2.06 2.06-.94-2.06-.94-.94-2.06-.94 2.06-2.06.94zm-11 1L8.5 8.5l.94-2.06 2.06-.94-2.06-.94L8.5 2.5l-.94 2.06-2.06.94zm10 10l.94 2.06.94-2.06 2.06-.94-2.06-.94-.94-2.06-.94 2.06-2.06.94z\"/><path d=\"M17.41 7.96l-1.37-1.37c-.4-.4-.92-.59-1.43-.59-.52 0-1.04.2-1.43.59L10.3 9.45l-7.72 7.72c-.78.78-.78 2.05 0 2.83L4 21.41c.39.39.9.59 1.41.59.51 0 1.02-.2 1.41-.59l7.78-7.78 2.81-2.81c.8-.78.8-2.07 0-2.86zM5.41 20L4 18.59l7.72-7.72 1.47 1.35L5.41 20z\"/>\n",
       "  </svg>\n",
       "      </button>\n",
       "      \n",
       "  <style>\n",
       "    .colab-df-container {\n",
       "      display:flex;\n",
       "      flex-wrap:wrap;\n",
       "      gap: 12px;\n",
       "    }\n",
       "\n",
       "    .colab-df-convert {\n",
       "      background-color: #E8F0FE;\n",
       "      border: none;\n",
       "      border-radius: 50%;\n",
       "      cursor: pointer;\n",
       "      display: none;\n",
       "      fill: #1967D2;\n",
       "      height: 32px;\n",
       "      padding: 0 0 0 0;\n",
       "      width: 32px;\n",
       "    }\n",
       "\n",
       "    .colab-df-convert:hover {\n",
       "      background-color: #E2EBFA;\n",
       "      box-shadow: 0px 1px 2px rgba(60, 64, 67, 0.3), 0px 1px 3px 1px rgba(60, 64, 67, 0.15);\n",
       "      fill: #174EA6;\n",
       "    }\n",
       "\n",
       "    [theme=dark] .colab-df-convert {\n",
       "      background-color: #3B4455;\n",
       "      fill: #D2E3FC;\n",
       "    }\n",
       "\n",
       "    [theme=dark] .colab-df-convert:hover {\n",
       "      background-color: #434B5C;\n",
       "      box-shadow: 0px 1px 3px 1px rgba(0, 0, 0, 0.15);\n",
       "      filter: drop-shadow(0px 1px 2px rgba(0, 0, 0, 0.3));\n",
       "      fill: #FFFFFF;\n",
       "    }\n",
       "  </style>\n",
       "\n",
       "      <script>\n",
       "        const buttonEl =\n",
       "          document.querySelector('#df-062ac888-37fd-4364-a42d-51351f827a03 button.colab-df-convert');\n",
       "        buttonEl.style.display =\n",
       "          google.colab.kernel.accessAllowed ? 'block' : 'none';\n",
       "\n",
       "        async function convertToInteractive(key) {\n",
       "          const element = document.querySelector('#df-062ac888-37fd-4364-a42d-51351f827a03');\n",
       "          const dataTable =\n",
       "            await google.colab.kernel.invokeFunction('convertToInteractive',\n",
       "                                                     [key], {});\n",
       "          if (!dataTable) return;\n",
       "\n",
       "          const docLinkHtml = 'Like what you see? Visit the ' +\n",
       "            '<a target=\"_blank\" href=https://colab.research.google.com/notebooks/data_table.ipynb>data table notebook</a>'\n",
       "            + ' to learn more about interactive tables.';\n",
       "          element.innerHTML = '';\n",
       "          dataTable['output_type'] = 'display_data';\n",
       "          await google.colab.output.renderOutput(dataTable, element);\n",
       "          const docLink = document.createElement('div');\n",
       "          docLink.innerHTML = docLinkHtml;\n",
       "          element.appendChild(docLink);\n",
       "        }\n",
       "      </script>\n",
       "    </div>\n",
       "  </div>\n",
       "  "
      ],
      "text/plain": [
       "       Timestamp  LineId  TerminusStop  ...  Day  Delay ExpectedArrivalTime\n",
       "0  1630914886924      12          9600  ...    0    286            07:50:00\n",
       "1  1630914886924      12          1780  ...    0    286            07:50:00\n",
       "2  1630914886924      12          9600  ...    0    -14            07:55:00\n",
       "3  1630914886924      12          1780  ...    0    -74            07:56:00\n",
       "4  1630914917746      12          9600  ...    0    317            07:50:00\n",
       "\n",
       "[5 rows x 9 columns]"
      ]
     },
     "execution_count": 31,
     "metadata": {},
     "output_type": "execute_result"
    }
   ],
   "source": [
    "delays.head()"
   ]
  },
  {
   "cell_type": "markdown",
   "id": "ZWv3w_fyB56m",
   "metadata": {
    "id": "ZWv3w_fyB56m"
   },
   "source": [
    "While visualizing the data in rapidminer we noticed that the vehicles spend a lot of time on the stops. For one stop, we can have 5-6 snapshots of that vehicle staying on the stop. \n",
    "We noticed a lot of vehicle snapshots on the first stop of the trip. We **assume** that the drivers have started the device to run before even leaving the stop.\n",
    "\n",
    "We are demonstrating this case by looking at the time a bus stays on a certain stop"
   ]
  },
  {
   "cell_type": "code",
   "execution_count": 32,
   "id": "AqHOwsm548D7",
   "metadata": {
    "id": "AqHOwsm548D7"
   },
   "outputs": [],
   "source": [
    "delays_line5 = delays[delays['LineId'] == 5]"
   ]
  },
  {
   "cell_type": "markdown",
   "id": "l9iE7Tfx1zTI",
   "metadata": {
    "id": "l9iE7Tfx1zTI"
   },
   "source": [
    "We can see the snapshots on which the vehicle is on an intermediate stop."
   ]
  },
  {
   "cell_type": "code",
   "execution_count": 34,
   "id": "k-P_j2Z7CuXF",
   "metadata": {
    "colab": {
     "base_uri": "https://localhost:8080/"
    },
    "id": "k-P_j2Z7CuXF",
    "outputId": "4e166ca5-31f9-44a5-96c9-c0c3a7eab907"
   },
   "outputs": [
    {
     "data": {
      "text/plain": [
       "LineId  Date      Day  TerminusStop  CurrentStop  ExpectedArrivalTime\n",
       "5       20210906  0    8161          8652         19:20:34                               [-10, 22]\n",
       "                                     8662         19:21:56                                [-28, 5]\n",
       "                                     8672         19:23:19                               [-15, 17]\n",
       "                                     8692         19:25:47                                    [-4]\n",
       "                                     8702         19:27:12                                     [3]\n",
       "                                                                                   ...            \n",
       "        20210918  1    8731          8261         19:32:28               [165, 198, 230, 262, 294]\n",
       "                       8733          8271         09:19:59                              [137, 168]\n",
       "                                     8281         09:21:22                                   [181]\n",
       "                                     8291         09:22:36                              [139, 169]\n",
       "                                     8741         09:24:10                         [139, 170, 202]\n",
       "Name: Delay, Length: 79358, dtype: object"
      ]
     },
     "execution_count": 34,
     "metadata": {},
     "output_type": "execute_result"
    }
   ],
   "source": [
    "start_stops = np.unique(delays_line5['TerminusStop'].values)\n",
    "intermediate_delays = delays.loc[(delays['LineId'] == 5) & ~(delays['CurrentStop'].isin(start_stops))]\n",
    "intermediate_delays.groupby(['LineId','Date','Day','TerminusStop','CurrentStop', 'ExpectedArrivalTime'])['Delay'].agg(list)"
   ]
  },
  {
   "cell_type": "markdown",
   "id": "NqSO-vAZ2c7-",
   "metadata": {
    "id": "NqSO-vAZ2c7-"
   },
   "source": [
    "Now, we decide are only getting the first snapshot when that vehicle arrives on an intermediate stop and we discard the other one's on that stop for that vehicle."
   ]
  },
  {
   "cell_type": "code",
   "execution_count": 35,
   "id": "XlRCZyGZDNJ4",
   "metadata": {
    "colab": {
     "base_uri": "https://localhost:8080/"
    },
    "id": "XlRCZyGZDNJ4",
    "outputId": "e1cb173a-d3ab-43f8-e223-4ac4ccf67cc7"
   },
   "outputs": [
    {
     "data": {
      "text/plain": [
       "LineId  Date      Day  TerminusStop  CurrentStop  ExpectedArrivalTime\n",
       "5       20210906  0    8161          8652         19:20:34               [-10]\n",
       "                                     8662         19:21:56               [-28]\n",
       "                                     8672         19:23:19               [-15]\n",
       "                                     8692         19:25:47                [-4]\n",
       "                                     8702         19:27:12                 [3]\n",
       "                                                                         ...  \n",
       "        20210918  1    8731          8261         19:32:28               [165]\n",
       "                       8733          8271         09:19:59               [137]\n",
       "                                     8281         09:21:22               [181]\n",
       "                                     8291         09:22:36               [139]\n",
       "                                     8741         09:24:10               [139]\n",
       "Name: Delay, Length: 79358, dtype: object"
      ]
     },
     "execution_count": 35,
     "metadata": {},
     "output_type": "execute_result"
    }
   ],
   "source": [
    "intermediate_delays = intermediate_delays.drop_duplicates(subset=['LineId','Date','Day','TerminusStop','CurrentStop', 'ExpectedArrivalTime'], keep='first')\n",
    "intermediate_delays.groupby(['LineId','Date','Day','TerminusStop','CurrentStop', 'ExpectedArrivalTime'])['Delay'].agg(list)"
   ]
  },
  {
   "cell_type": "markdown",
   "id": "H0nC_61Msw-C",
   "metadata": {
    "id": "H0nC_61Msw-C"
   },
   "source": [
    "\n",
    "In order to avoid these problems we are dropping some rows:\n",
    "- We only take the last snapshot when our vehicle is on the first stop.\n",
    "- We take the first stop when the vehicle reaches an intermediate stop and on the last/terminus stop.\n",
    "\n",
    "In the following code we are treating all the cases"
   ]
  },
  {
   "cell_type": "code",
   "execution_count": null,
   "id": "eU3FXpreVuDS",
   "metadata": {
    "id": "eU3FXpreVuDS"
   },
   "outputs": [],
   "source": [
    "line_numbers = delays.LineId.unique()\n",
    "drop_condition = ['LineId','Date','Day','TerminusStop','CurrentStop','ExpectedArrivalTime']\n",
    "\n",
    "all_delays = []\n",
    "\n",
    "for line in line_numbers:\n",
    "  # dropping the start stops\n",
    "  start_stops = np.unique(delays[delays['LineId'] == line]['TerminusStop'].values)\n",
    "\n",
    "  start_delays = delays.loc[(delays[\"LineId\"] == line) & \\\n",
    "                            (delays['TerminusStop'] != delays['CurrentStop']) &  # it is not the terminus stop\n",
    "                            (delays['CurrentStop'].isin(start_stops))] # the current stop is a start or terminus stop\n",
    "  start_delays = start_delays.drop_duplicates(subset=drop_condition, keep='last')\n",
    "\n",
    "  # dropping the intermediate stops\n",
    "  intermediate_delays = delays.loc[(delays['LineId'] == line) & \\\n",
    "                              ~(delays['CurrentStop'].isin(start_stops))]\n",
    "\n",
    "  intermediate_delays = intermediate_delays.drop_duplicates(subset=drop_condition, keep='first')\n",
    "\n",
    "  # dropping the terminus stops\n",
    "  terminus_delays = delays.loc[(delays['LineId'] == line) & \\\n",
    "                               (delays['TerminusStop'] == delays['CurrentStop'])]\n",
    "\n",
    "  terminus_delays = terminus_delays.drop_duplicates(subset=drop_condition, keep='first')\n",
    "\n",
    "  # merging them all in one\n",
    "  df_concat = pd.concat([start_delays.reset_index(drop=True),\\\n",
    "                         intermediate_delays.reset_index(drop=True),\\\n",
    "                         terminus_delays.reset_index(drop=True)])\n",
    "  \n",
    "  all_delays.append(df_concat.reset_index(drop=True))\n",
    "\n",
    "# for each line we merge the delays\n",
    "final_filtered_delays = pd.concat(all_delays)"
   ]
  },
  {
   "cell_type": "code",
   "execution_count": null,
   "id": "aDaC1ectbGEH",
   "metadata": {
    "colab": {
     "base_uri": "https://localhost:8080/",
     "height": 424
    },
    "id": "aDaC1ectbGEH",
    "outputId": "ac9ddcc3-00ff-482f-e85b-18cdaa18f77c"
   },
   "outputs": [
    {
     "data": {
      "text/html": [
       "<div>\n",
       "<style scoped>\n",
       "    .dataframe tbody tr th:only-of-type {\n",
       "        vertical-align: middle;\n",
       "    }\n",
       "\n",
       "    .dataframe tbody tr th {\n",
       "        vertical-align: top;\n",
       "    }\n",
       "\n",
       "    .dataframe thead th {\n",
       "        text-align: right;\n",
       "    }\n",
       "</style>\n",
       "<table border=\"1\" class=\"dataframe\">\n",
       "  <thead>\n",
       "    <tr style=\"text-align: right;\">\n",
       "      <th></th>\n",
       "      <th>Timestamp</th>\n",
       "      <th>LineId</th>\n",
       "      <th>TerminusStop</th>\n",
       "      <th>CurrentStop</th>\n",
       "      <th>Date</th>\n",
       "      <th>Hour</th>\n",
       "      <th>Day</th>\n",
       "      <th>Delay</th>\n",
       "      <th>ExpectedArrivalTime</th>\n",
       "    </tr>\n",
       "  </thead>\n",
       "  <tbody>\n",
       "    <tr>\n",
       "      <th>0</th>\n",
       "      <td>1630914886924</td>\n",
       "      <td>12</td>\n",
       "      <td>9600</td>\n",
       "      <td>1780</td>\n",
       "      <td>20210906</td>\n",
       "      <td>07:54:46</td>\n",
       "      <td>0</td>\n",
       "      <td>-14</td>\n",
       "      <td>07:55:00</td>\n",
       "    </tr>\n",
       "    <tr>\n",
       "      <th>1</th>\n",
       "      <td>1630914886924</td>\n",
       "      <td>12</td>\n",
       "      <td>1780</td>\n",
       "      <td>2250</td>\n",
       "      <td>20210906</td>\n",
       "      <td>07:54:46</td>\n",
       "      <td>0</td>\n",
       "      <td>-74</td>\n",
       "      <td>07:56:00</td>\n",
       "    </tr>\n",
       "    <tr>\n",
       "      <th>2</th>\n",
       "      <td>1630915011138</td>\n",
       "      <td>12</td>\n",
       "      <td>1780</td>\n",
       "      <td>9600</td>\n",
       "      <td>20210906</td>\n",
       "      <td>07:56:51</td>\n",
       "      <td>0</td>\n",
       "      <td>411</td>\n",
       "      <td>07:50:00</td>\n",
       "    </tr>\n",
       "    <tr>\n",
       "      <th>3</th>\n",
       "      <td>1630915074628</td>\n",
       "      <td>12</td>\n",
       "      <td>9600</td>\n",
       "      <td>1780</td>\n",
       "      <td>20210906</td>\n",
       "      <td>07:57:54</td>\n",
       "      <td>0</td>\n",
       "      <td>-6</td>\n",
       "      <td>07:58:00</td>\n",
       "    </tr>\n",
       "    <tr>\n",
       "      <th>4</th>\n",
       "      <td>1630915202427</td>\n",
       "      <td>12</td>\n",
       "      <td>1780</td>\n",
       "      <td>9600</td>\n",
       "      <td>20210906</td>\n",
       "      <td>08:00:02</td>\n",
       "      <td>0</td>\n",
       "      <td>-58</td>\n",
       "      <td>08:01:00</td>\n",
       "    </tr>\n",
       "    <tr>\n",
       "      <th>...</th>\n",
       "      <td>...</td>\n",
       "      <td>...</td>\n",
       "      <td>...</td>\n",
       "      <td>...</td>\n",
       "      <td>...</td>\n",
       "      <td>...</td>\n",
       "      <td>...</td>\n",
       "      <td>...</td>\n",
       "      <td>...</td>\n",
       "    </tr>\n",
       "    <tr>\n",
       "      <th>11656</th>\n",
       "      <td>1632002984861</td>\n",
       "      <td>9</td>\n",
       "      <td>1687</td>\n",
       "      <td>1687</td>\n",
       "      <td>20210918</td>\n",
       "      <td>22:09:44</td>\n",
       "      <td>1</td>\n",
       "      <td>44</td>\n",
       "      <td>22:09:00</td>\n",
       "    </tr>\n",
       "    <tr>\n",
       "      <th>11657</th>\n",
       "      <td>1632004253330</td>\n",
       "      <td>9</td>\n",
       "      <td>473</td>\n",
       "      <td>473</td>\n",
       "      <td>20210918</td>\n",
       "      <td>22:30:53</td>\n",
       "      <td>1</td>\n",
       "      <td>-127</td>\n",
       "      <td>22:33:00</td>\n",
       "    </tr>\n",
       "    <tr>\n",
       "      <th>11658</th>\n",
       "      <td>1632004724486</td>\n",
       "      <td>9</td>\n",
       "      <td>1687</td>\n",
       "      <td>1687</td>\n",
       "      <td>20210918</td>\n",
       "      <td>22:38:44</td>\n",
       "      <td>1</td>\n",
       "      <td>-16</td>\n",
       "      <td>22:39:00</td>\n",
       "    </tr>\n",
       "    <tr>\n",
       "      <th>11659</th>\n",
       "      <td>1632005097438</td>\n",
       "      <td>9</td>\n",
       "      <td>473</td>\n",
       "      <td>473</td>\n",
       "      <td>20210918</td>\n",
       "      <td>22:44:57</td>\n",
       "      <td>1</td>\n",
       "      <td>-123</td>\n",
       "      <td>22:47:00</td>\n",
       "    </tr>\n",
       "    <tr>\n",
       "      <th>11660</th>\n",
       "      <td>1632006001041</td>\n",
       "      <td>9</td>\n",
       "      <td>473</td>\n",
       "      <td>473</td>\n",
       "      <td>20210918</td>\n",
       "      <td>23:00:01</td>\n",
       "      <td>1</td>\n",
       "      <td>-119</td>\n",
       "      <td>23:02:00</td>\n",
       "    </tr>\n",
       "  </tbody>\n",
       "</table>\n",
       "<p>1626465 rows × 9 columns</p>\n",
       "</div>"
      ],
      "text/plain": [
       "           Timestamp  LineId  TerminusStop  ...  Day  Delay ExpectedArrivalTime\n",
       "0      1630914886924      12          9600  ...    0    -14            07:55:00\n",
       "1      1630914886924      12          1780  ...    0    -74            07:56:00\n",
       "2      1630915011138      12          1780  ...    0    411            07:50:00\n",
       "3      1630915074628      12          9600  ...    0     -6            07:58:00\n",
       "4      1630915202427      12          1780  ...    0    -58            08:01:00\n",
       "...              ...     ...           ...  ...  ...    ...                 ...\n",
       "11656  1632002984861       9          1687  ...    1     44            22:09:00\n",
       "11657  1632004253330       9           473  ...    1   -127            22:33:00\n",
       "11658  1632004724486       9          1687  ...    1    -16            22:39:00\n",
       "11659  1632005097438       9           473  ...    1   -123            22:47:00\n",
       "11660  1632006001041       9           473  ...    1   -119            23:02:00\n",
       "\n",
       "[1626465 rows x 9 columns]"
      ]
     },
     "execution_count": 322,
     "metadata": {},
     "output_type": "execute_result"
    }
   ],
   "source": [
    "final_filtered_delays"
   ]
  },
  {
   "cell_type": "code",
   "execution_count": null,
   "id": "ImLbNkaXkooB",
   "metadata": {
    "id": "ImLbNkaXkooB"
   },
   "outputs": [],
   "source": [
    "final_filtered_delays.to_csv('../data/processed/assignment2/final_filtered_delays.csv', index=False)"
   ]
  },
  {
   "cell_type": "markdown",
   "id": "nMa2LowuvbDR",
   "metadata": {
    "id": "nMa2LowuvbDR"
   },
   "source": [
    "These are the final delays of this assignment. We will also use them in the visualization part."
   ]
  },
  {
   "cell_type": "code",
   "execution_count": null,
   "id": "YrBhvxtNvTJU",
   "metadata": {
    "colab": {
     "base_uri": "https://localhost:8080/",
     "height": 206
    },
    "id": "YrBhvxtNvTJU",
    "outputId": "24b0275c-e03e-4725-988e-846bcdc2e071"
   },
   "outputs": [
    {
     "data": {
      "text/html": [
       "<div>\n",
       "<style scoped>\n",
       "    .dataframe tbody tr th:only-of-type {\n",
       "        vertical-align: middle;\n",
       "    }\n",
       "\n",
       "    .dataframe tbody tr th {\n",
       "        vertical-align: top;\n",
       "    }\n",
       "\n",
       "    .dataframe thead th {\n",
       "        text-align: right;\n",
       "    }\n",
       "</style>\n",
       "<table border=\"1\" class=\"dataframe\">\n",
       "  <thead>\n",
       "    <tr style=\"text-align: right;\">\n",
       "      <th></th>\n",
       "      <th>Timestamp</th>\n",
       "      <th>LineId</th>\n",
       "      <th>TerminusStop</th>\n",
       "      <th>CurrentStop</th>\n",
       "      <th>Date</th>\n",
       "      <th>Hour</th>\n",
       "      <th>Day</th>\n",
       "      <th>Delay</th>\n",
       "      <th>ExpectedArrivalTime</th>\n",
       "    </tr>\n",
       "  </thead>\n",
       "  <tbody>\n",
       "    <tr>\n",
       "      <th>0</th>\n",
       "      <td>1630914886924</td>\n",
       "      <td>12</td>\n",
       "      <td>9600</td>\n",
       "      <td>1780</td>\n",
       "      <td>20210906</td>\n",
       "      <td>07:54:46</td>\n",
       "      <td>0</td>\n",
       "      <td>-14</td>\n",
       "      <td>07:55:00</td>\n",
       "    </tr>\n",
       "    <tr>\n",
       "      <th>1</th>\n",
       "      <td>1630914886924</td>\n",
       "      <td>12</td>\n",
       "      <td>1780</td>\n",
       "      <td>2250</td>\n",
       "      <td>20210906</td>\n",
       "      <td>07:54:46</td>\n",
       "      <td>0</td>\n",
       "      <td>-74</td>\n",
       "      <td>07:56:00</td>\n",
       "    </tr>\n",
       "    <tr>\n",
       "      <th>2</th>\n",
       "      <td>1630915011138</td>\n",
       "      <td>12</td>\n",
       "      <td>1780</td>\n",
       "      <td>9600</td>\n",
       "      <td>20210906</td>\n",
       "      <td>07:56:51</td>\n",
       "      <td>0</td>\n",
       "      <td>411</td>\n",
       "      <td>07:50:00</td>\n",
       "    </tr>\n",
       "    <tr>\n",
       "      <th>3</th>\n",
       "      <td>1630915074628</td>\n",
       "      <td>12</td>\n",
       "      <td>9600</td>\n",
       "      <td>1780</td>\n",
       "      <td>20210906</td>\n",
       "      <td>07:57:54</td>\n",
       "      <td>0</td>\n",
       "      <td>-6</td>\n",
       "      <td>07:58:00</td>\n",
       "    </tr>\n",
       "    <tr>\n",
       "      <th>4</th>\n",
       "      <td>1630915202427</td>\n",
       "      <td>12</td>\n",
       "      <td>1780</td>\n",
       "      <td>9600</td>\n",
       "      <td>20210906</td>\n",
       "      <td>08:00:02</td>\n",
       "      <td>0</td>\n",
       "      <td>-58</td>\n",
       "      <td>08:01:00</td>\n",
       "    </tr>\n",
       "  </tbody>\n",
       "</table>\n",
       "</div>"
      ],
      "text/plain": [
       "       Timestamp  LineId  TerminusStop  ...  Day  Delay ExpectedArrivalTime\n",
       "0  1630914886924      12          9600  ...    0    -14            07:55:00\n",
       "1  1630914886924      12          1780  ...    0    -74            07:56:00\n",
       "2  1630915011138      12          1780  ...    0    411            07:50:00\n",
       "3  1630915074628      12          9600  ...    0     -6            07:58:00\n",
       "4  1630915202427      12          1780  ...    0    -58            08:01:00\n",
       "\n",
       "[5 rows x 9 columns]"
      ]
     },
     "execution_count": 323,
     "metadata": {},
     "output_type": "execute_result"
    }
   ],
   "source": [
    "final_filtered_delays.head()"
   ]
  },
  {
   "cell_type": "markdown",
   "id": "_rXuL_CaNASL",
   "metadata": {
    "id": "_rXuL_CaNASL"
   },
   "source": [
    "# Statistics"
   ]
  },
  {
   "cell_type": "markdown",
   "id": "SF0eF8DC2xuu",
   "metadata": {
    "id": "SF0eF8DC2xuu"
   },
   "source": [
    "In this part we will generate some statistics form the data.\n",
    "We also picked line 5 in order to show some statistics regarding one line from the STIB network."
   ]
  },
  {
   "cell_type": "code",
   "execution_count": 36,
   "id": "h60WJgIXKtKX",
   "metadata": {
    "id": "h60WJgIXKtKX"
   },
   "outputs": [],
   "source": [
    "final_delays = pd.read_csv('../data/processed/assignment2/final_filtered_delays.csv')"
   ]
  },
  {
   "cell_type": "code",
   "execution_count": 46,
   "id": "ujd27Ok9MU08",
   "metadata": {
    "id": "ujd27Ok9MU08"
   },
   "outputs": [],
   "source": [
    "final_delays = final_delays.merge(stops[['stop_name', 'stop_id']], left_on='CurrentStop', right_on='stop_id')\n",
    "final_delays = final_delays.drop(columns=['stop_id'])"
   ]
  },
  {
   "cell_type": "code",
   "execution_count": 47,
   "id": "CtDFGmYr30gt",
   "metadata": {
    "colab": {
     "base_uri": "https://localhost:8080/",
     "height": 206
    },
    "id": "CtDFGmYr30gt",
    "outputId": "d1e399ba-d80a-4e84-9731-937c5e29e936"
   },
   "outputs": [
    {
     "data": {
      "text/html": [
       "\n",
       "  <div id=\"df-4a217195-6a11-4d77-a390-b047ae7df49f\">\n",
       "    <div class=\"colab-df-container\">\n",
       "      <div>\n",
       "<style scoped>\n",
       "    .dataframe tbody tr th:only-of-type {\n",
       "        vertical-align: middle;\n",
       "    }\n",
       "\n",
       "    .dataframe tbody tr th {\n",
       "        vertical-align: top;\n",
       "    }\n",
       "\n",
       "    .dataframe thead th {\n",
       "        text-align: right;\n",
       "    }\n",
       "</style>\n",
       "<table border=\"1\" class=\"dataframe\">\n",
       "  <thead>\n",
       "    <tr style=\"text-align: right;\">\n",
       "      <th></th>\n",
       "      <th>Timestamp</th>\n",
       "      <th>LineId</th>\n",
       "      <th>TerminusStop</th>\n",
       "      <th>CurrentStop</th>\n",
       "      <th>Date</th>\n",
       "      <th>Hour</th>\n",
       "      <th>Day</th>\n",
       "      <th>Delay</th>\n",
       "      <th>ExpectedArrivalTime</th>\n",
       "      <th>stop_name</th>\n",
       "    </tr>\n",
       "  </thead>\n",
       "  <tbody>\n",
       "    <tr>\n",
       "      <th>0</th>\n",
       "      <td>1630914886924</td>\n",
       "      <td>12</td>\n",
       "      <td>9600</td>\n",
       "      <td>1780</td>\n",
       "      <td>20210906</td>\n",
       "      <td>07:54:46</td>\n",
       "      <td>0</td>\n",
       "      <td>-14</td>\n",
       "      <td>07:55:00</td>\n",
       "      <td>TRONE</td>\n",
       "    </tr>\n",
       "    <tr>\n",
       "      <th>1</th>\n",
       "      <td>1630915074628</td>\n",
       "      <td>12</td>\n",
       "      <td>9600</td>\n",
       "      <td>1780</td>\n",
       "      <td>20210906</td>\n",
       "      <td>07:57:54</td>\n",
       "      <td>0</td>\n",
       "      <td>-6</td>\n",
       "      <td>07:58:00</td>\n",
       "      <td>TRONE</td>\n",
       "    </tr>\n",
       "    <tr>\n",
       "      <th>2</th>\n",
       "      <td>1630915268784</td>\n",
       "      <td>12</td>\n",
       "      <td>9600</td>\n",
       "      <td>1780</td>\n",
       "      <td>20210906</td>\n",
       "      <td>08:01:08</td>\n",
       "      <td>0</td>\n",
       "      <td>8</td>\n",
       "      <td>08:01:00</td>\n",
       "      <td>TRONE</td>\n",
       "    </tr>\n",
       "    <tr>\n",
       "      <th>3</th>\n",
       "      <td>1630915876546</td>\n",
       "      <td>12</td>\n",
       "      <td>9600</td>\n",
       "      <td>1780</td>\n",
       "      <td>20210906</td>\n",
       "      <td>08:11:16</td>\n",
       "      <td>0</td>\n",
       "      <td>376</td>\n",
       "      <td>08:05:00</td>\n",
       "      <td>TRONE</td>\n",
       "    </tr>\n",
       "    <tr>\n",
       "      <th>4</th>\n",
       "      <td>1630916005472</td>\n",
       "      <td>12</td>\n",
       "      <td>9600</td>\n",
       "      <td>1780</td>\n",
       "      <td>20210906</td>\n",
       "      <td>08:13:25</td>\n",
       "      <td>0</td>\n",
       "      <td>-95</td>\n",
       "      <td>08:15:00</td>\n",
       "      <td>TRONE</td>\n",
       "    </tr>\n",
       "  </tbody>\n",
       "</table>\n",
       "</div>\n",
       "      <button class=\"colab-df-convert\" onclick=\"convertToInteractive('df-4a217195-6a11-4d77-a390-b047ae7df49f')\"\n",
       "              title=\"Convert this dataframe to an interactive table.\"\n",
       "              style=\"display:none;\">\n",
       "        \n",
       "  <svg xmlns=\"http://www.w3.org/2000/svg\" height=\"24px\"viewBox=\"0 0 24 24\"\n",
       "       width=\"24px\">\n",
       "    <path d=\"M0 0h24v24H0V0z\" fill=\"none\"/>\n",
       "    <path d=\"M18.56 5.44l.94 2.06.94-2.06 2.06-.94-2.06-.94-.94-2.06-.94 2.06-2.06.94zm-11 1L8.5 8.5l.94-2.06 2.06-.94-2.06-.94L8.5 2.5l-.94 2.06-2.06.94zm10 10l.94 2.06.94-2.06 2.06-.94-2.06-.94-.94-2.06-.94 2.06-2.06.94z\"/><path d=\"M17.41 7.96l-1.37-1.37c-.4-.4-.92-.59-1.43-.59-.52 0-1.04.2-1.43.59L10.3 9.45l-7.72 7.72c-.78.78-.78 2.05 0 2.83L4 21.41c.39.39.9.59 1.41.59.51 0 1.02-.2 1.41-.59l7.78-7.78 2.81-2.81c.8-.78.8-2.07 0-2.86zM5.41 20L4 18.59l7.72-7.72 1.47 1.35L5.41 20z\"/>\n",
       "  </svg>\n",
       "      </button>\n",
       "      \n",
       "  <style>\n",
       "    .colab-df-container {\n",
       "      display:flex;\n",
       "      flex-wrap:wrap;\n",
       "      gap: 12px;\n",
       "    }\n",
       "\n",
       "    .colab-df-convert {\n",
       "      background-color: #E8F0FE;\n",
       "      border: none;\n",
       "      border-radius: 50%;\n",
       "      cursor: pointer;\n",
       "      display: none;\n",
       "      fill: #1967D2;\n",
       "      height: 32px;\n",
       "      padding: 0 0 0 0;\n",
       "      width: 32px;\n",
       "    }\n",
       "\n",
       "    .colab-df-convert:hover {\n",
       "      background-color: #E2EBFA;\n",
       "      box-shadow: 0px 1px 2px rgba(60, 64, 67, 0.3), 0px 1px 3px 1px rgba(60, 64, 67, 0.15);\n",
       "      fill: #174EA6;\n",
       "    }\n",
       "\n",
       "    [theme=dark] .colab-df-convert {\n",
       "      background-color: #3B4455;\n",
       "      fill: #D2E3FC;\n",
       "    }\n",
       "\n",
       "    [theme=dark] .colab-df-convert:hover {\n",
       "      background-color: #434B5C;\n",
       "      box-shadow: 0px 1px 3px 1px rgba(0, 0, 0, 0.15);\n",
       "      filter: drop-shadow(0px 1px 2px rgba(0, 0, 0, 0.3));\n",
       "      fill: #FFFFFF;\n",
       "    }\n",
       "  </style>\n",
       "\n",
       "      <script>\n",
       "        const buttonEl =\n",
       "          document.querySelector('#df-4a217195-6a11-4d77-a390-b047ae7df49f button.colab-df-convert');\n",
       "        buttonEl.style.display =\n",
       "          google.colab.kernel.accessAllowed ? 'block' : 'none';\n",
       "\n",
       "        async function convertToInteractive(key) {\n",
       "          const element = document.querySelector('#df-4a217195-6a11-4d77-a390-b047ae7df49f');\n",
       "          const dataTable =\n",
       "            await google.colab.kernel.invokeFunction('convertToInteractive',\n",
       "                                                     [key], {});\n",
       "          if (!dataTable) return;\n",
       "\n",
       "          const docLinkHtml = 'Like what you see? Visit the ' +\n",
       "            '<a target=\"_blank\" href=https://colab.research.google.com/notebooks/data_table.ipynb>data table notebook</a>'\n",
       "            + ' to learn more about interactive tables.';\n",
       "          element.innerHTML = '';\n",
       "          dataTable['output_type'] = 'display_data';\n",
       "          await google.colab.output.renderOutput(dataTable, element);\n",
       "          const docLink = document.createElement('div');\n",
       "          docLink.innerHTML = docLinkHtml;\n",
       "          element.appendChild(docLink);\n",
       "        }\n",
       "      </script>\n",
       "    </div>\n",
       "  </div>\n",
       "  "
      ],
      "text/plain": [
       "       Timestamp  LineId  TerminusStop  ...  Delay  ExpectedArrivalTime stop_name\n",
       "0  1630914886924      12          9600  ...    -14             07:55:00     TRONE\n",
       "1  1630915074628      12          9600  ...     -6             07:58:00     TRONE\n",
       "2  1630915268784      12          9600  ...      8             08:01:00     TRONE\n",
       "3  1630915876546      12          9600  ...    376             08:05:00     TRONE\n",
       "4  1630916005472      12          9600  ...    -95             08:15:00     TRONE\n",
       "\n",
       "[5 rows x 10 columns]"
      ]
     },
     "execution_count": 47,
     "metadata": {},
     "output_type": "execute_result"
    }
   ],
   "source": [
    "final_delays.head()"
   ]
  },
  {
   "cell_type": "code",
   "execution_count": 48,
   "id": "lTT4g379DcHT",
   "metadata": {
    "id": "lTT4g379DcHT"
   },
   "outputs": [],
   "source": [
    "# creating the hour_interval column to know in which hour is the delay\n",
    "final_delays['hour_interval'] = final_delays['Hour'].apply(lambda x: str(x.split(':')[0] + ':00'))"
   ]
  },
  {
   "cell_type": "code",
   "execution_count": 49,
   "id": "u8arT6tABxHn",
   "metadata": {
    "id": "u8arT6tABxHn"
   },
   "outputs": [],
   "source": [
    "line5 = final_delays[final_delays['LineId'] == 5]"
   ]
  },
  {
   "cell_type": "code",
   "execution_count": 51,
   "id": "49_yW-d6Bq8d",
   "metadata": {
    "colab": {
     "base_uri": "https://localhost:8080/",
     "height": 206
    },
    "id": "49_yW-d6Bq8d",
    "outputId": "43bf73b7-8191-46b3-afff-0ada7983b0c8"
   },
   "outputs": [
    {
     "data": {
      "text/html": [
       "\n",
       "  <div id=\"df-f39bd0a5-4a04-4f5b-9998-e18cae6917e9\">\n",
       "    <div class=\"colab-df-container\">\n",
       "      <div>\n",
       "<style scoped>\n",
       "    .dataframe tbody tr th:only-of-type {\n",
       "        vertical-align: middle;\n",
       "    }\n",
       "\n",
       "    .dataframe tbody tr th {\n",
       "        vertical-align: top;\n",
       "    }\n",
       "\n",
       "    .dataframe thead th {\n",
       "        text-align: right;\n",
       "    }\n",
       "</style>\n",
       "<table border=\"1\" class=\"dataframe\">\n",
       "  <thead>\n",
       "    <tr style=\"text-align: right;\">\n",
       "      <th></th>\n",
       "      <th>Timestamp</th>\n",
       "      <th>LineId</th>\n",
       "      <th>TerminusStop</th>\n",
       "      <th>CurrentStop</th>\n",
       "      <th>Date</th>\n",
       "      <th>Hour</th>\n",
       "      <th>Day</th>\n",
       "      <th>Delay</th>\n",
       "      <th>ExpectedArrivalTime</th>\n",
       "      <th>stop_name</th>\n",
       "      <th>hour_interval</th>\n",
       "    </tr>\n",
       "  </thead>\n",
       "  <tbody>\n",
       "    <tr>\n",
       "      <th>146969</th>\n",
       "      <td>1630915011138</td>\n",
       "      <td>5</td>\n",
       "      <td>8642</td>\n",
       "      <td>8071</td>\n",
       "      <td>20210906</td>\n",
       "      <td>07:56:51</td>\n",
       "      <td>0</td>\n",
       "      <td>-102</td>\n",
       "      <td>07:58:33</td>\n",
       "      <td>MERODE</td>\n",
       "      <td>07:00</td>\n",
       "    </tr>\n",
       "    <tr>\n",
       "      <th>146970</th>\n",
       "      <td>1630915334425</td>\n",
       "      <td>5</td>\n",
       "      <td>8642</td>\n",
       "      <td>8071</td>\n",
       "      <td>20210906</td>\n",
       "      <td>08:02:14</td>\n",
       "      <td>0</td>\n",
       "      <td>-89</td>\n",
       "      <td>08:03:43</td>\n",
       "      <td>MERODE</td>\n",
       "      <td>08:00</td>\n",
       "    </tr>\n",
       "    <tr>\n",
       "      <th>146971</th>\n",
       "      <td>1630915653306</td>\n",
       "      <td>5</td>\n",
       "      <td>8641</td>\n",
       "      <td>8071</td>\n",
       "      <td>20210906</td>\n",
       "      <td>08:07:33</td>\n",
       "      <td>0</td>\n",
       "      <td>-80</td>\n",
       "      <td>08:08:53</td>\n",
       "      <td>MERODE</td>\n",
       "      <td>08:00</td>\n",
       "    </tr>\n",
       "    <tr>\n",
       "      <th>146972</th>\n",
       "      <td>1630915971167</td>\n",
       "      <td>5</td>\n",
       "      <td>8642</td>\n",
       "      <td>8071</td>\n",
       "      <td>20210906</td>\n",
       "      <td>08:12:51</td>\n",
       "      <td>0</td>\n",
       "      <td>-72</td>\n",
       "      <td>08:14:03</td>\n",
       "      <td>MERODE</td>\n",
       "      <td>08:00</td>\n",
       "    </tr>\n",
       "    <tr>\n",
       "      <th>146973</th>\n",
       "      <td>1630916356000</td>\n",
       "      <td>5</td>\n",
       "      <td>8641</td>\n",
       "      <td>8071</td>\n",
       "      <td>20210906</td>\n",
       "      <td>08:19:16</td>\n",
       "      <td>0</td>\n",
       "      <td>3</td>\n",
       "      <td>08:19:13</td>\n",
       "      <td>MERODE</td>\n",
       "      <td>08:00</td>\n",
       "    </tr>\n",
       "  </tbody>\n",
       "</table>\n",
       "</div>\n",
       "      <button class=\"colab-df-convert\" onclick=\"convertToInteractive('df-f39bd0a5-4a04-4f5b-9998-e18cae6917e9')\"\n",
       "              title=\"Convert this dataframe to an interactive table.\"\n",
       "              style=\"display:none;\">\n",
       "        \n",
       "  <svg xmlns=\"http://www.w3.org/2000/svg\" height=\"24px\"viewBox=\"0 0 24 24\"\n",
       "       width=\"24px\">\n",
       "    <path d=\"M0 0h24v24H0V0z\" fill=\"none\"/>\n",
       "    <path d=\"M18.56 5.44l.94 2.06.94-2.06 2.06-.94-2.06-.94-.94-2.06-.94 2.06-2.06.94zm-11 1L8.5 8.5l.94-2.06 2.06-.94-2.06-.94L8.5 2.5l-.94 2.06-2.06.94zm10 10l.94 2.06.94-2.06 2.06-.94-2.06-.94-.94-2.06-.94 2.06-2.06.94z\"/><path d=\"M17.41 7.96l-1.37-1.37c-.4-.4-.92-.59-1.43-.59-.52 0-1.04.2-1.43.59L10.3 9.45l-7.72 7.72c-.78.78-.78 2.05 0 2.83L4 21.41c.39.39.9.59 1.41.59.51 0 1.02-.2 1.41-.59l7.78-7.78 2.81-2.81c.8-.78.8-2.07 0-2.86zM5.41 20L4 18.59l7.72-7.72 1.47 1.35L5.41 20z\"/>\n",
       "  </svg>\n",
       "      </button>\n",
       "      \n",
       "  <style>\n",
       "    .colab-df-container {\n",
       "      display:flex;\n",
       "      flex-wrap:wrap;\n",
       "      gap: 12px;\n",
       "    }\n",
       "\n",
       "    .colab-df-convert {\n",
       "      background-color: #E8F0FE;\n",
       "      border: none;\n",
       "      border-radius: 50%;\n",
       "      cursor: pointer;\n",
       "      display: none;\n",
       "      fill: #1967D2;\n",
       "      height: 32px;\n",
       "      padding: 0 0 0 0;\n",
       "      width: 32px;\n",
       "    }\n",
       "\n",
       "    .colab-df-convert:hover {\n",
       "      background-color: #E2EBFA;\n",
       "      box-shadow: 0px 1px 2px rgba(60, 64, 67, 0.3), 0px 1px 3px 1px rgba(60, 64, 67, 0.15);\n",
       "      fill: #174EA6;\n",
       "    }\n",
       "\n",
       "    [theme=dark] .colab-df-convert {\n",
       "      background-color: #3B4455;\n",
       "      fill: #D2E3FC;\n",
       "    }\n",
       "\n",
       "    [theme=dark] .colab-df-convert:hover {\n",
       "      background-color: #434B5C;\n",
       "      box-shadow: 0px 1px 3px 1px rgba(0, 0, 0, 0.15);\n",
       "      filter: drop-shadow(0px 1px 2px rgba(0, 0, 0, 0.3));\n",
       "      fill: #FFFFFF;\n",
       "    }\n",
       "  </style>\n",
       "\n",
       "      <script>\n",
       "        const buttonEl =\n",
       "          document.querySelector('#df-f39bd0a5-4a04-4f5b-9998-e18cae6917e9 button.colab-df-convert');\n",
       "        buttonEl.style.display =\n",
       "          google.colab.kernel.accessAllowed ? 'block' : 'none';\n",
       "\n",
       "        async function convertToInteractive(key) {\n",
       "          const element = document.querySelector('#df-f39bd0a5-4a04-4f5b-9998-e18cae6917e9');\n",
       "          const dataTable =\n",
       "            await google.colab.kernel.invokeFunction('convertToInteractive',\n",
       "                                                     [key], {});\n",
       "          if (!dataTable) return;\n",
       "\n",
       "          const docLinkHtml = 'Like what you see? Visit the ' +\n",
       "            '<a target=\"_blank\" href=https://colab.research.google.com/notebooks/data_table.ipynb>data table notebook</a>'\n",
       "            + ' to learn more about interactive tables.';\n",
       "          element.innerHTML = '';\n",
       "          dataTable['output_type'] = 'display_data';\n",
       "          await google.colab.output.renderOutput(dataTable, element);\n",
       "          const docLink = document.createElement('div');\n",
       "          docLink.innerHTML = docLinkHtml;\n",
       "          element.appendChild(docLink);\n",
       "        }\n",
       "      </script>\n",
       "    </div>\n",
       "  </div>\n",
       "  "
      ],
      "text/plain": [
       "            Timestamp  LineId  ...  stop_name  hour_interval\n",
       "146969  1630915011138       5  ...     MERODE          07:00\n",
       "146970  1630915334425       5  ...     MERODE          08:00\n",
       "146971  1630915653306       5  ...     MERODE          08:00\n",
       "146972  1630915971167       5  ...     MERODE          08:00\n",
       "146973  1630916356000       5  ...     MERODE          08:00\n",
       "\n",
       "[5 rows x 11 columns]"
      ]
     },
     "execution_count": 51,
     "metadata": {},
     "output_type": "execute_result"
    }
   ],
   "source": [
    "line5.head()"
   ]
  },
  {
   "cell_type": "code",
   "execution_count": null,
   "id": "bSJcRfrIgiIZ",
   "metadata": {
    "colab": {
     "base_uri": "https://localhost:8080/",
     "height": 373
    },
    "id": "bSJcRfrIgiIZ",
    "outputId": "2596deed-9916-452e-9fdd-afcad5de33d4"
   },
   "outputs": [
    {
     "data": {
      "text/plain": [
       "Text(0.5, 0.98, 'Line 5 mean delays per hour')"
      ]
     },
     "execution_count": 273,
     "metadata": {},
     "output_type": "execute_result"
    },
    {
     "data": {
      "image/png": "[encoded data removed]",
      "text/plain": [
       "<Figure size 1080x360 with 1 Axes>"
      ]
     },
     "metadata": {
      "needs_background": "light"
     },
     "output_type": "display_data"
    }
   ],
   "source": [
    "# What point of the day do we have the biggest delays for line 5?\n",
    "\n",
    "line5_delay = line5.groupby('hour_interval', as_index=False)['Delay'].mean()\n",
    "line5_delay['hour_interval'].values\n",
    "line5_delay['Delay'].values\n",
    "\n",
    "fig, ax = plt.subplots(figsize=(15, 5))\n",
    "ax.bar(line5_delay['hour_interval'].values,line5_delay['Delay'].values)\n",
    "fig.suptitle('Line 5 mean delays per hour')\n"
   ]
  },
  {
   "cell_type": "code",
   "execution_count": null,
   "id": "b8_hnPhvN9EN",
   "metadata": {
    "colab": {
     "base_uri": "https://localhost:8080/"
    },
    "id": "b8_hnPhvN9EN",
    "outputId": "240542e5-4f76-4ab7-baf6-7062daa0a123"
   },
   "outputs": [
    {
     "data": {
      "text/plain": [
       "stop_name\n",
       "SAINTE-CATHERINE    -4.354205\n",
       "SCHUMAN              1.979281\n",
       "BIZET                4.085119\n",
       "DELTA                8.794253\n",
       "ERASME              67.821355\n",
       "Name: Delay, dtype: float64"
      ]
     },
     "execution_count": 228,
     "metadata": {},
     "output_type": "execute_result"
    }
   ],
   "source": [
    "# stops that have the biggest delay on line 5\n",
    "delay_by_stop = line5.groupby('stop_name')['Delay'].mean()\n",
    "delay_by_stop = delay_by_stop.sort_values()\n",
    "delay_by_stop.tail()"
   ]
  },
  {
   "cell_type": "code",
   "execution_count": null,
   "id": "Qh6Cdx9pioeA",
   "metadata": {
    "colab": {
     "base_uri": "https://localhost:8080/"
    },
    "id": "Qh6Cdx9pioeA",
    "outputId": "f9d37abc-3cc5-4517-b316-760ba39c9da7"
   },
   "outputs": [
    {
     "data": {
      "text/plain": [
       "stop_name\n",
       "PETILLON   -24.316170\n",
       "VEEWEYDE   -24.226810\n",
       "THIEFFRY   -23.251196\n",
       "DEMEY      -22.033838\n",
       "CERIA      -21.859994\n",
       "Name: Delay, dtype: float64"
      ]
     },
     "execution_count": 229,
     "metadata": {},
     "output_type": "execute_result"
    }
   ],
   "source": [
    "# stop that are very early on line 5\n",
    "delay_by_stop.head()"
   ]
  },
  {
   "cell_type": "code",
   "execution_count": null,
   "id": "P7Rldpocir2l",
   "metadata": {
    "colab": {
     "base_uri": "https://localhost:8080/"
    },
    "id": "P7Rldpocir2l",
    "outputId": "4ab4db45-371a-48ce-9782-7b9d4580c918"
   },
   "outputs": [
    {
     "data": {
      "text/plain": [
       "stop_name\n",
       "SCHUMAN              1.979281\n",
       "BIZET                4.085119\n",
       "SAINTE-CATHERINE    -4.354205\n",
       "JACQUES BREL        -7.488394\n",
       "BEEKKANT            -7.512859\n",
       "COMTE DE FLANDRE    -7.803862\n",
       "DELTA                8.794253\n",
       "PARC                -8.818603\n",
       "GARE CENTRALE       -9.607653\n",
       "HERRMANN-DEBROUX   -10.549991\n",
       "Name: Delay, dtype: float64"
      ]
     },
     "execution_count": 230,
     "metadata": {},
     "output_type": "execute_result"
    }
   ],
   "source": [
    "# stops that are the closest to be on time on line 5\n",
    "delay_by_stop[delay_by_stop.abs().sort_values().head(10).index]"
   ]
  },
  {
   "cell_type": "code",
   "execution_count": null,
   "id": "dUbRIRMgCdbf",
   "metadata": {
    "colab": {
     "base_uri": "https://localhost:8080/",
     "height": 457
    },
    "id": "dUbRIRMgCdbf",
    "outputId": "47ec523c-695b-487c-9ecf-b091b0c53f00"
   },
   "outputs": [
    {
     "data": {
      "image/png": "[encoded data removed]",
      "text/plain": [
       "<Figure size 1296x360 with 1 Axes>"
      ]
     },
     "metadata": {
      "needs_background": "light"
     },
     "output_type": "display_data"
    }
   ],
   "source": [
    "line5_stop_delay = pd.DataFrame(delay_by_stop).reset_index()\n",
    "\n",
    "fig, ax = plt.subplots(figsize=(18, 5))\n",
    "plt.bar(line5_stop_delay['stop_name'].values,line5_stop_delay['Delay'].values)\n",
    "fig.suptitle('Line 5 delay by stop')\n",
    "plt.xticks(rotation=90)\n",
    "plt.show()"
   ]
  },
  {
   "cell_type": "code",
   "execution_count": null,
   "id": "DlMyftYyf_4_",
   "metadata": {
    "colab": {
     "base_uri": "https://localhost:8080/"
    },
    "id": "DlMyftYyf_4_",
    "outputId": "fc43adb2-d045-4500-bd3e-d26dd472eb11"
   },
   "outputs": [
    {
     "data": {
      "text/plain": [
       "LineId\n",
       "55     8.430649\n",
       "2     14.928415\n",
       "7     20.766036\n",
       "87    50.857861\n",
       "38    60.944335\n",
       "Name: Delay, dtype: float64"
      ]
     },
     "execution_count": 231,
     "metadata": {},
     "output_type": "execute_result"
    }
   ],
   "source": [
    "# line that has the biggest delay\n",
    "delay_by_line = final_delays.groupby('LineId')['Delay'].mean()\n",
    "delay_by_line = delay_by_line.sort_values()\n",
    "delay_by_line.tail()"
   ]
  },
  {
   "cell_type": "code",
   "execution_count": null,
   "id": "Ticm8Qzhf7Jg",
   "metadata": {
    "colab": {
     "base_uri": "https://localhost:8080/"
    },
    "id": "Ticm8Qzhf7Jg",
    "outputId": "e11d92a2-8ad6-469a-8263-f9fe8fc128d6"
   },
   "outputs": [
    {
     "data": {
      "text/plain": [
       "LineId\n",
       "5    -10.071684\n",
       "55     8.430649\n",
       "2     14.928415\n",
       "7     20.766036\n",
       "87    50.857861\n",
       "Name: Delay, dtype: float64"
      ]
     },
     "execution_count": 232,
     "metadata": {},
     "output_type": "execute_result"
    }
   ],
   "source": [
    "# line that is early\n",
    "delay_by_line.head()"
   ]
  },
  {
   "cell_type": "code",
   "execution_count": null,
   "id": "F8g9SEUhgCVb",
   "metadata": {
    "colab": {
     "base_uri": "https://localhost:8080/"
    },
    "id": "F8g9SEUhgCVb",
    "outputId": "26870626-a193-42cb-82cc-fbf15c81d1b0"
   },
   "outputs": [
    {
     "data": {
      "text/plain": [
       "LineId\n",
       "55     8.430649\n",
       "5    -10.071684\n",
       "2     14.928415\n",
       "7     20.766036\n",
       "87    50.857861\n",
       "Name: Delay, dtype: float64"
      ]
     },
     "execution_count": 233,
     "metadata": {},
     "output_type": "execute_result"
    }
   ],
   "source": [
    "# line that is most on time\n",
    "delay_by_line[delay_by_line.abs().sort_values().head(5).index]"
   ]
  },
  {
   "cell_type": "code",
   "execution_count": null,
   "id": "YIZXQ9VAOkQe",
   "metadata": {
    "colab": {
     "base_uri": "https://localhost:8080/"
    },
    "id": "YIZXQ9VAOkQe",
    "outputId": "1ba3ce3c-8d0f-40a5-faf1-c23dad76a573"
   },
   "outputs": [
    {
     "data": {
      "text/plain": [
       "CurrentStop  stop_name       \n",
       "8011         DE BROUCKERE         -31.279582\n",
       "8012         DE BROUCKERE          -4.520025\n",
       "8021         GARE CENTRALE         -8.368298\n",
       "8022         GARE CENTRALE        -10.956246\n",
       "8031         PARC                  -9.613838\n",
       "8032         PARC                  -7.948220\n",
       "8041         ARTS-LOI             -14.071846\n",
       "8042         ARTS-LOI             -11.083925\n",
       "8051         MAELBEEK             -12.621399\n",
       "8052         MAELBEEK             -24.824190\n",
       "8061         SCHUMAN               13.246686\n",
       "8062         SCHUMAN              -10.657401\n",
       "8071         MERODE               -21.985673\n",
       "8072         MERODE               -14.106796\n",
       "8201         THIEFFRY             -33.692564\n",
       "8202         THIEFFRY             -11.049287\n",
       "8211         PETILLON             -17.025852\n",
       "8212         PETILLON             -31.980235\n",
       "8221         HANKAR               -12.743097\n",
       "8222         HANKAR               -16.095641\n",
       "8231         DELTA                  3.451786\n",
       "8232         DELTA                 14.435575\n",
       "8241         BEAULIEU              -8.927445\n",
       "8242         BEAULIEU             -20.164722\n",
       "8251         DEMEY                -22.803150\n",
       "8252         DEMEY                -21.159091\n",
       "8261         HERRMANN-DEBROUX     -74.698406\n",
       "8262         HERRMANN-DEBROUX      34.336953\n",
       "8271         SAINTE-CATHERINE      -6.228859\n",
       "8272         SAINTE-CATHERINE      -2.331206\n",
       "8281         COMTE DE FLANDRE      -2.332554\n",
       "8282         COMTE DE FLANDRE     -13.643793\n",
       "8291         ETANGS NOIRS         -20.156896\n",
       "8292         ETANGS NOIRS          -6.583440\n",
       "8641         ERASME                64.988146\n",
       "8642         ERASME                69.342273\n",
       "8651         EDDY MERCKX          -16.831543\n",
       "8652         EDDY MERCKX          -25.986257\n",
       "8661         CERIA                 -3.359375\n",
       "8662         CERIA                -41.185185\n",
       "8671         LA ROUE              -13.148571\n",
       "8672         LA ROUE              -20.656005\n",
       "8681         BIZET                -12.327616\n",
       "8682         BIZET                 22.439258\n",
       "8691         VEEWEYDE             -21.171541\n",
       "8692         VEEWEYDE             -27.700128\n",
       "8701         SAINT-GUIDON         -16.300562\n",
       "8702         SAINT-GUIDON         -19.673548\n",
       "8711         AUMALE                 1.897605\n",
       "8712         AUMALE               -36.308550\n",
       "8721         JACQUES BREL           1.295033\n",
       "8722         JACQUES BREL         -16.896795\n",
       "8731         GARE DE L'OUEST       15.070885\n",
       "8732         GARE DE L'OUEST      -42.177940\n",
       "8733         GARE DE L'OUEST     1062.200000\n",
       "8741         BEEKKANT              -5.907440\n",
       "8742         BEEKKANT              -9.227785\n",
       "Name: Delay, dtype: float64"
      ]
     },
     "execution_count": 235,
     "metadata": {},
     "output_type": "execute_result"
    }
   ],
   "source": [
    "# average delay per stop on line5\n",
    "line5.groupby(['CurrentStop', 'stop_name'])['Delay'].mean()"
   ]
  },
  {
   "cell_type": "code",
   "execution_count": null,
   "id": "pZG30d1IgjYa",
   "metadata": {
    "colab": {
     "base_uri": "https://localhost:8080/"
    },
    "id": "pZG30d1IgjYa",
    "outputId": "f9c7cb35-e98f-48a2-fc0c-8e7268a98d70"
   },
   "outputs": [
    {
     "data": {
      "text/plain": [
       "LineId  hour_interval\n",
       "2       05:00             66.0\n",
       "        06:00             -1.0\n",
       "        07:00             30.0\n",
       "        08:00              6.0\n",
       "        09:00            -12.0\n",
       "                         ...  \n",
       "87      18:00            -24.0\n",
       "        19:00             46.0\n",
       "        20:00            217.0\n",
       "        21:00            177.0\n",
       "        22:00             78.5\n",
       "Name: Delay, Length: 116, dtype: float64"
      ]
     },
     "execution_count": 236,
     "metadata": {},
     "output_type": "execute_result"
    }
   ],
   "source": [
    "# Get which line is slow at what point of the day\n",
    "final_delays.groupby(['LineId', 'hour_interval'])['Delay'].median()"
   ]
  },
  {
   "cell_type": "code",
   "execution_count": null,
   "id": "JvIlPPWq_zJ7",
   "metadata": {
    "colab": {
     "base_uri": "https://localhost:8080/",
     "height": 373
    },
    "id": "JvIlPPWq_zJ7",
    "outputId": "4ff048b9-fb20-4448-f31f-6b6e9e862719"
   },
   "outputs": [
    {
     "data": {
      "text/plain": [
       "Text(0.5, 0.98, 'Schuman line 5 - mean delay per hour')"
      ]
     },
     "execution_count": 274,
     "metadata": {},
     "output_type": "execute_result"
    },
    {
     "data": {
      "image/png": "[encoded data removed]",
      "text/plain": [
       "<Figure size 1080x360 with 1 Axes>"
      ]
     },
     "metadata": {
      "needs_background": "light"
     },
     "output_type": "display_data"
    }
   ],
   "source": [
    "# Get the delays for Schuman stop at different time of day on line 5\n",
    "\n",
    "stop_by_hour = line5.groupby(['stop_name', 'CurrentStop', 'hour_interval'], as_index=False)['Delay'].mean()\n",
    "\n",
    "schuman_stop = stop_by_hour[stop_by_hour['CurrentStop'] == 8061]\n",
    "x,y = schuman_stop['hour_interval'].values, schuman_stop['Delay'].values\n",
    "fig, ax = plt.subplots(figsize=(15, 5))\n",
    "ax.bar(x,y)\n",
    "fig.suptitle('Schuman line 5 - mean delay per hour')\n"
   ]
  },
  {
   "cell_type": "code",
   "execution_count": null,
   "id": "7D-zPy7SX7VW",
   "metadata": {
    "colab": {
     "base_uri": "https://localhost:8080/"
    },
    "id": "7D-zPy7SX7VW",
    "outputId": "3dd7bed5-0371-4b7b-cfbd-5ee647d2cdc4"
   },
   "outputs": [
    {
     "data": {
      "text/plain": [
       "hour_interval  stop_name     \n",
       "04:00          ARAUCARIA         -75.250000\n",
       "               ARSENAL           118.800000\n",
       "               BASCULE           184.285714\n",
       "               BOILEAU            54.800000\n",
       "               BORDET STATION    310.333333\n",
       "                                    ...    \n",
       "23:00          THIEFFRY          265.133333\n",
       "               THOMAS             84.000000\n",
       "               VAN PRAET         412.000000\n",
       "               VERBOEKHOVEN       41.600000\n",
       "               VUB               133.416667\n",
       "Name: Delay, Length: 2597, dtype: float64"
      ]
     },
     "execution_count": 239,
     "metadata": {},
     "output_type": "execute_result"
    }
   ],
   "source": [
    "# Foreach interval get the stop that is the busiest on the line\n",
    "final_delays.groupby(['hour_interval','stop_name'])['Delay'].mean()"
   ]
  }
 ],
 "metadata": {
  "colab": {
   "collapsed_sections": [
    "bKEHYOCRyvIj",
    "Up7zQROzy9K3",
    "Oh6351A51otK",
    "eBbATBFe3bGQ",
    "sJ1dgn-wy3Dn",
    "jX2LkAXBILKL",
    "af1f7092"
   ],
   "name": "assignment-2.ipynb",
   "provenance": []
  },
  "kernelspec": {
   "display_name": "Python 3 (ipykernel)",
   "language": "python",
   "name": "python3"
  },
  "language_info": {
   "codemirror_mode": {
    "name": "ipython",
    "version": 3
   },
   "file_extension": ".py",
   "mimetype": "text/x-python",
   "name": "python",
   "nbconvert_exporter": "python",
   "pygments_lexer": "ipython3",
   "version": "3.8.10"
  }
 },
 "nbformat": 4,
 "nbformat_minor": 5
}
