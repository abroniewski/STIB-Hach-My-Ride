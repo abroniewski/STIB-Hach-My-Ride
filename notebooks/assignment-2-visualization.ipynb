{
 "cells": [
  {
   "cell_type": "code",
   "execution_count": 2,
   "id": "672906c2",
   "metadata": {
    "scrolled": true
   },
   "outputs": [],
   "source": [
    "import pandas as pd\n",
    "import re\n",
    "import numpy as np\n",
    "from keplergl import KeplerGl"
   ]
  },
  {
   "cell_type": "markdown",
   "id": "849fe89c",
   "metadata": {},
   "source": [
    "# Data prep"
   ]
  },
  {
   "cell_type": "code",
   "execution_count": 2,
   "id": "c7d7f346",
   "metadata": {
    "scrolled": false
   },
   "outputs": [
    {
     "data": {
      "text/plain": [
       "2842"
      ]
     },
     "execution_count": 2,
     "metadata": {},
     "output_type": "execute_result"
    }
   ],
   "source": [
    "# Cleaning the stops from letters and zeros\n",
    "stops = pd.read_csv('../data/raw/gtfs/stops.txt')\n",
    "stops = stops.drop(columns=['stop_code', 'stop_desc','zone_id','stop_url', 'location_type', 'parent_station'])\n",
    "stops = stops # remove the .copy() if you want the change to be made in stops, or do it directly there\n",
    "stops['stop_id'] = stops['stop_id'].map(lambda x: int(re.sub('[^0-9]', '', x))) # clean the letters and zeros\n",
    "stops = stops.drop_duplicates(subset=['stop_id'], keep='first') # remove the duplicates\n",
    "len(stops)"
   ]
  },
  {
   "cell_type": "code",
   "execution_count": 3,
   "id": "f80ea66e",
   "metadata": {
    "scrolled": false
   },
   "outputs": [
    {
     "data": {
      "text/plain": [
       "3596"
      ]
     },
     "execution_count": 3,
     "metadata": {},
     "output_type": "execute_result"
    }
   ],
   "source": [
    "line_stops = pd.read_csv('../data/processed/assignment1/line_stops.csv')\n",
    "# Extracting the information we need from line_stops\n",
    "line_stops = line_stops[['lineId','direction', 'name_ascii', 'stop_id_int','order', 'lat', 'long']]\n",
    "line_stops['type'] = line_stops['lineId'].apply(lambda x: str(x[-1])) # getting the type m/b/t \n",
    "line_stops['lineId'] = line_stops['lineId'].apply(lambda x: int(x[:-1])) # lineId number\n",
    "line_stops = line_stops.drop(line_stops[line_stops.lineId >= 100].index) # dropping the night buses\n",
    "line_stops = line_stops.drop_duplicates(subset=['lineId', 'direction', 'stop_id_int','order'])\n",
    "len(line_stops)"
   ]
  },
  {
   "cell_type": "markdown",
   "id": "78b9edcd",
   "metadata": {},
   "source": [
    "# Speed - Assignment 1\n",
    "\n",
    "#TODO what to do with inf speed?"
   ]
  },
  {
   "cell_type": "code",
   "execution_count": 4,
   "id": "456b5261",
   "metadata": {},
   "outputs": [
    {
     "data": {
      "text/html": [
       "<div>\n",
       "<style scoped>\n",
       "    .dataframe tbody tr th:only-of-type {\n",
       "        vertical-align: middle;\n",
       "    }\n",
       "\n",
       "    .dataframe tbody tr th {\n",
       "        vertical-align: top;\n",
       "    }\n",
       "\n",
       "    .dataframe thead th {\n",
       "        text-align: right;\n",
       "    }\n",
       "</style>\n",
       "<table border=\"1\" class=\"dataframe\">\n",
       "  <thead>\n",
       "    <tr style=\"text-align: right;\">\n",
       "      <th></th>\n",
       "      <th>LineId</th>\n",
       "      <th>FromStop</th>\n",
       "      <th>ToStop</th>\n",
       "      <th>Day</th>\n",
       "      <th>LineIdFormatted</th>\n",
       "      <th>LineId_GeoMerge</th>\n",
       "      <th>Type</th>\n",
       "      <th>Direction</th>\n",
       "      <th>fromIndex</th>\n",
       "      <th>toIndex</th>\n",
       "      <th>FromStop_lat</th>\n",
       "      <th>FromStop_lon</th>\n",
       "      <th>ToStop_lat</th>\n",
       "      <th>ToStop_lon</th>\n",
       "      <th>geojson</th>\n",
       "      <th>hour</th>\n",
       "      <th>speed</th>\n",
       "    </tr>\n",
       "  </thead>\n",
       "  <tbody>\n",
       "    <tr>\n",
       "      <th>0</th>\n",
       "      <td>37</td>\n",
       "      <td>2957</td>\n",
       "      <td>5810</td>\n",
       "      <td>NaN</td>\n",
       "      <td>line37</td>\n",
       "      <td>037b-1</td>\n",
       "      <td>b</td>\n",
       "      <td>1.0</td>\n",
       "      <td>49.0</td>\n",
       "      <td>57.0</td>\n",
       "      <td>50.821413</td>\n",
       "      <td>4.341859</td>\n",
       "      <td>50.818572</td>\n",
       "      <td>4.340952</td>\n",
       "      <td>{'type': 'FeatureCollection', 'features': [{'t...</td>\n",
       "      <td>00:00</td>\n",
       "      <td>14.936818</td>\n",
       "    </tr>\n",
       "  </tbody>\n",
       "</table>\n",
       "</div>"
      ],
      "text/plain": [
       "   LineId  FromStop  ToStop  Day LineIdFormatted LineId_GeoMerge Type  \\\n",
       "0      37      2957    5810  NaN          line37          037b-1    b   \n",
       "\n",
       "   Direction  fromIndex  toIndex  FromStop_lat  FromStop_lon  ToStop_lat  \\\n",
       "0        1.0       49.0     57.0     50.821413      4.341859   50.818572   \n",
       "\n",
       "   ToStop_lon                                            geojson   hour  \\\n",
       "0    4.340952  {'type': 'FeatureCollection', 'features': [{'t...  00:00   \n",
       "\n",
       "       speed  \n",
       "0  14.936818  "
      ]
     },
     "execution_count": 4,
     "metadata": {},
     "output_type": "execute_result"
    }
   ],
   "source": [
    "vehicle_speed_path = '../data/processed/assignment1/vehicleSpeedReformatted.csv'\n",
    "vehicle_speed = pd.read_csv(vehicle_speed_path)\n",
    "vehicle_speed.head(1)"
   ]
  },
  {
   "cell_type": "code",
   "execution_count": 5,
   "id": "6822515b",
   "metadata": {
    "scrolled": false
   },
   "outputs": [
    {
     "data": {
      "text/html": [
       "<div>\n",
       "<style scoped>\n",
       "    .dataframe tbody tr th:only-of-type {\n",
       "        vertical-align: middle;\n",
       "    }\n",
       "\n",
       "    .dataframe tbody tr th {\n",
       "        vertical-align: top;\n",
       "    }\n",
       "\n",
       "    .dataframe thead th {\n",
       "        text-align: right;\n",
       "    }\n",
       "</style>\n",
       "<table border=\"1\" class=\"dataframe\">\n",
       "  <thead>\n",
       "    <tr style=\"text-align: right;\">\n",
       "      <th></th>\n",
       "      <th>LineId</th>\n",
       "      <th>FromStop</th>\n",
       "      <th>ToStop</th>\n",
       "      <th>Direction</th>\n",
       "      <th>hour</th>\n",
       "      <th>speed</th>\n",
       "      <th>geojson</th>\n",
       "      <th>FromStop_lat</th>\n",
       "      <th>FromStop_lon</th>\n",
       "      <th>ToStop_lat</th>\n",
       "      <th>ToStop_lon</th>\n",
       "    </tr>\n",
       "  </thead>\n",
       "  <tbody>\n",
       "    <tr>\n",
       "      <th>0</th>\n",
       "      <td>37</td>\n",
       "      <td>2957</td>\n",
       "      <td>5810</td>\n",
       "      <td>1</td>\n",
       "      <td>00:00</td>\n",
       "      <td>14.936818</td>\n",
       "      <td>{'type': 'FeatureCollection', 'features': [{'t...</td>\n",
       "      <td>50.821413</td>\n",
       "      <td>4.341859</td>\n",
       "      <td>50.818572</td>\n",
       "      <td>4.340952</td>\n",
       "    </tr>\n",
       "    <tr>\n",
       "      <th>5</th>\n",
       "      <td>37</td>\n",
       "      <td>2957</td>\n",
       "      <td>5810</td>\n",
       "      <td>1</td>\n",
       "      <td>05:00</td>\n",
       "      <td>2.299439</td>\n",
       "      <td>{'type': 'FeatureCollection', 'features': [{'t...</td>\n",
       "      <td>50.821413</td>\n",
       "      <td>4.341859</td>\n",
       "      <td>50.818572</td>\n",
       "      <td>4.340952</td>\n",
       "    </tr>\n",
       "  </tbody>\n",
       "</table>\n",
       "</div>"
      ],
      "text/plain": [
       "   LineId  FromStop  ToStop  Direction   hour      speed  \\\n",
       "0      37      2957    5810          1  00:00  14.936818   \n",
       "5      37      2957    5810          1  05:00   2.299439   \n",
       "\n",
       "                                             geojson  FromStop_lat  \\\n",
       "0  {'type': 'FeatureCollection', 'features': [{'t...     50.821413   \n",
       "5  {'type': 'FeatureCollection', 'features': [{'t...     50.821413   \n",
       "\n",
       "   FromStop_lon  ToStop_lat  ToStop_lon  \n",
       "0      4.341859   50.818572    4.340952  \n",
       "5      4.341859   50.818572    4.340952  "
      ]
     },
     "execution_count": 5,
     "metadata": {},
     "output_type": "execute_result"
    }
   ],
   "source": [
    "# vehicle_speed = vehicle_speed[['LineId', 'Type', 'FromStop', 'ToStop', 'Direction', 'hour', 'speed', 'geojson']]\n",
    "vehicle_speed = vehicle_speed[['LineId', 'FromStop', 'ToStop', 'Direction', 'hour', 'speed', 'geojson','FromStop_lat','FromStop_lon','ToStop_lat','ToStop_lon']]\n",
    "\n",
    "# Remove the inf values - we drop like 20k values\n",
    "vehicle_speed = vehicle_speed.replace([np.inf], np.nan)\n",
    "vehicle_speed = vehicle_speed.dropna() \n",
    "\n",
    "vehicle_speed = vehicle_speed.astype({'Direction': int})\n",
    "vehicle_speed.head(2)"
   ]
  },
  {
   "cell_type": "markdown",
   "id": "20976934",
   "metadata": {},
   "source": [
    "# Delays - Assignment 2\n",
    "\n",
    "- how should the names column names be?\n",
    "- problem with the double terminus\n",
    "- remove terminus stop?\n",
    "- should we add the order?"
   ]
  },
  {
   "cell_type": "code",
   "execution_count": 6,
   "id": "17f8011f",
   "metadata": {},
   "outputs": [
    {
     "data": {
      "text/html": [
       "<div>\n",
       "<style scoped>\n",
       "    .dataframe tbody tr th:only-of-type {\n",
       "        vertical-align: middle;\n",
       "    }\n",
       "\n",
       "    .dataframe tbody tr th {\n",
       "        vertical-align: top;\n",
       "    }\n",
       "\n",
       "    .dataframe thead th {\n",
       "        text-align: right;\n",
       "    }\n",
       "</style>\n",
       "<table border=\"1\" class=\"dataframe\">\n",
       "  <thead>\n",
       "    <tr style=\"text-align: right;\">\n",
       "      <th></th>\n",
       "      <th>Timestamp</th>\n",
       "      <th>LineId</th>\n",
       "      <th>TerminusStop</th>\n",
       "      <th>CurrentStop</th>\n",
       "      <th>Date</th>\n",
       "      <th>Hour</th>\n",
       "      <th>Day</th>\n",
       "      <th>Delay</th>\n",
       "      <th>ExpectedArrivalTime</th>\n",
       "      <th>HourInterval</th>\n",
       "      <th>Time</th>\n",
       "    </tr>\n",
       "  </thead>\n",
       "  <tbody>\n",
       "    <tr>\n",
       "      <th>0</th>\n",
       "      <td>1630914886924</td>\n",
       "      <td>12</td>\n",
       "      <td>1780</td>\n",
       "      <td>9600</td>\n",
       "      <td>20210906</td>\n",
       "      <td>07:54:46</td>\n",
       "      <td>0</td>\n",
       "      <td>286</td>\n",
       "      <td>07:50:00</td>\n",
       "      <td>7</td>\n",
       "      <td>07:00</td>\n",
       "    </tr>\n",
       "    <tr>\n",
       "      <th>1</th>\n",
       "      <td>1630914886924</td>\n",
       "      <td>12</td>\n",
       "      <td>1780</td>\n",
       "      <td>2250</td>\n",
       "      <td>20210906</td>\n",
       "      <td>07:54:46</td>\n",
       "      <td>0</td>\n",
       "      <td>-74</td>\n",
       "      <td>07:56:00</td>\n",
       "      <td>7</td>\n",
       "      <td>07:00</td>\n",
       "    </tr>\n",
       "    <tr>\n",
       "      <th>2</th>\n",
       "      <td>1630914978881</td>\n",
       "      <td>12</td>\n",
       "      <td>9600</td>\n",
       "      <td>1780</td>\n",
       "      <td>20210906</td>\n",
       "      <td>07:56:18</td>\n",
       "      <td>0</td>\n",
       "      <td>78</td>\n",
       "      <td>07:55:00</td>\n",
       "      <td>7</td>\n",
       "      <td>07:00</td>\n",
       "    </tr>\n",
       "  </tbody>\n",
       "</table>\n",
       "</div>"
      ],
      "text/plain": [
       "       Timestamp  LineId  TerminusStop  CurrentStop      Date      Hour  Day  \\\n",
       "0  1630914886924      12          1780         9600  20210906  07:54:46    0   \n",
       "1  1630914886924      12          1780         2250  20210906  07:54:46    0   \n",
       "2  1630914978881      12          9600         1780  20210906  07:56:18    0   \n",
       "\n",
       "   Delay ExpectedArrivalTime  HourInterval   Time  \n",
       "0    286            07:50:00             7  07:00  \n",
       "1    -74            07:56:00             7  07:00  \n",
       "2     78            07:55:00             7  07:00  "
      ]
     },
     "execution_count": 6,
     "metadata": {},
     "output_type": "execute_result"
    }
   ],
   "source": [
    "# Using the delays and creating the Time coulmn from the Hour column: 7 -> '07:00:00'\n",
    "delays_path = '../data/processed/assignment2/final_filtered_delays.csv'\n",
    "\n",
    "vehicle_delays = pd.read_csv(delays_path)\n",
    "vehicle_delays.drop(columns=['Unnamed: 0'], inplace=True)\n",
    "vehicle_delays['Time'] = vehicle_delays['Hour'].apply(lambda x: str(x.split(':')[0]+':00'))\n",
    "\n",
    "# vehicle_delays = vehicle_delays[['LineId', 'CurrentStop', 'Date', 'Time', 'Delay', 'Day', 'Hour']]\n",
    "vehicle_delays.head(3)"
   ]
  },
  {
   "cell_type": "code",
   "execution_count": 7,
   "id": "c3500b35",
   "metadata": {},
   "outputs": [],
   "source": [
    "# joining on lineId and stopid because we can have one station on different lines \n",
    "vehicle_delays = vehicle_delays.merge(line_stops, how='inner', left_on=['LineId','CurrentStop'], right_on=['lineId','stop_id_int'] )"
   ]
  },
  {
   "cell_type": "code",
   "execution_count": 10,
   "id": "604e2061",
   "metadata": {},
   "outputs": [],
   "source": [
    "vehicle_delays = vehicle_delays[['LineId', 'CurrentStop', 'Date','Hour', 'Time', 'Delay','direction', 'Day', 'type', 'name_ascii']]"
   ]
  },
  {
   "cell_type": "code",
   "execution_count": 11,
   "id": "9b0a4780",
   "metadata": {},
   "outputs": [],
   "source": [
    "# cleaninug up the visual_data\n",
    "vehicle_delays = vehicle_delays.drop_duplicates(subset=['LineId', 'CurrentStop', 'direction', 'Time','Day', 'type'])\n",
    "# visual_data.rename(columns={'direction': 'Direction', 'order': 'Order', 'type': 'Type'}, inplace=True)\n",
    "# visual_data = visual_data.astype({'LineId': str, 'Delay': 'int', 'Direction': int, 'Order': int})"
   ]
  },
  {
   "cell_type": "code",
   "execution_count": 12,
   "id": "2e6f05c1",
   "metadata": {},
   "outputs": [
    {
     "data": {
      "text/html": [
       "<div>\n",
       "<style scoped>\n",
       "    .dataframe tbody tr th:only-of-type {\n",
       "        vertical-align: middle;\n",
       "    }\n",
       "\n",
       "    .dataframe tbody tr th {\n",
       "        vertical-align: top;\n",
       "    }\n",
       "\n",
       "    .dataframe thead th {\n",
       "        text-align: right;\n",
       "    }\n",
       "</style>\n",
       "<table border=\"1\" class=\"dataframe\">\n",
       "  <thead>\n",
       "    <tr style=\"text-align: right;\">\n",
       "      <th></th>\n",
       "      <th>LineId</th>\n",
       "      <th>type</th>\n",
       "      <th>CurrentStop</th>\n",
       "      <th>direction</th>\n",
       "      <th>Day</th>\n",
       "      <th>Time</th>\n",
       "      <th>Delay</th>\n",
       "    </tr>\n",
       "  </thead>\n",
       "  <tbody>\n",
       "    <tr>\n",
       "      <th>0</th>\n",
       "      <td>1</td>\n",
       "      <td>m</td>\n",
       "      <td>8011</td>\n",
       "      <td>2</td>\n",
       "      <td>0</td>\n",
       "      <td>05:00</td>\n",
       "      <td>-527.0</td>\n",
       "    </tr>\n",
       "    <tr>\n",
       "      <th>1</th>\n",
       "      <td>1</td>\n",
       "      <td>m</td>\n",
       "      <td>8011</td>\n",
       "      <td>2</td>\n",
       "      <td>0</td>\n",
       "      <td>06:00</td>\n",
       "      <td>66.0</td>\n",
       "    </tr>\n",
       "    <tr>\n",
       "      <th>2</th>\n",
       "      <td>1</td>\n",
       "      <td>m</td>\n",
       "      <td>8011</td>\n",
       "      <td>2</td>\n",
       "      <td>0</td>\n",
       "      <td>07:00</td>\n",
       "      <td>-47.0</td>\n",
       "    </tr>\n",
       "    <tr>\n",
       "      <th>3</th>\n",
       "      <td>1</td>\n",
       "      <td>m</td>\n",
       "      <td>8011</td>\n",
       "      <td>2</td>\n",
       "      <td>0</td>\n",
       "      <td>08:00</td>\n",
       "      <td>-96.0</td>\n",
       "    </tr>\n",
       "    <tr>\n",
       "      <th>4</th>\n",
       "      <td>1</td>\n",
       "      <td>m</td>\n",
       "      <td>8011</td>\n",
       "      <td>2</td>\n",
       "      <td>0</td>\n",
       "      <td>09:00</td>\n",
       "      <td>-22.0</td>\n",
       "    </tr>\n",
       "  </tbody>\n",
       "</table>\n",
       "</div>"
      ],
      "text/plain": [
       "   LineId type  CurrentStop  direction  Day   Time  Delay\n",
       "0       1    m         8011          2    0  05:00 -527.0\n",
       "1       1    m         8011          2    0  06:00   66.0\n",
       "2       1    m         8011          2    0  07:00  -47.0\n",
       "3       1    m         8011          2    0  08:00  -96.0\n",
       "4       1    m         8011          2    0  09:00  -22.0"
      ]
     },
     "execution_count": 12,
     "metadata": {},
     "output_type": "execute_result"
    }
   ],
   "source": [
    "#TODO Should we add order column?\n",
    "#grouping by to get the result\n",
    "grouped_delays = vehicle_delays.groupby(['LineId', 'type', 'CurrentStop', 'direction',  'Day', 'Time'], as_index=False)['Delay'].mean()\n",
    "grouped_delays.head()"
   ]
  },
  {
   "cell_type": "markdown",
   "id": "a68a3fdb",
   "metadata": {},
   "source": [
    "# The merge"
   ]
  },
  {
   "cell_type": "code",
   "execution_count": 13,
   "id": "fcacecbc",
   "metadata": {},
   "outputs": [
    {
     "name": "stdout",
     "output_type": "stream",
     "text": [
      "133839\n"
     ]
    }
   ],
   "source": [
    "# Delays\n",
    "grouped_delays.head(1)\n",
    "print(len(grouped_delays))"
   ]
  },
  {
   "cell_type": "code",
   "execution_count": 14,
   "id": "632ecb33",
   "metadata": {},
   "outputs": [
    {
     "name": "stdout",
     "output_type": "stream",
     "text": [
      "54366\n"
     ]
    }
   ],
   "source": [
    "# Speed\n",
    "vehicle_speed.head(1)\n",
    "print(len(vehicle_speed))"
   ]
  },
  {
   "cell_type": "code",
   "execution_count": 15,
   "id": "df07c009",
   "metadata": {},
   "outputs": [],
   "source": [
    "# Merging on FromStop"
   ]
  },
  {
   "cell_type": "code",
   "execution_count": 16,
   "id": "86e373c0",
   "metadata": {},
   "outputs": [],
   "source": [
    "visualization_data = grouped_delays.merge(vehicle_speed, how='inner', left_on=['LineId', 'CurrentStop', 'direction', 'Time'], right_on=['LineId','FromStop','Direction','hour'])\n",
    "visualization_data = visualization_data.drop(columns=['direction'])"
   ]
  },
  {
   "cell_type": "code",
   "execution_count": 17,
   "id": "62c15e13",
   "metadata": {},
   "outputs": [
    {
     "data": {
      "text/html": [
       "<div>\n",
       "<style scoped>\n",
       "    .dataframe tbody tr th:only-of-type {\n",
       "        vertical-align: middle;\n",
       "    }\n",
       "\n",
       "    .dataframe tbody tr th {\n",
       "        vertical-align: top;\n",
       "    }\n",
       "\n",
       "    .dataframe thead th {\n",
       "        text-align: right;\n",
       "    }\n",
       "</style>\n",
       "<table border=\"1\" class=\"dataframe\">\n",
       "  <thead>\n",
       "    <tr style=\"text-align: right;\">\n",
       "      <th></th>\n",
       "      <th>LineId</th>\n",
       "      <th>type</th>\n",
       "      <th>CurrentStop</th>\n",
       "      <th>Day</th>\n",
       "      <th>Time</th>\n",
       "      <th>Delay</th>\n",
       "      <th>FromStop</th>\n",
       "      <th>ToStop</th>\n",
       "      <th>Direction</th>\n",
       "      <th>hour</th>\n",
       "      <th>speed</th>\n",
       "      <th>geojson</th>\n",
       "      <th>FromStop_lat</th>\n",
       "      <th>FromStop_lon</th>\n",
       "      <th>ToStop_lat</th>\n",
       "      <th>ToStop_lon</th>\n",
       "    </tr>\n",
       "  </thead>\n",
       "  <tbody>\n",
       "    <tr>\n",
       "      <th>0</th>\n",
       "      <td>1</td>\n",
       "      <td>m</td>\n",
       "      <td>8011</td>\n",
       "      <td>0</td>\n",
       "      <td>05:00</td>\n",
       "      <td>-527.0</td>\n",
       "      <td>8011</td>\n",
       "      <td>8271</td>\n",
       "      <td>2</td>\n",
       "      <td>05:00</td>\n",
       "      <td>11.219475</td>\n",
       "      <td>{'type': 'FeatureCollection', 'features': [{'t...</td>\n",
       "      <td>50.850095</td>\n",
       "      <td>4.352165</td>\n",
       "      <td>50.852347</td>\n",
       "      <td>4.347749</td>\n",
       "    </tr>\n",
       "  </tbody>\n",
       "</table>\n",
       "</div>"
      ],
      "text/plain": [
       "   LineId type  CurrentStop  Day   Time  Delay  FromStop  ToStop  Direction  \\\n",
       "0       1    m         8011    0  05:00 -527.0      8011    8271          2   \n",
       "\n",
       "    hour      speed                                            geojson  \\\n",
       "0  05:00  11.219475  {'type': 'FeatureCollection', 'features': [{'t...   \n",
       "\n",
       "   FromStop_lat  FromStop_lon  ToStop_lat  ToStop_lon  \n",
       "0     50.850095      4.352165   50.852347    4.347749  "
      ]
     },
     "execution_count": 17,
     "metadata": {},
     "output_type": "execute_result"
    }
   ],
   "source": [
    "visualization_data.head(1)\n",
    "# print(len(visualization_data))"
   ]
  },
  {
   "cell_type": "code",
   "execution_count": 18,
   "id": "b13c3fc0",
   "metadata": {},
   "outputs": [],
   "source": [
    "# TODO add the Stop Name"
   ]
  },
  {
   "cell_type": "code",
   "execution_count": 23,
   "id": "2ab6b659",
   "metadata": {},
   "outputs": [
    {
     "data": {
      "text/html": [
       "<div>\n",
       "<style scoped>\n",
       "    .dataframe tbody tr th:only-of-type {\n",
       "        vertical-align: middle;\n",
       "    }\n",
       "\n",
       "    .dataframe tbody tr th {\n",
       "        vertical-align: top;\n",
       "    }\n",
       "\n",
       "    .dataframe thead th {\n",
       "        text-align: right;\n",
       "    }\n",
       "</style>\n",
       "<table border=\"1\" class=\"dataframe\">\n",
       "  <thead>\n",
       "    <tr style=\"text-align: right;\">\n",
       "      <th></th>\n",
       "      <th>name_ascii</th>\n",
       "      <th>stop_id_int</th>\n",
       "    </tr>\n",
       "  </thead>\n",
       "  <tbody>\n",
       "    <tr>\n",
       "      <th>0</th>\n",
       "      <td>GARE DE L'OUEST</td>\n",
       "      <td>8733</td>\n",
       "    </tr>\n",
       "    <tr>\n",
       "      <th>1</th>\n",
       "      <td>BEEKKANT</td>\n",
       "      <td>8742</td>\n",
       "    </tr>\n",
       "    <tr>\n",
       "      <th>2</th>\n",
       "      <td>ETANGS NOIRS</td>\n",
       "      <td>8292</td>\n",
       "    </tr>\n",
       "    <tr>\n",
       "      <th>3</th>\n",
       "      <td>COMTE DE FLANDRE</td>\n",
       "      <td>8282</td>\n",
       "    </tr>\n",
       "    <tr>\n",
       "      <th>4</th>\n",
       "      <td>SAINTE-CATHERINE</td>\n",
       "      <td>8272</td>\n",
       "    </tr>\n",
       "    <tr>\n",
       "      <th>...</th>\n",
       "      <td>...</td>\n",
       "      <td>...</td>\n",
       "    </tr>\n",
       "    <tr>\n",
       "      <th>3591</th>\n",
       "      <td>DORENT</td>\n",
       "      <td>9686</td>\n",
       "    </tr>\n",
       "    <tr>\n",
       "      <th>3592</th>\n",
       "      <td>PATHE</td>\n",
       "      <td>5964</td>\n",
       "    </tr>\n",
       "    <tr>\n",
       "      <th>3593</th>\n",
       "      <td>MOZART</td>\n",
       "      <td>3815</td>\n",
       "    </tr>\n",
       "    <tr>\n",
       "      <th>3594</th>\n",
       "      <td>BOLLINCKX</td>\n",
       "      <td>3851</td>\n",
       "    </tr>\n",
       "    <tr>\n",
       "      <th>3595</th>\n",
       "      <td>CERIA</td>\n",
       "      <td>2382</td>\n",
       "    </tr>\n",
       "  </tbody>\n",
       "</table>\n",
       "<p>3596 rows × 2 columns</p>\n",
       "</div>"
      ],
      "text/plain": [
       "            name_ascii  stop_id_int\n",
       "0      GARE DE L'OUEST         8733\n",
       "1             BEEKKANT         8742\n",
       "2         ETANGS NOIRS         8292\n",
       "3     COMTE DE FLANDRE         8282\n",
       "4     SAINTE-CATHERINE         8272\n",
       "...                ...          ...\n",
       "3591            DORENT         9686\n",
       "3592             PATHE         5964\n",
       "3593            MOZART         3815\n",
       "3594         BOLLINCKX         3851\n",
       "3595             CERIA         2382\n",
       "\n",
       "[3596 rows x 2 columns]"
      ]
     },
     "execution_count": 23,
     "metadata": {},
     "output_type": "execute_result"
    }
   ],
   "source": []
  },
  {
   "cell_type": "code",
   "execution_count": 19,
   "id": "189e68bc",
   "metadata": {},
   "outputs": [],
   "source": [
    "# adding the 'line'+id to the LineId column so that we use it as string in the visualization\n",
    "visualization_data['LineId'] = visualization_data['LineId'].apply(lambda x: 'line'+str(x)) "
   ]
  },
  {
   "cell_type": "code",
   "execution_count": 32,
   "id": "6c739b6e",
   "metadata": {},
   "outputs": [],
   "source": [
    "visualization_data_stops = visualization_data.merge(line_stops[['name_ascii','stop_id_int']], how='inner', left_on='CurrentStop', right_on='stop_id_int').drop(columns=['stop_id_int'])"
   ]
  },
  {
   "cell_type": "code",
   "execution_count": 37,
   "id": "16496158",
   "metadata": {},
   "outputs": [],
   "source": [
    "visualization_data = visualization_data_stops.drop_duplicates()"
   ]
  },
  {
   "cell_type": "code",
   "execution_count": 40,
   "id": "658cecf5",
   "metadata": {},
   "outputs": [
    {
     "data": {
      "text/html": [
       "<div>\n",
       "<style scoped>\n",
       "    .dataframe tbody tr th:only-of-type {\n",
       "        vertical-align: middle;\n",
       "    }\n",
       "\n",
       "    .dataframe tbody tr th {\n",
       "        vertical-align: top;\n",
       "    }\n",
       "\n",
       "    .dataframe thead th {\n",
       "        text-align: right;\n",
       "    }\n",
       "</style>\n",
       "<table border=\"1\" class=\"dataframe\">\n",
       "  <thead>\n",
       "    <tr style=\"text-align: right;\">\n",
       "      <th></th>\n",
       "      <th>LineId</th>\n",
       "      <th>type</th>\n",
       "      <th>CurrentStop</th>\n",
       "      <th>Day</th>\n",
       "      <th>Time</th>\n",
       "      <th>Delay</th>\n",
       "      <th>FromStop</th>\n",
       "      <th>ToStop</th>\n",
       "      <th>Direction</th>\n",
       "      <th>hour</th>\n",
       "      <th>speed</th>\n",
       "      <th>geojson</th>\n",
       "      <th>FromStop_lat</th>\n",
       "      <th>FromStop_lon</th>\n",
       "      <th>ToStop_lat</th>\n",
       "      <th>ToStop_lon</th>\n",
       "      <th>name_ascii</th>\n",
       "    </tr>\n",
       "  </thead>\n",
       "  <tbody>\n",
       "    <tr>\n",
       "      <th>0</th>\n",
       "      <td>line1</td>\n",
       "      <td>m</td>\n",
       "      <td>8011</td>\n",
       "      <td>0</td>\n",
       "      <td>05:00</td>\n",
       "      <td>-527.0</td>\n",
       "      <td>8011</td>\n",
       "      <td>8271</td>\n",
       "      <td>2</td>\n",
       "      <td>05:00</td>\n",
       "      <td>11.219475</td>\n",
       "      <td>{'type': 'FeatureCollection', 'features': [{'t...</td>\n",
       "      <td>50.850095</td>\n",
       "      <td>4.352165</td>\n",
       "      <td>50.852347</td>\n",
       "      <td>4.347749</td>\n",
       "      <td>DE BROUCKERE</td>\n",
       "    </tr>\n",
       "    <tr>\n",
       "      <th>2</th>\n",
       "      <td>line1</td>\n",
       "      <td>m</td>\n",
       "      <td>8011</td>\n",
       "      <td>1</td>\n",
       "      <td>05:00</td>\n",
       "      <td>-424.0</td>\n",
       "      <td>8011</td>\n",
       "      <td>8271</td>\n",
       "      <td>2</td>\n",
       "      <td>05:00</td>\n",
       "      <td>11.219475</td>\n",
       "      <td>{'type': 'FeatureCollection', 'features': [{'t...</td>\n",
       "      <td>50.850095</td>\n",
       "      <td>4.352165</td>\n",
       "      <td>50.852347</td>\n",
       "      <td>4.347749</td>\n",
       "      <td>DE BROUCKERE</td>\n",
       "    </tr>\n",
       "    <tr>\n",
       "      <th>4</th>\n",
       "      <td>line1</td>\n",
       "      <td>m</td>\n",
       "      <td>8011</td>\n",
       "      <td>0</td>\n",
       "      <td>06:00</td>\n",
       "      <td>66.0</td>\n",
       "      <td>8011</td>\n",
       "      <td>8271</td>\n",
       "      <td>2</td>\n",
       "      <td>06:00</td>\n",
       "      <td>11.554020</td>\n",
       "      <td>{'type': 'FeatureCollection', 'features': [{'t...</td>\n",
       "      <td>50.850095</td>\n",
       "      <td>4.352165</td>\n",
       "      <td>50.852347</td>\n",
       "      <td>4.347749</td>\n",
       "      <td>DE BROUCKERE</td>\n",
       "    </tr>\n",
       "  </tbody>\n",
       "</table>\n",
       "</div>"
      ],
      "text/plain": [
       "  LineId type  CurrentStop  Day   Time  Delay  FromStop  ToStop  Direction  \\\n",
       "0  line1    m         8011    0  05:00 -527.0      8011    8271          2   \n",
       "2  line1    m         8011    1  05:00 -424.0      8011    8271          2   \n",
       "4  line1    m         8011    0  06:00   66.0      8011    8271          2   \n",
       "\n",
       "    hour      speed                                            geojson  \\\n",
       "0  05:00  11.219475  {'type': 'FeatureCollection', 'features': [{'t...   \n",
       "2  05:00  11.219475  {'type': 'FeatureCollection', 'features': [{'t...   \n",
       "4  06:00  11.554020  {'type': 'FeatureCollection', 'features': [{'t...   \n",
       "\n",
       "   FromStop_lat  FromStop_lon  ToStop_lat  ToStop_lon    name_ascii  \n",
       "0     50.850095      4.352165   50.852347    4.347749  DE BROUCKERE  \n",
       "2     50.850095      4.352165   50.852347    4.347749  DE BROUCKERE  \n",
       "4     50.850095      4.352165   50.852347    4.347749  DE BROUCKERE  "
      ]
     },
     "execution_count": 40,
     "metadata": {},
     "output_type": "execute_result"
    }
   ],
   "source": [
    "visualization_data.head(3)"
   ]
  },
  {
   "cell_type": "code",
   "execution_count": 3,
   "id": "18e4f89c",
   "metadata": {},
   "outputs": [
    {
     "ename": "NameError",
     "evalue": "name 'visualization_data' is not defined",
     "output_type": "error",
     "traceback": [
      "\u001b[0;31m---------------------------------------------------------------------------\u001b[0m",
      "\u001b[0;31mNameError\u001b[0m                                 Traceback (most recent call last)",
      "\u001b[0;32m/tmp/ipykernel_6610/3265653000.py\u001b[0m in \u001b[0;36m<module>\u001b[0;34m\u001b[0m\n\u001b[0;32m----> 1\u001b[0;31m \u001b[0mvisualization_data\u001b[0m\u001b[0;34m.\u001b[0m\u001b[0mto_csv\u001b[0m\u001b[0;34m(\u001b[0m\u001b[0;34m'../data/processed/assignment2/visualization_data.csv'\u001b[0m\u001b[0;34m)\u001b[0m\u001b[0;34m\u001b[0m\u001b[0;34m\u001b[0m\u001b[0m\n\u001b[0m",
      "\u001b[0;31mNameError\u001b[0m: name 'visualization_data' is not defined"
     ]
    }
   ],
   "source": [
    "visualization_data.to_csv('../data/processed/assignment2/visualization_data.csv')\n"
   ]
  },
  {
   "cell_type": "markdown",
   "id": "d379b89c",
   "metadata": {},
   "source": [
    "# Visuals"
   ]
  },
  {
   "cell_type": "code",
   "execution_count": 4,
   "id": "ffde01df",
   "metadata": {},
   "outputs": [],
   "source": [
    "vd = pd.read_csv('../data/processed/assignment2/visualization_data.csv')"
   ]
  },
  {
   "cell_type": "code",
   "execution_count": 6,
   "id": "beaffd95",
   "metadata": {},
   "outputs": [],
   "source": [
    "vd1 = vd.head(1000)"
   ]
  },
  {
   "cell_type": "code",
   "execution_count": null,
   "id": "bc73fb44",
   "metadata": {},
   "outputs": [],
   "source": [
    "# code for checking duplicates, just used for checking what we are dropping.\n",
    "df_droplog = pd.DataFrame()\n",
    "mask = line_stops[['lineId','direction', 'stop_id_int','order']].duplicated()\n",
    "df_keep = line_stops[['lineId','direction', 'stop_id_int','order']].loc[~mask]\n",
    "df_droplog = df_droplog.append(line_stops[['lineId','direction', 'stop_id_int','order']].loc[mask])"
   ]
  },
  {
   "cell_type": "code",
   "execution_count": 18,
   "id": "741e21f3",
   "metadata": {},
   "outputs": [
    {
     "data": {
      "text/plain": [
       "\"{'type': 'FeatureCollection', 'features': [{'type': 'Feature', 'properties': {}, 'geometry': {'type': 'LineString', 'coordinates': [[50.84187285032085, 4.4645410055363985], [50.843270588077445, 4.463606785475749], [50.84351703479166, 4.463442585074531], [50.84375538724015, 4.463282626095395], [50.844054901499106, 4.463081613381056], [50.84409897425753, 4.463051885483516], [50.84411876383088, 4.463036307046374], [50.84418982464806, 4.462982495971582], [50.844271686632965, 4.462911668194964], [50.84432656627108, 4.462857824128111], [50.844349059555086, 4.4628337318032685], [50.84439764535225, 4.462781294741169], [50.8444606315313, 4.462707588564265], [50.844541616144696, 4.462609780616862], [50.84463880008582, 4.462489286921104], [50.84525879322191, 4.461722371197469], [50.84532538132157, 4.461640150064926], [50.84545045660804, 4.461488470075966], [50.84551434090701, 4.4614147623012075], [50.84555842904107, 4.461365153347819], [50.84559351861357, 4.461326885660318], [50.84563670437308, 4.461281534459225], [50.84568798631119, 4.461229099701378], [50.845764453498866, 4.461158255932683], [50.84583641913094, 4.461095922476716], [50.84590658232461, 4.461039264907728], [50.845985737246146, 4.4609797851169795], [50.84610896319792, 4.460891993845643], [50.84620430364386, 4.460826865813949], [50.847159488261674, 4.460195453737965], [50.84732318975001, 4.460077918452871], [50.84740234637941, 4.460015595343751], [50.8474922992771, 4.45994193346135], [50.84760115008589, 4.4598427488927], [50.847728897629636, 4.4597194613042666], [50.84822281082555, 4.459220591211594], [50.848323568246364, 4.459124227721489], [50.84847919787345, 4.458981110391551], [50.84867619660247, 4.458815352095443], [50.84879673057765, 4.458719024949133], [50.84888218458621, 4.458649609733907], [50.84950733756928, 4.45815380773414], [50.84961078221013, 4.458068804650288], [50.84965845814309, 4.458027715247633], [50.84974391934003, 4.457948357332432], [50.84981139387485, 4.457878904963743], [50.849848282341675, 4.457837794590279], [50.849877972677085, 4.457805190594019], [50.84994905812098, 4.457715864253219], [50.84998325293474, 4.4576704883952045], [50.849993152229345, 4.457656306926757], [50.85004984894411, 4.457574052922419], [50.85011015222515, 4.4574776052063125], [50.85016416169679, 4.457382565322481], [50.85020737397189, 4.457300285089262], [50.85027760431185, 4.457152733992415], [50.85032083043166, 4.457051992805382], [50.850360462818166, 4.456948404547081], [50.850403707032314, 4.4568235222407395], [50.850437050862105, 4.456714241556933], [50.85046679557535, 4.45660921408353], [50.850494747648575, 4.456497082858834], [50.85052632320873, 4.45634803700774], [50.85054437911339, 4.456245827276712], [50.850562446658, 4.456127996926508], [50.850579626845885, 4.455994544257243], [50.850594133413885, 4.455829845350327], [50.850600508889755, 4.455719093175511], [50.85060418953196, 4.455605495846868], [50.85060434831765, 4.4553924882814755], [50.85059816236825, 4.45524905151466], [50.850591043563114, 4.455151054722413], [50.850577664668954, 4.455009024775211], [50.85056515196562, 4.454911018096213], [50.8505526328784, 4.454821531762867], [50.850533836812915, 4.454710733149589], [50.85050786266405, 4.454581460766764], [50.85047649781233, 4.4544479184739885], [50.85044332759895, 4.45432431337949], [50.850418218595344, 4.454240484541438], [50.850376060749795, 4.454114023201886], [50.85033479027304, 4.454003184197997], [50.8503033842334, 4.453925024396693], [50.85024863763648, 4.453802800812816], [50.85020645028817, 4.453716101398956], [50.85014899730259, 4.453606653733712], [50.850043055722736, 4.453421856328694], [50.84988054391172, 4.453148915360286], [50.84880310741157, 4.451330787746787], [50.848530152292696, 4.450870227583083], [50.84847538246108, 4.450776411892324], [50.8484026565508, 4.450649905187208], [50.84834968643889, 4.450553253197995], [50.84834070792121, 4.4505376176187905], [50.8482886376634, 4.45043954747826], [50.84823477539881, 4.450332954534197], [50.84821771924356, 4.450298845158137], [50.84817463331473, 4.45020789113238], [50.84814321876544, 4.450138257315904], [50.848087574200136, 4.4500089423192435], [50.84804180704784, 4.4498952645445], [50.84799335282649, 4.449767382585936], [50.847930551790185, 4.449586937047928], [50.84788570091559, 4.449447702188643], [50.847840855776596, 4.449299947792594], [50.847771808450055, 4.449051334293271], [50.84773057035535, 4.448886547251971], [50.847693823851074, 4.448726028100302], [50.84765081760119, 4.448517219736566], [50.84762932163204, 4.448402165992577], [50.8476033560446, 4.448250185724634], [50.84757292360069, 4.448057019160041], [50.8475442935698, 4.447856756106907], [50.84751924550617, 4.447676378789994], [50.84738775504447, 4.446704906832406], [50.84721152389022, 4.445408197916156], [50.84718737100919, 4.445227824656468], [50.847181999721975, 4.445193737068003], [50.847130991523066, 4.444840086505415], [50.847056705673225, 4.4443387245876975], [50.847020010038676, 4.444090174863566], [50.84700121760236, 4.443958089741093], [50.8469681279521, 4.443692507103904], [50.846947582846504, 4.443489422387434], [50.84693421259888, 4.443311908273594], [50.846926212149995, 4.443171321303718], [50.846920023953686, 4.44300801821851], [50.8469174277111, 4.44285040065389], [50.84691755430389, 4.44265160914752], [50.84692398221996, 4.442438628202827], [50.846934895523056, 4.44223985368975], [50.84695120129771, 4.442042507513019], [50.846961151514606, 4.441944547169359], [50.84697200060036, 4.441846588195215], [50.84698826560542, 4.4417131390932525], [50.846999101138614, 4.441636479136469], [50.84700451621552, 4.441602408970782], [50.847025273918554, 4.441471806596144], [50.84705233654931, 4.44132133470755], [50.84707668442933, 4.44119925733478], [50.847101928480804, 4.4410814410665935], [50.84713167334475, 4.440953692021636], [50.84716141278341, 4.4408344624954434], [50.84719925848621, 4.440689686260831], [50.84725151441497, 4.440500913537332], [50.84729385708385, 4.440351883816873], [50.847349713507086, 4.4401545961386635], [50.847361423424324, 4.440116275335683], [50.84743980364305, 4.439836664048131], [50.84745872589951, 4.439764275129549], [50.84749747356011, 4.439612398701412], [50.847538033617006, 4.4394363854653625], [50.8475740986565, 4.439260365117811], [50.847604766288654, 4.43909001619167], [50.84762461880649, 4.438965089527282], [50.84764177005486, 4.438847258503131], [50.84766796541, 4.438638563334229], [50.84768515128944, 4.438462513615681], [50.847698745353085, 4.438279358581716], [50.8477069293146, 4.438123174708076], [50.847711500336224, 4.4379953847008755], [50.84771428599224, 4.437846292546607], [50.84771440494571, 4.437646077693726], [50.84771089330055, 4.43750407603169], [50.847703798264156, 4.4373407696420974], [50.847690432932616, 4.437139115054659], [50.8476770405623, 4.436982899378083], [50.84765290883366, 4.436744310234244], [50.84753038449632, 4.43565644249906], [50.847430214976015, 4.4347603061512935], [50.84740606262888, 4.434550118486085], [50.84736490839514, 4.434200751561461], [50.84731032298129, 4.433754809684358], [50.84726288875002, 4.433378456371692], [50.847257514019155, 4.433344370082816], [50.8472011188106, 4.4329140471681745], [50.84681339849756, 4.430093516553613], [50.84676503638772, 4.429749828239166], [50.84673278301038, 4.429542475410303], [50.84669423883526, 4.429330854865273], [50.84665926493891, 4.429167517017965], [50.846630561329235, 4.429046785498636], [50.84659826400188, 4.428921789681399], [50.84658031885832, 4.428856449653126], [50.84656865236244, 4.42881809645579], [50.846525575452915, 4.428677467841734], [50.846489672405404, 4.4285709269769], [50.8464403003492, 4.428434550520393], [50.84639541194782, 4.428319478966891], [50.84633256115543, 4.428171726427272], [50.84631190928814, 4.428124842586793], [50.84623827301289, 4.427972817063784], [50.8461807966697, 4.4278619901892915], [50.84617181512205, 4.427846359666139], [50.84613858359436, 4.427788100807752], [50.84613319567218, 4.427776734627722], [50.84606223920537, 4.4276573716614225], [50.846001158834156, 4.427562160068732], [50.845914922853076, 4.4274370988205645], [50.845856530540566, 4.427358930103883], [50.845772082927326, 4.427252330641326], [50.845673255572905, 4.427138613974395], [50.84563282493363, 4.427094546213453], [50.84562114428523, 4.42708317233488], [50.8455726266337, 4.4270319950254695], [50.84556094597901, 4.427020621177005], [50.8454692986031, 4.426929632843719], [50.84431649535689, 4.425819277141061], [50.84366506213924, 4.4251923263880775], [50.84355005090863, 4.425080019361903], [50.84347457690397, 4.425001836818342], [50.84340180176596, 4.42491939828726], [50.84334070950458, 4.4248440732826655], [50.84329219839932, 4.4247772826350715], [50.84323021669139, 4.424682079311986], [50.84317273240132, 4.424581202337911], [50.843127827884324, 4.424491699315136], [50.84309280426466, 4.424417826379189], [50.843085621518135, 4.424399360047512], [50.8430488074279, 4.424309867044229], [50.84302187425962, 4.424236004034944], [50.842986866773295, 4.424128055753747], [50.84294827760266, 4.423990287138159], [50.842922262111315, 4.423876670606531], [50.842901638197894, 4.423767320046163], [50.84288640183536, 4.423670754321344], [50.842870281894264, 4.423541531797044], [50.8428577669981, 4.423392436156321], [50.842849742663205, 4.423251864771499], [50.842842644422106, 4.423053082007195], [50.84276745031482, 4.420393680413545], [50.84275677980546, 4.420131002809917], [50.842744285702125, 4.4199251158907735], [50.842729084372905, 4.4197419431289955], [50.8427120786182, 4.419572966643337], [50.84267893247089, 4.419310265037109], [50.84265204195041, 4.419131339467939], [50.84261886773247, 4.418931110143667], [50.84250677594676, 4.418287816214099], [50.842443105452375, 4.417924278053346], [50.842407231714155, 4.417725467425358], [50.842365968716344, 4.417515293007776], [50.84234084769182, 4.4173974230058155], [50.842298672064835, 4.417218483838796], [50.84225469529512, 4.41704664211439], [50.84220173584211, 4.416857753810246], [50.84218018991719, 4.416788161381008], [50.84213979009316, 4.416660337864736], [50.84206885800478, 4.416454394424988], [50.84200689815008, 4.4162896347722], [50.84196558834394, 4.416187367459202], [50.84192337891456, 4.4160865191966225], [50.84185871414999, 4.415940215023684], [50.841764405147366, 4.415741349122445], [50.8417554219735, 4.41572572238338], [50.841710510104804, 4.415637650300224], [50.84166380026485, 4.415549576569444], [50.84165212193246, 4.4155296878352], [50.84158295196514, 4.415407516985133], [50.84154252660539, 4.415339326930989], [50.84142843221353, 4.415158900830652], [50.84137542535981, 4.415080760218705], [50.841290971593835, 4.414961415044109], [50.841208311644394, 4.4148520104585245], [50.841141823124374, 4.414766758334427], [50.84112115795923, 4.414739762265505], [50.840366410956165, 4.4137920447150725], [50.840205576879455, 4.413590285539455], [50.84003306374433, 4.413368640231613], [50.83984258531303, 4.413110066430751], [50.839694344063346, 4.412885608294147], [50.83960540516286, 4.412735033239201], [50.83951647145608, 4.412570261591174], [50.83940418781011, 4.41234442086853], [50.83934041300977, 4.412209488213419], [50.83927394705458, 4.4120589366012695], [50.83879344081292, 4.4108872386367945], [50.838129704324146, 4.409239811223683], [50.83806413895002, 4.40907365207394], [50.838029112506995, 4.408979923180957], [50.83798062045898, 4.408832235262005], [50.83793842237232, 4.408680294078308], [50.83790431319772, 4.408532619133477], [50.8378881614058, 4.408447425176517], [50.83786932927062, 4.408313960302649], [50.83786216004263, 4.408248649492915], [50.837848728187666, 4.408095314043536], [50.83784247713231, 4.407973217428841], [50.8378353472131, 4.4077914941319625], [50.83782200691201, 4.407364163523759], [50.83780243201302, 4.4067565305535], [50.837797120475216, 4.406506665176223], [50.83780707997102, 4.406289464558461], [50.83782964326301, 4.406014067740882], [50.8378737926403, 4.405701776611765], [50.83793772764337, 4.405359687554529], [50.83814300085181, 4.4043660777254106], [50.83854001813367, 4.4024455474816335], [50.838714653984916, 4.401620833865589], [50.83875516398812, 4.401420685969324], [50.83935914255428, 4.3985518767131], [50.83953555750191, 4.397693062193202], [50.83969756581667, 4.3969037987993325], [50.83979117429513, 4.396422569469048], [50.839881195776776, 4.395895904811928], [50.84001170862827, 4.395193214940117], [50.840117906055305, 4.394665134880301], [50.84023039219184, 4.394144154614599], [50.8408027319599, 4.391260948790177], [50.84099350525303, 4.39025159270603], [50.84150006955247, 4.387706172533326], [50.84164221253498, 4.38704745364292], [50.841737570119236, 4.386618717485565], [50.84191118587304, 4.385857779162623], [50.841959759293225, 4.385659026897631], [50.842022722974725, 4.385410586818118], [50.84211176937173, 4.385068449093447], [50.84213245677736, 4.384988948024409], [50.84217023439911, 4.384838463173862], [50.84221880809432, 4.384625510779495], [50.84229347072638, 4.384270586974947], [50.84252734613487, 4.383163217759449], [50.84262269941523, 4.382654956274466], [50.842661379097876, 4.382454774853477], [50.84268386626789, 4.382345456196849], [50.8429725889231, 4.3809739968918135], [50.84304724033627, 4.380620481420797], [50.84316056570192, 4.380072458622014], [50.84321542852402, 4.379808384580696], [50.84379010007342, 4.3770838444270055], [50.844985106033256, 4.371414486121235], [50.84546878512606, 4.3691171283871055], [50.84569622458482, 4.368039426979656], [50.84578162420751, 4.367639013515004], [50.84596230738892, 4.366798424449543], [50.8460072524321, 4.366582596530385], [50.84601624132648, 4.366534319210716], [50.84603601678053, 4.366424985233148], [50.846050398718845, 4.366335530158122], [50.846069274497346, 4.366192118106083], [50.846077363811354, 4.366115442391076], [50.8460872501598, 4.365991909377991], [50.84609354062581, 4.365871216311098], [50.84609623493764, 4.365739164066702], [50.84609533335488, 4.365609951825625], [50.84609083616717, 4.36549635885294], [50.84608184375471, 4.365367147095232], [50.84607195289523, 4.36526491381684], [50.84605217202752, 4.365104464720832], [50.846034189781605, 4.3649795134749345], [50.84588853171167, 4.3640551622818], [50.84562866798838, 4.3624308175386695], [50.84550906927353, 4.361685385667636], [50.84548478882735, 4.361526360521104], [50.84545960758921, 4.361338937746377], [50.845446115089864, 4.361196950113895], [50.84543891660357, 4.3610805197419795], [50.84543531346382, 4.360958409281491], [50.84543620416636, 4.360823519090952], [50.84544338692774, 4.360681528430524], [50.84545326800844, 4.360565095419939], [50.84547303485216, 4.360408903658889], [50.84549190545928, 4.36029672872266], [50.84551886547219, 4.360168933464537], [50.84554223186564, 4.360075216237732], [50.84557458632735, 4.359961618779499], [50.845599751449036, 4.359882100027636], [50.84564289283939, 4.359764240689494], [50.84568513638088, 4.35966342012986], [50.84572738045235, 4.359571118813677], [50.84578220893873, 4.359467455787388], [50.84581906124661, 4.359403553238797], [50.84588018287948, 4.359308408094092], [50.84594130529079, 4.359224621986555], [50.84600152933761, 4.3591493553060845], [50.84601860800926, 4.359130893199648], [50.84603298993212, 4.359113851506746], [50.8460446754325, 4.3591024899724236], [50.846055461871714, 4.359089708690093], [50.84606714736969, 4.359078347144444], [50.84612018146265, 4.359025800116523], [50.84619389008989, 4.358956209953807], [50.84634040949501, 4.358832648299229], [50.84667929164958, 4.358551435047635], [50.846903115258385, 4.358365377666409], [50.84696603724591, 4.358309986965668], [50.84702805989873, 4.358250336473979], [50.847090980634164, 4.358180746019125], [50.847133226776585, 4.358126779167444], [50.847155698023634, 4.3580969555249], [50.847206033229384, 4.358025947413833], [50.847224908889814, 4.357998964345665], [50.84752242231807, 4.357550193811255], [50.84761590027688, 4.3574067568271], [50.847739039114636, 4.35721645361652], [50.847787575612955, 4.357142604166302], [50.84807609744762, 4.356706604789873], [50.8484068620261, 4.356208110120293], [50.84848955221837, 4.356077450409696], [50.848538086820824, 4.355992238692376], [50.84857853139277, 4.355912708852188], [50.84861537936693, 4.355826079854124], [50.848630657522676, 4.35578773609732], [50.848661212599474, 4.3556996885672525], [50.84868727285642, 4.355611642113427], [50.848715128517284, 4.355500875172727], [50.8487330989871, 4.355421350654342], [50.848812165168916, 4.355042190106811], [50.84884810479316, 4.35487746033656], [50.84887685726057, 4.354753912334593], [50.84890650903606, 4.354634623924813], [50.848913697711986, 4.354609061864281], [50.848917291558685, 4.354592020829674], [50.84894245203167, 4.354503973541402], [50.84895772810672, 4.354451429071385], [50.84897480139754, 4.354393204035866], [50.84901613832839, 4.354266811704759], [50.84905567890603, 4.3541546197301475], [50.84909791605796, 4.354041006756462], [50.84912847084419, 4.353961477256726], [50.84920755459746, 4.353764072243885], [50.84928124624304, 4.353582288356055], [50.849328876187684, 4.353465832622458], [50.84938369583794, 4.353335174256407], [50.84939268266656, 4.353313871217726], [50.849440313602635, 4.353207355049812], [50.849512210299, 4.353055390350953], [50.84956613401796, 4.352951711666944], [50.84960657761978, 4.352880697598887], [50.84965421130387, 4.352798320893347], [50.84973599909116, 4.352670492062043], [50.84979352070567, 4.3525852716073645], [50.84988070252668, 4.352461700324409], [50.84992654066872, 4.352399203746741], [50.84995170653279, 4.352363694566717], [50.850020912937424, 4.352268529184772], [50.85003529365567, 4.35225006390691], [50.85009551181091, 4.352164841482972], [50.85013236183411, 4.352113707679756], [50.85016831288431, 4.352062574102474], [50.85021145415356, 4.352001497714231], [50.850257291265166, 4.351933320084364], [50.85029324184363, 4.351879346149051], [50.85035705335862, 4.351778501054773], [50.850381319488704, 4.3517387313952565], [50.850456813253835, 4.351609480898439], [50.85047568642309, 4.351575393149993], [50.85051972337798, 4.351493014866135], [50.8505412925595, 4.351453245874579], [50.85057094965743, 4.351395013325779], [50.85065542582146, 4.351218896795774], [50.85067519639554, 4.351174868048942], [50.85071743331655, 4.351079709195858], [50.85075966912572, 4.350977449891294], [50.85080639751432, 4.350860988184439], [50.85083694929269, 4.350775773493219], [50.85086480478942, 4.350694819865727], [50.850890861484615, 4.350608186569514], [50.85091512042781, 4.3505229739090145], [50.85093488541171, 4.350443443091593], [50.850938478651116, 4.350426401005739], [50.850964529777904, 4.350304265867944], [50.85098608602677, 4.350182132304624], [50.85100584097682, 4.3500386983651005], [50.85102110275999, 4.349906626554048], [50.851037258025556, 4.349740472760203], [50.85106059164482, 4.349491952242959], [50.85107675040329, 4.349351359348828], [50.851094710542945, 4.349233486696376], [50.851110877935355, 4.34914827621254], [50.851122555571976, 4.349094308962057], [50.85114052283876, 4.34902187825935], [50.85116388237236, 4.348940924898185], [50.851189939629855, 4.348865650631194], [50.85121689672211, 4.348796056191719], [50.85126272680361, 4.348696632409416], [50.851288788137595, 4.348646919145884], [50.85132833063545, 4.348578739290461], [50.8513714696033, 4.348514818048311], [50.85142000223578, 4.348450894438321], [50.851466738837956, 4.348398332068549], [50.85152336314938, 4.34834150520867], [50.851577292258256, 4.3482946199120835], [50.85161863820684, 4.348260520551885], [50.851702229984916, 4.348198001609693], [50.85175616072082, 4.348161056573386], [50.851768744332404, 4.348151110638551], [50.852347599110985, 4.347748975939319], [50.85318352051116, 4.347169201854311], [50.853209586504754, 4.347149308444155], [50.85327430174463, 4.347098154890951], [50.85331564681729, 4.347061212980462], [50.85335878875787, 4.347018589661829], [50.85342080351227, 4.346947555065941], [50.85346663918364, 4.346887888679254], [50.85347652480679, 4.34687226270455], [50.853510675639455, 4.346821122292625], [50.853547520977074, 4.3467571993218215], [50.85357627754508, 4.346703220917392], [50.853614917083746, 4.346619414952723], [50.853630192728396, 4.3465839044105], [50.85365894504265, 4.346507203506493], [50.853685898359956, 4.34642482275812], [50.85371374741182, 4.3463253997560205], [50.853729915585035, 4.346255805127686], [50.853749672357075, 4.346147864824753], [50.85375954857747, 4.346082533465707], [50.85377121705142, 4.345987378147566], [50.85378377929459, 4.345865239556861], [50.854046587440266, 4.342967998190199], [50.85406721873343, 4.342760644377218], [50.85408516361095, 4.342602997324322], [50.85410401063638, 4.342460971389003], [50.8541156795926, 4.342381436206371], [50.85413094086023, 4.342286277276421], [50.85415877542559, 4.342137145324757], [50.8541830215755, 4.34202209901873], [50.8542063721454, 4.341922674856287], [50.85420996414354, 4.341905630933003], [50.85422972421908, 4.341830351399483], [50.854233316203754, 4.341813307460674], [50.85426295732681, 4.341705358589018], [50.85427553335505, 4.3416641668254785], [50.85430697352249, 4.341561897401704], [50.854348297208894, 4.341438319777132], [50.854386928125365, 4.34133320562313], [50.854431849317095, 4.341218146534793], [50.85446060007158, 4.34114996204729], [50.854507320289784, 4.341040582246618], [50.854550447892585, 4.340945406009833], [50.85460705306252, 4.340821818345503], [50.8549682503447, 4.340056130148971], [50.8560482187566, 4.3377689387753815], [50.85644623177671, 4.336923646522126], [50.85649654457933, 4.336817095966945], [50.85654955185262, 4.336702021998869], [50.85658998058783, 4.336612520379018], [50.85660794851125, 4.3365713215991715], [50.85664208718169, 4.336491765620246], [50.856678920344265, 4.336403686300412], [50.85670137833024, 4.336345441504699], [50.85671664969797, 4.33630566458338], [50.85674180216946, 4.336238896447886], [50.8567597676459, 4.336189175968311], [50.85678491889058, 4.3361181469949885], [50.856801985367035, 4.33606842703561], [50.856821745952, 4.336008763527139], [50.85685497828485, 4.335903643069261], [50.85690347622762, 4.335738861822682], [50.85693041764085, 4.335640846545401], [50.85693400872347, 4.335623801154066], [50.85694568326486, 4.335581185800564], [50.85694927433883, 4.335564140399241], [50.85695645884219, 4.335538571047998], [50.856961845836985, 4.335514423177656], [50.85697711060699, 4.335451921864101], [50.85698249758386, 4.335427773973215], [50.85701840878286, 4.335260160081533], [50.85704354392831, 4.335133740631483], [50.857070468827, 4.334978914848153], [50.85709379853193, 4.334826931925221], [50.85711532690848, 4.334663588144466], [50.85713057013526, 4.334527233429208], [50.85714132538881, 4.33441502607544], [50.85715117831611, 4.33429145732334], [50.85716012682862, 4.334149425925774], [50.85716548679389, 4.334032961571367], [50.857169049573315, 4.333919338996], [50.85717082015046, 4.333825601209669], [50.8571707452612, 4.333569956264368], [50.85716439104903, 4.333361184206009], [50.85715443728961, 4.333141052881466], [50.85709656521574, 4.332019100147042], [50.85705587037264, 4.3312394160027505], [50.85704141564633, 4.331012187949869], [50.85702607461222, 4.330826147863375], [50.857008040967365, 4.330654312493243], [50.856980999828366, 4.330427094929845], [50.856893579274214, 4.329739767973748], [50.85686833752667, 4.329522491698753], [50.8568503005653, 4.329346396685708], [50.856838570097516, 4.329212903788873], [50.85682773370573, 4.329065207820157], [50.856819596343044, 4.3289246108684925], [50.856814158510375, 4.328792533144763], [50.85680961518351, 4.328647672549445], [50.856806868137966, 4.328498549752756], [50.85680501744711, 4.328342325020918], [50.85680373718605, 4.327231699231351], [50.856799185977465, 4.3270697959581685], [50.85678923188282, 4.326882333153583], [50.856771166904615, 4.326638068047757], [50.856754014484956, 4.326433568969413], [50.85673867985098, 4.326285877902742], [50.85672425463476, 4.326168011089272], [50.8567044330654, 4.3260430479919565], [50.85668011815065, 4.32592234973508], [50.85665941118038, 4.325835733989784], [50.85664230711058, 4.325768998354368], [50.8566135058977, 4.325672448412461], [50.85658020831898, 4.325571641956819], [50.85654511584975, 4.325479358657631], [50.85651272583567, 4.32540269557448], [50.85650462909934, 4.325385660164381], [50.8564974307922, 4.325367203714344], [50.85645065079334, 4.325272090914006], [50.85640657223479, 4.325189757880896], [50.856349904696266, 4.32509749493119], [50.85631392697174, 4.325043559302123], [50.856264460298206, 4.324976854113804], [50.85625456664578, 4.324962660959822], [50.85618711520222, 4.324880350035247], [50.8561169679011, 4.324800882265099], [50.856016246315654, 4.32469445883838], [50.85600455578136, 4.32468310790714], [50.85577433642774, 4.324444725471906], [50.8557626458685, 4.324433374661105], [50.85569429985764, 4.3243638480387], [50.8556151627088, 4.324284390246194], [50.85548386947156, 4.32415953501947], [50.85534538663756, 4.324040368005005], [50.85525276769779, 4.323968024958171], [50.855164646663724, 4.323904199106473], [50.85509451045988, 4.323855978632936], [50.854960535458076, 4.32377231383113], [50.85479599182681, 4.323677316940513], [50.8545640150796, 4.323551140763669], [50.85311101080752, 4.3227629259407285], [50.85294736742135, 4.322673615941496], [50.85288802411212, 4.322641010472606], [50.85234494382727, 4.322346153596844], [50.8519304398068, 4.322120762166365], [50.85179826580566, 4.322048466880227], [50.85163552243978, 4.321963421228069], [50.85154111428257, 4.321916651180299], [50.851388265413654, 4.32184721754719], [50.85126598863693, 4.321797635264682], [50.85111224634471, 4.3217424039762795], [50.850903664702535, 4.321678706791035], [50.850771505008744, 4.321643335788723], [50.85044874650057, 4.321554191569474], [50.85025185163326, 4.321491904580198], [50.85019071456383, 4.3214706645649], [50.85007653152657, 4.321429596708433], [50.84993537431319, 4.321374355520863], [50.84981938993883, 4.321324769744104], [50.84968542200197, 4.321263841920646], [50.84946603444866, 4.32115471901061], [50.84926192893701, 4.321045581833109], [50.84858486835923, 4.320671381503138]]}}]}\""
      ]
     },
     "execution_count": 18,
     "metadata": {},
     "output_type": "execute_result"
    }
   ],
   "source": [
    "vd1['geojson'][0]"
   ]
  },
  {
   "cell_type": "code",
   "execution_count": 7,
   "id": "8365a012",
   "metadata": {
    "scrolled": true
   },
   "outputs": [
    {
     "name": "stdout",
     "output_type": "stream",
     "text": [
      "User Guide: https://docs.kepler.gl/docs/keplergl-jupyter\n"
     ]
    }
   ],
   "source": [
    "map_1 = KeplerGl(height=600, data={\"data\": vd1})\n",
    "# map_1"
   ]
  },
  {
   "cell_type": "code",
   "execution_count": 8,
   "id": "f980b5dc",
   "metadata": {},
   "outputs": [
    {
     "data": {
      "application/vnd.jupyter.widget-view+json": {
       "model_id": "5cc709f433314427a9dfddab2246f60d",
       "version_major": 2,
       "version_minor": 0
      },
      "text/plain": [
       "KeplerGl(data={'data':      Unnamed: 0 LineId type  CurrentStop  Day   Time  Delay  FromStop  ToStop  \\\n",
       "0     …"
      ]
     },
     "metadata": {},
     "output_type": "display_data"
    }
   ],
   "source": [
    "map_1"
   ]
  }
 ],
 "metadata": {
  "kernelspec": {
   "display_name": "Python 3 (ipykernel)",
   "language": "python",
   "name": "python3"
  },
  "language_info": {
   "codemirror_mode": {
    "name": "ipython",
    "version": 3
   },
   "file_extension": ".py",
   "mimetype": "text/x-python",
   "name": "python",
   "nbconvert_exporter": "python",
   "pygments_lexer": "ipython3",
   "version": "3.8.10"
  }
 },
 "nbformat": 4,
 "nbformat_minor": 5
}
