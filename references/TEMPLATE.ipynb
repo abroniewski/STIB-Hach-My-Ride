{
 "cells": [
  {
   "cell_type": "markdown",
   "metadata": {
    "collapsed": true,
    "pycharm": {
     "name": "#%% md\n"
    }
   },
   "source": [
    "# Assignment # or Topic\n",
    "## Assignment Description"
   ]
  },
  {
   "cell_type": "markdown",
   "source": [
    "## Section Focus\n",
    "### Sub-topic (loading, integration, exploration, or analysis)\n",
    "\n",
    "After inserting the heading, we describe in general terms **what** we are doing and **why** we are doing it. The why should include where this particular data or transformation will be used next. Use **bold** to draw attention to any important words.\n",
    "\n",
    "If you're using any algorithms, for loops, or processing data, write out the key 'inputs', 'outputs' and the logic behind what you are doing.\n",
    "\n",
    "If there are multiple outputs, make use of a numbered list:\n",
    "1. This might be the first output\n",
    "2. and this is the next one\n",
    "\n",
    "> #### Use conversational language that anyone can understand... like you are texting a friend.\n",
    "\n",
    "Keywords to include if relevant:\n",
    "- **statistics** - this is a result of exploration.\n",
    "- **analysis pipeline** and **parameters** - logic used to arrive at final data set and explanation of assumptions and limits to make the data work for modelling. *This includes the DM algorithms used and how you set/choose their parameters (e.g. for k-means, you say why not other clustering algorithms, and how you choose the k.)\n",
    " - interpreting the results of the data\n",
    "- **validation** - determining if the results are correct, and with what % accuracy.\n",
    "- **evaluation** or **interpretation** - human interpretation and discussion of some result"
   ],
   "metadata": {
    "collapsed": false,
    "pycharm": {
     "name": "#%% md\n"
    }
   }
  },
  {
   "cell_type": "markdown",
   "source": [
    "# Definitions\n",
    "\n",
    "Here are some additional definitions to refer to:\n",
    "\n",
    "- **loading** - initial movement and manipulation of data from raw format (JSON and txt) into a format suitable for processing.\n",
    "- **integration** - merging dynamic data with static, partial cleaning of data with obvious gaps (e.g. missing stops), and the process used to create a final output for modelling and analysis\n",
    "- **pre-processing** - this is a subset of integration (see above)\n",
    "- **exploration** - additional cleaning of data to prepare it for modelling and understanding the breadth and depth of the data."
   ],
   "metadata": {
    "collapsed": false,
    "pycharm": {
     "name": "#%% md\n"
    }
   }
  },
  {
   "cell_type": "code",
   "execution_count": null,
   "outputs": [],
   "source": [],
   "metadata": {
    "collapsed": false,
    "pycharm": {
     "name": "#%%\n"
    }
   }
  }
 ],
 "metadata": {
  "kernelspec": {
   "display_name": "Python 3",
   "language": "python",
   "name": "python3"
  },
  "language_info": {
   "codemirror_mode": {
    "name": "ipython",
    "version": 2
   },
   "file_extension": ".py",
   "mimetype": "text/x-python",
   "name": "python",
   "nbconvert_exporter": "python",
   "pygments_lexer": "ipython2",
   "version": "2.7.6"
  }
 },
 "nbformat": 4,
 "nbformat_minor": 0
}